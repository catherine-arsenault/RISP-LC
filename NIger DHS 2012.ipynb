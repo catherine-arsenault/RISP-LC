{
 "cells": [
  {
   "cell_type": "markdown",
   "metadata": {},
   "source": [
    "# Niger DHS 2012"
   ]
  },
  {
   "cell_type": "markdown",
   "metadata": {},
   "source": [
    "#### WEIGHTING\n",
    "###### Design weights and sampling (survey) weights were computed for every household and ever-married women and never-married women selected to participate in the DHS 2012. A design weight is the inverse of probability of selecting a housing unit to be interviewed. The sampling weight of a household is the design weight corrected for non-response including other adjustments where necessary."
   ]
  },
  {
   "cell_type": "markdown",
   "metadata": {},
   "source": [
    "###### Define Functions"
   ]
  },
  {
   "cell_type": "code",
   "execution_count": 2,
   "metadata": {},
   "outputs": [
    {
     "name": "stderr",
     "output_type": "stream",
     "text": [
      "C:\\Users\\swalke\\Anaconda3\\lib\\site-packages\\pandas\\core\\computation\\expressions.py:20: UserWarning: Pandas requires version '2.7.3' or newer of 'numexpr' (version '2.7.1' currently installed).\n",
      "  from pandas.core.computation.check import NUMEXPR_INSTALLED\n"
     ]
    }
   ],
   "source": [
    "#import required packages\n",
    "import pyreadstat\n",
    "import warnings\n",
    "warnings.filterwarnings(\"ignore\")\n",
    "from googletrans import Translator\n",
    "import matplotlib.pyplot as plt\n",
    "import plotly.express as px\n",
    "import numpy as np\n",
    "import pandas as pd"
   ]
  },
  {
   "cell_type": "code",
   "execution_count": 3,
   "metadata": {},
   "outputs": [],
   "source": [
    "# Function to calculate national vaccine coverage between specific age group\n",
    "def calculate_vaccination_coverage(df, min_age, max_age, vaccine_column):\n",
    "    # Filter rows where child_age is between min_age and max_age\n",
    "    filtered_df = df[(df['child_age'] >= min_age) & (df['child_age'] <= max_age)]\n",
    "\n",
    "    # Calculate the percentage of children vaccinated with the specified vaccine\n",
    "    #total_children = filtered_df[vaccine_column].count()  # Count non-null values\n",
    "    filtered_df_len=len(filtered_df)\n",
    "    percentage_vaccinated = (filtered_df[vaccine_column].sum() / filtered_df_len) * 100\n",
    "    #percentage_vaccinated = (filtered_df[vaccine_column].sum() /  total_children) * 100\n",
    "    print(\"{} Vaccination Coverage for children between {} to {} months for Niger: {:.2f}%\".format(vaccine_column, min_age, max_age, percentage_vaccinated))\n",
    "    return percentage_vaccinated\n",
    "\n",
    "\n",
    "# Example usage:\n",
    "# calculate_vaccination_coverage(dfKR, 12, 23, 'bcg')\n"
   ]
  },
  {
   "cell_type": "code",
   "execution_count": 4,
   "metadata": {},
   "outputs": [],
   "source": [
    "# Function to calculate vaccination coverage for each child_gender between specific age group\n",
    "def calculate_vaccination_coverage_child_gender(df, min_age, max_age, child_gender, vaccine_column):\n",
    "    # Filter rows where child_age is between min_age and max_age and child_gender matches\n",
    "    filtered_df = df[(df['child_age'] >= min_age) & \n",
    "                     (df['child_age'] <= max_age) &\n",
    "                     (df['child_gender'] == child_gender)]\n",
    "\n",
    "    # Calculate the percentage of children vaccinated with the specified vaccine\n",
    "    total_children = filtered_df[vaccine_column].count()  # Count non-null values in the vaccine_column\n",
    "    if total_children == 0:\n",
    "        print(\"No children found for the specified age range and child_gender.\")\n",
    "        return 0\n",
    "    percentage_vaccinated = (filtered_df[vaccine_column].sum() / total_children) * 100\n",
    "    #print(\"{} Vaccination Coverage for {} children between {} to {} months using KR dataset: {:.2f}%\".format(vaccine_column, child_gender, min_age, max_age, percentage_vaccinated))\n",
    "    return percentage_vaccinated\n"
   ]
  },
  {
   "cell_type": "code",
   "execution_count": 5,
   "metadata": {},
   "outputs": [],
   "source": [
    "# Function to calculate vaccination coverage for each region between specific age group\n",
    "def calculate_vaccination_coverage_region(df, min_age, max_age, region, vaccine_column):\n",
    "    # Filter rows where child_age is between min_age and max_age and region matches\n",
    "    filtered_df = df[(df['child_age'] >= min_age) & \n",
    "                     (df['child_age'] <= max_age) &\n",
    "                     (df['region'] == region)]\n",
    "\n",
    "    # Calculate the percentage of children vaccinated with the specified vaccine\n",
    "    total_children = filtered_df[vaccine_column].count()  # Count non-null values in the vaccine_column\n",
    "    if total_children == 0:\n",
    "        print(\"No children found for the specified age range and region: {}.\".format(region))\n",
    "        return 0\n",
    "    percentage_vaccinated = (filtered_df[vaccine_column].sum() / total_children) * 100\n",
    "    #print(\"{} Vaccination Coverage for children in {} between {} to {} months using dataset: {:.2f}%\".format(vaccine_column, region, min_age, max_age, percentage_vaccinated))\n",
    "    return percentage_vaccinated\n"
   ]
  },
  {
   "cell_type": "code",
   "execution_count": 6,
   "metadata": {},
   "outputs": [],
   "source": [
    "# Function to calculate vaccination coverage for each rsidence i.e urban/rural between specific age group\n",
    "def calculate_vaccination_coverage_residence(df, min_age, max_age, residence, vaccine_column):\n",
    "    # Filter rows where child_age is between min_age and max_age and region matches\n",
    "    filtered_df = df[(df['child_age'] >= min_age) & \n",
    "                     (df['child_age'] <= max_age) &\n",
    "                     (df['residence'] == residence)]\n",
    "\n",
    "    # Calculate the percentage of children vaccinated with the specified vaccine\n",
    "    total_children = filtered_df[vaccine_column].count()  # Count non-null values in the vaccine_column\n",
    "    if total_children == 0:\n",
    "        print(\"No children found for the specified age range and region: {}.\".format(residence))\n",
    "        return 0\n",
    "    percentage_vaccinated = (filtered_df[vaccine_column].sum() / total_children) * 100\n",
    "    #print(\"{} Vaccination Coverage for children in {} between {} to {} months using dataset: {:.2f}%\".format(vaccine_column, residence, min_age, max_age, percentage_vaccinated))\n",
    "    return percentage_vaccinated"
   ]
  },
  {
   "cell_type": "code",
   "execution_count": 7,
   "metadata": {},
   "outputs": [],
   "source": [
    "def calculate_retention_rate(df, group_col, dose1_col, dose2_col):\n",
    "    \"\"\"\n",
    "    Calculate retention rate from dose2 to dose1 for each group.\n",
    "    \n",
    "    Parameters:\n",
    "    df (pandas.DataFrame): Input DataFrame containing vaccination data.\n",
    "    group_col (str): Column name for the grouping variable.\n",
    "    dose1_col (str): Column name representing the first dose.\n",
    "    dose2_col (str): Column name representing the second dose.\n",
    "    \n",
    "    Returns:\n",
    "    pandas.DataFrame: DataFrame with retention rates calculated and added as a new column.\n",
    "    \"\"\"\n",
    "    # Group by the specified column and aggregate sum of dose1 and dose2\n",
    "    df1 = df.groupby([group_col]).agg(\n",
    "        sum_dose1=(dose1_col, 'sum'),\n",
    "        sum_dose2=(dose2_col, 'sum')\n",
    "    ).reset_index()\n",
    "    \n",
    "    # Calculate retention rate\n",
    "    df1['retention_rate'] = (1 - ((df1['sum_dose1'] - df1['sum_dose2']) / df1['sum_dose1'])) * 100\n",
    "    pivot_table2 = df1.pivot_table(columns=group_col, values='retention_rate')\n",
    "    return pivot_table2\n",
    "  "
   ]
  },
  {
   "cell_type": "markdown",
   "metadata": {},
   "source": [
    "## Vaccination Coverage with Niger dataset"
   ]
  },
  {
   "cell_type": "code",
   "execution_count": 8,
   "metadata": {},
   "outputs": [],
   "source": [
    "# Reading data into pandas dataframe\n",
    "df=pd.read_stata(\"C:/Users/swalke/Desktop/RISP/NigerDHIS2012.DTA\",convert_categoricals=False)"
   ]
  },
  {
   "cell_type": "code",
   "execution_count": 9,
   "metadata": {},
   "outputs": [
    {
     "data": {
      "text/plain": [
       "(12558, 1129)"
      ]
     },
     "execution_count": 9,
     "metadata": {},
     "output_type": "execute_result"
    }
   ],
   "source": [
    "df.shape"
   ]
  },
  {
   "cell_type": "code",
   "execution_count": 10,
   "metadata": {},
   "outputs": [
    {
     "data": {
      "text/html": [
       "<div>\n",
       "<style scoped>\n",
       "    .dataframe tbody tr th:only-of-type {\n",
       "        vertical-align: middle;\n",
       "    }\n",
       "\n",
       "    .dataframe tbody tr th {\n",
       "        vertical-align: top;\n",
       "    }\n",
       "\n",
       "    .dataframe thead th {\n",
       "        text-align: right;\n",
       "    }\n",
       "</style>\n",
       "<table border=\"1\" class=\"dataframe\">\n",
       "  <thead>\n",
       "    <tr style=\"text-align: right;\">\n",
       "      <th></th>\n",
       "      <th>caseid</th>\n",
       "      <th>midx</th>\n",
       "      <th>v000</th>\n",
       "      <th>v001</th>\n",
       "      <th>v002</th>\n",
       "      <th>v003</th>\n",
       "      <th>v004</th>\n",
       "      <th>v005</th>\n",
       "      <th>v006</th>\n",
       "      <th>v007</th>\n",
       "      <th>...</th>\n",
       "      <th>s1307</th>\n",
       "      <th>idx94</th>\n",
       "      <th>s434a</th>\n",
       "      <th>idx95</th>\n",
       "      <th>s506y</th>\n",
       "      <th>s506yd</th>\n",
       "      <th>s506ym</th>\n",
       "      <th>s506yy</th>\n",
       "      <th>s538k</th>\n",
       "      <th>s538l</th>\n",
       "    </tr>\n",
       "  </thead>\n",
       "  <tbody>\n",
       "    <tr>\n",
       "      <th>0</th>\n",
       "      <td>1    1  2</td>\n",
       "      <td>1</td>\n",
       "      <td>NI6</td>\n",
       "      <td>1</td>\n",
       "      <td>1</td>\n",
       "      <td>2</td>\n",
       "      <td>1</td>\n",
       "      <td>2066240</td>\n",
       "      <td>5</td>\n",
       "      <td>2012</td>\n",
       "      <td>...</td>\n",
       "      <td>0</td>\n",
       "      <td>1</td>\n",
       "      <td>NaN</td>\n",
       "      <td>1</td>\n",
       "      <td>1.0</td>\n",
       "      <td>10.0</td>\n",
       "      <td>4.0</td>\n",
       "      <td>2012.0</td>\n",
       "      <td>NaN</td>\n",
       "      <td>NaN</td>\n",
       "    </tr>\n",
       "    <tr>\n",
       "      <th>1</th>\n",
       "      <td>1    1  2</td>\n",
       "      <td>2</td>\n",
       "      <td>NI6</td>\n",
       "      <td>1</td>\n",
       "      <td>1</td>\n",
       "      <td>2</td>\n",
       "      <td>1</td>\n",
       "      <td>2066240</td>\n",
       "      <td>5</td>\n",
       "      <td>2012</td>\n",
       "      <td>...</td>\n",
       "      <td>0</td>\n",
       "      <td>2</td>\n",
       "      <td>NaN</td>\n",
       "      <td>2</td>\n",
       "      <td>2.0</td>\n",
       "      <td>NaN</td>\n",
       "      <td>NaN</td>\n",
       "      <td>NaN</td>\n",
       "      <td>NaN</td>\n",
       "      <td>NaN</td>\n",
       "    </tr>\n",
       "    <tr>\n",
       "      <th>2</th>\n",
       "      <td>1    2  1</td>\n",
       "      <td>1</td>\n",
       "      <td>NI6</td>\n",
       "      <td>1</td>\n",
       "      <td>2</td>\n",
       "      <td>1</td>\n",
       "      <td>1</td>\n",
       "      <td>2066240</td>\n",
       "      <td>5</td>\n",
       "      <td>2012</td>\n",
       "      <td>...</td>\n",
       "      <td>0</td>\n",
       "      <td>1</td>\n",
       "      <td>NaN</td>\n",
       "      <td>1</td>\n",
       "      <td>0.0</td>\n",
       "      <td>NaN</td>\n",
       "      <td>NaN</td>\n",
       "      <td>NaN</td>\n",
       "      <td>0.0</td>\n",
       "      <td>0.0</td>\n",
       "    </tr>\n",
       "    <tr>\n",
       "      <th>3</th>\n",
       "      <td>1    2  1</td>\n",
       "      <td>2</td>\n",
       "      <td>NI6</td>\n",
       "      <td>1</td>\n",
       "      <td>2</td>\n",
       "      <td>1</td>\n",
       "      <td>1</td>\n",
       "      <td>2066240</td>\n",
       "      <td>5</td>\n",
       "      <td>2012</td>\n",
       "      <td>...</td>\n",
       "      <td>0</td>\n",
       "      <td>2</td>\n",
       "      <td>NaN</td>\n",
       "      <td>2</td>\n",
       "      <td>0.0</td>\n",
       "      <td>NaN</td>\n",
       "      <td>NaN</td>\n",
       "      <td>NaN</td>\n",
       "      <td>NaN</td>\n",
       "      <td>NaN</td>\n",
       "    </tr>\n",
       "    <tr>\n",
       "      <th>4</th>\n",
       "      <td>1    5  2</td>\n",
       "      <td>1</td>\n",
       "      <td>NI6</td>\n",
       "      <td>1</td>\n",
       "      <td>5</td>\n",
       "      <td>2</td>\n",
       "      <td>1</td>\n",
       "      <td>2066240</td>\n",
       "      <td>5</td>\n",
       "      <td>2012</td>\n",
       "      <td>...</td>\n",
       "      <td>0</td>\n",
       "      <td>1</td>\n",
       "      <td>NaN</td>\n",
       "      <td>1</td>\n",
       "      <td>1.0</td>\n",
       "      <td>13.0</td>\n",
       "      <td>9.0</td>\n",
       "      <td>2011.0</td>\n",
       "      <td>NaN</td>\n",
       "      <td>NaN</td>\n",
       "    </tr>\n",
       "  </tbody>\n",
       "</table>\n",
       "<p>5 rows × 1129 columns</p>\n",
       "</div>"
      ],
      "text/plain": [
       "      caseid  midx v000  v001  v002  v003  v004     v005  v006  v007  ...  \\\n",
       "0  1    1  2     1  NI6     1     1     2     1  2066240     5  2012  ...   \n",
       "1  1    1  2     2  NI6     1     1     2     1  2066240     5  2012  ...   \n",
       "2  1    2  1     1  NI6     1     2     1     1  2066240     5  2012  ...   \n",
       "3  1    2  1     2  NI6     1     2     1     1  2066240     5  2012  ...   \n",
       "4  1    5  2     1  NI6     1     5     2     1  2066240     5  2012  ...   \n",
       "\n",
       "   s1307  idx94  s434a  idx95  s506y  s506yd  s506ym  s506yy  s538k  s538l  \n",
       "0      0      1    NaN      1    1.0    10.0     4.0  2012.0    NaN    NaN  \n",
       "1      0      2    NaN      2    2.0     NaN     NaN     NaN    NaN    NaN  \n",
       "2      0      1    NaN      1    0.0     NaN     NaN     NaN    0.0    0.0  \n",
       "3      0      2    NaN      2    0.0     NaN     NaN     NaN    NaN    NaN  \n",
       "4      0      1    NaN      1    1.0    13.0     9.0  2011.0    NaN    NaN  \n",
       "\n",
       "[5 rows x 1129 columns]"
      ]
     },
     "execution_count": 10,
     "metadata": {},
     "output_type": "execute_result"
    }
   ],
   "source": [
    "df.head()"
   ]
  },
  {
   "cell_type": "code",
   "execution_count": 11,
   "metadata": {},
   "outputs": [],
   "source": [
    "# rename columns in dataframe\n",
    "df = df.rename(columns={'caseid': 'case_id', \n",
    "                        'v025': 'residence', 'hw1':'child_age','v106':'respondent_education',\n",
    "                        'h2':'bcg','h3':'dpt1','h4':'polio1','h5':'dpt2','b4' :'child_gender',\n",
    "                        'h6':'polio2','h7':'dpt3','h8':'polio3','h9':'mcv',\n",
    "                        'h0':'polio0', 'v024': 'region',\n",
    "                        'v000': 'country','v005':'sample_weight','v190':'wealth_index','v191':'wealth_index_factor',\n",
    "                        'v007':'interview_year','v006':'interview_month','v012':'respondent_age'})"
   ]
  },
  {
   "cell_type": "code",
   "execution_count": 12,
   "metadata": {},
   "outputs": [],
   "source": [
    "# Define mapping variables\n",
    "region_mapping = { 1 : \"Agadez\",\n",
    "     2 :\"Diffa\",\n",
    "     3 :\"Dosso\",\n",
    "     4 :\"Maradi\",\n",
    "     5 :\"Tahoua\",\n",
    "     6 :\"Tillaberi\",\n",
    "     7 :\"Zinder\",\n",
    "     8 :\"Niamey\"}\n",
    "residence_mapping = {1:'Urban',\n",
    "                 2:'Rural',\n",
    "                 }\n",
    "child_gender_mapping = {1:'Male',\n",
    "                 2:'Female'}\n",
    "education_mapping= { 0: 'No education',\n",
    "     1: 'Primary',\n",
    "     2: 'Secondary',\n",
    "     3: 'Higher',\n",
    "     9: 'Unknown'}\n",
    "wealth_index_mapping={ 1: \"Poorest\",\n",
    "     2: \"Poorer\",\n",
    "     3: \"Middle\",\n",
    "     4: \"Richer\",\n",
    "     5: \"Richest\"}"
   ]
  },
  {
   "cell_type": "code",
   "execution_count": 13,
   "metadata": {},
   "outputs": [],
   "source": [
    "# Apply mappings to DataFrame columns\n",
    "df['child_gender'] = df['child_gender'].replace(child_gender_mapping)\n",
    "df['region'] = df['region'].replace(region_mapping)\n",
    "df['residence'] = df['residence'].replace(residence_mapping)\n",
    "df['respondent_education']= df['respondent_education'].replace(education_mapping)\n",
    "df['wealth_index']=df['wealth_index'].replace(wealth_index_mapping)"
   ]
  },
  {
   "cell_type": "code",
   "execution_count": 14,
   "metadata": {},
   "outputs": [],
   "source": [
    "# Define mapping\n",
    "mapping = {0: False, 1: True, 2: True, 3: True, 8: np.nan, 9:np.nan}\n",
    "\n",
    "# Replace values\n",
    "df['bcg'] = df['bcg'].replace(mapping)\n",
    "df['dpt1'] = df['dpt1'].replace(mapping)\n",
    "df['dpt2'] = df['dpt2'].replace(mapping)\n",
    "df['dpt3'] = df['dpt3'].replace(mapping)\n",
    "df['polio1'] = df['polio1'].replace(mapping)\n",
    "df['polio2'] = df['polio2'].replace(mapping)\n",
    "df['polio3'] = df['polio3'].replace(mapping)\n",
    "df['polio0'] = df['polio0'].replace(mapping)\n",
    "df['mcv'] = df['mcv'].replace(mapping)"
   ]
  },
  {
   "cell_type": "code",
   "execution_count": 15,
   "metadata": {},
   "outputs": [],
   "source": [
    "#Take the 'women's individual sample weight' variable and divide by 1 million.\n",
    "df['sample_weight'] = df['sample_weight']/1000000"
   ]
  },
  {
   "cell_type": "code",
   "execution_count": 16,
   "metadata": {},
   "outputs": [],
   "source": [
    "# Aplpy sampling weight to each vaccine variable\n",
    "df['bcg_sampled'] = df['bcg'] * df['sample_weight']\n",
    "df['dpt1_sampled'] = df['dpt1']* df['sample_weight']\n",
    "df['dpt2_sampled'] = df['dpt2']* df['sample_weight']\n",
    "df['dpt3_sampled'] = df['dpt3']* df['sample_weight']\n",
    "df['polio1_sampled'] = df['polio1']* df['sample_weight']\n",
    "df['polio2_sampled'] = df['polio2']* df['sample_weight']\n",
    "df['polio3_sampled'] = df['polio3']* df['sample_weight']\n",
    "df['polio0_sampled'] = df['polio0']* df['sample_weight']\n",
    "df['mcv_sampled'] = df['mcv']* df['sample_weight']"
   ]
  },
  {
   "cell_type": "code",
   "execution_count": 17,
   "metadata": {},
   "outputs": [],
   "source": [
    "columns_to_include = ['case_id','country','region','interview_year','interview_month',\n",
    "                    'residence','child_age','child_gender',\n",
    "                    'wealth_index','wealth_index_factor','respondent_age','respondent_education',\n",
    "                    'bcg','dpt1','dpt2','dpt3','polio1','polio2','polio3','polio0',\n",
    "                    'mcv','sample_weight']"
   ]
  },
  {
   "cell_type": "code",
   "execution_count": 18,
   "metadata": {},
   "outputs": [
    {
     "data": {
      "text/html": [
       "<div>\n",
       "<style scoped>\n",
       "    .dataframe tbody tr th:only-of-type {\n",
       "        vertical-align: middle;\n",
       "    }\n",
       "\n",
       "    .dataframe tbody tr th {\n",
       "        vertical-align: top;\n",
       "    }\n",
       "\n",
       "    .dataframe thead th {\n",
       "        text-align: right;\n",
       "    }\n",
       "</style>\n",
       "<table border=\"1\" class=\"dataframe\">\n",
       "  <thead>\n",
       "    <tr style=\"text-align: right;\">\n",
       "      <th></th>\n",
       "      <th>case_id</th>\n",
       "      <th>country</th>\n",
       "      <th>region</th>\n",
       "      <th>interview_year</th>\n",
       "      <th>interview_month</th>\n",
       "      <th>residence</th>\n",
       "      <th>child_age</th>\n",
       "      <th>child_gender</th>\n",
       "      <th>wealth_index</th>\n",
       "      <th>wealth_index_factor</th>\n",
       "      <th>...</th>\n",
       "      <th>dpt1</th>\n",
       "      <th>dpt2</th>\n",
       "      <th>dpt3</th>\n",
       "      <th>polio1</th>\n",
       "      <th>polio2</th>\n",
       "      <th>polio3</th>\n",
       "      <th>polio0</th>\n",
       "      <th>measles</th>\n",
       "      <th>sample_weight</th>\n",
       "      <th>data_source</th>\n",
       "    </tr>\n",
       "  </thead>\n",
       "  <tbody>\n",
       "    <tr>\n",
       "      <th>0</th>\n",
       "      <td>1    1  2</td>\n",
       "      <td>Niger</td>\n",
       "      <td>Zinder</td>\n",
       "      <td>2012</td>\n",
       "      <td>5</td>\n",
       "      <td>Rural</td>\n",
       "      <td>NaN</td>\n",
       "      <td>Female</td>\n",
       "      <td>Richer</td>\n",
       "      <td>-34581</td>\n",
       "      <td>...</td>\n",
       "      <td>True</td>\n",
       "      <td>True</td>\n",
       "      <td>True</td>\n",
       "      <td>True</td>\n",
       "      <td>True</td>\n",
       "      <td>True</td>\n",
       "      <td>False</td>\n",
       "      <td>True</td>\n",
       "      <td>2.06624</td>\n",
       "      <td>Niger DHS 2012</td>\n",
       "    </tr>\n",
       "    <tr>\n",
       "      <th>1</th>\n",
       "      <td>1    1  2</td>\n",
       "      <td>Niger</td>\n",
       "      <td>Zinder</td>\n",
       "      <td>2012</td>\n",
       "      <td>5</td>\n",
       "      <td>Rural</td>\n",
       "      <td>NaN</td>\n",
       "      <td>Male</td>\n",
       "      <td>Richer</td>\n",
       "      <td>-34581</td>\n",
       "      <td>...</td>\n",
       "      <td>True</td>\n",
       "      <td>True</td>\n",
       "      <td>True</td>\n",
       "      <td>True</td>\n",
       "      <td>True</td>\n",
       "      <td>True</td>\n",
       "      <td>False</td>\n",
       "      <td>True</td>\n",
       "      <td>2.06624</td>\n",
       "      <td>Niger DHS 2012</td>\n",
       "    </tr>\n",
       "    <tr>\n",
       "      <th>2</th>\n",
       "      <td>1    2  1</td>\n",
       "      <td>Niger</td>\n",
       "      <td>Zinder</td>\n",
       "      <td>2012</td>\n",
       "      <td>5</td>\n",
       "      <td>Rural</td>\n",
       "      <td>NaN</td>\n",
       "      <td>Male</td>\n",
       "      <td>Poorer</td>\n",
       "      <td>-57130</td>\n",
       "      <td>...</td>\n",
       "      <td>False</td>\n",
       "      <td>False</td>\n",
       "      <td>False</td>\n",
       "      <td>True</td>\n",
       "      <td>False</td>\n",
       "      <td>False</td>\n",
       "      <td>True</td>\n",
       "      <td>False</td>\n",
       "      <td>2.06624</td>\n",
       "      <td>Niger DHS 2012</td>\n",
       "    </tr>\n",
       "    <tr>\n",
       "      <th>3</th>\n",
       "      <td>1    2  1</td>\n",
       "      <td>Niger</td>\n",
       "      <td>Zinder</td>\n",
       "      <td>2012</td>\n",
       "      <td>5</td>\n",
       "      <td>Rural</td>\n",
       "      <td>NaN</td>\n",
       "      <td>Female</td>\n",
       "      <td>Poorer</td>\n",
       "      <td>-57130</td>\n",
       "      <td>...</td>\n",
       "      <td>False</td>\n",
       "      <td>False</td>\n",
       "      <td>False</td>\n",
       "      <td>True</td>\n",
       "      <td>False</td>\n",
       "      <td>False</td>\n",
       "      <td>False</td>\n",
       "      <td>False</td>\n",
       "      <td>2.06624</td>\n",
       "      <td>Niger DHS 2012</td>\n",
       "    </tr>\n",
       "    <tr>\n",
       "      <th>4</th>\n",
       "      <td>1    5  2</td>\n",
       "      <td>Niger</td>\n",
       "      <td>Zinder</td>\n",
       "      <td>2012</td>\n",
       "      <td>5</td>\n",
       "      <td>Rural</td>\n",
       "      <td>16.0</td>\n",
       "      <td>Female</td>\n",
       "      <td>Poorer</td>\n",
       "      <td>-57976</td>\n",
       "      <td>...</td>\n",
       "      <td>True</td>\n",
       "      <td>True</td>\n",
       "      <td>True</td>\n",
       "      <td>True</td>\n",
       "      <td>True</td>\n",
       "      <td>True</td>\n",
       "      <td>True</td>\n",
       "      <td>True</td>\n",
       "      <td>2.06624</td>\n",
       "      <td>Niger DHS 2012</td>\n",
       "    </tr>\n",
       "  </tbody>\n",
       "</table>\n",
       "<p>5 rows × 23 columns</p>\n",
       "</div>"
      ],
      "text/plain": [
       "     case_id country  region  interview_year  interview_month residence  \\\n",
       "0  1    1  2   Niger  Zinder            2012                5     Rural   \n",
       "1  1    1  2   Niger  Zinder            2012                5     Rural   \n",
       "2  1    2  1   Niger  Zinder            2012                5     Rural   \n",
       "3  1    2  1   Niger  Zinder            2012                5     Rural   \n",
       "4  1    5  2   Niger  Zinder            2012                5     Rural   \n",
       "\n",
       "   child_age child_gender wealth_index  wealth_index_factor  ...   dpt1  \\\n",
       "0        NaN       Female       Richer               -34581  ...   True   \n",
       "1        NaN         Male       Richer               -34581  ...   True   \n",
       "2        NaN         Male       Poorer               -57130  ...  False   \n",
       "3        NaN       Female       Poorer               -57130  ...  False   \n",
       "4       16.0       Female       Poorer               -57976  ...   True   \n",
       "\n",
       "    dpt2   dpt3 polio1 polio2 polio3 polio0 measles sample_weight  \\\n",
       "0   True   True   True   True   True  False    True       2.06624   \n",
       "1   True   True   True   True   True  False    True       2.06624   \n",
       "2  False  False   True  False  False   True   False       2.06624   \n",
       "3  False  False   True  False  False  False   False       2.06624   \n",
       "4   True   True   True   True   True   True    True       2.06624   \n",
       "\n",
       "      data_source  \n",
       "0  Niger DHS 2012  \n",
       "1  Niger DHS 2012  \n",
       "2  Niger DHS 2012  \n",
       "3  Niger DHS 2012  \n",
       "4  Niger DHS 2012  \n",
       "\n",
       "[5 rows x 23 columns]"
      ]
     },
     "execution_count": 18,
     "metadata": {},
     "output_type": "execute_result"
    }
   ],
   "source": [
    "df_download = df[columns_to_include].copy()\n",
    "df_download['country']= 'Niger'\n",
    "df_download['data_source']= 'Niger DHS 2012'\n",
    "df_download.head(5)"
   ]
  },
  {
   "cell_type": "code",
   "execution_count": 19,
   "metadata": {},
   "outputs": [
    {
     "ename": "OSError",
     "evalue": "Cannot save file into a non-existent directory: 'C:\\Users\\swalke\\PATH BMGF RISP Dropbox\\BMGF RISP Project\\Quant analysis\\Data landscape\\CSV Data Files'",
     "output_type": "error",
     "traceback": [
      "\u001b[1;31m---------------------------------------------------------------------------\u001b[0m",
      "\u001b[1;31mOSError\u001b[0m                                   Traceback (most recent call last)",
      "\u001b[1;32m<ipython-input-19-d3ce9a4a852a>\u001b[0m in \u001b[0;36m<module>\u001b[1;34m\u001b[0m\n\u001b[0;32m      1\u001b[0m \u001b[0mfile_path\u001b[0m \u001b[1;33m=\u001b[0m \u001b[1;34m'C:/Users/swalke/PATH BMGF RISP Dropbox/BMGF RISP Project/Quant analysis/Data landscape/CSV Data Files/NigerDHS2012.csv'\u001b[0m\u001b[1;33m\u001b[0m\u001b[1;33m\u001b[0m\u001b[0m\n\u001b[1;32m----> 2\u001b[1;33m \u001b[0mdf_download\u001b[0m\u001b[1;33m.\u001b[0m\u001b[0mto_csv\u001b[0m\u001b[1;33m(\u001b[0m\u001b[0mfile_path\u001b[0m\u001b[1;33m,\u001b[0m \u001b[0mindex\u001b[0m\u001b[1;33m=\u001b[0m\u001b[1;32mFalse\u001b[0m\u001b[1;33m)\u001b[0m\u001b[1;33m\u001b[0m\u001b[1;33m\u001b[0m\u001b[0m\n\u001b[0m",
      "\u001b[1;32m~\\Anaconda3\\lib\\site-packages\\pandas\\core\\generic.py\u001b[0m in \u001b[0;36mto_csv\u001b[1;34m(self, path_or_buf, sep, na_rep, float_format, columns, header, index, index_label, mode, encoding, compression, quoting, quotechar, lineterminator, chunksize, date_format, doublequote, escapechar, decimal, errors, storage_options)\u001b[0m\n\u001b[0;32m   3770\u001b[0m         )\n\u001b[0;32m   3771\u001b[0m \u001b[1;33m\u001b[0m\u001b[0m\n\u001b[1;32m-> 3772\u001b[1;33m         return DataFrameRenderer(formatter).to_csv(\n\u001b[0m\u001b[0;32m   3773\u001b[0m             \u001b[0mpath_or_buf\u001b[0m\u001b[1;33m,\u001b[0m\u001b[1;33m\u001b[0m\u001b[1;33m\u001b[0m\u001b[0m\n\u001b[0;32m   3774\u001b[0m             \u001b[0mlineterminator\u001b[0m\u001b[1;33m=\u001b[0m\u001b[0mlineterminator\u001b[0m\u001b[1;33m,\u001b[0m\u001b[1;33m\u001b[0m\u001b[1;33m\u001b[0m\u001b[0m\n",
      "\u001b[1;32m~\\Anaconda3\\lib\\site-packages\\pandas\\io\\formats\\format.py\u001b[0m in \u001b[0;36mto_csv\u001b[1;34m(self, path_or_buf, encoding, sep, columns, index_label, mode, compression, quoting, quotechar, lineterminator, chunksize, date_format, doublequote, escapechar, errors, storage_options)\u001b[0m\n\u001b[0;32m   1184\u001b[0m             \u001b[0mformatter\u001b[0m\u001b[1;33m=\u001b[0m\u001b[0mself\u001b[0m\u001b[1;33m.\u001b[0m\u001b[0mfmt\u001b[0m\u001b[1;33m,\u001b[0m\u001b[1;33m\u001b[0m\u001b[1;33m\u001b[0m\u001b[0m\n\u001b[0;32m   1185\u001b[0m         )\n\u001b[1;32m-> 1186\u001b[1;33m         \u001b[0mcsv_formatter\u001b[0m\u001b[1;33m.\u001b[0m\u001b[0msave\u001b[0m\u001b[1;33m(\u001b[0m\u001b[1;33m)\u001b[0m\u001b[1;33m\u001b[0m\u001b[1;33m\u001b[0m\u001b[0m\n\u001b[0m\u001b[0;32m   1187\u001b[0m \u001b[1;33m\u001b[0m\u001b[0m\n\u001b[0;32m   1188\u001b[0m         \u001b[1;32mif\u001b[0m \u001b[0mcreated_buffer\u001b[0m\u001b[1;33m:\u001b[0m\u001b[1;33m\u001b[0m\u001b[1;33m\u001b[0m\u001b[0m\n",
      "\u001b[1;32m~\\Anaconda3\\lib\\site-packages\\pandas\\io\\formats\\csvs.py\u001b[0m in \u001b[0;36msave\u001b[1;34m(self)\u001b[0m\n\u001b[0;32m    238\u001b[0m         \"\"\"\n\u001b[0;32m    239\u001b[0m         \u001b[1;31m# apply compression and byte/text conversion\u001b[0m\u001b[1;33m\u001b[0m\u001b[1;33m\u001b[0m\u001b[1;33m\u001b[0m\u001b[0m\n\u001b[1;32m--> 240\u001b[1;33m         with get_handle(\n\u001b[0m\u001b[0;32m    241\u001b[0m             \u001b[0mself\u001b[0m\u001b[1;33m.\u001b[0m\u001b[0mfilepath_or_buffer\u001b[0m\u001b[1;33m,\u001b[0m\u001b[1;33m\u001b[0m\u001b[1;33m\u001b[0m\u001b[0m\n\u001b[0;32m    242\u001b[0m             \u001b[0mself\u001b[0m\u001b[1;33m.\u001b[0m\u001b[0mmode\u001b[0m\u001b[1;33m,\u001b[0m\u001b[1;33m\u001b[0m\u001b[1;33m\u001b[0m\u001b[0m\n",
      "\u001b[1;32m~\\Anaconda3\\lib\\site-packages\\pandas\\io\\common.py\u001b[0m in \u001b[0;36mget_handle\u001b[1;34m(path_or_buf, mode, encoding, compression, memory_map, is_text, errors, storage_options)\u001b[0m\n\u001b[0;32m    735\u001b[0m     \u001b[1;31m# Only for write methods\u001b[0m\u001b[1;33m\u001b[0m\u001b[1;33m\u001b[0m\u001b[1;33m\u001b[0m\u001b[0m\n\u001b[0;32m    736\u001b[0m     \u001b[1;32mif\u001b[0m \u001b[1;34m\"r\"\u001b[0m \u001b[1;32mnot\u001b[0m \u001b[1;32min\u001b[0m \u001b[0mmode\u001b[0m \u001b[1;32mand\u001b[0m \u001b[0mis_path\u001b[0m\u001b[1;33m:\u001b[0m\u001b[1;33m\u001b[0m\u001b[1;33m\u001b[0m\u001b[0m\n\u001b[1;32m--> 737\u001b[1;33m         \u001b[0mcheck_parent_directory\u001b[0m\u001b[1;33m(\u001b[0m\u001b[0mstr\u001b[0m\u001b[1;33m(\u001b[0m\u001b[0mhandle\u001b[0m\u001b[1;33m)\u001b[0m\u001b[1;33m)\u001b[0m\u001b[1;33m\u001b[0m\u001b[1;33m\u001b[0m\u001b[0m\n\u001b[0m\u001b[0;32m    738\u001b[0m \u001b[1;33m\u001b[0m\u001b[0m\n\u001b[0;32m    739\u001b[0m     \u001b[1;32mif\u001b[0m \u001b[0mcompression\u001b[0m\u001b[1;33m:\u001b[0m\u001b[1;33m\u001b[0m\u001b[1;33m\u001b[0m\u001b[0m\n",
      "\u001b[1;32m~\\Anaconda3\\lib\\site-packages\\pandas\\io\\common.py\u001b[0m in \u001b[0;36mcheck_parent_directory\u001b[1;34m(path)\u001b[0m\n\u001b[0;32m    598\u001b[0m     \u001b[0mparent\u001b[0m \u001b[1;33m=\u001b[0m \u001b[0mPath\u001b[0m\u001b[1;33m(\u001b[0m\u001b[0mpath\u001b[0m\u001b[1;33m)\u001b[0m\u001b[1;33m.\u001b[0m\u001b[0mparent\u001b[0m\u001b[1;33m\u001b[0m\u001b[1;33m\u001b[0m\u001b[0m\n\u001b[0;32m    599\u001b[0m     \u001b[1;32mif\u001b[0m \u001b[1;32mnot\u001b[0m \u001b[0mparent\u001b[0m\u001b[1;33m.\u001b[0m\u001b[0mis_dir\u001b[0m\u001b[1;33m(\u001b[0m\u001b[1;33m)\u001b[0m\u001b[1;33m:\u001b[0m\u001b[1;33m\u001b[0m\u001b[1;33m\u001b[0m\u001b[0m\n\u001b[1;32m--> 600\u001b[1;33m         \u001b[1;32mraise\u001b[0m \u001b[0mOSError\u001b[0m\u001b[1;33m(\u001b[0m\u001b[1;34mrf\"Cannot save file into a non-existent directory: '{parent}'\"\u001b[0m\u001b[1;33m)\u001b[0m\u001b[1;33m\u001b[0m\u001b[1;33m\u001b[0m\u001b[0m\n\u001b[0m\u001b[0;32m    601\u001b[0m \u001b[1;33m\u001b[0m\u001b[0m\n\u001b[0;32m    602\u001b[0m \u001b[1;33m\u001b[0m\u001b[0m\n",
      "\u001b[1;31mOSError\u001b[0m: Cannot save file into a non-existent directory: 'C:\\Users\\swalke\\PATH BMGF RISP Dropbox\\BMGF RISP Project\\Quant analysis\\Data landscape\\CSV Data Files'"
     ]
    }
   ],
   "source": [
    "file_path = 'C:/Users/swalke/PATH BMGF RISP Dropbox/BMGF RISP Project/Quant analysis/Data landscape/CSV Data Files/NigerDHS2012.csv'\n",
    "df_download.to_csv(file_path, index=False)"
   ]
  },
  {
   "cell_type": "markdown",
   "metadata": {},
   "source": [
    "#####  Calcualte vaccination coverage for each vaccine"
   ]
  },
  {
   "cell_type": "code",
   "execution_count": 22,
   "metadata": {},
   "outputs": [
    {
     "name": "stdout",
     "output_type": "stream",
     "text": [
      "bcg_sampled Vaccination Coverage for children between 12 to 23 months for Niger: 87.33%\n",
      "dpt1_sampled Vaccination Coverage for children between 12 to 23 months for Niger: 88.64%\n",
      "dpt3_sampled Vaccination Coverage for children between 12 to 23 months for Niger: 72.32%\n",
      "polio0_sampled Vaccination Coverage for children between 12 to 23 months for Niger: 62.69%\n",
      "polio1_sampled Vaccination Coverage for children between 12 to 23 months for Niger: 95.58%\n",
      "polio3_sampled Vaccination Coverage for children between 12 to 23 months for Niger: 78.46%\n",
      "measles_sampled Vaccination Coverage for children between 12 to 23 months for Niger: 71.71%\n"
     ]
    },
    {
     "data": {
      "text/plain": [
       "71.71460029325507"
      ]
     },
     "execution_count": 22,
     "metadata": {},
     "output_type": "execute_result"
    }
   ],
   "source": [
    "calculate_vaccination_coverage(df, 12, 23, 'bcg_sampled')\n",
    "calculate_vaccination_coverage(df, 12, 23, 'dpt1_sampled')\n",
    "calculate_vaccination_coverage(df, 12, 23, 'dpt3_sampled')\n",
    "calculate_vaccination_coverage(df, 12, 23, 'polio0_sampled')\n",
    "calculate_vaccination_coverage(df, 12, 23, 'polio1_sampled')\n",
    "calculate_vaccination_coverage(df, 12, 23, 'polio3_sampled')\n",
    "calculate_vaccination_coverage(df, 12, 23, 'mcv_sampled')"
   ]
  },
  {
   "cell_type": "code",
   "execution_count": 23,
   "metadata": {},
   "outputs": [
    {
     "name": "stdout",
     "output_type": "stream",
     "text": [
      "bcg Vaccination Coverage for children between 12 to 23 months for Niger: 84.46%\n",
      "dpt1 Vaccination Coverage for children between 12 to 23 months for Niger: 84.65%\n",
      "dpt3 Vaccination Coverage for children between 12 to 23 months for Niger: 70.87%\n",
      "polio0 Vaccination Coverage for children between 12 to 23 months for Niger: 63.44%\n",
      "polio1 Vaccination Coverage for children between 12 to 23 months for Niger: 90.13%\n",
      "polio3 Vaccination Coverage for children between 12 to 23 months for Niger: 75.37%\n",
      "measles Vaccination Coverage for children between 12 to 23 months for Niger: 70.67%\n"
     ]
    },
    {
     "data": {
      "text/plain": [
       "70.67448680351906"
      ]
     },
     "execution_count": 23,
     "metadata": {},
     "output_type": "execute_result"
    }
   ],
   "source": [
    "calculate_vaccination_coverage(df, 12, 23, 'bcg')\n",
    "calculate_vaccination_coverage(df, 12, 23, 'dpt1')\n",
    "calculate_vaccination_coverage(df, 12, 23, 'dpt3')\n",
    "calculate_vaccination_coverage(df, 12, 23, 'polio0')\n",
    "calculate_vaccination_coverage(df, 12, 23, 'polio1')\n",
    "calculate_vaccination_coverage(df, 12, 23, 'polio3')\n",
    "calculate_vaccination_coverage(df, 12, 23, 'mcv')"
   ]
  },
  {
   "cell_type": "markdown",
   "metadata": {},
   "source": [
    "##### Calcualte vaccine coverage by child_gender"
   ]
  },
  {
   "cell_type": "code",
   "execution_count": 24,
   "metadata": {},
   "outputs": [],
   "source": [
    "# List of vaccines\n",
    "vaccines = ['bcg_sampled', 'dpt1_sampled', 'dpt2_sampled','dpt3_sampled','polio0_sampled','polio1_sampled','polio2_sampled','polio3_sampled','mcv_sampled']"
   ]
  },
  {
   "cell_type": "code",
   "execution_count": 25,
   "metadata": {},
   "outputs": [],
   "source": [
    "# List of vaccines\n",
    "vaccines1 = ['bcg', 'dpt1','dpt3','polio0','polio1','polio3','mcv']"
   ]
  },
  {
   "cell_type": "code",
   "execution_count": 26,
   "metadata": {},
   "outputs": [],
   "source": [
    "filtered_df = df[(df['child_age'] >= 12) & (df['child_age'] <= 23)]"
   ]
  },
  {
   "cell_type": "code",
   "execution_count": 27,
   "metadata": {},
   "outputs": [
    {
     "data": {
      "text/html": [
       "<div>\n",
       "<style scoped>\n",
       "    .dataframe tbody tr th:only-of-type {\n",
       "        vertical-align: middle;\n",
       "    }\n",
       "\n",
       "    .dataframe tbody tr th {\n",
       "        vertical-align: top;\n",
       "    }\n",
       "\n",
       "    .dataframe thead th {\n",
       "        text-align: right;\n",
       "    }\n",
       "</style>\n",
       "<table border=\"1\" class=\"dataframe\">\n",
       "  <thead>\n",
       "    <tr style=\"text-align: right;\">\n",
       "      <th>child_gender</th>\n",
       "      <th>Female</th>\n",
       "      <th>Male</th>\n",
       "    </tr>\n",
       "    <tr>\n",
       "      <th>Vaccine</th>\n",
       "      <th></th>\n",
       "      <th></th>\n",
       "    </tr>\n",
       "  </thead>\n",
       "  <tbody>\n",
       "    <tr>\n",
       "      <th>bcg</th>\n",
       "      <td>84.80</td>\n",
       "      <td>84.08</td>\n",
       "    </tr>\n",
       "    <tr>\n",
       "      <th>dpt1</th>\n",
       "      <td>85.39</td>\n",
       "      <td>85.07</td>\n",
       "    </tr>\n",
       "    <tr>\n",
       "      <th>dpt3</th>\n",
       "      <td>73.24</td>\n",
       "      <td>69.33</td>\n",
       "    </tr>\n",
       "    <tr>\n",
       "      <th>measles</th>\n",
       "      <td>70.70</td>\n",
       "      <td>71.22</td>\n",
       "    </tr>\n",
       "    <tr>\n",
       "      <th>polio0</th>\n",
       "      <td>63.98</td>\n",
       "      <td>62.86</td>\n",
       "    </tr>\n",
       "    <tr>\n",
       "      <th>polio1</th>\n",
       "      <td>90.30</td>\n",
       "      <td>91.60</td>\n",
       "    </tr>\n",
       "    <tr>\n",
       "      <th>polio3</th>\n",
       "      <td>77.07</td>\n",
       "      <td>77.45</td>\n",
       "    </tr>\n",
       "  </tbody>\n",
       "</table>\n",
       "</div>"
      ],
      "text/plain": [
       "child_gender  Female   Male\n",
       "Vaccine                    \n",
       "bcg            84.80  84.08\n",
       "dpt1           85.39  85.07\n",
       "dpt3           73.24  69.33\n",
       "measles        70.70  71.22\n",
       "polio0         63.98  62.86\n",
       "polio1         90.30  91.60\n",
       "polio3         77.07  77.45"
      ]
     },
     "execution_count": 27,
     "metadata": {},
     "output_type": "execute_result"
    }
   ],
   "source": [
    "# List of child_genders\n",
    "child_genders = ['Male','Female']\n",
    "# Create an empty list to store the results\n",
    "results = []\n",
    "\n",
    "# Loop through each vaccine and child_gender\n",
    "for vaccine in vaccines1:\n",
    "    for child_gender in child_genders:\n",
    "        coverage = calculate_vaccination_coverage_child_gender(filtered_df, 12, 23, child_gender, vaccine)\n",
    "        results.append({'Vaccine': vaccine, 'child_gender': child_gender, 'Coverage': coverage})\n",
    "\n",
    "# Convert the list of dictionaries into a DataFrame\n",
    "results_df = pd.DataFrame(results)\n",
    "results_df['Coverage'] = results_df['Coverage'].round(2)\n",
    "# Display the results as a table\n",
    "pivot_table1 = results_df.pivot_table(index='Vaccine', columns='child_gender', values='Coverage')\n",
    "pivot_table1"
   ]
  },
  {
   "cell_type": "markdown",
   "metadata": {},
   "source": [
    "##### Calcualte vaccine coverage by region"
   ]
  },
  {
   "cell_type": "code",
   "execution_count": 28,
   "metadata": {},
   "outputs": [
    {
     "data": {
      "text/html": [
       "<div>\n",
       "<style scoped>\n",
       "    .dataframe tbody tr th:only-of-type {\n",
       "        vertical-align: middle;\n",
       "    }\n",
       "\n",
       "    .dataframe tbody tr th {\n",
       "        vertical-align: top;\n",
       "    }\n",
       "\n",
       "    .dataframe thead th {\n",
       "        text-align: right;\n",
       "    }\n",
       "</style>\n",
       "<table border=\"1\" class=\"dataframe\">\n",
       "  <thead>\n",
       "    <tr style=\"text-align: right;\">\n",
       "      <th>region</th>\n",
       "      <th>Agadez</th>\n",
       "      <th>Diffa</th>\n",
       "      <th>Dosso</th>\n",
       "      <th>Maradi</th>\n",
       "      <th>Niamey</th>\n",
       "      <th>Tahoua</th>\n",
       "      <th>Tillaberi</th>\n",
       "      <th>Zinder</th>\n",
       "    </tr>\n",
       "    <tr>\n",
       "      <th>Vaccine</th>\n",
       "      <th></th>\n",
       "      <th></th>\n",
       "      <th></th>\n",
       "      <th></th>\n",
       "      <th></th>\n",
       "      <th></th>\n",
       "      <th></th>\n",
       "      <th></th>\n",
       "    </tr>\n",
       "  </thead>\n",
       "  <tbody>\n",
       "    <tr>\n",
       "      <th>bcg</th>\n",
       "      <td>92.98</td>\n",
       "      <td>66.67</td>\n",
       "      <td>84.93</td>\n",
       "      <td>85.13</td>\n",
       "      <td>98.04</td>\n",
       "      <td>80.12</td>\n",
       "      <td>88.89</td>\n",
       "      <td>81.12</td>\n",
       "    </tr>\n",
       "    <tr>\n",
       "      <th>dpt1</th>\n",
       "      <td>89.29</td>\n",
       "      <td>63.75</td>\n",
       "      <td>91.10</td>\n",
       "      <td>87.11</td>\n",
       "      <td>94.12</td>\n",
       "      <td>77.50</td>\n",
       "      <td>89.63</td>\n",
       "      <td>85.31</td>\n",
       "    </tr>\n",
       "    <tr>\n",
       "      <th>dpt3</th>\n",
       "      <td>83.93</td>\n",
       "      <td>43.75</td>\n",
       "      <td>80.82</td>\n",
       "      <td>71.65</td>\n",
       "      <td>87.25</td>\n",
       "      <td>65.00</td>\n",
       "      <td>76.30</td>\n",
       "      <td>62.94</td>\n",
       "    </tr>\n",
       "    <tr>\n",
       "      <th>measles</th>\n",
       "      <td>80.70</td>\n",
       "      <td>54.22</td>\n",
       "      <td>78.08</td>\n",
       "      <td>68.91</td>\n",
       "      <td>87.25</td>\n",
       "      <td>63.12</td>\n",
       "      <td>75.56</td>\n",
       "      <td>65.03</td>\n",
       "    </tr>\n",
       "    <tr>\n",
       "      <th>polio0</th>\n",
       "      <td>78.95</td>\n",
       "      <td>44.05</td>\n",
       "      <td>67.81</td>\n",
       "      <td>60.00</td>\n",
       "      <td>92.16</td>\n",
       "      <td>51.55</td>\n",
       "      <td>66.67</td>\n",
       "      <td>58.74</td>\n",
       "    </tr>\n",
       "    <tr>\n",
       "      <th>polio1</th>\n",
       "      <td>91.23</td>\n",
       "      <td>67.86</td>\n",
       "      <td>95.74</td>\n",
       "      <td>91.19</td>\n",
       "      <td>97.03</td>\n",
       "      <td>90.68</td>\n",
       "      <td>91.85</td>\n",
       "      <td>94.37</td>\n",
       "    </tr>\n",
       "    <tr>\n",
       "      <th>polio3</th>\n",
       "      <td>89.47</td>\n",
       "      <td>47.62</td>\n",
       "      <td>87.05</td>\n",
       "      <td>79.06</td>\n",
       "      <td>86.14</td>\n",
       "      <td>73.86</td>\n",
       "      <td>77.04</td>\n",
       "      <td>75.36</td>\n",
       "    </tr>\n",
       "  </tbody>\n",
       "</table>\n",
       "</div>"
      ],
      "text/plain": [
       "region   Agadez  Diffa  Dosso  Maradi  Niamey  Tahoua  Tillaberi  Zinder\n",
       "Vaccine                                                                 \n",
       "bcg       92.98  66.67  84.93   85.13   98.04   80.12      88.89   81.12\n",
       "dpt1      89.29  63.75  91.10   87.11   94.12   77.50      89.63   85.31\n",
       "dpt3      83.93  43.75  80.82   71.65   87.25   65.00      76.30   62.94\n",
       "measles   80.70  54.22  78.08   68.91   87.25   63.12      75.56   65.03\n",
       "polio0    78.95  44.05  67.81   60.00   92.16   51.55      66.67   58.74\n",
       "polio1    91.23  67.86  95.74   91.19   97.03   90.68      91.85   94.37\n",
       "polio3    89.47  47.62  87.05   79.06   86.14   73.86      77.04   75.36"
      ]
     },
     "execution_count": 28,
     "metadata": {},
     "output_type": "execute_result"
    }
   ],
   "source": [
    "# List of region\n",
    "regions = [\"Agadez\", \"Diffa\", \"Dosso\", \"Maradi\", \"Tahoua\", \"Tillaberi\", \"Zinder\", \"Niamey\"]\n",
    "# Create an empty list to store the results\n",
    "results1 = []\n",
    "\n",
    "# Loop through each vaccine and child_gender\n",
    "for vaccine in vaccines1:\n",
    "    for region in regions:\n",
    "        coverage = calculate_vaccination_coverage_region(filtered_df, 12, 23, region, vaccine)\n",
    "        results1.append({'Vaccine': vaccine, 'region': region, 'Coverage': coverage})\n",
    "\n",
    "# Convert the list of dictionaries into a DataFrame\n",
    "results_df1 = pd.DataFrame(results1)\n",
    "results_df1['Coverage'] = results_df1['Coverage'].round(2)\n",
    "# Display the results as a table\n",
    "pivot_table = results_df1.pivot_table(index='Vaccine', columns='region', values='Coverage')\n",
    "pivot_table"
   ]
  },
  {
   "cell_type": "markdown",
   "metadata": {},
   "source": [
    "##### Calcualte vaccine coverage by residence"
   ]
  },
  {
   "cell_type": "code",
   "execution_count": 29,
   "metadata": {},
   "outputs": [
    {
     "data": {
      "text/plain": [
       "residence\n",
       "Rural    9802\n",
       "Urban    2756\n",
       "Name: count, dtype: int64"
      ]
     },
     "execution_count": 29,
     "metadata": {},
     "output_type": "execute_result"
    }
   ],
   "source": [
    "df['residence'].value_counts()"
   ]
  },
  {
   "cell_type": "code",
   "execution_count": 30,
   "metadata": {},
   "outputs": [
    {
     "data": {
      "text/html": [
       "<div>\n",
       "<style scoped>\n",
       "    .dataframe tbody tr th:only-of-type {\n",
       "        vertical-align: middle;\n",
       "    }\n",
       "\n",
       "    .dataframe tbody tr th {\n",
       "        vertical-align: top;\n",
       "    }\n",
       "\n",
       "    .dataframe thead th {\n",
       "        text-align: right;\n",
       "    }\n",
       "</style>\n",
       "<table border=\"1\" class=\"dataframe\">\n",
       "  <thead>\n",
       "    <tr style=\"text-align: right;\">\n",
       "      <th>residence</th>\n",
       "      <th>Rural</th>\n",
       "      <th>Urban</th>\n",
       "    </tr>\n",
       "    <tr>\n",
       "      <th>Vaccine</th>\n",
       "      <th></th>\n",
       "      <th></th>\n",
       "    </tr>\n",
       "  </thead>\n",
       "  <tbody>\n",
       "    <tr>\n",
       "      <th>bcg</th>\n",
       "      <td>80.26</td>\n",
       "      <td>96.27</td>\n",
       "    </tr>\n",
       "    <tr>\n",
       "      <th>dpt1</th>\n",
       "      <td>82.09</td>\n",
       "      <td>94.03</td>\n",
       "    </tr>\n",
       "    <tr>\n",
       "      <th>dpt3</th>\n",
       "      <td>65.51</td>\n",
       "      <td>87.69</td>\n",
       "    </tr>\n",
       "    <tr>\n",
       "      <th>measles</th>\n",
       "      <td>66.71</td>\n",
       "      <td>82.84</td>\n",
       "    </tr>\n",
       "    <tr>\n",
       "      <th>polio0</th>\n",
       "      <td>54.44</td>\n",
       "      <td>88.81</td>\n",
       "    </tr>\n",
       "    <tr>\n",
       "      <th>polio1</th>\n",
       "      <td>89.30</td>\n",
       "      <td>95.49</td>\n",
       "    </tr>\n",
       "    <tr>\n",
       "      <th>polio3</th>\n",
       "      <td>74.04</td>\n",
       "      <td>86.09</td>\n",
       "    </tr>\n",
       "  </tbody>\n",
       "</table>\n",
       "</div>"
      ],
      "text/plain": [
       "residence  Rural  Urban\n",
       "Vaccine                \n",
       "bcg        80.26  96.27\n",
       "dpt1       82.09  94.03\n",
       "dpt3       65.51  87.69\n",
       "measles    66.71  82.84\n",
       "polio0     54.44  88.81\n",
       "polio1     89.30  95.49\n",
       "polio3     74.04  86.09"
      ]
     },
     "execution_count": 30,
     "metadata": {},
     "output_type": "execute_result"
    }
   ],
   "source": [
    "# List of region\n",
    "residences = [\"Urban\", \"Rural\"]\n",
    "# Create an empty list to store the results\n",
    "results2 = []\n",
    "\n",
    "# Loop through each vaccine and child_gender\n",
    "for vaccine in vaccines1:\n",
    "    for residence in residences:\n",
    "        coverage = calculate_vaccination_coverage_residence(filtered_df, 12, 23,residence,vaccine)\n",
    "        results2.append({'Vaccine': vaccine, 'residence': residence, 'Coverage': coverage})\n",
    "\n",
    "# Convert the list of dictionaries into a DataFrame\n",
    "results_df2 = pd.DataFrame(results2)\n",
    "results_df2['Coverage'] = results_df2['Coverage'].round(2)\n",
    "# Display the results as a table\n",
    "pivot_table2 = results_df2.pivot_table(index='Vaccine', columns='residence', values='Coverage')\n",
    "pivot_table2"
   ]
  },
  {
   "cell_type": "markdown",
   "metadata": {},
   "source": [
    "##### Calcualte DPT retention rate per region"
   ]
  },
  {
   "cell_type": "code",
   "execution_count": 31,
   "metadata": {},
   "outputs": [
    {
     "data": {
      "text/html": [
       "<div>\n",
       "<style scoped>\n",
       "    .dataframe tbody tr th:only-of-type {\n",
       "        vertical-align: middle;\n",
       "    }\n",
       "\n",
       "    .dataframe tbody tr th {\n",
       "        vertical-align: top;\n",
       "    }\n",
       "\n",
       "    .dataframe thead th {\n",
       "        text-align: right;\n",
       "    }\n",
       "</style>\n",
       "<table border=\"1\" class=\"dataframe\">\n",
       "  <thead>\n",
       "    <tr style=\"text-align: right;\">\n",
       "      <th>region</th>\n",
       "      <th>Agadez</th>\n",
       "      <th>Diffa</th>\n",
       "      <th>Dosso</th>\n",
       "      <th>Maradi</th>\n",
       "      <th>Niamey</th>\n",
       "      <th>Tahoua</th>\n",
       "      <th>Tillaberi</th>\n",
       "      <th>Zinder</th>\n",
       "    </tr>\n",
       "  </thead>\n",
       "  <tbody>\n",
       "    <tr>\n",
       "      <th>retention_rate</th>\n",
       "      <td>91.015353</td>\n",
       "      <td>69.635887</td>\n",
       "      <td>89.479449</td>\n",
       "      <td>80.070068</td>\n",
       "      <td>92.606389</td>\n",
       "      <td>85.464824</td>\n",
       "      <td>81.778348</td>\n",
       "      <td>70.667932</td>\n",
       "    </tr>\n",
       "  </tbody>\n",
       "</table>\n",
       "</div>"
      ],
      "text/plain": [
       "region             Agadez      Diffa      Dosso     Maradi     Niamey  \\\n",
       "retention_rate  91.015353  69.635887  89.479449  80.070068  92.606389   \n",
       "\n",
       "region             Tahoua  Tillaberi     Zinder  \n",
       "retention_rate  85.464824  81.778348  70.667932  "
      ]
     },
     "execution_count": 31,
     "metadata": {},
     "output_type": "execute_result"
    }
   ],
   "source": [
    "calculate_retention_rate(filtered_df, 'region', 'dpt1_sampled', 'dpt3_sampled')"
   ]
  },
  {
   "cell_type": "code",
   "execution_count": 32,
   "metadata": {},
   "outputs": [
    {
     "data": {
      "text/html": [
       "<div>\n",
       "<style scoped>\n",
       "    .dataframe tbody tr th:only-of-type {\n",
       "        vertical-align: middle;\n",
       "    }\n",
       "\n",
       "    .dataframe tbody tr th {\n",
       "        vertical-align: top;\n",
       "    }\n",
       "\n",
       "    .dataframe thead th {\n",
       "        text-align: right;\n",
       "    }\n",
       "</style>\n",
       "<table border=\"1\" class=\"dataframe\">\n",
       "  <thead>\n",
       "    <tr style=\"text-align: right;\">\n",
       "      <th>region</th>\n",
       "      <th>Agadez</th>\n",
       "      <th>Diffa</th>\n",
       "      <th>Dosso</th>\n",
       "      <th>Maradi</th>\n",
       "      <th>Niamey</th>\n",
       "      <th>Tahoua</th>\n",
       "      <th>Tillaberi</th>\n",
       "      <th>Zinder</th>\n",
       "    </tr>\n",
       "  </thead>\n",
       "  <tbody>\n",
       "    <tr>\n",
       "      <th>retention_rate</th>\n",
       "      <td>94.0</td>\n",
       "      <td>68.627451</td>\n",
       "      <td>88.721805</td>\n",
       "      <td>82.248521</td>\n",
       "      <td>92.708333</td>\n",
       "      <td>83.870968</td>\n",
       "      <td>85.123967</td>\n",
       "      <td>73.770492</td>\n",
       "    </tr>\n",
       "  </tbody>\n",
       "</table>\n",
       "</div>"
      ],
      "text/plain": [
       "region         Agadez      Diffa      Dosso     Maradi     Niamey     Tahoua  \\\n",
       "retention_rate   94.0  68.627451  88.721805  82.248521  92.708333  83.870968   \n",
       "\n",
       "region          Tillaberi     Zinder  \n",
       "retention_rate  85.123967  73.770492  "
      ]
     },
     "execution_count": 32,
     "metadata": {},
     "output_type": "execute_result"
    }
   ],
   "source": [
    "calculate_retention_rate(filtered_df, 'region', 'dpt1', 'dpt3')"
   ]
  },
  {
   "cell_type": "markdown",
   "metadata": {},
   "source": [
    "##### Calcualte DPT retention rate per child_gender"
   ]
  },
  {
   "cell_type": "code",
   "execution_count": 33,
   "metadata": {},
   "outputs": [
    {
     "data": {
      "text/html": [
       "<div>\n",
       "<style scoped>\n",
       "    .dataframe tbody tr th:only-of-type {\n",
       "        vertical-align: middle;\n",
       "    }\n",
       "\n",
       "    .dataframe tbody tr th {\n",
       "        vertical-align: top;\n",
       "    }\n",
       "\n",
       "    .dataframe thead th {\n",
       "        text-align: right;\n",
       "    }\n",
       "</style>\n",
       "<table border=\"1\" class=\"dataframe\">\n",
       "  <thead>\n",
       "    <tr style=\"text-align: right;\">\n",
       "      <th>child_gender</th>\n",
       "      <th>Female</th>\n",
       "      <th>Male</th>\n",
       "    </tr>\n",
       "  </thead>\n",
       "  <tbody>\n",
       "    <tr>\n",
       "      <th>retention_rate</th>\n",
       "      <td>84.941396</td>\n",
       "      <td>77.852394</td>\n",
       "    </tr>\n",
       "  </tbody>\n",
       "</table>\n",
       "</div>"
      ],
      "text/plain": [
       "child_gender       Female       Male\n",
       "retention_rate  84.941396  77.852394"
      ]
     },
     "execution_count": 33,
     "metadata": {},
     "output_type": "execute_result"
    }
   ],
   "source": [
    "calculate_retention_rate(filtered_df, 'child_gender', 'dpt1_sampled', 'dpt3_sampled')"
   ]
  },
  {
   "cell_type": "markdown",
   "metadata": {},
   "source": [
    "##### Calcualte DPT retention rate by residence"
   ]
  },
  {
   "cell_type": "code",
   "execution_count": 34,
   "metadata": {},
   "outputs": [
    {
     "data": {
      "text/html": [
       "<div>\n",
       "<style scoped>\n",
       "    .dataframe tbody tr th:only-of-type {\n",
       "        vertical-align: middle;\n",
       "    }\n",
       "\n",
       "    .dataframe tbody tr th {\n",
       "        vertical-align: top;\n",
       "    }\n",
       "\n",
       "    .dataframe thead th {\n",
       "        text-align: right;\n",
       "    }\n",
       "</style>\n",
       "<table border=\"1\" class=\"dataframe\">\n",
       "  <thead>\n",
       "    <tr style=\"text-align: right;\">\n",
       "      <th>residence</th>\n",
       "      <th>Rural</th>\n",
       "      <th>Urban</th>\n",
       "    </tr>\n",
       "  </thead>\n",
       "  <tbody>\n",
       "    <tr>\n",
       "      <th>retention_rate</th>\n",
       "      <td>79.031768</td>\n",
       "      <td>93.724838</td>\n",
       "    </tr>\n",
       "  </tbody>\n",
       "</table>\n",
       "</div>"
      ],
      "text/plain": [
       "residence           Rural      Urban\n",
       "retention_rate  79.031768  93.724838"
      ]
     },
     "execution_count": 34,
     "metadata": {},
     "output_type": "execute_result"
    }
   ],
   "source": [
    "calculate_retention_rate(filtered_df, 'residence', 'dpt1_sampled', 'dpt3_sampled')"
   ]
  },
  {
   "cell_type": "markdown",
   "metadata": {},
   "source": [
    "##### Calcualte OPV retention rate per region"
   ]
  },
  {
   "cell_type": "code",
   "execution_count": 35,
   "metadata": {},
   "outputs": [
    {
     "data": {
      "text/html": [
       "<div>\n",
       "<style scoped>\n",
       "    .dataframe tbody tr th:only-of-type {\n",
       "        vertical-align: middle;\n",
       "    }\n",
       "\n",
       "    .dataframe tbody tr th {\n",
       "        vertical-align: top;\n",
       "    }\n",
       "\n",
       "    .dataframe thead th {\n",
       "        text-align: right;\n",
       "    }\n",
       "</style>\n",
       "<table border=\"1\" class=\"dataframe\">\n",
       "  <thead>\n",
       "    <tr style=\"text-align: right;\">\n",
       "      <th>region</th>\n",
       "      <th>Agadez</th>\n",
       "      <th>Diffa</th>\n",
       "      <th>Dosso</th>\n",
       "      <th>Maradi</th>\n",
       "      <th>Niamey</th>\n",
       "      <th>Tahoua</th>\n",
       "      <th>Tillaberi</th>\n",
       "      <th>Zinder</th>\n",
       "    </tr>\n",
       "  </thead>\n",
       "  <tbody>\n",
       "    <tr>\n",
       "      <th>retention_rate</th>\n",
       "      <td>98.076923</td>\n",
       "      <td>70.175439</td>\n",
       "      <td>89.62963</td>\n",
       "      <td>85.795455</td>\n",
       "      <td>88.77551</td>\n",
       "      <td>77.39726</td>\n",
       "      <td>83.870968</td>\n",
       "      <td>77.61194</td>\n",
       "    </tr>\n",
       "  </tbody>\n",
       "</table>\n",
       "</div>"
      ],
      "text/plain": [
       "region             Agadez      Diffa     Dosso     Maradi    Niamey    Tahoua  \\\n",
       "retention_rate  98.076923  70.175439  89.62963  85.795455  88.77551  77.39726   \n",
       "\n",
       "region          Tillaberi    Zinder  \n",
       "retention_rate  83.870968  77.61194  "
      ]
     },
     "execution_count": 35,
     "metadata": {},
     "output_type": "execute_result"
    }
   ],
   "source": [
    "calculate_retention_rate(filtered_df, 'region', 'polio1', 'polio3')"
   ]
  },
  {
   "cell_type": "markdown",
   "metadata": {},
   "source": [
    "##### Calcualte DPT retention rate per child_gender"
   ]
  },
  {
   "cell_type": "code",
   "execution_count": 36,
   "metadata": {},
   "outputs": [
    {
     "data": {
      "text/html": [
       "<div>\n",
       "<style scoped>\n",
       "    .dataframe tbody tr th:only-of-type {\n",
       "        vertical-align: middle;\n",
       "    }\n",
       "\n",
       "    .dataframe tbody tr th {\n",
       "        vertical-align: top;\n",
       "    }\n",
       "\n",
       "    .dataframe thead th {\n",
       "        text-align: right;\n",
       "    }\n",
       "</style>\n",
       "<table border=\"1\" class=\"dataframe\">\n",
       "  <thead>\n",
       "    <tr style=\"text-align: right;\">\n",
       "      <th>child_gender</th>\n",
       "      <th>Female</th>\n",
       "      <th>Male</th>\n",
       "    </tr>\n",
       "  </thead>\n",
       "  <tbody>\n",
       "    <tr>\n",
       "      <th>retention_rate</th>\n",
       "      <td>84.210526</td>\n",
       "      <td>82.997763</td>\n",
       "    </tr>\n",
       "  </tbody>\n",
       "</table>\n",
       "</div>"
      ],
      "text/plain": [
       "child_gender       Female       Male\n",
       "retention_rate  84.210526  82.997763"
      ]
     },
     "execution_count": 36,
     "metadata": {},
     "output_type": "execute_result"
    }
   ],
   "source": [
    "calculate_retention_rate(filtered_df, 'child_gender', 'polio1', 'polio3')"
   ]
  },
  {
   "cell_type": "markdown",
   "metadata": {},
   "source": [
    "##### Calcualte DPT retention rate by residence"
   ]
  },
  {
   "cell_type": "code",
   "execution_count": 37,
   "metadata": {},
   "outputs": [
    {
     "data": {
      "text/html": [
       "<div>\n",
       "<style scoped>\n",
       "    .dataframe tbody tr th:only-of-type {\n",
       "        vertical-align: middle;\n",
       "    }\n",
       "\n",
       "    .dataframe tbody tr th {\n",
       "        vertical-align: top;\n",
       "    }\n",
       "\n",
       "    .dataframe thead th {\n",
       "        text-align: right;\n",
       "    }\n",
       "</style>\n",
       "<table border=\"1\" class=\"dataframe\">\n",
       "  <thead>\n",
       "    <tr style=\"text-align: right;\">\n",
       "      <th>residence</th>\n",
       "      <th>Rural</th>\n",
       "      <th>Urban</th>\n",
       "    </tr>\n",
       "  </thead>\n",
       "  <tbody>\n",
       "    <tr>\n",
       "      <th>retention_rate</th>\n",
       "      <td>81.137725</td>\n",
       "      <td>90.15748</td>\n",
       "    </tr>\n",
       "  </tbody>\n",
       "</table>\n",
       "</div>"
      ],
      "text/plain": [
       "residence           Rural     Urban\n",
       "retention_rate  81.137725  90.15748"
      ]
     },
     "execution_count": 37,
     "metadata": {},
     "output_type": "execute_result"
    }
   ],
   "source": [
    "calculate_retention_rate(filtered_df, 'residence','polio1', 'polio3')"
   ]
  },
  {
   "cell_type": "markdown",
   "metadata": {},
   "source": [
    "##### DPT retention NAtional"
   ]
  },
  {
   "cell_type": "code",
   "execution_count": 38,
   "metadata": {},
   "outputs": [
    {
     "data": {
      "text/plain": [
       "83.71824480369516"
      ]
     },
     "execution_count": 38,
     "metadata": {},
     "output_type": "execute_result"
    }
   ],
   "source": [
    "(1 - ((filtered_df['dpt1'].sum() - filtered_df['dpt3'].sum()) / filtered_df['dpt1'].sum())) * 100"
   ]
  },
  {
   "cell_type": "markdown",
   "metadata": {},
   "source": [
    "##### Polio retention NAtional"
   ]
  },
  {
   "cell_type": "code",
   "execution_count": 39,
   "metadata": {},
   "outputs": [
    {
     "data": {
      "text/plain": [
       "83.62255965292842"
      ]
     },
     "execution_count": 39,
     "metadata": {},
     "output_type": "execute_result"
    }
   ],
   "source": [
    "(1 - ((filtered_df['polio1'].sum() - filtered_df['polio3'].sum()) / filtered_df['polio1'].sum())) * 100"
   ]
  },
  {
   "cell_type": "markdown",
   "metadata": {},
   "source": [
    "##### Zero dose Childern"
   ]
  },
  {
   "cell_type": "code",
   "execution_count": 43,
   "metadata": {},
   "outputs": [
    {
     "data": {
      "text/plain": [
       "6.647116324535679"
      ]
     },
     "execution_count": 43,
     "metadata": {},
     "output_type": "execute_result"
    }
   ],
   "source": [
    "# Calculate the number of no vaccinated kids\n",
    "no_vaccinated = filtered_df[(filtered_df['bcg']==0) & (filtered_df['polio1']==0) & (filtered_df['measles']==0) & (filtered_df['dpt1']==0)]\n",
    "num_no_vaccinated = len(no_vaccinated)\n",
    "\n",
    "# Calculate the total number of kids\n",
    "total_kids =len(filtered_df)\n",
    "\n",
    "\n",
    "# Calculate the percentage of no vaccinated kids\n",
    "percentage_no_vaccinated = (num_no_vaccinated / total_kids) * 100\n",
    "percentage_no_vaccinated"
   ]
  },
  {
   "cell_type": "markdown",
   "metadata": {},
   "source": [
    "# Fully Vaccinated"
   ]
  },
  {
   "cell_type": "code",
   "execution_count": 44,
   "metadata": {},
   "outputs": [
    {
     "data": {
      "text/plain": [
       "55.32746823069403"
      ]
     },
     "execution_count": 44,
     "metadata": {},
     "output_type": "execute_result"
    }
   ],
   "source": [
    "# Calculate the number of fully vaccinated kids\n",
    "fully_vaccinated = filtered_df[(filtered_df['bcg']==1) & (filtered_df['polio3']==1) & (filtered_df['measles']==1) & (filtered_df['dpt3']==1)]\n",
    "num_fully_vaccinated = len(fully_vaccinated)\n",
    "\n",
    "# Calculate the total number of kids\n",
    "total_kids = len(filtered_df)\n",
    "\n",
    "# Calculate the percentage of fully vaccinated kids\n",
    "percentage_fully_vaccinated = (num_fully_vaccinated / total_kids) * 100\n",
    "percentage_fully_vaccinated"
   ]
  },
  {
   "cell_type": "markdown",
   "metadata": {},
   "source": [
    "## No of responders per region"
   ]
  },
  {
   "cell_type": "code",
   "execution_count": null,
   "metadata": {},
   "outputs": [],
   "source": [
    "grouped_data = df.groupby(['region'])['case_id'].count().sort_values()\n",
    "\n",
    "# Plotting the bar chart with the specified size\n",
    "plt.figure(figsize=(20, 6))  # Change the size of the plot\n",
    "\n",
    "bars = plt.bar(grouped_data.index, grouped_data.values, color='skyblue')  # Set color as skyblue\n",
    "\n",
    "# Adding totals above each bar\n",
    "for bar, total in zip(bars, grouped_data.values):\n",
    "    plt.text(bar.get_x() + bar.get_width() / 2, bar.get_height() + 0.1, total, ha='center', va='bottom')\n",
    "\n",
    "plt.title('Number of Cases per region')  # Change the title\n",
    "plt.ylabel('Number of Cases')  # Change the y-axis label\n",
    "plt.xlabel('region')  # Optional: Change the x-axis label\n",
    "\n",
    "plt.show()"
   ]
  },
  {
   "cell_type": "code",
   "execution_count": null,
   "metadata": {},
   "outputs": [],
   "source": [
    "df_grouped = df.groupby(['region', 'residence'])['case_id'].count().reset_index().sort_values(by='case_id')\n",
    "\n",
    "fig = px.bar(df_grouped, \n",
    "             x='region', y='case_id', color='residence',\n",
    "             labels={'x': 'region', 'case_id': 'Number of Cases'}, \n",
    "             title='Cases per region by residence',\n",
    "             category_orders={'region': df_grouped['region'].tolist()},\n",
    "            )\n",
    "fig.show()"
   ]
  }
 ],
 "metadata": {
  "kernelspec": {
   "display_name": "Python 3",
   "language": "python",
   "name": "python3"
  },
  "language_info": {
   "codemirror_mode": {
    "name": "ipython",
    "version": 3
   },
   "file_extension": ".py",
   "mimetype": "text/x-python",
   "name": "python",
   "nbconvert_exporter": "python",
   "pygments_lexer": "ipython3",
   "version": "3.8.5"
  }
 },
 "nbformat": 4,
 "nbformat_minor": 4
}
