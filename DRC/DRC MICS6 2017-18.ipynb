{
 "cells": [
  {
   "cell_type": "markdown",
   "metadata": {},
   "source": [
    "# DRC MICS6 SPSS Data 2017-18"
   ]
  },
  {
   "cell_type": "code",
   "execution_count": 144,
   "metadata": {},
   "outputs": [],
   "source": [
    "import pyreadstat\n",
    "import warnings\n",
    "warnings.filterwarnings(\"ignore\")\n",
    "from googletrans import Translator\n",
    "from googletrans import Translator\n",
    "import pandas as pd\n",
    "import numpy as np"
   ]
  },
  {
   "cell_type": "code",
   "execution_count": 145,
   "metadata": {},
   "outputs": [],
   "source": [
    "def calculate_weighted_percentage(df, column_name):\n",
    "    filtered_df = df[df['UB2'] == 1]\n",
    "    weighted_percentage = round(filtered_df[column_name].mean() * 100,1)\n",
    "    print(\"Weighted percentage of '{}' if 'UB2' is 1: {}\".format(column_name, weighted_percentage))"
   ]
  },
  {
   "cell_type": "code",
   "execution_count": 146,
   "metadata": {},
   "outputs": [],
   "source": [
    "# Function to calculate vaccination coverage for each child_residence between specific age group\n",
    "def calculate_vaccination_coverage_child_residence(df, residence, vaccine_column):\n",
    "    filtered_df = df[(df['UB2']==1) & (df['residence']== residence)]\n",
    "\n",
    "    # Calculate the percentage of children vaccinated with the specified vaccine\n",
    "    # Count non-null values in the vaccine_column\n",
    "    weighted_percentage = round(filtered_df[vaccine_column].mean() * 100,1)\n",
    "    #print(\"Weighted percentage of '{}' if 'UB2' is 1: {}\".format(vaccine_column, weighted_percentage))                  \n",
    "    return weighted_percentage\n"
   ]
  },
  {
   "cell_type": "code",
   "execution_count": 147,
   "metadata": {},
   "outputs": [],
   "source": [
    "# Function to calculate vaccination coverage for each region between specific age group\n",
    "def calculate_vaccination_coverage_region(df, region, vaccine_column):\n",
    "    # Filter rows where child_age is between min_age and max_age and region matches\n",
    "    filtered_df = df[(df['UB2']==1) & (df['region'] == region)]\n",
    "\n",
    "    # Calculate the percentage of children vaccinated with the specified vaccine\n",
    "    total_children = filtered_df[vaccine_column].count()  # Count non-null values in the vaccine_column\n",
    "    if total_children == 0:\n",
    "        print(\"No children found for the specified age range and region: {}.\".format(region))\n",
    "        return 0\n",
    "    percentage_vaccinated = round(filtered_df[vaccine_column].mean() * 100,1)\n",
    "    #print(\"{} Vaccination Coverage for children in {} between {} to {} months using dataset: {:.2f}%\".format(vaccine_column, region, min_age, max_age, percentage_vaccinated))\n",
    "    return percentage_vaccinated"
   ]
  },
  {
   "cell_type": "code",
   "execution_count": 148,
   "metadata": {},
   "outputs": [],
   "source": [
    "# Function to calculate vaccination coverage for each child_gender between specific age group\n",
    "def calculate_vaccination_coverage_child_gender(df, gender, vaccine_column):\n",
    "    filtered_df = df[(df['UB2']==1) & (df['gender']== gender)]\n",
    "\n",
    "    # Calculate the percentage of children vaccinated with the specified vaccine\n",
    "    # Count non-null values in the vaccine_column\n",
    "    weighted_percentage = round(filtered_df[vaccine_column].mean() * 100,1)\n",
    "    #print(\"Weighted percentage of '{}' if 'UB2' is 1: {}\".format(vaccine_column, weighted_percentage))                  \n",
    "    return weighted_percentage\n"
   ]
  },
  {
   "cell_type": "markdown",
   "metadata": {},
   "source": [
    "# Reading the dataframe"
   ]
  },
  {
   "cell_type": "code",
   "execution_count": 149,
   "metadata": {},
   "outputs": [],
   "source": [
    "df, meta = pyreadstat.read_sav(\"C:/Users/swalke/Desktop/RISP/DRCongo MICS6 SPSS Datafiles/ch.sav\")"
   ]
  },
  {
   "cell_type": "code",
   "execution_count": 150,
   "metadata": {},
   "outputs": [
    {
     "data": {
      "text/plain": [
       "{0.0: 'NON SIGNALÉ',\n",
       " 44.0: 'ENREGSTRÉ SUR LA CARTE',\n",
       " 66.0: 'DECLARÉ PAR LA MAMAN',\n",
       " 99.0: 'NON REPONSE'}"
      ]
     },
     "execution_count": 150,
     "metadata": {},
     "output_type": "execute_result"
    }
   ],
   "source": [
    "# Access variable labels\n",
    "variable_labels = meta.column_labels\n",
    "\n",
    "# Access value labels for a specific variable\n",
    "value_labels = meta.variable_value_labels.get(\"IM6BD\")\n",
    "value_labels"
   ]
  },
  {
   "cell_type": "code",
   "execution_count": 151,
   "metadata": {},
   "outputs": [
    {
     "data": {
      "text/plain": [
       "IM11\n",
       "1.0    6046\n",
       "2.0    3586\n",
       "8.0      69\n",
       "9.0       3\n",
       "Name: count, dtype: int64"
      ]
     },
     "execution_count": 151,
     "metadata": {},
     "output_type": "execute_result"
    }
   ],
   "source": [
    "df['IM11'].value_counts()"
   ]
  },
  {
   "cell_type": "code",
   "execution_count": 152,
   "metadata": {},
   "outputs": [],
   "source": [
    "# Define mapping variables\n",
    "day_mapping = {range(1, 67): True, 99: np.nan, 0:False}\n",
    "month_mapping ={range(1, 67): True, 99: np.nan, 0:False}\n",
    "year_mapping = {2015:True, 2016:True, 2017:True, 2018:True, 2019:True, 4444:True, 6666:True, 9999:np.nan}"
   ]
  },
  {
   "cell_type": "code",
   "execution_count": 153,
   "metadata": {},
   "outputs": [],
   "source": [
    "df['card'] = df['IM2'].replace({1:True, 2:True, 3:False, 4:False, 9:np.nan})"
   ]
  },
  {
   "cell_type": "code",
   "execution_count": 154,
   "metadata": {},
   "outputs": [],
   "source": [
    "df['recall'] = df['IM11'].replace({1:True, 2: False, 8: np.nan, 9: np.nan})"
   ]
  },
  {
   "cell_type": "code",
   "execution_count": 155,
   "metadata": {},
   "outputs": [],
   "source": [
    "df['bcgday'] = df['IM6BD'].replace(day_mapping)\n",
    "df['bcgmonth'] = df['IM6BM'].replace(month_mapping)\n",
    "df['bcgyr'] = df['IM6BY'].replace(year_mapping)\n",
    "\n",
    "df['polio0day'] = df['IM6P0D'].replace(day_mapping)\n",
    "df['polio0month'] = df['IM6P0M'].replace(month_mapping)\n",
    "df['polio0yr'] = df['IM6P0Y'].replace(year_mapping)\n",
    "\n",
    "df['polio1day'] = df['IM6P1D'].replace(day_mapping)\n",
    "df['polio1month'] = df['IM6P1M'].replace(month_mapping)\n",
    "df['polio1yr'] = df['IM6P1Y'].replace(year_mapping)\n",
    "\n",
    "df['polio2day'] = df['IM6P2D'].replace(day_mapping)\n",
    "df['polio2month'] = df['IM6P2M'].replace(month_mapping)\n",
    "df['polio2yr'] = df['IM6P2Y'].replace(year_mapping)\n",
    "\n",
    "\n",
    "df['polio3day'] = df['IM6P3D'].replace(day_mapping)\n",
    "df['polio3month'] = df['IM6P3M'].replace(month_mapping)\n",
    "df['polio3yr'] = df['IM6P3Y'].replace(year_mapping)\n",
    "\n",
    "\n",
    "df['ipvday'] = df['IM6ID'].replace(day_mapping)\n",
    "df['ipvmonth'] = df['IM6IM'].replace(month_mapping)\n",
    "df['ipvyr'] = df['IM6IY'].replace(year_mapping)\n",
    "\n",
    "\n",
    "df['penta1day'] = df['IM6PENTA1D'].replace(day_mapping)\n",
    "df['penta1month'] = df['IM6PENTA1M'].replace(month_mapping)\n",
    "df['penta1yr'] = df['IM6PENTA1Y'].replace(year_mapping)\n",
    "\n",
    "\n",
    "df['penta2day'] = df['IM6PENTA2D'].replace(day_mapping)\n",
    "df['penta2month'] = df['IM6PENTA2M'].replace(month_mapping)\n",
    "df['penta2yr'] = df['IM6PENTA2Y'].replace(year_mapping)\n",
    "\n",
    "\n",
    "df['penta3day'] = df['IM6PENTA3D'].replace(day_mapping)\n",
    "df['penta3month'] = df['IM6PENTA3M'].replace(month_mapping)\n",
    "df['penta3yr'] = df['IM6PENTA3Y'].replace(year_mapping)\n",
    "\n",
    "df['mcvday'] = df['IM6MD'].replace(day_mapping)\n",
    "df['mcvmonth'] = df['IM6MM'].replace(month_mapping)\n",
    "df['mcvyr'] = df['IM6MY'].replace(year_mapping)\n",
    "\n",
    "\n",
    "df['yfday'] = df['IM6YD'].replace(day_mapping)\n",
    "df['yfmonth'] = df['IM6YM'].replace(month_mapping)\n",
    "df['yfyr'] = df['IM6YY'].replace(year_mapping)\n",
    "\n",
    "df['pcv1day'] = df['IM6PCV1D'].replace(day_mapping)\n",
    "df['pcv1month'] = df['IM6PCV1M'].replace(month_mapping)\n",
    "df['pcv1yr'] = df['IM6PCV1Y'].replace(year_mapping)\n",
    "\n",
    "df['pcv2day'] = df['IM6PCV2D'].replace(day_mapping)\n",
    "df['pcv2month'] = df['IM6PCV2M'].replace(month_mapping)\n",
    "df['pcv2yr'] = df['IM6PCV2Y'].replace(year_mapping)\n",
    "\n",
    "df['pcv3day'] = df['IM6PCV3D'].replace(day_mapping)\n",
    "df['pcv3month'] = df['IM6PCV3M'].replace(month_mapping)\n",
    "df['pcv3yr'] = df['IM6PCV3Y'].replace(year_mapping)"
   ]
  },
  {
   "cell_type": "markdown",
   "metadata": {},
   "source": [
    "# BCG"
   ]
  },
  {
   "cell_type": "code",
   "execution_count": 156,
   "metadata": {},
   "outputs": [],
   "source": [
    "df['bcg_card'] = df[['bcgday', 'bcgmonth','bcgyr']].max(axis=1)\n",
    "df.loc[df['card'] == 0, 'bcg_card'] = 0\n",
    "\n",
    "df['bcg_recall'] = df['IM14'].replace({1: 1, 2: 0,8: np.nan, 9: np.nan})\n",
    "df.loc[df['recall'] == 0, 'bcg_recall'] = 0\n",
    "\n",
    "df['bcg'] = df[['bcg_card', 'bcg_recall']].max(axis=1)\n",
    "df['bcg_sampled']=df['bcg']*df['chweight']"
   ]
  },
  {
   "cell_type": "code",
   "execution_count": 157,
   "metadata": {},
   "outputs": [
    {
     "data": {
      "text/plain": [
       "{1.0: 'OUI', 2.0: 'NON', 8.0: 'NSP', 9.0: 'NON REPONSE'}"
      ]
     },
     "execution_count": 157,
     "metadata": {},
     "output_type": "execute_result"
    }
   ],
   "source": [
    "# Access variable labels\n",
    "variable_labels = meta.column_labels\n",
    "\n",
    "# Access value labels for a specific variable\n",
    "value_labels = meta.variable_value_labels.get(\"IM17\")\n",
    "value_labels"
   ]
  },
  {
   "cell_type": "markdown",
   "metadata": {},
   "source": [
    "# Polio"
   ]
  },
  {
   "cell_type": "code",
   "execution_count": 158,
   "metadata": {},
   "outputs": [],
   "source": [
    "#polio0\n",
    "df['polio0_card'] = df[['polio0day', 'polio0month','polio0yr']].max(axis=1)\n",
    "df.loc[df['card'] == False, 'polio0_card'] = False\n",
    "\n",
    "df['polio0_recall1'] = df['IM17'].replace({1: 1, 2: 0, 3: 0, 4: 0, 5: 0, 6: 0, 7: 0, 8: np.nan, 9: np.nan})\n",
    "df.loc[df['recall'] == False, 'polio0_recall1'] = False\n",
    "\n",
    "df['polio0'] = df[['polio0_card','polio0_recall1']].max(axis=1)\n",
    "df['polio0_sampled']=df['polio0']*df['chweight']"
   ]
  },
  {
   "cell_type": "code",
   "execution_count": 159,
   "metadata": {},
   "outputs": [],
   "source": [
    "#Polio1\n",
    "df['polio1_card'] = df[['polio1day', 'polio1month','polio1yr']].max(axis=1)\n",
    "df.loc[df['card'] == False, 'polio1_card'] = False\n",
    "\n",
    "df['polio1_recall1'] = df['IM18'].replace({1: 1, 2: 1, 3: 1, 4: 1, 5: 1, 6: 1, 7: 1, 8: np.nan, 9: np.nan})\n",
    "df.loc[df['recall'] == False, 'polio1_recall1'] = False\n",
    "\n",
    "df['polio1'] = df[['polio1_card','polio1_recall1']].max(axis=1)\n",
    "df['polio1_sampled']=df['polio1']*df['chweight']"
   ]
  },
  {
   "cell_type": "code",
   "execution_count": 160,
   "metadata": {},
   "outputs": [],
   "source": [
    "#Polio2\n",
    "df['polio2_card'] = df[['polio2day', 'polio2month','polio2yr']].max(axis=1)\n",
    "df.loc[df['card'] == False, 'polio2_card'] = False\n",
    "\n",
    "df['polio2_recall'] = df['IM18'].replace({1: 0, 2: 1, 3: 1, 4: 1, 5: 1, 6: 1, 7: 1, 8: np.nan, 9: np.nan})\n",
    "df.loc[df['recall'] == False, 'polio2_recall'] = False\n",
    "\n",
    "df['polio2'] = df[['polio2_card','polio2_recall']].max(axis=1)\n",
    "df['polio2_sampled']=df['polio2']*df['chweight']"
   ]
  },
  {
   "cell_type": "code",
   "execution_count": 161,
   "metadata": {},
   "outputs": [],
   "source": [
    "#Polio3\n",
    "df['polio3_card'] = df[['polio3day', 'polio3month','polio3yr']].max(axis=1)\n",
    "df.loc[df['card'] == False, 'polio3_card'] = False\n",
    "\n",
    "df['polio3_recall'] = df['IM18'].replace({1: 0, 2: 0, 3: 1, 4: 1, 5: 1, 6: 1, 7: 1, 8: np.nan, 9: np.nan})\n",
    "df.loc[df['recall'] == False, 'polio3_recall'] = False\n",
    "\n",
    "df['polio3'] = df[['polio3_card','polio3_recall']].max(axis=1)\n",
    "df['polio3_sampled']=df['polio3']*df['chweight']"
   ]
  },
  {
   "cell_type": "markdown",
   "metadata": {},
   "source": [
    "# Penta"
   ]
  },
  {
   "cell_type": "code",
   "execution_count": 162,
   "metadata": {},
   "outputs": [],
   "source": [
    "#penta1\n",
    "\n",
    "df['penta1_card'] = df[['penta1day', 'penta1month','penta1yr']].max(axis=1)\n",
    "df.loc[df['card'] == False, 'penta1_card'] = False\n",
    "\n",
    "df['penta1_recall'] = df['IM21'].replace({1: 1, 2: 1, 3: 1, 4: 1, 5: 1, 6: 1, 7: 1, 8: np.nan, 9: np.nan})\n",
    "df.loc[df['recall'] == False, 'polio1_recall'] = False\n",
    "\n",
    "df['penta1'] = df[['penta1_card', 'penta1_recall']].max(axis=1)\n",
    "df['penta1_sampled']=df['penta1']*df['chweight']"
   ]
  },
  {
   "cell_type": "code",
   "execution_count": 163,
   "metadata": {},
   "outputs": [],
   "source": [
    "# penta2\n",
    "df['penta2_card'] = df[['penta2day', 'penta2month','penta2yr']].max(axis=1)\n",
    "df.loc[df['card'] == False, 'penta2_card'] = False\n",
    "\n",
    "df['penta2_recall'] = df['IM21'].replace({1: 0, 2: 1, 3: 1, 4: 1, 5: 1, 6: 1, 7: 1, 8: np.nan, 9: np.nan})\n",
    "df.loc[df['recall'] == False, 'polio1_recall'] = False\n",
    "\n",
    "df['penta2'] = df[['penta2_card', 'penta2_recall']].max(axis=1)\n",
    "df['penta2_sampled']=df['penta2']*df['chweight']"
   ]
  },
  {
   "cell_type": "code",
   "execution_count": 164,
   "metadata": {},
   "outputs": [],
   "source": [
    "# penta3\n",
    "df['penta3_card'] = df[['penta3day', 'penta3month','penta3yr']].max(axis=1)\n",
    "df.loc[df['card'] == False, 'penta3_card'] = False\n",
    "\n",
    "df['penta3_recall'] = df['IM21'].replace({1: 0, 2: 0, 3: 1, 4: 1, 5: 1, 6: 1, 7: 1, 8: np.nan, 9: np.nan})\n",
    "df.loc[df['recall'] == False, 'polio1_recall'] = False\n",
    "\n",
    "df['penta3'] = df[['penta3_card', 'penta3_recall']].max(axis=1)\n",
    "df['penta3_sampled']=df['penta3']*df['chweight']"
   ]
  },
  {
   "cell_type": "markdown",
   "metadata": {},
   "source": [
    "# Yellow Fever"
   ]
  },
  {
   "cell_type": "code",
   "execution_count": 165,
   "metadata": {},
   "outputs": [],
   "source": [
    "df['yf_card'] = df[['yfday', 'yfmonth','yfyr']].max(axis=1)\n",
    "df.loc[df['card'] == False, 'yf_card'] = False\n",
    "\n",
    "df['yf_recall'] = df['IM27'].replace({1: True, 2: False, 8: np.nan, 9: np.nan})\n",
    "df.loc[df['recall'] == False, 'yf_recall'] = False\n",
    "\n",
    "df['yf'] = df[['yf_card', 'yf_recall']].max(axis=1)\n",
    "df['yf_sampled']=df['yf']*df['chweight']"
   ]
  },
  {
   "cell_type": "markdown",
   "metadata": {},
   "source": [
    "# PCV"
   ]
  },
  {
   "cell_type": "code",
   "execution_count": 166,
   "metadata": {},
   "outputs": [],
   "source": [
    "#pcv1\n",
    "df['pcv1_card'] = df[['pcv1day', 'pcv1month','pcv1yr']].max(axis=1)\n",
    "df.loc[df['card'] == False, 'pcv1_card'] = False\n",
    "\n",
    "df['pcv1_recall1'] = df['IM23'].replace({1: 1, 2: 1, 3: 1, 4: 1, 5: 1, 6: 1, 7: 1, 8: np.nan, 9: np.nan})\n",
    "df.loc[df['recall'] == False, 'pcv1_recall1'] = False\n",
    "\n",
    "df['pcv1'] = df[['pcv1_card','pcv1_recall1']].max(axis=1)\n",
    "df['pcv1_sampled']=df['pcv1']*df['chweight']\n",
    "\n",
    "\n"
   ]
  },
  {
   "cell_type": "code",
   "execution_count": 167,
   "metadata": {},
   "outputs": [],
   "source": [
    "#pcv2\n",
    "df['pcv2_card'] = df[['pcv2day', 'pcv2month','pcv2yr']].max(axis=1)\n",
    "df.loc[df['card'] == False, 'pcv2_card'] = False\n",
    "\n",
    "df['pcv2_recall'] = df['IM23'].replace({1: 0, 2: 1, 3: 1, 4: 1, 5: 1, 6: 1, 7: 1, 8: np.nan, 9: np.nan})\n",
    "df.loc[df['recall'] == False, 'pcv2_recall'] = False\n",
    "\n",
    "df['pcv2'] = df[['pcv2_card','pcv2_recall']].max(axis=1)\n",
    "df['pcv2_sampled']=df['pcv2']*df['chweight']"
   ]
  },
  {
   "cell_type": "code",
   "execution_count": 168,
   "metadata": {},
   "outputs": [],
   "source": [
    "\n",
    "#pcv3\n",
    "df['pcv3_card'] = df[['pcv3day', 'pcv3month','pcv3yr']].max(axis=1)\n",
    "df.loc[df['card'] == False, 'pcv3_card'] = False\n",
    "\n",
    "df['pcv3_recall'] = df['IM23'].replace({1: 0, 2: 0, 3: 1, 4: 1, 5: 1, 6: 1, 7: 1, 8: np.nan, 9: np.nan})\n",
    "df.loc[df['recall'] == False, 'pcv3_recall'] = False\n",
    "\n",
    "df['pcv3'] = df[['pcv3_card','pcv3_recall']].max(axis=1)\n",
    "df['pcv3_sampled']=df['pcv3']*df['chweight']"
   ]
  },
  {
   "cell_type": "markdown",
   "metadata": {},
   "source": [
    "# IPV"
   ]
  },
  {
   "cell_type": "code",
   "execution_count": 169,
   "metadata": {},
   "outputs": [],
   "source": [
    "df['ipv'] = df[['ipvday', 'ipvmonth','ipvyr']].max(axis=1)\n",
    "df.loc[df['card'] == False, 'ipv'] = False\n",
    "\n",
    "#df['ipv_recall'] = df['IM23'].replace({1: 0, 2: 0, 3: 1, 4: 1, 5: 1, 6: 1, 7: 1, 8: np.nan, 9: np.nan})\n",
    "#df.loc[df['recall'] == False, 'ipv_recall'] = False\n",
    "\n",
    "#df['ipv'] = df[['ipv_card','ipv_recall']].max(axis=1)\n",
    "df['ipv_sampled']=df['ipv']*df['chweight']"
   ]
  },
  {
   "cell_type": "markdown",
   "metadata": {},
   "source": [
    "# mcv"
   ]
  },
  {
   "cell_type": "code",
   "execution_count": 170,
   "metadata": {},
   "outputs": [],
   "source": [
    "df['mcv_card'] = df[['mcvday', 'mcvmonth','mcvyr']].max(axis=1)\n",
    "df.loc[df['card'] == False, 'mcv_card'] = False\n",
    "\n",
    "df['mcv_recall'] = df['IM26'].replace({1: 1, 2: 0, 8: np.nan, 9: np.nan})\n",
    "df.loc[df['recall'] == False, 'mcv_recall'] = False\n",
    "\n",
    "df['mcv'] = df[['mcv_card','mcv_recall']].max(axis=1)\n",
    "df['mcv_sampled']=df['mcv']*df['chweight']"
   ]
  },
  {
   "cell_type": "markdown",
   "metadata": {},
   "source": [
    "# Vaccination Calulations"
   ]
  },
  {
   "cell_type": "code",
   "execution_count": 171,
   "metadata": {},
   "outputs": [
    {
     "name": "stdout",
     "output_type": "stream",
     "text": [
      "Weighted percentage of 'bcg_sampled' if 'UB2' is 1: 73.3\n",
      "Weighted percentage of 'polio0_sampled' if 'UB2' is 1: 69.1\n",
      "Weighted percentage of 'polio1_sampled' if 'UB2' is 1: 73.1\n",
      "Weighted percentage of 'polio3_sampled' if 'UB2' is 1: 48.2\n",
      "Weighted percentage of 'penta1_sampled' if 'UB2' is 1: 65.3\n",
      "Weighted percentage of 'penta3_sampled' if 'UB2' is 1: 46.6\n",
      "Weighted percentage of 'yf_sampled' if 'UB2' is 1: 56.4\n",
      "Weighted percentage of 'pcv1_sampled' if 'UB2' is 1: 63.1\n",
      "Weighted percentage of 'pcv3_sampled' if 'UB2' is 1: 44.8\n",
      "Weighted percentage of 'mcv_sampled' if 'UB2' is 1: 57.4\n",
      "Weighted percentage of 'ipv_sampled' if 'UB2' is 1: 17.5\n"
     ]
    }
   ],
   "source": [
    "calculate_weighted_percentage(df, 'bcg_sampled')\n",
    "calculate_weighted_percentage(df, 'polio0_sampled')\n",
    "calculate_weighted_percentage(df, 'polio1_sampled')\n",
    "calculate_weighted_percentage(df, 'polio3_sampled')\n",
    "calculate_weighted_percentage(df, 'penta1_sampled')\n",
    "calculate_weighted_percentage(df, 'penta3_sampled')\n",
    "calculate_weighted_percentage(df, 'yf_sampled')\n",
    "calculate_weighted_percentage(df, 'pcv1_sampled')\n",
    "calculate_weighted_percentage(df, 'pcv3_sampled')\n",
    "calculate_weighted_percentage(df, 'mcv_sampled')\n",
    "calculate_weighted_percentage(df, 'ipv_sampled')"
   ]
  },
  {
   "cell_type": "code",
   "execution_count": 172,
   "metadata": {},
   "outputs": [],
   "source": [
    "# rename columns in dataframe\n",
    "df = df.rename(columns={'HL4': 'gender','HH6':'residence','HH7':'region'})"
   ]
  },
  {
   "cell_type": "code",
   "execution_count": 173,
   "metadata": {},
   "outputs": [],
   "source": [
    "# List of Region\n",
    "region_mapping = {1.0: 'Kinshasa',\n",
    " 2.0: 'Kongo Central',\n",
    " 3.0: 'Kwango',\n",
    " 4.0: 'Kwilu',\n",
    " 5.0: 'Maindombe',\n",
    " 6.0: 'Equateur',\n",
    " 7.0: 'Sud Ubangi',\n",
    " 8.0: 'Nord Ubangi',\n",
    " 9.0: 'Mongala',\n",
    " 10.0: 'Tshuapa',\n",
    " 11.0: 'Tshopo',\n",
    " 12.0: 'Bas Uele',\n",
    " 13.0: 'Haut Uele',\n",
    " 14.0: 'Ituri',\n",
    " 15.0: 'Nord Kivu',\n",
    " 16.0: 'Sud Kivu',\n",
    " 17.0: 'Maniema',\n",
    " 18.0: 'Haut Katanga',\n",
    " 19.0: 'Lualaba',\n",
    " 20.0: 'Haut Lomami',\n",
    " 21.0: 'Tanganyika',\n",
    " 22.0: 'Lomami',\n",
    " 23.0: 'Kasai Oriental',\n",
    " 24.0: 'Sankuru',\n",
    " 25.0: 'Kasai Central',\n",
    " 26.0: 'Kasai'}\n",
    "residence_mapping = {1.0: 'URBAIN', 2.0: 'RURAL'}\n",
    "gender_mapping = {1.0: 'MASC', 2.0: 'FEM'}"
   ]
  },
  {
   "cell_type": "code",
   "execution_count": 174,
   "metadata": {},
   "outputs": [],
   "source": [
    "# Apply mappings to DataFrame columns\n",
    "df['gender'] = df['gender'].replace(gender_mapping)\n",
    "df['region'] = df['region'].replace(region_mapping)\n",
    "df['residence'] = df['residence'].replace(residence_mapping)"
   ]
  },
  {
   "cell_type": "code",
   "execution_count": 175,
   "metadata": {},
   "outputs": [],
   "source": [
    "# List of vaccines\n",
    "vaccines = ['bcg_sampled','polio0_sampled','polio1_sampled','polio3_sampled','penta1_sampled','penta3_sampled','yf_sampled','pcv1_sampled','pcv3_sampled','mcv_sampled','ipv_sampled']"
   ]
  },
  {
   "cell_type": "code",
   "execution_count": 176,
   "metadata": {},
   "outputs": [],
   "source": [
    "# List of vaccines\n",
    "vaccines1 = ['bcg','polio0','polio1','polio3','penta1','penta3','yf','pcv1','pcv3','mcv','ipv']"
   ]
  },
  {
   "cell_type": "code",
   "execution_count": 177,
   "metadata": {},
   "outputs": [],
   "source": [
    "regions=['Kinshasa','Kongo Central','Kwango','Kwilu','Maindombe', 'Equateur','Sud Ubangi','Nord Ubangi',\n",
    " 'Mongala','Tshuapa','Tshopo','Bas Uele','Haut Uele','Ituri','Nord Kivu','Sud Kivu',\n",
    "  'Maniema','Haut Katanga','Lualaba', 'Haut Lomami','Tanganyika', 'Lomami','Kasai Oriental',\n",
    "'Sankuru','Kasai Central','Kasai']"
   ]
  },
  {
   "cell_type": "code",
   "execution_count": 178,
   "metadata": {},
   "outputs": [],
   "source": [
    "# List of genders\n",
    "genders = ['MASC','FEM']"
   ]
  },
  {
   "cell_type": "code",
   "execution_count": 179,
   "metadata": {},
   "outputs": [],
   "source": [
    "residences=['URBAIN','RURAL']"
   ]
  },
  {
   "cell_type": "code",
   "execution_count": 180,
   "metadata": {},
   "outputs": [
    {
     "data": {
      "text/plain": [
       "gender\n",
       "FEM     10844\n",
       "MASC    10633\n",
       "Name: count, dtype: int64"
      ]
     },
     "execution_count": 180,
     "metadata": {},
     "output_type": "execute_result"
    }
   ],
   "source": [
    "df['gender'].value_counts()"
   ]
  },
  {
   "cell_type": "code",
   "execution_count": 181,
   "metadata": {},
   "outputs": [
    {
     "data": {
      "text/html": [
       "<div>\n",
       "<style scoped>\n",
       "    .dataframe tbody tr th:only-of-type {\n",
       "        vertical-align: middle;\n",
       "    }\n",
       "\n",
       "    .dataframe tbody tr th {\n",
       "        vertical-align: top;\n",
       "    }\n",
       "\n",
       "    .dataframe thead th {\n",
       "        text-align: right;\n",
       "    }\n",
       "</style>\n",
       "<table border=\"1\" class=\"dataframe\">\n",
       "  <thead>\n",
       "    <tr style=\"text-align: right;\">\n",
       "      <th>gender</th>\n",
       "      <th>FEM</th>\n",
       "      <th>MASC</th>\n",
       "    </tr>\n",
       "    <tr>\n",
       "      <th>Vaccine</th>\n",
       "      <th></th>\n",
       "      <th></th>\n",
       "    </tr>\n",
       "  </thead>\n",
       "  <tbody>\n",
       "    <tr>\n",
       "      <th>bcg_sampled</th>\n",
       "      <td>73.6</td>\n",
       "      <td>73.0</td>\n",
       "    </tr>\n",
       "    <tr>\n",
       "      <th>ipv_sampled</th>\n",
       "      <td>16.9</td>\n",
       "      <td>18.0</td>\n",
       "    </tr>\n",
       "    <tr>\n",
       "      <th>mcv_sampled</th>\n",
       "      <td>58.4</td>\n",
       "      <td>56.3</td>\n",
       "    </tr>\n",
       "    <tr>\n",
       "      <th>pcv1_sampled</th>\n",
       "      <td>63.0</td>\n",
       "      <td>63.2</td>\n",
       "    </tr>\n",
       "    <tr>\n",
       "      <th>pcv3_sampled</th>\n",
       "      <td>43.6</td>\n",
       "      <td>45.9</td>\n",
       "    </tr>\n",
       "    <tr>\n",
       "      <th>penta1_sampled</th>\n",
       "      <td>65.1</td>\n",
       "      <td>65.5</td>\n",
       "    </tr>\n",
       "    <tr>\n",
       "      <th>penta3_sampled</th>\n",
       "      <td>44.9</td>\n",
       "      <td>48.3</td>\n",
       "    </tr>\n",
       "    <tr>\n",
       "      <th>polio0_sampled</th>\n",
       "      <td>69.3</td>\n",
       "      <td>68.8</td>\n",
       "    </tr>\n",
       "    <tr>\n",
       "      <th>polio1_sampled</th>\n",
       "      <td>72.1</td>\n",
       "      <td>74.2</td>\n",
       "    </tr>\n",
       "    <tr>\n",
       "      <th>polio3_sampled</th>\n",
       "      <td>47.3</td>\n",
       "      <td>49.2</td>\n",
       "    </tr>\n",
       "    <tr>\n",
       "      <th>yf_sampled</th>\n",
       "      <td>57.8</td>\n",
       "      <td>55.0</td>\n",
       "    </tr>\n",
       "  </tbody>\n",
       "</table>\n",
       "</div>"
      ],
      "text/plain": [
       "gender           FEM  MASC\n",
       "Vaccine                   \n",
       "bcg_sampled     73.6  73.0\n",
       "ipv_sampled     16.9  18.0\n",
       "mcv_sampled     58.4  56.3\n",
       "pcv1_sampled    63.0  63.2\n",
       "pcv3_sampled    43.6  45.9\n",
       "penta1_sampled  65.1  65.5\n",
       "penta3_sampled  44.9  48.3\n",
       "polio0_sampled  69.3  68.8\n",
       "polio1_sampled  72.1  74.2\n",
       "polio3_sampled  47.3  49.2\n",
       "yf_sampled      57.8  55.0"
      ]
     },
     "execution_count": 181,
     "metadata": {},
     "output_type": "execute_result"
    }
   ],
   "source": [
    "# Create an empty list to store the results\n",
    "results = []\n",
    "\n",
    "# Loop through each vaccine and child_gender\n",
    "for vaccine in vaccines:\n",
    "    for gender in genders:\n",
    "        coverage = calculate_vaccination_coverage_child_gender(df, gender, vaccine)\n",
    "        results.append({'Vaccine': vaccine, 'gender': gender, 'Coverage': coverage})\n",
    "\n",
    "# Convert the list of dictionaries into a DataFrame\n",
    "results_df = pd.DataFrame(results)\n",
    "#results_df['Coverage'] = results_df['Coverage'].round(2)\n",
    "# Display the results as a table\n",
    "pivot_table1 = results_df.pivot_table(index='Vaccine', columns='gender', values='Coverage')\n",
    "pivot_table1"
   ]
  },
  {
   "cell_type": "code",
   "execution_count": 182,
   "metadata": {},
   "outputs": [
    {
     "data": {
      "text/html": [
       "<div>\n",
       "<style scoped>\n",
       "    .dataframe tbody tr th:only-of-type {\n",
       "        vertical-align: middle;\n",
       "    }\n",
       "\n",
       "    .dataframe tbody tr th {\n",
       "        vertical-align: top;\n",
       "    }\n",
       "\n",
       "    .dataframe thead th {\n",
       "        text-align: right;\n",
       "    }\n",
       "</style>\n",
       "<table border=\"1\" class=\"dataframe\">\n",
       "  <thead>\n",
       "    <tr style=\"text-align: right;\">\n",
       "      <th>residence</th>\n",
       "      <th>RURAL</th>\n",
       "      <th>URBAIN</th>\n",
       "    </tr>\n",
       "    <tr>\n",
       "      <th>Vaccine</th>\n",
       "      <th></th>\n",
       "      <th></th>\n",
       "    </tr>\n",
       "  </thead>\n",
       "  <tbody>\n",
       "    <tr>\n",
       "      <th>bcg</th>\n",
       "      <td>57.7</td>\n",
       "      <td>76.9</td>\n",
       "    </tr>\n",
       "    <tr>\n",
       "      <th>ipv</th>\n",
       "      <td>11.2</td>\n",
       "      <td>23.7</td>\n",
       "    </tr>\n",
       "    <tr>\n",
       "      <th>mcv</th>\n",
       "      <td>42.7</td>\n",
       "      <td>58.4</td>\n",
       "    </tr>\n",
       "    <tr>\n",
       "      <th>pcv1</th>\n",
       "      <td>46.5</td>\n",
       "      <td>66.5</td>\n",
       "    </tr>\n",
       "    <tr>\n",
       "      <th>pcv3</th>\n",
       "      <td>29.3</td>\n",
       "      <td>46.6</td>\n",
       "    </tr>\n",
       "    <tr>\n",
       "      <th>penta1</th>\n",
       "      <td>49.4</td>\n",
       "      <td>69.7</td>\n",
       "    </tr>\n",
       "    <tr>\n",
       "      <th>penta3</th>\n",
       "      <td>31.1</td>\n",
       "      <td>49.6</td>\n",
       "    </tr>\n",
       "    <tr>\n",
       "      <th>polio0</th>\n",
       "      <td>51.5</td>\n",
       "      <td>72.4</td>\n",
       "    </tr>\n",
       "    <tr>\n",
       "      <th>polio1</th>\n",
       "      <td>61.0</td>\n",
       "      <td>75.1</td>\n",
       "    </tr>\n",
       "    <tr>\n",
       "      <th>polio3</th>\n",
       "      <td>36.4</td>\n",
       "      <td>51.7</td>\n",
       "    </tr>\n",
       "    <tr>\n",
       "      <th>yf</th>\n",
       "      <td>42.2</td>\n",
       "      <td>56.3</td>\n",
       "    </tr>\n",
       "  </tbody>\n",
       "</table>\n",
       "</div>"
      ],
      "text/plain": [
       "residence  RURAL  URBAIN\n",
       "Vaccine                 \n",
       "bcg         57.7    76.9\n",
       "ipv         11.2    23.7\n",
       "mcv         42.7    58.4\n",
       "pcv1        46.5    66.5\n",
       "pcv3        29.3    46.6\n",
       "penta1      49.4    69.7\n",
       "penta3      31.1    49.6\n",
       "polio0      51.5    72.4\n",
       "polio1      61.0    75.1\n",
       "polio3      36.4    51.7\n",
       "yf          42.2    56.3"
      ]
     },
     "execution_count": 182,
     "metadata": {},
     "output_type": "execute_result"
    }
   ],
   "source": [
    "# Create an empty list to store the results\n",
    "results1 = []\n",
    "\n",
    "# Loop through each vaccine and child_residence\n",
    "for vaccine in vaccines1:\n",
    "    for residence in residences:\n",
    "        coverage = calculate_vaccination_coverage_child_residence(df, residence, vaccine)\n",
    "        results1.append({'Vaccine': vaccine, 'residence': residence, 'Coverage': coverage})\n",
    "\n",
    "# Convert the list of dictionaries into a DataFrame\n",
    "results1_df = pd.DataFrame(results1)\n",
    "#results_df['Coverage'] = results_df['Coverage'].round(2)\n",
    "# Display the results as a table\n",
    "pivot_table1 = results1_df.pivot_table(index='Vaccine', columns='residence', values='Coverage')\n",
    "pivot_table1"
   ]
  },
  {
   "cell_type": "code",
   "execution_count": 183,
   "metadata": {},
   "outputs": [
    {
     "data": {
      "text/html": [
       "<div>\n",
       "<style scoped>\n",
       "    .dataframe tbody tr th:only-of-type {\n",
       "        vertical-align: middle;\n",
       "    }\n",
       "\n",
       "    .dataframe tbody tr th {\n",
       "        vertical-align: top;\n",
       "    }\n",
       "\n",
       "    .dataframe thead th {\n",
       "        text-align: right;\n",
       "    }\n",
       "</style>\n",
       "<table border=\"1\" class=\"dataframe\">\n",
       "  <thead>\n",
       "    <tr style=\"text-align: right;\">\n",
       "      <th>region</th>\n",
       "      <th>Bas Uele</th>\n",
       "      <th>Equateur</th>\n",
       "      <th>Haut Katanga</th>\n",
       "      <th>Haut Lomami</th>\n",
       "      <th>Haut Uele</th>\n",
       "      <th>Ituri</th>\n",
       "      <th>Kasai</th>\n",
       "      <th>Kasai Central</th>\n",
       "      <th>Kasai Oriental</th>\n",
       "      <th>Kinshasa</th>\n",
       "      <th>...</th>\n",
       "      <th>Maniema</th>\n",
       "      <th>Mongala</th>\n",
       "      <th>Nord Kivu</th>\n",
       "      <th>Nord Ubangi</th>\n",
       "      <th>Sankuru</th>\n",
       "      <th>Sud Kivu</th>\n",
       "      <th>Sud Ubangi</th>\n",
       "      <th>Tanganyika</th>\n",
       "      <th>Tshopo</th>\n",
       "      <th>Tshuapa</th>\n",
       "    </tr>\n",
       "    <tr>\n",
       "      <th>Vaccine</th>\n",
       "      <th></th>\n",
       "      <th></th>\n",
       "      <th></th>\n",
       "      <th></th>\n",
       "      <th></th>\n",
       "      <th></th>\n",
       "      <th></th>\n",
       "      <th></th>\n",
       "      <th></th>\n",
       "      <th></th>\n",
       "      <th></th>\n",
       "      <th></th>\n",
       "      <th></th>\n",
       "      <th></th>\n",
       "      <th></th>\n",
       "      <th></th>\n",
       "      <th></th>\n",
       "      <th></th>\n",
       "      <th></th>\n",
       "      <th></th>\n",
       "      <th></th>\n",
       "    </tr>\n",
       "  </thead>\n",
       "  <tbody>\n",
       "    <tr>\n",
       "      <th>bcg</th>\n",
       "      <td>68.2</td>\n",
       "      <td>55.9</td>\n",
       "      <td>83.6</td>\n",
       "      <td>65.0</td>\n",
       "      <td>72.9</td>\n",
       "      <td>85.9</td>\n",
       "      <td>56.2</td>\n",
       "      <td>81.2</td>\n",
       "      <td>74.3</td>\n",
       "      <td>92.1</td>\n",
       "      <td>...</td>\n",
       "      <td>37.7</td>\n",
       "      <td>37.7</td>\n",
       "      <td>85.1</td>\n",
       "      <td>55.0</td>\n",
       "      <td>19.8</td>\n",
       "      <td>89.1</td>\n",
       "      <td>65.3</td>\n",
       "      <td>45.6</td>\n",
       "      <td>30.3</td>\n",
       "      <td>57.3</td>\n",
       "    </tr>\n",
       "    <tr>\n",
       "      <th>ipv</th>\n",
       "      <td>17.6</td>\n",
       "      <td>9.2</td>\n",
       "      <td>20.4</td>\n",
       "      <td>20.6</td>\n",
       "      <td>7.8</td>\n",
       "      <td>16.7</td>\n",
       "      <td>16.2</td>\n",
       "      <td>22.2</td>\n",
       "      <td>25.3</td>\n",
       "      <td>31.1</td>\n",
       "      <td>...</td>\n",
       "      <td>1.3</td>\n",
       "      <td>5.7</td>\n",
       "      <td>32.1</td>\n",
       "      <td>17.2</td>\n",
       "      <td>1.6</td>\n",
       "      <td>11.8</td>\n",
       "      <td>21.4</td>\n",
       "      <td>8.9</td>\n",
       "      <td>5.2</td>\n",
       "      <td>0.0</td>\n",
       "    </tr>\n",
       "    <tr>\n",
       "      <th>mcv</th>\n",
       "      <td>46.2</td>\n",
       "      <td>40.8</td>\n",
       "      <td>63.2</td>\n",
       "      <td>49.5</td>\n",
       "      <td>48.3</td>\n",
       "      <td>74.6</td>\n",
       "      <td>33.1</td>\n",
       "      <td>66.3</td>\n",
       "      <td>43.2</td>\n",
       "      <td>81.0</td>\n",
       "      <td>...</td>\n",
       "      <td>27.8</td>\n",
       "      <td>23.4</td>\n",
       "      <td>73.0</td>\n",
       "      <td>40.4</td>\n",
       "      <td>7.8</td>\n",
       "      <td>68.2</td>\n",
       "      <td>42.2</td>\n",
       "      <td>33.1</td>\n",
       "      <td>21.3</td>\n",
       "      <td>36.3</td>\n",
       "    </tr>\n",
       "    <tr>\n",
       "      <th>pcv1</th>\n",
       "      <td>52.7</td>\n",
       "      <td>50.7</td>\n",
       "      <td>69.7</td>\n",
       "      <td>57.3</td>\n",
       "      <td>68.1</td>\n",
       "      <td>81.6</td>\n",
       "      <td>34.8</td>\n",
       "      <td>77.9</td>\n",
       "      <td>61.2</td>\n",
       "      <td>86.4</td>\n",
       "      <td>...</td>\n",
       "      <td>26.9</td>\n",
       "      <td>22.7</td>\n",
       "      <td>82.2</td>\n",
       "      <td>31.1</td>\n",
       "      <td>14.1</td>\n",
       "      <td>79.5</td>\n",
       "      <td>48.8</td>\n",
       "      <td>33.1</td>\n",
       "      <td>22.6</td>\n",
       "      <td>36.7</td>\n",
       "    </tr>\n",
       "    <tr>\n",
       "      <th>pcv3</th>\n",
       "      <td>26.0</td>\n",
       "      <td>32.9</td>\n",
       "      <td>50.7</td>\n",
       "      <td>39.5</td>\n",
       "      <td>31.0</td>\n",
       "      <td>53.9</td>\n",
       "      <td>24.2</td>\n",
       "      <td>51.9</td>\n",
       "      <td>42.6</td>\n",
       "      <td>68.8</td>\n",
       "      <td>...</td>\n",
       "      <td>9.4</td>\n",
       "      <td>12.1</td>\n",
       "      <td>80.1</td>\n",
       "      <td>19.2</td>\n",
       "      <td>4.2</td>\n",
       "      <td>60.0</td>\n",
       "      <td>32.3</td>\n",
       "      <td>18.5</td>\n",
       "      <td>13.5</td>\n",
       "      <td>19.5</td>\n",
       "    </tr>\n",
       "    <tr>\n",
       "      <th>penta1</th>\n",
       "      <td>60.3</td>\n",
       "      <td>54.6</td>\n",
       "      <td>71.9</td>\n",
       "      <td>56.8</td>\n",
       "      <td>74.1</td>\n",
       "      <td>85.0</td>\n",
       "      <td>41.6</td>\n",
       "      <td>80.1</td>\n",
       "      <td>63.9</td>\n",
       "      <td>85.2</td>\n",
       "      <td>...</td>\n",
       "      <td>29.6</td>\n",
       "      <td>22.7</td>\n",
       "      <td>84.2</td>\n",
       "      <td>37.7</td>\n",
       "      <td>18.2</td>\n",
       "      <td>83.2</td>\n",
       "      <td>53.0</td>\n",
       "      <td>33.6</td>\n",
       "      <td>24.7</td>\n",
       "      <td>38.0</td>\n",
       "    </tr>\n",
       "    <tr>\n",
       "      <th>penta3</th>\n",
       "      <td>30.5</td>\n",
       "      <td>34.2</td>\n",
       "      <td>52.3</td>\n",
       "      <td>43.6</td>\n",
       "      <td>34.5</td>\n",
       "      <td>55.7</td>\n",
       "      <td>27.0</td>\n",
       "      <td>56.4</td>\n",
       "      <td>43.7</td>\n",
       "      <td>69.7</td>\n",
       "      <td>...</td>\n",
       "      <td>11.9</td>\n",
       "      <td>13.5</td>\n",
       "      <td>81.5</td>\n",
       "      <td>21.2</td>\n",
       "      <td>5.2</td>\n",
       "      <td>61.6</td>\n",
       "      <td>32.3</td>\n",
       "      <td>19.2</td>\n",
       "      <td>14.3</td>\n",
       "      <td>19.9</td>\n",
       "    </tr>\n",
       "    <tr>\n",
       "      <th>polio0</th>\n",
       "      <td>53.8</td>\n",
       "      <td>46.1</td>\n",
       "      <td>78.0</td>\n",
       "      <td>59.5</td>\n",
       "      <td>66.9</td>\n",
       "      <td>79.4</td>\n",
       "      <td>43.3</td>\n",
       "      <td>77.3</td>\n",
       "      <td>70.5</td>\n",
       "      <td>90.4</td>\n",
       "      <td>...</td>\n",
       "      <td>34.4</td>\n",
       "      <td>28.0</td>\n",
       "      <td>83.0</td>\n",
       "      <td>46.4</td>\n",
       "      <td>14.1</td>\n",
       "      <td>84.4</td>\n",
       "      <td>63.5</td>\n",
       "      <td>38.7</td>\n",
       "      <td>27.7</td>\n",
       "      <td>43.5</td>\n",
       "    </tr>\n",
       "    <tr>\n",
       "      <th>polio1</th>\n",
       "      <td>71.2</td>\n",
       "      <td>59.9</td>\n",
       "      <td>75.1</td>\n",
       "      <td>73.6</td>\n",
       "      <td>75.4</td>\n",
       "      <td>83.7</td>\n",
       "      <td>61.2</td>\n",
       "      <td>84.5</td>\n",
       "      <td>69.9</td>\n",
       "      <td>87.1</td>\n",
       "      <td>...</td>\n",
       "      <td>45.0</td>\n",
       "      <td>44.4</td>\n",
       "      <td>83.7</td>\n",
       "      <td>51.0</td>\n",
       "      <td>32.3</td>\n",
       "      <td>88.0</td>\n",
       "      <td>64.1</td>\n",
       "      <td>46.8</td>\n",
       "      <td>38.7</td>\n",
       "      <td>62.9</td>\n",
       "    </tr>\n",
       "    <tr>\n",
       "      <th>polio3</th>\n",
       "      <td>36.4</td>\n",
       "      <td>35.5</td>\n",
       "      <td>55.7</td>\n",
       "      <td>56.8</td>\n",
       "      <td>39.8</td>\n",
       "      <td>50.4</td>\n",
       "      <td>32.0</td>\n",
       "      <td>56.4</td>\n",
       "      <td>41.0</td>\n",
       "      <td>66.9</td>\n",
       "      <td>...</td>\n",
       "      <td>24.4</td>\n",
       "      <td>27.5</td>\n",
       "      <td>78.9</td>\n",
       "      <td>26.5</td>\n",
       "      <td>13.0</td>\n",
       "      <td>58.9</td>\n",
       "      <td>39.5</td>\n",
       "      <td>26.6</td>\n",
       "      <td>21.3</td>\n",
       "      <td>37.1</td>\n",
       "    </tr>\n",
       "    <tr>\n",
       "      <th>yf</th>\n",
       "      <td>42.4</td>\n",
       "      <td>41.4</td>\n",
       "      <td>60.7</td>\n",
       "      <td>48.6</td>\n",
       "      <td>49.2</td>\n",
       "      <td>76.1</td>\n",
       "      <td>29.2</td>\n",
       "      <td>63.5</td>\n",
       "      <td>41.5</td>\n",
       "      <td>77.8</td>\n",
       "      <td>...</td>\n",
       "      <td>23.5</td>\n",
       "      <td>23.2</td>\n",
       "      <td>73.6</td>\n",
       "      <td>40.4</td>\n",
       "      <td>9.4</td>\n",
       "      <td>68.2</td>\n",
       "      <td>42.2</td>\n",
       "      <td>32.0</td>\n",
       "      <td>21.3</td>\n",
       "      <td>35.1</td>\n",
       "    </tr>\n",
       "  </tbody>\n",
       "</table>\n",
       "<p>11 rows × 26 columns</p>\n",
       "</div>"
      ],
      "text/plain": [
       "region   Bas Uele  Equateur  Haut Katanga  Haut Lomami  Haut Uele  Ituri  \\\n",
       "Vaccine                                                                    \n",
       "bcg          68.2      55.9          83.6         65.0       72.9   85.9   \n",
       "ipv          17.6       9.2          20.4         20.6        7.8   16.7   \n",
       "mcv          46.2      40.8          63.2         49.5       48.3   74.6   \n",
       "pcv1         52.7      50.7          69.7         57.3       68.1   81.6   \n",
       "pcv3         26.0      32.9          50.7         39.5       31.0   53.9   \n",
       "penta1       60.3      54.6          71.9         56.8       74.1   85.0   \n",
       "penta3       30.5      34.2          52.3         43.6       34.5   55.7   \n",
       "polio0       53.8      46.1          78.0         59.5       66.9   79.4   \n",
       "polio1       71.2      59.9          75.1         73.6       75.4   83.7   \n",
       "polio3       36.4      35.5          55.7         56.8       39.8   50.4   \n",
       "yf           42.4      41.4          60.7         48.6       49.2   76.1   \n",
       "\n",
       "region   Kasai  Kasai Central  Kasai Oriental  Kinshasa  ...  Maniema  \\\n",
       "Vaccine                                                  ...            \n",
       "bcg       56.2           81.2            74.3      92.1  ...     37.7   \n",
       "ipv       16.2           22.2            25.3      31.1  ...      1.3   \n",
       "mcv       33.1           66.3            43.2      81.0  ...     27.8   \n",
       "pcv1      34.8           77.9            61.2      86.4  ...     26.9   \n",
       "pcv3      24.2           51.9            42.6      68.8  ...      9.4   \n",
       "penta1    41.6           80.1            63.9      85.2  ...     29.6   \n",
       "penta3    27.0           56.4            43.7      69.7  ...     11.9   \n",
       "polio0    43.3           77.3            70.5      90.4  ...     34.4   \n",
       "polio1    61.2           84.5            69.9      87.1  ...     45.0   \n",
       "polio3    32.0           56.4            41.0      66.9  ...     24.4   \n",
       "yf        29.2           63.5            41.5      77.8  ...     23.5   \n",
       "\n",
       "region   Mongala  Nord Kivu  Nord Ubangi  Sankuru  Sud Kivu  Sud Ubangi  \\\n",
       "Vaccine                                                                   \n",
       "bcg         37.7       85.1         55.0     19.8      89.1        65.3   \n",
       "ipv          5.7       32.1         17.2      1.6      11.8        21.4   \n",
       "mcv         23.4       73.0         40.4      7.8      68.2        42.2   \n",
       "pcv1        22.7       82.2         31.1     14.1      79.5        48.8   \n",
       "pcv3        12.1       80.1         19.2      4.2      60.0        32.3   \n",
       "penta1      22.7       84.2         37.7     18.2      83.2        53.0   \n",
       "penta3      13.5       81.5         21.2      5.2      61.6        32.3   \n",
       "polio0      28.0       83.0         46.4     14.1      84.4        63.5   \n",
       "polio1      44.4       83.7         51.0     32.3      88.0        64.1   \n",
       "polio3      27.5       78.9         26.5     13.0      58.9        39.5   \n",
       "yf          23.2       73.6         40.4      9.4      68.2        42.2   \n",
       "\n",
       "region   Tanganyika  Tshopo  Tshuapa  \n",
       "Vaccine                               \n",
       "bcg            45.6    30.3     57.3  \n",
       "ipv             8.9     5.2      0.0  \n",
       "mcv            33.1    21.3     36.3  \n",
       "pcv1           33.1    22.6     36.7  \n",
       "pcv3           18.5    13.5     19.5  \n",
       "penta1         33.6    24.7     38.0  \n",
       "penta3         19.2    14.3     19.9  \n",
       "polio0         38.7    27.7     43.5  \n",
       "polio1         46.8    38.7     62.9  \n",
       "polio3         26.6    21.3     37.1  \n",
       "yf             32.0    21.3     35.1  \n",
       "\n",
       "[11 rows x 26 columns]"
      ]
     },
     "execution_count": 183,
     "metadata": {},
     "output_type": "execute_result"
    }
   ],
   "source": [
    "# Create an empty list to store the results\n",
    "results2 = []\n",
    "\n",
    "# Loop through each vaccine and child_region\n",
    "for vaccine in vaccines1:\n",
    "    for region in regions:\n",
    "        coverage = calculate_vaccination_coverage_region(df, region, vaccine)\n",
    "        results2.append({'Vaccine': vaccine, 'region': region, 'Coverage': coverage})\n",
    "\n",
    "# Convert the list of dictionaries into a DataFrame\n",
    "results2_df = pd.DataFrame(results2)\n",
    "#results_df['Coverage'] = results_df['Coverage'].round(2)\n",
    "# Display the results as a table\n",
    "pivot_table2 = results2_df.pivot_table(index='Vaccine', columns='region', values='Coverage')\n",
    "pivot_table2\n",
    "#pivot_table2.to_excel('/path/to/directory/pivot_table2_sorted.xlsx')\n",
    "#pivot_table2.to_excel('Vaccinebyregion.xlsx', index=False)"
   ]
  },
  {
   "cell_type": "code",
   "execution_count": 184,
   "metadata": {},
   "outputs": [],
   "source": [
    "pivot_table2.to_clipboard(index=True, header=True)"
   ]
  },
  {
   "cell_type": "markdown",
   "metadata": {},
   "source": [
    "# retention rate"
   ]
  },
  {
   "cell_type": "code",
   "execution_count": 185,
   "metadata": {},
   "outputs": [],
   "source": [
    "def calculate_retention_rate(df, group_col, dose1_col, dose2_col):\n",
    "    \"\"\"\n",
    "    Calculate retention rate from dose2 to dose1 for each group.\n",
    "    \n",
    "    Parameters:\n",
    "    df (pandas.DataFrame): Input DataFrame containing vaccination data.\n",
    "    group_col (str): Column name for the grouping variable.\n",
    "    dose1_col (str): Column name representing the first dose.\n",
    "    dose2_col (str): Column name representing the second dose.\n",
    "    \n",
    "    Returns:\n",
    "    pandas.DataFrame: DataFrame with retention rates calculated and added as a new column.\n",
    "    \"\"\"\n",
    "    # Group by the specified column and aggregate sum of dose1 and dose2\n",
    "    df1 = df.groupby([group_col]).agg(\n",
    "        sum_dose1=(dose1_col, 'sum'),\n",
    "        sum_dose2=(dose2_col, 'sum')\n",
    "    ).reset_index()\n",
    "    \n",
    "    # Calculate retention rate\n",
    "    df1['retention_rate'] = ((1 - ((df1['sum_dose1'] - df1['sum_dose2']) / df1['sum_dose1'])) * 100)\n",
    "    pivot_table2 = df1.pivot_table(columns=group_col, values='retention_rate')\n",
    "    return pivot_table2\n",
    "  "
   ]
  },
  {
   "cell_type": "code",
   "execution_count": 186,
   "metadata": {},
   "outputs": [],
   "source": [
    " filtered_df = df[(df['UB2']==1)]"
   ]
  },
  {
   "cell_type": "code",
   "execution_count": 187,
   "metadata": {},
   "outputs": [],
   "source": [
    "# Call the calculate_retention_rate function\n",
    "result_df = calculate_retention_rate(filtered_df, 'region', 'penta1_sampled', 'penta3_sampled')\n",
    "\n",
    "# Copy the result to the clipboard\n",
    "result_df.to_clipboard(index=True, header=True)\n"
   ]
  },
  {
   "cell_type": "code",
   "execution_count": 188,
   "metadata": {},
   "outputs": [],
   "source": [
    "# Call the calculate_retention_rate function\n",
    "result_df = calculate_retention_rate(filtered_df, 'region', 'polio1_sampled', 'polio3_sampled')\n",
    "\n",
    "# Copy the result to the clipboard\n",
    "result_df.to_clipboard(index=True, header=True)\n"
   ]
  },
  {
   "cell_type": "code",
   "execution_count": 189,
   "metadata": {},
   "outputs": [
    {
     "data": {
      "text/html": [
       "<div>\n",
       "<style scoped>\n",
       "    .dataframe tbody tr th:only-of-type {\n",
       "        vertical-align: middle;\n",
       "    }\n",
       "\n",
       "    .dataframe tbody tr th {\n",
       "        vertical-align: top;\n",
       "    }\n",
       "\n",
       "    .dataframe thead th {\n",
       "        text-align: right;\n",
       "    }\n",
       "</style>\n",
       "<table border=\"1\" class=\"dataframe\">\n",
       "  <thead>\n",
       "    <tr style=\"text-align: right;\">\n",
       "      <th>residence</th>\n",
       "      <th>RURAL</th>\n",
       "      <th>URBAIN</th>\n",
       "    </tr>\n",
       "  </thead>\n",
       "  <tbody>\n",
       "    <tr>\n",
       "      <th>retention_rate</th>\n",
       "      <td>68.358132</td>\n",
       "      <td>74.947694</td>\n",
       "    </tr>\n",
       "  </tbody>\n",
       "</table>\n",
       "</div>"
      ],
      "text/plain": [
       "residence           RURAL     URBAIN\n",
       "retention_rate  68.358132  74.947694"
      ]
     },
     "execution_count": 189,
     "metadata": {},
     "output_type": "execute_result"
    }
   ],
   "source": [
    "calculate_retention_rate(filtered_df, 'residence', 'penta1_sampled', 'penta3_sampled')"
   ]
  },
  {
   "cell_type": "code",
   "execution_count": 190,
   "metadata": {},
   "outputs": [
    {
     "data": {
      "text/html": [
       "<div>\n",
       "<style scoped>\n",
       "    .dataframe tbody tr th:only-of-type {\n",
       "        vertical-align: middle;\n",
       "    }\n",
       "\n",
       "    .dataframe tbody tr th {\n",
       "        vertical-align: top;\n",
       "    }\n",
       "\n",
       "    .dataframe thead th {\n",
       "        text-align: right;\n",
       "    }\n",
       "</style>\n",
       "<table border=\"1\" class=\"dataframe\">\n",
       "  <thead>\n",
       "    <tr style=\"text-align: right;\">\n",
       "      <th>residence</th>\n",
       "      <th>RURAL</th>\n",
       "      <th>URBAIN</th>\n",
       "    </tr>\n",
       "  </thead>\n",
       "  <tbody>\n",
       "    <tr>\n",
       "      <th>retention_rate</th>\n",
       "      <td>62.402506</td>\n",
       "      <td>70.540995</td>\n",
       "    </tr>\n",
       "  </tbody>\n",
       "</table>\n",
       "</div>"
      ],
      "text/plain": [
       "residence           RURAL     URBAIN\n",
       "retention_rate  62.402506  70.540995"
      ]
     },
     "execution_count": 190,
     "metadata": {},
     "output_type": "execute_result"
    }
   ],
   "source": [
    "# Call the calculate_retention_rate function\n",
    "calculate_retention_rate(filtered_df, 'residence', 'polio1_sampled', 'polio3_sampled')"
   ]
  },
  {
   "cell_type": "code",
   "execution_count": 191,
   "metadata": {},
   "outputs": [
    {
     "data": {
      "text/html": [
       "<div>\n",
       "<style scoped>\n",
       "    .dataframe tbody tr th:only-of-type {\n",
       "        vertical-align: middle;\n",
       "    }\n",
       "\n",
       "    .dataframe tbody tr th {\n",
       "        vertical-align: top;\n",
       "    }\n",
       "\n",
       "    .dataframe thead th {\n",
       "        text-align: right;\n",
       "    }\n",
       "</style>\n",
       "<table border=\"1\" class=\"dataframe\">\n",
       "  <thead>\n",
       "    <tr style=\"text-align: right;\">\n",
       "      <th>gender</th>\n",
       "      <th>FEM</th>\n",
       "      <th>MASC</th>\n",
       "    </tr>\n",
       "  </thead>\n",
       "  <tbody>\n",
       "    <tr>\n",
       "      <th>retention_rate</th>\n",
       "      <td>68.981816</td>\n",
       "      <td>73.71197</td>\n",
       "    </tr>\n",
       "  </tbody>\n",
       "</table>\n",
       "</div>"
      ],
      "text/plain": [
       "gender                FEM      MASC\n",
       "retention_rate  68.981816  73.71197"
      ]
     },
     "execution_count": 191,
     "metadata": {},
     "output_type": "execute_result"
    }
   ],
   "source": [
    "calculate_retention_rate(filtered_df, 'gender', 'penta1_sampled', 'penta3_sampled')"
   ]
  },
  {
   "cell_type": "code",
   "execution_count": 192,
   "metadata": {},
   "outputs": [
    {
     "data": {
      "text/html": [
       "<div>\n",
       "<style scoped>\n",
       "    .dataframe tbody tr th:only-of-type {\n",
       "        vertical-align: middle;\n",
       "    }\n",
       "\n",
       "    .dataframe tbody tr th {\n",
       "        vertical-align: top;\n",
       "    }\n",
       "\n",
       "    .dataframe thead th {\n",
       "        text-align: right;\n",
       "    }\n",
       "</style>\n",
       "<table border=\"1\" class=\"dataframe\">\n",
       "  <thead>\n",
       "    <tr style=\"text-align: right;\">\n",
       "      <th>gender</th>\n",
       "      <th>FEM</th>\n",
       "      <th>MASC</th>\n",
       "    </tr>\n",
       "  </thead>\n",
       "  <tbody>\n",
       "    <tr>\n",
       "      <th>retention_rate</th>\n",
       "      <td>65.564219</td>\n",
       "      <td>66.281813</td>\n",
       "    </tr>\n",
       "  </tbody>\n",
       "</table>\n",
       "</div>"
      ],
      "text/plain": [
       "gender                FEM       MASC\n",
       "retention_rate  65.564219  66.281813"
      ]
     },
     "execution_count": 192,
     "metadata": {},
     "output_type": "execute_result"
    }
   ],
   "source": [
    "calculate_retention_rate(filtered_df, 'gender', 'polio1_sampled', 'polio3_sampled')"
   ]
  },
  {
   "cell_type": "markdown",
   "metadata": {},
   "source": [
    "# National retention Rate"
   ]
  },
  {
   "cell_type": "code",
   "execution_count": 241,
   "metadata": {},
   "outputs": [
    {
     "data": {
      "text/plain": [
       "62.82682834406972"
      ]
     },
     "execution_count": 241,
     "metadata": {},
     "output_type": "execute_result"
    }
   ],
   "source": [
    "polio_retention_rate = ((1 - ((filtered_df['polio1'].sum() - filtered_df['polio3'].sum()) / filtered_df['polio1'].sum())) * 100)\n",
    "polio_retention_rate"
   ]
  },
  {
   "cell_type": "code",
   "execution_count": 242,
   "metadata": {},
   "outputs": [
    {
     "data": {
      "text/plain": [
       "65.84821428571428"
      ]
     },
     "execution_count": 242,
     "metadata": {},
     "output_type": "execute_result"
    }
   ],
   "source": [
    "penta_retention_rate = ((1 - ((filtered_df['penta1'].sum() - filtered_df['penta3'].sum()) / filtered_df['penta1'].sum())) * 100)\n",
    "penta_retention_rate"
   ]
  },
  {
   "cell_type": "markdown",
   "metadata": {},
   "source": [
    "# Fully Vaccinated"
   ]
  },
  {
   "cell_type": "code",
   "execution_count": 238,
   "metadata": {},
   "outputs": [],
   "source": [
    "# Filter out rows with null values in relevant columns\n",
    "filtered_df = filtered_df.dropna(subset=['bcg', 'polio3', 'mcv', 'penta3'])"
   ]
  },
  {
   "cell_type": "code",
   "execution_count": 239,
   "metadata": {},
   "outputs": [],
   "source": [
    "def calculate_percentage_fully_vaccinated(df):\n",
    " # Filter the DataFrame to get fully vaccinated children\n",
    "    fully_vaccinated = df[(df['bcg'] == 1) & \n",
    "                          (df['polio3'] == 1) & \n",
    "                          (df['mcv'] == 1) & \n",
    "                          (df['penta3'] == 1)]\n",
    "    \n",
    "    # Calculate the number of fully vaccinated kids\n",
    "    num_fully_vaccinated = len(fully_vaccinated)\n",
    "    \n",
    "    # Calculate the total number of kids\n",
    "    total_kids = len(df)\n",
    "    \n",
    "    # Calculate the percentage of fully vaccinated kids\n",
    "    percentage_fully_vaccinated = (num_fully_vaccinated / total_kids) * 100\n",
    "    \n",
    "    return percentage_fully_vaccinated"
   ]
  },
  {
   "cell_type": "code",
   "execution_count": 240,
   "metadata": {},
   "outputs": [
    {
     "data": {
      "text/plain": [
       "27.5615763546798"
      ]
     },
     "execution_count": 240,
     "metadata": {},
     "output_type": "execute_result"
    }
   ],
   "source": [
    "calculate_percentage_fully_vaccinated(filtered_df)"
   ]
  },
  {
   "cell_type": "markdown",
   "metadata": {},
   "source": [
    "# Zero dose Childern"
   ]
  },
  {
   "cell_type": "code",
   "execution_count": 200,
   "metadata": {},
   "outputs": [],
   "source": [
    "def calculate_zero_dose_percentage_by_group(df, vaccine_column, group_column):\n",
    "    # Group the DataFrame by group and count the total number of children in each group\n",
    "    total_children_by_group = df.groupby(group_column).size()\n",
    "\n",
    "    # Group the DataFrame by group and count the number of zero-dose children in each group\n",
    "    zero_dose_children_by_group = df[df[vaccine_column] == 0].groupby(group_column).size()\n",
    "\n",
    "    # Calculate the percentage of zero-dose children for each group\n",
    "    zero_dose_percentage_by_group = round((zero_dose_children_by_group / total_children_by_group) * 100,1)\n",
    "\n",
    "    return zero_dose_percentage_by_group"
   ]
  },
  {
   "cell_type": "code",
   "execution_count": 234,
   "metadata": {},
   "outputs": [],
   "source": [
    "def calculate_zero_dose_proportion(df, vaccine_column):\n",
    "    # Count the number of children who never received the Penta vaccination\n",
    "    zero_dose_children = df[df[vaccine_column] == 0][vaccine_column].count()\n",
    "\n",
    "    # Count the total number of children in the dataset\n",
    "    total_children = df['penta1'].count()\n",
    "    #total_children=len(df)\n",
    "\n",
    "    # Calculate the proportion of zero dose children\n",
    "    proportion_zero_dose = (zero_dose_children / total_children) * 100\n",
    "\n",
    "    return proportion_zero_dose"
   ]
  },
  {
   "cell_type": "code",
   "execution_count": 235,
   "metadata": {},
   "outputs": [
    {
     "name": "stdout",
     "output_type": "stream",
     "text": [
      "Proportion of zero dose children: 44.77%\n"
     ]
    }
   ],
   "source": [
    "zero_dose_proportion = calculate_zero_dose_proportion(filtered_df, 'penta1')\n",
    "print(f\"Proportion of zero dose children: {zero_dose_proportion:.2f}%\")"
   ]
  },
  {
   "cell_type": "code",
   "execution_count": 212,
   "metadata": {},
   "outputs": [
    {
     "name": "stdout",
     "output_type": "stream",
     "text": [
      "region\n",
      "Bas Uele          37.1\n",
      "Equateur          42.9\n",
      "Haut Katanga      27.5\n",
      "Haut Lomami       42.4\n",
      "Haut Uele         25.0\n",
      "Ituri             13.7\n",
      "Kasai             58.4\n",
      "Kasai Central     19.8\n",
      "Kasai Oriental    36.1\n",
      "Kinshasa          13.8\n",
      "Kongo Central     25.2\n",
      "Kwango            49.4\n",
      "Kwilu             30.2\n",
      "Lomami            37.5\n",
      "Lualaba           46.8\n",
      "Maindombe         46.0\n",
      "Maniema           67.9\n",
      "Mongala           73.6\n",
      "Nord Kivu         14.0\n",
      "Nord Ubangi       61.4\n",
      "Sankuru           81.3\n",
      "Sud Kivu          16.5\n",
      "Sud Ubangi        41.4\n",
      "Tanganyika        66.4\n",
      "Tshopo            72.5\n",
      "Tshuapa           60.2\n",
      "dtype: float64\n"
     ]
    }
   ],
   "source": [
    "zero_dose_percentage_by_group = calculate_zero_dose_percentage_by_group(filtered_df, 'penta1', 'region')\n",
    "\n",
    "print(zero_dose_percentage_by_group)"
   ]
  },
  {
   "cell_type": "code",
   "execution_count": null,
   "metadata": {},
   "outputs": [],
   "source": []
  }
 ],
 "metadata": {
  "kernelspec": {
   "display_name": "Python 3",
   "language": "python",
   "name": "python3"
  },
  "language_info": {
   "codemirror_mode": {
    "name": "ipython",
    "version": 3
   },
   "file_extension": ".py",
   "mimetype": "text/x-python",
   "name": "python",
   "nbconvert_exporter": "python",
   "pygments_lexer": "ipython3",
   "version": "3.8.5"
  }
 },
 "nbformat": 4,
 "nbformat_minor": 4
}
