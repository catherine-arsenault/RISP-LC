{
 "cells": [
  {
   "cell_type": "markdown",
   "metadata": {},
   "source": [
    "# Somalia HDS 2020"
   ]
  },
  {
   "cell_type": "markdown",
   "metadata": {},
   "source": [
    "#### RESPONSE RATE\n",
    "###### A total of 16,360 households were selected for the sample, of which 15,870 were occupied. Of the occupied households, 15,826 were successfully interviewed, yielding a response rate of 99.7 percent. The SHDS 2020 interviewed 16,486 women-11,876 ever-married women and 4,610 never-married women.\n",
    "#### WEIGHTING\n",
    "###### Design weights and sampling (survey) weights were computed for every household and ever-married women and never-married women selected to participate in the SHDS 2020. A design weight is the inverse of probability of selecting a housing unit to be interviewed. The sampling weight of a household is the design weight corrected for non-response including other adjustments where necessary."
   ]
  },
  {
   "cell_type": "code",
   "execution_count": 1,
   "metadata": {},
   "outputs": [
    {
     "name": "stderr",
     "output_type": "stream",
     "text": [
      "C:\\Users\\swalke\\Anaconda3\\lib\\site-packages\\pandas\\core\\computation\\expressions.py:20: UserWarning: Pandas requires version '2.7.3' or newer of 'numexpr' (version '2.7.1' currently installed).\n",
      "  from pandas.core.computation.check import NUMEXPR_INSTALLED\n"
     ]
    }
   ],
   "source": [
    "#import required packages\n",
    "import pyreadstat\n",
    "import warnings\n",
    "warnings.filterwarnings(\"ignore\")\n",
    "from googletrans import Translator\n",
    "import matplotlib.pyplot as plt\n",
    "import plotly.express as px\n",
    "import numpy as np\n",
    "import pandas as pd"
   ]
  },
  {
   "cell_type": "code",
   "execution_count": 2,
   "metadata": {},
   "outputs": [],
   "source": [
    "def replace_values_in_columns(df, columns_range):\n",
    "    \"\"\"\n",
    "    Replace specified values in the specified columns of a DataFrame.\n",
    "\n",
    "    Parameters:\n",
    "        df (pandas.DataFrame): The DataFrame in which values need to be replaced.\n",
    "        columns_range (list): A list of column names or column labels in which values should be replaced.\n",
    "\n",
    "    Returns:\n",
    "        pandas.DataFrame: The DataFrame with specified values replaced in the specified columns.\n",
    "    \"\"\"\n",
    "    # Define the replacement dictionary\n",
    "    replacement_dict = {1: True, 2: True, 3: True, 0: False, 8: np.nan}\n",
    "\n",
    "    # Replace values in the specified columns, handling NaN values\n",
    "    df[columns_range] = df[columns_range].replace(replacement_dict)\n",
    "\n",
    "    return df"
   ]
  },
  {
   "cell_type": "code",
   "execution_count": 46,
   "metadata": {},
   "outputs": [],
   "source": [
    "def calculate_vaccination_coverage(df, min_age, max_age, vaccine_column):\n",
    "    # Filter rows where Child_age is between min_age and max_age\n",
    "    filtered_df = df[(df['Child_Age'] >= min_age) & (df['Child_Age'] <= max_age)]\n",
    "\n",
    "    # Calculate the percentage of children vaccinated with the specified vaccine\n",
    "    total_children = filtered_df[vaccine_column].count()  # Count non-null values\n",
    "    #filtered_df_len=len(filtered_df)\n",
    "    #percentage_vaccinated = (filtered_df[vaccine_column].sum() / filtered_df_len) * 100\n",
    "    percentage_vaccinated = round((filtered_df[vaccine_column].sum() /  total_children) * 100,1)\n",
    "    print(\"{} Vaccination Coverage for children between {} to {} months using KR dataset: {:.2f}%\".format(vaccine_column, min_age, max_age, percentage_vaccinated))\n",
    "    return percentage_vaccinated\n",
    "\n",
    "\n",
    "# Example usage:\n",
    "# calculate_vaccination_coverage(dfKR, 12, 23, 'BCG')\n"
   ]
  },
  {
   "cell_type": "code",
   "execution_count": 51,
   "metadata": {},
   "outputs": [],
   "source": [
    "def calculate_vaccination_coverage_gender(df, min_age, max_age, gender, vaccine_column):\n",
    "    # Filter rows where Child_age is between min_age and max_age and gender matches\n",
    "    filtered_df = df[(df['Child_Age'] >= min_age) & \n",
    "                     (df['Child_Age'] <= max_age) &\n",
    "                     (df['Gender'] == gender)]\n",
    "\n",
    "    # Calculate the percentage of children vaccinated with the specified vaccine\n",
    "    total_children = filtered_df[vaccine_column].count()  # Count non-null values in the vaccine_column\n",
    "    if total_children == 0:\n",
    "        print(\"No children found for the specified age range and gender.\")\n",
    "        return 0\n",
    "    percentage_vaccinated = round((filtered_df[vaccine_column].sum() / total_children) * 100,1)\n",
    "    #print(\"{} Vaccination Coverage for {} children between {} to {} months using KR dataset: {:.2f}%\".format(vaccine_column, gender, min_age, max_age, percentage_vaccinated))\n",
    "    return percentage_vaccinated\n"
   ]
  },
  {
   "cell_type": "code",
   "execution_count": 48,
   "metadata": {},
   "outputs": [],
   "source": [
    "def calculate_vaccination_coverage_region(df, min_age, max_age, region, vaccine_column):\n",
    "    # Filter rows where Child_age is between min_age and max_age and region matches\n",
    "    filtered_df = df[(df['Child_Age'] >= min_age) & \n",
    "                     (df['Child_Age'] <= max_age) &\n",
    "                     (df['Region'] == region)]\n",
    "\n",
    "    # Calculate the percentage of children vaccinated with the specified vaccine\n",
    "    total_children = filtered_df[vaccine_column].count()  # Count non-null values in the vaccine_column\n",
    "    if total_children == 0:\n",
    "        print(\"No children found for the specified age range and region: {}.\".format(region))\n",
    "        return 0\n",
    "    percentage_vaccinated = round((filtered_df[vaccine_column].sum() / total_children) * 100,1)\n",
    "    #print(\"{} Vaccination Coverage for children in {} between {} to {} months using dataset: {:.2f}%\".format(vaccine_column, region, min_age, max_age, percentage_vaccinated))\n",
    "    return percentage_vaccinated\n"
   ]
  },
  {
   "cell_type": "code",
   "execution_count": 110,
   "metadata": {},
   "outputs": [],
   "source": [
    "# Function to calculate vaccination coverage for each rsidence i.e urban/rural between specific age group\n",
    "def calculate_vaccination_coverage_residence(df, min_age, max_age, residence, vaccine_column):\n",
    "    # Filter rows where child_age is between min_age and max_age and region matches\n",
    "    filtered_df = df[(df['Child_Age'] >= min_age) & \n",
    "                     (df['Child_Age'] <= max_age) &\n",
    "                     (df['Residence'] == residence)]\n",
    "\n",
    "    # Calculate the percentage of children vaccinated with the specified vaccine\n",
    "    total_children = filtered_df[vaccine_column].count()  # Count non-null values in the vaccine_column\n",
    "    if total_children == 0:\n",
    "        print(\"No children found for the specified age range and region: {}.\".format(residence))\n",
    "        return 0\n",
    "    percentage_vaccinated = (filtered_df[vaccine_column].sum() / total_children) * 100\n",
    "    #print(\"{} Vaccination Coverage for children in {} between {} to {} months using dataset: {:.2f}%\".format(vaccine_column, residence, min_age, max_age, percentage_vaccinated))\n",
    "    return percentage_vaccinated"
   ]
  },
  {
   "cell_type": "code",
   "execution_count": 6,
   "metadata": {},
   "outputs": [],
   "source": [
    "# Reading data into pandas dataframe\n",
    "df, meta = pyreadstat.read_sav(\"C:/Users/swalke/Desktop/RISP/HDS 2020 Somalia/SOIR71SV_3.sav\")"
   ]
  },
  {
   "cell_type": "code",
   "execution_count": null,
   "metadata": {},
   "outputs": [],
   "source": [
    "df.shape"
   ]
  },
  {
   "cell_type": "code",
   "execution_count": null,
   "metadata": {},
   "outputs": [],
   "source": [
    "df.head()"
   ]
  },
  {
   "cell_type": "markdown",
   "metadata": {},
   "source": [
    "## Vaccination Coverage with KR dataset"
   ]
  },
  {
   "cell_type": "code",
   "execution_count": 94,
   "metadata": {},
   "outputs": [],
   "source": [
    "# Reading data into pandas dataframe\n",
    "dfKR, meta = pyreadstat.read_sav(\"C:/Users/swalke/Desktop/RISP/HDS 2020 Somalia/SOKR71SV_4.sav\")"
   ]
  },
  {
   "cell_type": "code",
   "execution_count": 8,
   "metadata": {},
   "outputs": [
    {
     "data": {
      "text/plain": [
       "(21218, 559)"
      ]
     },
     "execution_count": 8,
     "metadata": {},
     "output_type": "execute_result"
    }
   ],
   "source": [
    "dfKR.shape"
   ]
  },
  {
   "cell_type": "code",
   "execution_count": 9,
   "metadata": {},
   "outputs": [
    {
     "data": {
      "text/html": [
       "<div>\n",
       "<style scoped>\n",
       "    .dataframe tbody tr th:only-of-type {\n",
       "        vertical-align: middle;\n",
       "    }\n",
       "\n",
       "    .dataframe tbody tr th {\n",
       "        vertical-align: top;\n",
       "    }\n",
       "\n",
       "    .dataframe thead th {\n",
       "        text-align: right;\n",
       "    }\n",
       "</style>\n",
       "<table border=\"1\" class=\"dataframe\">\n",
       "  <thead>\n",
       "    <tr style=\"text-align: right;\">\n",
       "      <th></th>\n",
       "      <th>id</th>\n",
       "      <th>CASEID</th>\n",
       "      <th>ACTUAL_EA_CODE</th>\n",
       "      <th>VHHID</th>\n",
       "      <th>V000</th>\n",
       "      <th>V001</th>\n",
       "      <th>V002</th>\n",
       "      <th>V003</th>\n",
       "      <th>V005</th>\n",
       "      <th>V006</th>\n",
       "      <th>...</th>\n",
       "      <th>H46B</th>\n",
       "      <th>H47</th>\n",
       "      <th>G109</th>\n",
       "      <th>G109A</th>\n",
       "      <th>G112</th>\n",
       "      <th>G113</th>\n",
       "      <th>G113A</th>\n",
       "      <th>G114</th>\n",
       "      <th>M1G</th>\n",
       "      <th>NORMWT_MS7</th>\n",
       "    </tr>\n",
       "  </thead>\n",
       "  <tbody>\n",
       "    <tr>\n",
       "      <th>0</th>\n",
       "      <td>1.0</td>\n",
       "      <td>1002.0</td>\n",
       "      <td>1.101001e+11</td>\n",
       "      <td>10.0</td>\n",
       "      <td>SO7</td>\n",
       "      <td>8.0</td>\n",
       "      <td>51.0</td>\n",
       "      <td>2.0</td>\n",
       "      <td>0.557683</td>\n",
       "      <td>8.0</td>\n",
       "      <td>...</td>\n",
       "      <td>NaN</td>\n",
       "      <td>NaN</td>\n",
       "      <td>NaN</td>\n",
       "      <td>NaN</td>\n",
       "      <td>NaN</td>\n",
       "      <td>NaN</td>\n",
       "      <td>NaN</td>\n",
       "      <td>NaN</td>\n",
       "      <td>1.0</td>\n",
       "      <td>0.557683</td>\n",
       "    </tr>\n",
       "    <tr>\n",
       "      <th>1</th>\n",
       "      <td>2.0</td>\n",
       "      <td>2202.0</td>\n",
       "      <td>1.101001e+11</td>\n",
       "      <td>22.0</td>\n",
       "      <td>SO7</td>\n",
       "      <td>8.0</td>\n",
       "      <td>68.0</td>\n",
       "      <td>2.0</td>\n",
       "      <td>0.557683</td>\n",
       "      <td>8.0</td>\n",
       "      <td>...</td>\n",
       "      <td>NaN</td>\n",
       "      <td>NaN</td>\n",
       "      <td>1.0</td>\n",
       "      <td>2.0</td>\n",
       "      <td>NaN</td>\n",
       "      <td>NaN</td>\n",
       "      <td>NaN</td>\n",
       "      <td>NaN</td>\n",
       "      <td>1.0</td>\n",
       "      <td>0.557683</td>\n",
       "    </tr>\n",
       "    <tr>\n",
       "      <th>2</th>\n",
       "      <td>3.0</td>\n",
       "      <td>2202.0</td>\n",
       "      <td>1.101001e+11</td>\n",
       "      <td>22.0</td>\n",
       "      <td>SO7</td>\n",
       "      <td>8.0</td>\n",
       "      <td>68.0</td>\n",
       "      <td>2.0</td>\n",
       "      <td>0.557683</td>\n",
       "      <td>8.0</td>\n",
       "      <td>...</td>\n",
       "      <td>NaN</td>\n",
       "      <td>NaN</td>\n",
       "      <td>NaN</td>\n",
       "      <td>NaN</td>\n",
       "      <td>NaN</td>\n",
       "      <td>NaN</td>\n",
       "      <td>NaN</td>\n",
       "      <td>NaN</td>\n",
       "      <td>2.0</td>\n",
       "      <td>0.557683</td>\n",
       "    </tr>\n",
       "    <tr>\n",
       "      <th>3</th>\n",
       "      <td>4.0</td>\n",
       "      <td>2202.0</td>\n",
       "      <td>1.101001e+11</td>\n",
       "      <td>22.0</td>\n",
       "      <td>SO7</td>\n",
       "      <td>8.0</td>\n",
       "      <td>68.0</td>\n",
       "      <td>2.0</td>\n",
       "      <td>0.557683</td>\n",
       "      <td>8.0</td>\n",
       "      <td>...</td>\n",
       "      <td>NaN</td>\n",
       "      <td>NaN</td>\n",
       "      <td>NaN</td>\n",
       "      <td>NaN</td>\n",
       "      <td>NaN</td>\n",
       "      <td>NaN</td>\n",
       "      <td>NaN</td>\n",
       "      <td>NaN</td>\n",
       "      <td>3.0</td>\n",
       "      <td>0.557683</td>\n",
       "    </tr>\n",
       "    <tr>\n",
       "      <th>4</th>\n",
       "      <td>5.0</td>\n",
       "      <td>2202.0</td>\n",
       "      <td>1.101001e+11</td>\n",
       "      <td>22.0</td>\n",
       "      <td>SO7</td>\n",
       "      <td>8.0</td>\n",
       "      <td>68.0</td>\n",
       "      <td>2.0</td>\n",
       "      <td>0.557683</td>\n",
       "      <td>8.0</td>\n",
       "      <td>...</td>\n",
       "      <td>NaN</td>\n",
       "      <td>NaN</td>\n",
       "      <td>NaN</td>\n",
       "      <td>NaN</td>\n",
       "      <td>NaN</td>\n",
       "      <td>NaN</td>\n",
       "      <td>NaN</td>\n",
       "      <td>NaN</td>\n",
       "      <td>4.0</td>\n",
       "      <td>0.557683</td>\n",
       "    </tr>\n",
       "  </tbody>\n",
       "</table>\n",
       "<p>5 rows × 559 columns</p>\n",
       "</div>"
      ],
      "text/plain": [
       "    id  CASEID  ACTUAL_EA_CODE  VHHID V000  V001  V002  V003      V005  V006  \\\n",
       "0  1.0  1002.0    1.101001e+11   10.0  SO7   8.0  51.0   2.0  0.557683   8.0   \n",
       "1  2.0  2202.0    1.101001e+11   22.0  SO7   8.0  68.0   2.0  0.557683   8.0   \n",
       "2  3.0  2202.0    1.101001e+11   22.0  SO7   8.0  68.0   2.0  0.557683   8.0   \n",
       "3  4.0  2202.0    1.101001e+11   22.0  SO7   8.0  68.0   2.0  0.557683   8.0   \n",
       "4  5.0  2202.0    1.101001e+11   22.0  SO7   8.0  68.0   2.0  0.557683   8.0   \n",
       "\n",
       "   ...  H46B  H47  G109  G109A  G112  G113  G113A  G114  M1G  NORMWT_MS7  \n",
       "0  ...   NaN  NaN   NaN    NaN   NaN   NaN    NaN   NaN  1.0    0.557683  \n",
       "1  ...   NaN  NaN   1.0    2.0   NaN   NaN    NaN   NaN  1.0    0.557683  \n",
       "2  ...   NaN  NaN   NaN    NaN   NaN   NaN    NaN   NaN  2.0    0.557683  \n",
       "3  ...   NaN  NaN   NaN    NaN   NaN   NaN    NaN   NaN  3.0    0.557683  \n",
       "4  ...   NaN  NaN   NaN    NaN   NaN   NaN    NaN   NaN  4.0    0.557683  \n",
       "\n",
       "[5 rows x 559 columns]"
      ]
     },
     "execution_count": 9,
     "metadata": {},
     "output_type": "execute_result"
    }
   ],
   "source": [
    "dfKR.head()"
   ]
  },
  {
   "cell_type": "code",
   "execution_count": 95,
   "metadata": {},
   "outputs": [],
   "source": [
    "# rename columns in dataframe\n",
    "dfKR = dfKR.rename(columns={'CASEID': 'CaseId', \n",
    "                            'V102': 'Residence', 'H1B':'Child_Age',\n",
    "                            'H2':'BCG','H3':'DPT1','H4':'Polio1','H5':'DPT2',\n",
    "                            'H6':'Polio2','H7':'DPT3','H8':'Polio3','H9':'mcv',\n",
    "                           'H0':'Polio0','V005':'sample_weight','B4':'Gender','V024':'Region'})"
   ]
  },
  {
   "cell_type": "code",
   "execution_count": 96,
   "metadata": {},
   "outputs": [
    {
     "data": {
      "text/plain": [
       "Residence\n",
       "1.0    9215\n",
       "3.0    6146\n",
       "2.0    5857\n",
       "Name: count, dtype: int64"
      ]
     },
     "execution_count": 96,
     "metadata": {},
     "output_type": "execute_result"
    }
   ],
   "source": [
    "dfKR['Residence'].value_counts()"
   ]
  },
  {
   "cell_type": "code",
   "execution_count": 97,
   "metadata": {},
   "outputs": [],
   "source": [
    "# Define mapping variables\n",
    "region_mapping = {11:'Awdal'\n",
    ",12:'Woqooyi Galbeed'\n",
    ",13:'Togdheer'\n",
    ",14:'Sool'\n",
    ",15:'Sanaag'\n",
    ",16:'Bari'\n",
    ",17:'Nugaal'\n",
    ",18:'Mudug'\n",
    ",19:'Galgaduud'\n",
    ",20:'Hiraan'\n",
    ",21:'Middle Shabelle'\n",
    ",22:'Banadir'\n",
    ",23:'Lower Shabelle'\n",
    ",24:'Bay'\n",
    ",25:'Bakool'\n",
    ",26:'Gedo'\n",
    ",27:'Middle Juba'\n",
    ",28:'Lower Juba'}\n",
    "residence_mapping = {1:'Urban',\n",
    "                 2:'Rural',\n",
    "                 3:'Nomadic'}\n",
    "gender_mapping = {1:'Male',\n",
    "                 2:'Female'}"
   ]
  },
  {
   "cell_type": "code",
   "execution_count": 98,
   "metadata": {},
   "outputs": [
    {
     "data": {
      "text/plain": [
       "Gender\n",
       "1.0    11031\n",
       "2.0    10187\n",
       "Name: count, dtype: int64"
      ]
     },
     "execution_count": 98,
     "metadata": {},
     "output_type": "execute_result"
    }
   ],
   "source": [
    "dfKR['Gender'].value_counts()"
   ]
  },
  {
   "cell_type": "code",
   "execution_count": 99,
   "metadata": {},
   "outputs": [
    {
     "data": {
      "text/plain": [
       "Region\n",
       "22.0    2275\n",
       "15.0    1884\n",
       "14.0    1883\n",
       "13.0    1785\n",
       "12.0    1540\n",
       "25.0    1333\n",
       "28.0    1242\n",
       "16.0    1215\n",
       "26.0    1197\n",
       "17.0    1165\n",
       "18.0    1124\n",
       "19.0    1075\n",
       "21.0    1045\n",
       "11.0    1018\n",
       "20.0     976\n",
       "24.0     461\n",
       "Name: count, dtype: int64"
      ]
     },
     "execution_count": 99,
     "metadata": {},
     "output_type": "execute_result"
    }
   ],
   "source": [
    "dfKR['Region'].value_counts()"
   ]
  },
  {
   "cell_type": "code",
   "execution_count": 100,
   "metadata": {},
   "outputs": [],
   "source": [
    "# Apply mappings to DataFrame columns\n",
    "dfKR['Gender'] = dfKR['Gender'].replace(gender_mapping)\n",
    "dfKR['Region'] = dfKR['Region'].replace(region_mapping)\n",
    "dfKR['Residence'] = dfKR['Residence'].replace(residence_mapping)"
   ]
  },
  {
   "cell_type": "code",
   "execution_count": 101,
   "metadata": {},
   "outputs": [],
   "source": [
    "#Take the 'women's individual sample weight' variable and divide by 1 million.\n",
    "\n",
    "#dfKR['sample_weight'] = dfKR['sample_weight']/1000000"
   ]
  },
  {
   "cell_type": "code",
   "execution_count": 102,
   "metadata": {},
   "outputs": [],
   "source": [
    "# Define mapping\n",
    "mapping = {0: False, 1: True, 2: True, 3: True, 8: np.nan}\n",
    "\n",
    "# Replace values\n",
    "dfKR['BCG'] = dfKR['BCG'].replace(mapping)\n",
    "dfKR['DPT1'] = dfKR['DPT1'].replace(mapping)\n",
    "dfKR['DPT2'] = dfKR['DPT2'].replace(mapping)\n",
    "dfKR['DPT3'] = dfKR['DPT3'].replace(mapping)\n",
    "dfKR['Polio1'] = dfKR['Polio1'].replace(mapping)\n",
    "dfKR['Polio2'] = dfKR['Polio2'].replace(mapping)\n",
    "dfKR['Polio3'] = dfKR['Polio3'].replace(mapping)\n",
    "dfKR['Polio0'] = dfKR['Polio0'].replace(mapping)\n",
    "dfKR['mcv'] = dfKR['mcv'].replace(mapping)"
   ]
  },
  {
   "cell_type": "code",
   "execution_count": 103,
   "metadata": {},
   "outputs": [],
   "source": [
    "dfKR['BCG_sampled'] = dfKR['BCG'] * dfKR['sample_weight']\n",
    "dfKR['DPT1_sampled'] = dfKR['DPT1']* dfKR['sample_weight']\n",
    "dfKR['DPT2_sampled'] = dfKR['DPT2']* dfKR['sample_weight']\n",
    "dfKR['DPT3_sampled'] = dfKR['DPT3']* dfKR['sample_weight']\n",
    "dfKR['Polio1_sampled'] = dfKR['Polio1']* dfKR['sample_weight']\n",
    "dfKR['Polio2_sampled'] = dfKR['Polio2']* dfKR['sample_weight']\n",
    "dfKR['Polio3_sampled'] = dfKR['Polio3']* dfKR['sample_weight']\n",
    "dfKR['Polio0_sampled'] = dfKR['Polio0']* dfKR['sample_weight']\n",
    "dfKR['mcv_sampled'] = dfKR['mcv']* dfKR['sample_weight']"
   ]
  },
  {
   "cell_type": "code",
   "execution_count": 104,
   "metadata": {},
   "outputs": [
    {
     "name": "stdout",
     "output_type": "stream",
     "text": [
      "BCG_sampled Vaccination Coverage for children between 12 to 23 months using KR dataset: 87.10%\n",
      "DPT1_sampled Vaccination Coverage for children between 12 to 23 months using KR dataset: 72.50%\n",
      "DPT2_sampled Vaccination Coverage for children between 12 to 23 months using KR dataset: 61.60%\n",
      "DPT3_sampled Vaccination Coverage for children between 12 to 23 months using KR dataset: 54.60%\n",
      "Polio0 Vaccination Coverage for children between 12 to 23 months using KR dataset: 98.60%\n",
      "Polio1_sampled Vaccination Coverage for children between 12 to 23 months using KR dataset: 96.50%\n",
      "Polio2_sampled Vaccination Coverage for children between 12 to 23 months using KR dataset: 89.80%\n",
      "Polio3_sampled Vaccination Coverage for children between 12 to 23 months using KR dataset: 76.70%\n",
      "mcv_sampled Vaccination Coverage for children between 12 to 23 months using KR dataset: 75.90%\n"
     ]
    },
    {
     "data": {
      "text/plain": [
       "75.9"
      ]
     },
     "execution_count": 104,
     "metadata": {},
     "output_type": "execute_result"
    }
   ],
   "source": [
    "calculate_vaccination_coverage(dfKR, 12, 23, 'BCG_sampled')\n",
    "calculate_vaccination_coverage(dfKR, 12, 23, 'DPT1_sampled')\n",
    "calculate_vaccination_coverage(dfKR, 12, 23, 'DPT2_sampled')\n",
    "calculate_vaccination_coverage(dfKR, 12, 23, 'DPT3_sampled')\n",
    "calculate_vaccination_coverage(dfKR, 12, 23, 'Polio0')\n",
    "calculate_vaccination_coverage(dfKR, 12, 23, 'Polio1_sampled')\n",
    "calculate_vaccination_coverage(dfKR, 12, 23, 'Polio2_sampled')\n",
    "calculate_vaccination_coverage(dfKR, 12, 23, 'Polio3_sampled')\n",
    "calculate_vaccination_coverage(dfKR, 12, 23, 'mcv_sampled')"
   ]
  },
  {
   "cell_type": "code",
   "execution_count": 105,
   "metadata": {},
   "outputs": [],
   "source": [
    "# List of vaccines\n",
    "vaccines = ['BCG_sampled', 'DPT1_sampled', 'DPT2_sampled','DPT3_sampled','Polio0_sampled','Polio1_sampled','Polio2_sampled','Polio3_sampled','mcv_sampled']"
   ]
  },
  {
   "cell_type": "code",
   "execution_count": 106,
   "metadata": {},
   "outputs": [],
   "source": [
    "# List of vaccines\n",
    "vaccines1 = ['BCG', 'DPT1','DPT3','Polio0','Polio1','Polio3','mcv']"
   ]
  },
  {
   "cell_type": "code",
   "execution_count": 107,
   "metadata": {},
   "outputs": [
    {
     "data": {
      "text/html": [
       "<div>\n",
       "<style scoped>\n",
       "    .dataframe tbody tr th:only-of-type {\n",
       "        vertical-align: middle;\n",
       "    }\n",
       "\n",
       "    .dataframe tbody tr th {\n",
       "        vertical-align: top;\n",
       "    }\n",
       "\n",
       "    .dataframe thead th {\n",
       "        text-align: right;\n",
       "    }\n",
       "</style>\n",
       "<table border=\"1\" class=\"dataframe\">\n",
       "  <thead>\n",
       "    <tr style=\"text-align: right;\">\n",
       "      <th>Gender</th>\n",
       "      <th>Female</th>\n",
       "      <th>Male</th>\n",
       "    </tr>\n",
       "    <tr>\n",
       "      <th>Vaccine</th>\n",
       "      <th></th>\n",
       "      <th></th>\n",
       "    </tr>\n",
       "  </thead>\n",
       "  <tbody>\n",
       "    <tr>\n",
       "      <th>BCG</th>\n",
       "      <td>78.6</td>\n",
       "      <td>79.0</td>\n",
       "    </tr>\n",
       "    <tr>\n",
       "      <th>DPT1</th>\n",
       "      <td>62.8</td>\n",
       "      <td>66.1</td>\n",
       "    </tr>\n",
       "    <tr>\n",
       "      <th>DPT3</th>\n",
       "      <td>50.6</td>\n",
       "      <td>52.0</td>\n",
       "    </tr>\n",
       "    <tr>\n",
       "      <th>Polio0</th>\n",
       "      <td>99.3</td>\n",
       "      <td>98.0</td>\n",
       "    </tr>\n",
       "    <tr>\n",
       "      <th>Polio1</th>\n",
       "      <td>82.9</td>\n",
       "      <td>85.8</td>\n",
       "    </tr>\n",
       "    <tr>\n",
       "      <th>Polio3</th>\n",
       "      <td>67.9</td>\n",
       "      <td>68.8</td>\n",
       "    </tr>\n",
       "    <tr>\n",
       "      <th>mcv</th>\n",
       "      <td>65.7</td>\n",
       "      <td>67.8</td>\n",
       "    </tr>\n",
       "  </tbody>\n",
       "</table>\n",
       "</div>"
      ],
      "text/plain": [
       "Gender   Female  Male\n",
       "Vaccine              \n",
       "BCG        78.6  79.0\n",
       "DPT1       62.8  66.1\n",
       "DPT3       50.6  52.0\n",
       "Polio0     99.3  98.0\n",
       "Polio1     82.9  85.8\n",
       "Polio3     67.9  68.8\n",
       "mcv        65.7  67.8"
      ]
     },
     "execution_count": 107,
     "metadata": {},
     "output_type": "execute_result"
    }
   ],
   "source": [
    "# List of genders\n",
    "genders = ['Male','Female']\n",
    "# Create an empty list to store the results\n",
    "results = []\n",
    "\n",
    "# Loop through each vaccine and gender\n",
    "for vaccine in vaccines1:\n",
    "    for gender in genders:\n",
    "        coverage = calculate_vaccination_coverage_gender(dfKR, 12, 23, gender, vaccine)\n",
    "        results.append({'Vaccine': vaccine, 'Gender': gender, 'Coverage': coverage})\n",
    "\n",
    "# Convert the list of dictionaries into a DataFrame\n",
    "results_df = pd.DataFrame(results)\n",
    "pivot_table1 = results_df.pivot_table(index='Vaccine', columns='Gender', values='Coverage')\n",
    "pivot_table1\n",
    "# Display the results as a table\n",
    "#print(results_df)\n"
   ]
  },
  {
   "cell_type": "code",
   "execution_count": 108,
   "metadata": {},
   "outputs": [
    {
     "data": {
      "text/plain": [
       "0        Urban\n",
       "1        Urban\n",
       "2        Urban\n",
       "3        Urban\n",
       "4        Urban\n",
       "         ...  \n",
       "21213    Rural\n",
       "21214    Rural\n",
       "21215    Rural\n",
       "21216    Rural\n",
       "21217    Rural\n",
       "Name: Residence, Length: 21218, dtype: object"
      ]
     },
     "execution_count": 108,
     "metadata": {},
     "output_type": "execute_result"
    }
   ],
   "source": [
    "dfKR['Residence']"
   ]
  },
  {
   "cell_type": "code",
   "execution_count": 111,
   "metadata": {},
   "outputs": [
    {
     "data": {
      "text/html": [
       "<div>\n",
       "<style scoped>\n",
       "    .dataframe tbody tr th:only-of-type {\n",
       "        vertical-align: middle;\n",
       "    }\n",
       "\n",
       "    .dataframe tbody tr th {\n",
       "        vertical-align: top;\n",
       "    }\n",
       "\n",
       "    .dataframe thead th {\n",
       "        text-align: right;\n",
       "    }\n",
       "</style>\n",
       "<table border=\"1\" class=\"dataframe\">\n",
       "  <thead>\n",
       "    <tr style=\"text-align: right;\">\n",
       "      <th>Residence</th>\n",
       "      <th>Rural</th>\n",
       "      <th>Urban</th>\n",
       "    </tr>\n",
       "    <tr>\n",
       "      <th>Vaccine</th>\n",
       "      <th></th>\n",
       "      <th></th>\n",
       "    </tr>\n",
       "  </thead>\n",
       "  <tbody>\n",
       "    <tr>\n",
       "      <th>BCG</th>\n",
       "      <td>78.42</td>\n",
       "      <td>89.07</td>\n",
       "    </tr>\n",
       "    <tr>\n",
       "      <th>DPT1</th>\n",
       "      <td>68.12</td>\n",
       "      <td>70.50</td>\n",
       "    </tr>\n",
       "    <tr>\n",
       "      <th>DPT3</th>\n",
       "      <td>56.57</td>\n",
       "      <td>58.52</td>\n",
       "    </tr>\n",
       "    <tr>\n",
       "      <th>Polio0</th>\n",
       "      <td>99.04</td>\n",
       "      <td>99.39</td>\n",
       "    </tr>\n",
       "    <tr>\n",
       "      <th>Polio1</th>\n",
       "      <td>81.93</td>\n",
       "      <td>89.92</td>\n",
       "    </tr>\n",
       "    <tr>\n",
       "      <th>Polio3</th>\n",
       "      <td>64.54</td>\n",
       "      <td>76.54</td>\n",
       "    </tr>\n",
       "    <tr>\n",
       "      <th>mcv</th>\n",
       "      <td>71.01</td>\n",
       "      <td>72.52</td>\n",
       "    </tr>\n",
       "  </tbody>\n",
       "</table>\n",
       "</div>"
      ],
      "text/plain": [
       "Residence  Rural  Urban\n",
       "Vaccine                \n",
       "BCG        78.42  89.07\n",
       "DPT1       68.12  70.50\n",
       "DPT3       56.57  58.52\n",
       "Polio0     99.04  99.39\n",
       "Polio1     81.93  89.92\n",
       "Polio3     64.54  76.54\n",
       "mcv        71.01  72.52"
      ]
     },
     "execution_count": 111,
     "metadata": {},
     "output_type": "execute_result"
    }
   ],
   "source": [
    "# List of region\n",
    "residences = [\"Urban\", \"Rural\"]\n",
    "# Create an empty list to store the results\n",
    "results2 = []\n",
    "\n",
    "# Loop through each vaccine and child_gender\n",
    "for vaccine in vaccines1:\n",
    "    for residence in residences:\n",
    "        coverage = calculate_vaccination_coverage_residence(dfKR, 12, 23,residence,vaccine)\n",
    "        results2.append({'Vaccine': vaccine, 'Residence': residence, 'Coverage': coverage})\n",
    "\n",
    "# Convert the list of dictionaries into a DataFrame\n",
    "results_df2 = pd.DataFrame(results2)\n",
    "results_df2['Coverage'] = results_df2['Coverage'].round(2)\n",
    "# Display the results as a table\n",
    "pivot_table2 = results_df2.pivot_table(index='Vaccine', columns='Residence', values='Coverage')\n",
    "pivot_table2"
   ]
  },
  {
   "cell_type": "code",
   "execution_count": null,
   "metadata": {},
   "outputs": [],
   "source": []
  },
  {
   "cell_type": "code",
   "execution_count": 54,
   "metadata": {},
   "outputs": [
    {
     "name": "stdout",
     "output_type": "stream",
     "text": [
      "No children found for the specified age range and region: Lower Shabelle.\n",
      "No children found for the specified age range and region: Middle Juba.\n",
      "No children found for the specified age range and region: Lower Shabelle.\n",
      "No children found for the specified age range and region: Middle Juba.\n",
      "No children found for the specified age range and region: Lower Shabelle.\n",
      "No children found for the specified age range and region: Middle Juba.\n",
      "No children found for the specified age range and region: Lower Shabelle.\n",
      "No children found for the specified age range and region: Middle Juba.\n",
      "No children found for the specified age range and region: Lower Shabelle.\n",
      "No children found for the specified age range and region: Middle Juba.\n",
      "No children found for the specified age range and region: Lower Shabelle.\n",
      "No children found for the specified age range and region: Middle Juba.\n",
      "No children found for the specified age range and region: Lower Shabelle.\n",
      "No children found for the specified age range and region: Middle Juba.\n",
      "    Vaccine           Region  Coverage\n",
      "0       BCG            Awdal      86.4\n",
      "1       BCG  Woqooyi Galbeed      75.0\n",
      "2       BCG         Togdheer      84.6\n",
      "3       BCG             Sool      63.9\n",
      "4       BCG           Sanaag      68.4\n",
      "..      ...              ...       ...\n",
      "121     mcv              Bay      63.6\n",
      "122     mcv           Bakool      64.5\n",
      "123     mcv             Gedo      46.2\n",
      "124     mcv      Middle Juba       0.0\n",
      "125     mcv       Lower Juba      62.3\n",
      "\n",
      "[126 rows x 3 columns]\n"
     ]
    }
   ],
   "source": [
    "# List of Region\n",
    "regions = ['Awdal','Woqooyi Galbeed','Togdheer','Sool','Sanaag','Bari','Nugaal','Mudug','Galgaduud','Hiraan','Middle Shabelle','Banadir',\n",
    "'Lower Shabelle','Bay','Bakool','Gedo','Middle Juba','Lower Juba']\n",
    "# Create an empty list to store the results\n",
    "results1 = []\n",
    "\n",
    "# Loop through each vaccine and gender\n",
    "for vaccine in vaccines1:\n",
    "    for region in regions:\n",
    "        coverage = calculate_vaccination_coverage_region(dfKR, 12, 23, region, vaccine)\n",
    "        results1.append({'Vaccine': vaccine, 'Region': region, 'Coverage': coverage})\n",
    "\n",
    "# Convert the list of dictionaries into a DataFrame\n",
    "results_df1 = pd.DataFrame(results1)\n",
    "\n",
    "# Display the results as a table\n",
    "print(results_df1)"
   ]
  },
  {
   "cell_type": "code",
   "execution_count": 57,
   "metadata": {},
   "outputs": [
    {
     "data": {
      "text/html": [
       "<div>\n",
       "<style scoped>\n",
       "    .dataframe tbody tr th:only-of-type {\n",
       "        vertical-align: middle;\n",
       "    }\n",
       "\n",
       "    .dataframe tbody tr th {\n",
       "        vertical-align: top;\n",
       "    }\n",
       "\n",
       "    .dataframe thead th {\n",
       "        text-align: right;\n",
       "    }\n",
       "</style>\n",
       "<table border=\"1\" class=\"dataframe\">\n",
       "  <thead>\n",
       "    <tr style=\"text-align: right;\">\n",
       "      <th>Region</th>\n",
       "      <th>Awdal</th>\n",
       "      <th>Bakool</th>\n",
       "      <th>Banadir</th>\n",
       "      <th>Bari</th>\n",
       "      <th>Bay</th>\n",
       "      <th>Galgaduud</th>\n",
       "      <th>Gedo</th>\n",
       "      <th>Hiraan</th>\n",
       "      <th>Lower Juba</th>\n",
       "      <th>Lower Shabelle</th>\n",
       "      <th>Middle Juba</th>\n",
       "      <th>Middle Shabelle</th>\n",
       "      <th>Mudug</th>\n",
       "      <th>Nugaal</th>\n",
       "      <th>Sanaag</th>\n",
       "      <th>Sool</th>\n",
       "      <th>Togdheer</th>\n",
       "      <th>Woqooyi Galbeed</th>\n",
       "    </tr>\n",
       "    <tr>\n",
       "      <th>Vaccine</th>\n",
       "      <th></th>\n",
       "      <th></th>\n",
       "      <th></th>\n",
       "      <th></th>\n",
       "      <th></th>\n",
       "      <th></th>\n",
       "      <th></th>\n",
       "      <th></th>\n",
       "      <th></th>\n",
       "      <th></th>\n",
       "      <th></th>\n",
       "      <th></th>\n",
       "      <th></th>\n",
       "      <th></th>\n",
       "      <th></th>\n",
       "      <th></th>\n",
       "      <th></th>\n",
       "      <th></th>\n",
       "    </tr>\n",
       "  </thead>\n",
       "  <tbody>\n",
       "    <tr>\n",
       "      <th>BCG</th>\n",
       "      <td>86.4</td>\n",
       "      <td>90.3</td>\n",
       "      <td>78.9</td>\n",
       "      <td>71.4</td>\n",
       "      <td>90.6</td>\n",
       "      <td>75.6</td>\n",
       "      <td>76.9</td>\n",
       "      <td>84.2</td>\n",
       "      <td>88.7</td>\n",
       "      <td>0.0</td>\n",
       "      <td>0.0</td>\n",
       "      <td>71.4</td>\n",
       "      <td>77.8</td>\n",
       "      <td>79.7</td>\n",
       "      <td>68.4</td>\n",
       "      <td>63.9</td>\n",
       "      <td>84.6</td>\n",
       "      <td>75.0</td>\n",
       "    </tr>\n",
       "    <tr>\n",
       "      <th>DPT1</th>\n",
       "      <td>66.7</td>\n",
       "      <td>67.7</td>\n",
       "      <td>63.3</td>\n",
       "      <td>71.0</td>\n",
       "      <td>71.9</td>\n",
       "      <td>60.5</td>\n",
       "      <td>53.8</td>\n",
       "      <td>67.6</td>\n",
       "      <td>64.2</td>\n",
       "      <td>0.0</td>\n",
       "      <td>0.0</td>\n",
       "      <td>55.3</td>\n",
       "      <td>70.5</td>\n",
       "      <td>70.3</td>\n",
       "      <td>61.8</td>\n",
       "      <td>54.2</td>\n",
       "      <td>40.0</td>\n",
       "      <td>44.0</td>\n",
       "    </tr>\n",
       "    <tr>\n",
       "      <th>DPT3</th>\n",
       "      <td>53.8</td>\n",
       "      <td>56.0</td>\n",
       "      <td>50.0</td>\n",
       "      <td>58.7</td>\n",
       "      <td>53.6</td>\n",
       "      <td>45.5</td>\n",
       "      <td>36.4</td>\n",
       "      <td>58.1</td>\n",
       "      <td>47.5</td>\n",
       "      <td>0.0</td>\n",
       "      <td>0.0</td>\n",
       "      <td>45.2</td>\n",
       "      <td>54.9</td>\n",
       "      <td>62.3</td>\n",
       "      <td>51.9</td>\n",
       "      <td>35.7</td>\n",
       "      <td>40.0</td>\n",
       "      <td>22.2</td>\n",
       "    </tr>\n",
       "    <tr>\n",
       "      <th>Polio0</th>\n",
       "      <td>100.0</td>\n",
       "      <td>100.0</td>\n",
       "      <td>95.2</td>\n",
       "      <td>100.0</td>\n",
       "      <td>100.0</td>\n",
       "      <td>100.0</td>\n",
       "      <td>100.0</td>\n",
       "      <td>100.0</td>\n",
       "      <td>96.2</td>\n",
       "      <td>0.0</td>\n",
       "      <td>0.0</td>\n",
       "      <td>100.0</td>\n",
       "      <td>97.3</td>\n",
       "      <td>100.0</td>\n",
       "      <td>100.0</td>\n",
       "      <td>100.0</td>\n",
       "      <td>100.0</td>\n",
       "      <td>100.0</td>\n",
       "    </tr>\n",
       "    <tr>\n",
       "      <th>Polio1</th>\n",
       "      <td>81.8</td>\n",
       "      <td>90.3</td>\n",
       "      <td>81.5</td>\n",
       "      <td>84.1</td>\n",
       "      <td>97.0</td>\n",
       "      <td>87.8</td>\n",
       "      <td>69.2</td>\n",
       "      <td>94.6</td>\n",
       "      <td>90.6</td>\n",
       "      <td>0.0</td>\n",
       "      <td>0.0</td>\n",
       "      <td>85.4</td>\n",
       "      <td>84.6</td>\n",
       "      <td>87.7</td>\n",
       "      <td>83.8</td>\n",
       "      <td>72.2</td>\n",
       "      <td>41.7</td>\n",
       "      <td>71.0</td>\n",
       "    </tr>\n",
       "    <tr>\n",
       "      <th>Polio3</th>\n",
       "      <td>50.0</td>\n",
       "      <td>68.2</td>\n",
       "      <td>58.5</td>\n",
       "      <td>72.7</td>\n",
       "      <td>95.2</td>\n",
       "      <td>79.2</td>\n",
       "      <td>54.5</td>\n",
       "      <td>76.2</td>\n",
       "      <td>78.6</td>\n",
       "      <td>0.0</td>\n",
       "      <td>0.0</td>\n",
       "      <td>66.7</td>\n",
       "      <td>69.8</td>\n",
       "      <td>83.7</td>\n",
       "      <td>69.6</td>\n",
       "      <td>36.8</td>\n",
       "      <td>28.6</td>\n",
       "      <td>37.5</td>\n",
       "    </tr>\n",
       "    <tr>\n",
       "      <th>mcv</th>\n",
       "      <td>77.3</td>\n",
       "      <td>64.5</td>\n",
       "      <td>66.3</td>\n",
       "      <td>74.6</td>\n",
       "      <td>63.6</td>\n",
       "      <td>61.0</td>\n",
       "      <td>46.2</td>\n",
       "      <td>67.6</td>\n",
       "      <td>62.3</td>\n",
       "      <td>0.0</td>\n",
       "      <td>0.0</td>\n",
       "      <td>55.3</td>\n",
       "      <td>77.8</td>\n",
       "      <td>73.4</td>\n",
       "      <td>55.6</td>\n",
       "      <td>63.3</td>\n",
       "      <td>80.0</td>\n",
       "      <td>61.5</td>\n",
       "    </tr>\n",
       "  </tbody>\n",
       "</table>\n",
       "</div>"
      ],
      "text/plain": [
       "Region   Awdal  Bakool  Banadir   Bari    Bay  Galgaduud   Gedo  Hiraan  \\\n",
       "Vaccine                                                                   \n",
       "BCG       86.4    90.3     78.9   71.4   90.6       75.6   76.9    84.2   \n",
       "DPT1      66.7    67.7     63.3   71.0   71.9       60.5   53.8    67.6   \n",
       "DPT3      53.8    56.0     50.0   58.7   53.6       45.5   36.4    58.1   \n",
       "Polio0   100.0   100.0     95.2  100.0  100.0      100.0  100.0   100.0   \n",
       "Polio1    81.8    90.3     81.5   84.1   97.0       87.8   69.2    94.6   \n",
       "Polio3    50.0    68.2     58.5   72.7   95.2       79.2   54.5    76.2   \n",
       "mcv       77.3    64.5     66.3   74.6   63.6       61.0   46.2    67.6   \n",
       "\n",
       "Region   Lower Juba  Lower Shabelle  Middle Juba  Middle Shabelle  Mudug  \\\n",
       "Vaccine                                                                    \n",
       "BCG            88.7             0.0          0.0             71.4   77.8   \n",
       "DPT1           64.2             0.0          0.0             55.3   70.5   \n",
       "DPT3           47.5             0.0          0.0             45.2   54.9   \n",
       "Polio0         96.2             0.0          0.0            100.0   97.3   \n",
       "Polio1         90.6             0.0          0.0             85.4   84.6   \n",
       "Polio3         78.6             0.0          0.0             66.7   69.8   \n",
       "mcv            62.3             0.0          0.0             55.3   77.8   \n",
       "\n",
       "Region   Nugaal  Sanaag   Sool  Togdheer  Woqooyi Galbeed  \n",
       "Vaccine                                                    \n",
       "BCG        79.7    68.4   63.9      84.6             75.0  \n",
       "DPT1       70.3    61.8   54.2      40.0             44.0  \n",
       "DPT3       62.3    51.9   35.7      40.0             22.2  \n",
       "Polio0    100.0   100.0  100.0     100.0            100.0  \n",
       "Polio1     87.7    83.8   72.2      41.7             71.0  \n",
       "Polio3     83.7    69.6   36.8      28.6             37.5  \n",
       "mcv        73.4    55.6   63.3      80.0             61.5  "
      ]
     },
     "execution_count": 57,
     "metadata": {},
     "output_type": "execute_result"
    }
   ],
   "source": [
    "pivot_table = results_df1.pivot_table(index='Vaccine', columns='Region', values='Coverage')\n",
    "pivot_table"
   ]
  },
  {
   "cell_type": "code",
   "execution_count": 58,
   "metadata": {},
   "outputs": [],
   "source": [
    "pivot_table.to_clipboard(index=True, header=True)"
   ]
  },
  {
   "cell_type": "code",
   "execution_count": null,
   "metadata": {},
   "outputs": [],
   "source": [
    "# Example usage for males\n",
    "male_coverage = calculate_vaccination_coverage_gender(dfKR, 12, 23, 'Male', 'BCG_sampled')\n",
    "\n",
    "# Example usage for females\n",
    "female_coverage = calculate_vaccination_coverage_gender(dfKR, 12, 23, 'Female', 'BCG_sampled')\n"
   ]
  },
  {
   "cell_type": "code",
   "execution_count": null,
   "metadata": {},
   "outputs": [],
   "source": []
  },
  {
   "cell_type": "code",
   "execution_count": 112,
   "metadata": {},
   "outputs": [],
   "source": [
    "def calculate_retention_rate(df, group_col, dose1_col, dose2_col):\n",
    "    \"\"\"\n",
    "    Calculate retention rate from dose2 to dose1 for each group.\n",
    "    \n",
    "    Parameters:\n",
    "    df (pandas.DataFrame): Input DataFrame containing vaccination data.\n",
    "    group_col (str): Column name for the grouping variable.\n",
    "    dose1_col (str): Column name representing the first dose.\n",
    "    dose2_col (str): Column name representing the second dose.\n",
    "    \n",
    "    Returns:\n",
    "    pandas.DataFrame: DataFrame with retention rates calculated and added as a new column.\n",
    "    \"\"\"\n",
    "    # Group by the specified column and aggregate sum of dose1 and dose2\n",
    "    df1 = df.groupby([group_col]).agg(\n",
    "        sum_dose1=(dose1_col, 'sum'),\n",
    "        sum_dose2=(dose2_col, 'sum')\n",
    "    ).reset_index()\n",
    "    \n",
    "    # Calculate retention rate\n",
    "    df1['retention_rate'] = (1 - ((df1['sum_dose1'] - df1['sum_dose2']) / df1['sum_dose1'])) * 100\n",
    "    pivot_table2 = df1.pivot_table(columns=group_col, values='retention_rate')\n",
    "    return pivot_table2\n",
    "  "
   ]
  },
  {
   "cell_type": "markdown",
   "metadata": {},
   "source": [
    "# Retention Rate"
   ]
  },
  {
   "cell_type": "code",
   "execution_count": 116,
   "metadata": {},
   "outputs": [],
   "source": [
    "filtered_df = dfKR[(dfKR['Child_Age'] >= 12) & (dfKR['Child_Age'] <= 23)]"
   ]
  },
  {
   "cell_type": "code",
   "execution_count": 127,
   "metadata": {},
   "outputs": [],
   "source": [
    "result_df=calculate_retention_rate(filtered_df, 'Region', 'DPT1_sampled', 'DPT3_sampled')\n",
    "result_df.to_clipboard(index=True, header=True)"
   ]
  },
  {
   "cell_type": "code",
   "execution_count": 128,
   "metadata": {},
   "outputs": [
    {
     "data": {
      "text/html": [
       "<div>\n",
       "<style scoped>\n",
       "    .dataframe tbody tr th:only-of-type {\n",
       "        vertical-align: middle;\n",
       "    }\n",
       "\n",
       "    .dataframe tbody tr th {\n",
       "        vertical-align: top;\n",
       "    }\n",
       "\n",
       "    .dataframe thead th {\n",
       "        text-align: right;\n",
       "    }\n",
       "</style>\n",
       "<table border=\"1\" class=\"dataframe\">\n",
       "  <thead>\n",
       "    <tr style=\"text-align: right;\">\n",
       "      <th>Region</th>\n",
       "      <th>Awdal</th>\n",
       "      <th>Bakool</th>\n",
       "      <th>Banadir</th>\n",
       "      <th>Bari</th>\n",
       "      <th>Bay</th>\n",
       "      <th>Galgaduud</th>\n",
       "      <th>Gedo</th>\n",
       "      <th>Hiraan</th>\n",
       "      <th>Lower Juba</th>\n",
       "      <th>Middle Shabelle</th>\n",
       "      <th>Mudug</th>\n",
       "      <th>Nugaal</th>\n",
       "      <th>Sanaag</th>\n",
       "      <th>Sool</th>\n",
       "      <th>Togdheer</th>\n",
       "      <th>Woqooyi Galbeed</th>\n",
       "    </tr>\n",
       "  </thead>\n",
       "  <tbody>\n",
       "    <tr>\n",
       "      <th>retention_rate</th>\n",
       "      <td>53.051187</td>\n",
       "      <td>66.470947</td>\n",
       "      <td>57.894737</td>\n",
       "      <td>53.387716</td>\n",
       "      <td>65.217391</td>\n",
       "      <td>72.626797</td>\n",
       "      <td>71.195125</td>\n",
       "      <td>70.209492</td>\n",
       "      <td>45.110103</td>\n",
       "      <td>57.379774</td>\n",
       "      <td>50.587756</td>\n",
       "      <td>66.118615</td>\n",
       "      <td>68.782464</td>\n",
       "      <td>38.470287</td>\n",
       "      <td>100.0</td>\n",
       "      <td>18.73063</td>\n",
       "    </tr>\n",
       "  </tbody>\n",
       "</table>\n",
       "</div>"
      ],
      "text/plain": [
       "Region              Awdal     Bakool    Banadir       Bari        Bay  \\\n",
       "retention_rate  53.051187  66.470947  57.894737  53.387716  65.217391   \n",
       "\n",
       "Region          Galgaduud       Gedo     Hiraan Lower Juba Middle Shabelle  \\\n",
       "retention_rate  72.626797  71.195125  70.209492  45.110103       57.379774   \n",
       "\n",
       "Region              Mudug     Nugaal     Sanaag       Sool Togdheer  \\\n",
       "retention_rate  50.587756  66.118615  68.782464  38.470287    100.0   \n",
       "\n",
       "Region         Woqooyi Galbeed  \n",
       "retention_rate        18.73063  "
      ]
     },
     "execution_count": 128,
     "metadata": {},
     "output_type": "execute_result"
    }
   ],
   "source": [
    "result_df"
   ]
  },
  {
   "cell_type": "code",
   "execution_count": 122,
   "metadata": {},
   "outputs": [
    {
     "data": {
      "text/html": [
       "<div>\n",
       "<style scoped>\n",
       "    .dataframe tbody tr th:only-of-type {\n",
       "        vertical-align: middle;\n",
       "    }\n",
       "\n",
       "    .dataframe tbody tr th {\n",
       "        vertical-align: top;\n",
       "    }\n",
       "\n",
       "    .dataframe thead th {\n",
       "        text-align: right;\n",
       "    }\n",
       "</style>\n",
       "<table border=\"1\" class=\"dataframe\">\n",
       "  <thead>\n",
       "    <tr style=\"text-align: right;\">\n",
       "      <th>Gender</th>\n",
       "      <th>Female</th>\n",
       "      <th>Male</th>\n",
       "    </tr>\n",
       "  </thead>\n",
       "  <tbody>\n",
       "    <tr>\n",
       "      <th>retention_rate</th>\n",
       "      <td>58.989757</td>\n",
       "      <td>57.387711</td>\n",
       "    </tr>\n",
       "  </tbody>\n",
       "</table>\n",
       "</div>"
      ],
      "text/plain": [
       "Gender             Female       Male\n",
       "retention_rate  58.989757  57.387711"
      ]
     },
     "execution_count": 122,
     "metadata": {},
     "output_type": "execute_result"
    }
   ],
   "source": [
    "calculate_retention_rate(filtered_df, 'Gender', 'DPT1_sampled',  'DPT3_sampled')"
   ]
  },
  {
   "cell_type": "code",
   "execution_count": 123,
   "metadata": {},
   "outputs": [
    {
     "data": {
      "text/html": [
       "<div>\n",
       "<style scoped>\n",
       "    .dataframe tbody tr th:only-of-type {\n",
       "        vertical-align: middle;\n",
       "    }\n",
       "\n",
       "    .dataframe tbody tr th {\n",
       "        vertical-align: top;\n",
       "    }\n",
       "\n",
       "    .dataframe thead th {\n",
       "        text-align: right;\n",
       "    }\n",
       "</style>\n",
       "<table border=\"1\" class=\"dataframe\">\n",
       "  <thead>\n",
       "    <tr style=\"text-align: right;\">\n",
       "      <th>Residence</th>\n",
       "      <th>Nomadic</th>\n",
       "      <th>Rural</th>\n",
       "      <th>Urban</th>\n",
       "    </tr>\n",
       "  </thead>\n",
       "  <tbody>\n",
       "    <tr>\n",
       "      <th>retention_rate</th>\n",
       "      <td>22.899475</td>\n",
       "      <td>62.473221</td>\n",
       "      <td>60.970102</td>\n",
       "    </tr>\n",
       "  </tbody>\n",
       "</table>\n",
       "</div>"
      ],
      "text/plain": [
       "Residence         Nomadic      Rural      Urban\n",
       "retention_rate  22.899475  62.473221  60.970102"
      ]
     },
     "execution_count": 123,
     "metadata": {},
     "output_type": "execute_result"
    }
   ],
   "source": [
    "calculate_retention_rate(filtered_df, 'Residence', 'DPT1_sampled','DPT3_sampled')"
   ]
  },
  {
   "cell_type": "code",
   "execution_count": 125,
   "metadata": {},
   "outputs": [],
   "source": [
    "result_df=calculate_retention_rate(filtered_df, 'Region', 'Polio1_sampled', 'Polio3_sampled')\n",
    "result_df.to_clipboard(index=True, header=True)"
   ]
  },
  {
   "cell_type": "code",
   "execution_count": 126,
   "metadata": {},
   "outputs": [
    {
     "data": {
      "text/html": [
       "<div>\n",
       "<style scoped>\n",
       "    .dataframe tbody tr th:only-of-type {\n",
       "        vertical-align: middle;\n",
       "    }\n",
       "\n",
       "    .dataframe tbody tr th {\n",
       "        vertical-align: top;\n",
       "    }\n",
       "\n",
       "    .dataframe thead th {\n",
       "        text-align: right;\n",
       "    }\n",
       "</style>\n",
       "<table border=\"1\" class=\"dataframe\">\n",
       "  <thead>\n",
       "    <tr style=\"text-align: right;\">\n",
       "      <th>Region</th>\n",
       "      <th>Awdal</th>\n",
       "      <th>Bakool</th>\n",
       "      <th>Banadir</th>\n",
       "      <th>Bari</th>\n",
       "      <th>Bay</th>\n",
       "      <th>Galgaduud</th>\n",
       "      <th>Gedo</th>\n",
       "      <th>Hiraan</th>\n",
       "      <th>Lower Juba</th>\n",
       "      <th>Middle Shabelle</th>\n",
       "      <th>Mudug</th>\n",
       "      <th>Nugaal</th>\n",
       "      <th>Sanaag</th>\n",
       "      <th>Sool</th>\n",
       "      <th>Togdheer</th>\n",
       "      <th>Woqooyi Galbeed</th>\n",
       "    </tr>\n",
       "  </thead>\n",
       "  <tbody>\n",
       "    <tr>\n",
       "      <th>retention_rate</th>\n",
       "      <td>23.932255</td>\n",
       "      <td>56.218162</td>\n",
       "      <td>41.333333</td>\n",
       "      <td>55.555539</td>\n",
       "      <td>62.5</td>\n",
       "      <td>56.223663</td>\n",
       "      <td>80.347389</td>\n",
       "      <td>53.931274</td>\n",
       "      <td>42.445768</td>\n",
       "      <td>44.34232</td>\n",
       "      <td>45.074265</td>\n",
       "      <td>65.600125</td>\n",
       "      <td>51.961394</td>\n",
       "      <td>26.918415</td>\n",
       "      <td>37.177776</td>\n",
       "      <td>34.073527</td>\n",
       "    </tr>\n",
       "  </tbody>\n",
       "</table>\n",
       "</div>"
      ],
      "text/plain": [
       "Region              Awdal     Bakool    Banadir       Bari   Bay  Galgaduud  \\\n",
       "retention_rate  23.932255  56.218162  41.333333  55.555539  62.5  56.223663   \n",
       "\n",
       "Region               Gedo     Hiraan Lower Juba Middle Shabelle      Mudug  \\\n",
       "retention_rate  80.347389  53.931274  42.445768        44.34232  45.074265   \n",
       "\n",
       "Region             Nugaal     Sanaag       Sool   Togdheer Woqooyi Galbeed  \n",
       "retention_rate  65.600125  51.961394  26.918415  37.177776       34.073527  "
      ]
     },
     "execution_count": 126,
     "metadata": {},
     "output_type": "execute_result"
    }
   ],
   "source": [
    "result_df"
   ]
  },
  {
   "cell_type": "code",
   "execution_count": 129,
   "metadata": {},
   "outputs": [
    {
     "data": {
      "text/html": [
       "<div>\n",
       "<style scoped>\n",
       "    .dataframe tbody tr th:only-of-type {\n",
       "        vertical-align: middle;\n",
       "    }\n",
       "\n",
       "    .dataframe tbody tr th {\n",
       "        vertical-align: top;\n",
       "    }\n",
       "\n",
       "    .dataframe thead th {\n",
       "        text-align: right;\n",
       "    }\n",
       "</style>\n",
       "<table border=\"1\" class=\"dataframe\">\n",
       "  <thead>\n",
       "    <tr style=\"text-align: right;\">\n",
       "      <th>Gender</th>\n",
       "      <th>Female</th>\n",
       "      <th>Male</th>\n",
       "    </tr>\n",
       "  </thead>\n",
       "  <tbody>\n",
       "    <tr>\n",
       "      <th>retention_rate</th>\n",
       "      <td>47.480445</td>\n",
       "      <td>49.546385</td>\n",
       "    </tr>\n",
       "  </tbody>\n",
       "</table>\n",
       "</div>"
      ],
      "text/plain": [
       "Gender             Female       Male\n",
       "retention_rate  47.480445  49.546385"
      ]
     },
     "execution_count": 129,
     "metadata": {},
     "output_type": "execute_result"
    }
   ],
   "source": [
    "calculate_retention_rate(filtered_df, 'Gender', 'Polio1_sampled', 'Polio3_sampled')"
   ]
  },
  {
   "cell_type": "code",
   "execution_count": 130,
   "metadata": {},
   "outputs": [
    {
     "data": {
      "text/html": [
       "<div>\n",
       "<style scoped>\n",
       "    .dataframe tbody tr th:only-of-type {\n",
       "        vertical-align: middle;\n",
       "    }\n",
       "\n",
       "    .dataframe tbody tr th {\n",
       "        vertical-align: top;\n",
       "    }\n",
       "\n",
       "    .dataframe thead th {\n",
       "        text-align: right;\n",
       "    }\n",
       "</style>\n",
       "<table border=\"1\" class=\"dataframe\">\n",
       "  <thead>\n",
       "    <tr style=\"text-align: right;\">\n",
       "      <th>Residence</th>\n",
       "      <th>Nomadic</th>\n",
       "      <th>Rural</th>\n",
       "      <th>Urban</th>\n",
       "    </tr>\n",
       "  </thead>\n",
       "  <tbody>\n",
       "    <tr>\n",
       "      <th>retention_rate</th>\n",
       "      <td>34.883278</td>\n",
       "      <td>42.820962</td>\n",
       "      <td>55.274077</td>\n",
       "    </tr>\n",
       "  </tbody>\n",
       "</table>\n",
       "</div>"
      ],
      "text/plain": [
       "Residence         Nomadic      Rural      Urban\n",
       "retention_rate  34.883278  42.820962  55.274077"
      ]
     },
     "execution_count": 130,
     "metadata": {},
     "output_type": "execute_result"
    }
   ],
   "source": [
    "calculate_retention_rate(filtered_df, 'Residence','Polio1_sampled', 'Polio3_sampled')"
   ]
  },
  {
   "cell_type": "code",
   "execution_count": 131,
   "metadata": {},
   "outputs": [
    {
     "data": {
      "text/plain": [
       "48.51347455592866"
      ]
     },
     "execution_count": 131,
     "metadata": {},
     "output_type": "execute_result"
    }
   ],
   "source": [
    "polio_retention_rate = ((1 - ((filtered_df['Polio1_sampled'].sum() - filtered_df['Polio3_sampled'].sum()) / filtered_df['Polio1_sampled'].sum())) * 100)\n",
    "polio_retention_rate"
   ]
  },
  {
   "cell_type": "code",
   "execution_count": 132,
   "metadata": {},
   "outputs": [
    {
     "data": {
      "text/plain": [
       "58.18903975798231"
      ]
     },
     "execution_count": 132,
     "metadata": {},
     "output_type": "execute_result"
    }
   ],
   "source": [
    "penta_retention_rate = ((1 - ((filtered_df['DPT1_sampled'].sum() - filtered_df['DPT3_sampled'].sum()) / filtered_df['DPT1_sampled'].sum())) * 100)\n",
    "penta_retention_rate"
   ]
  },
  {
   "cell_type": "markdown",
   "metadata": {},
   "source": [
    "# Zero Dose Chidern"
   ]
  },
  {
   "cell_type": "code",
   "execution_count": 135,
   "metadata": {},
   "outputs": [],
   "source": [
    "# Filter out rows with null values in relevant columns\n",
    "filtered_df = filtered_df.dropna(subset=['BCG', 'Polio3', 'mcv', 'DPT3','DPT1'])"
   ]
  },
  {
   "cell_type": "code",
   "execution_count": 136,
   "metadata": {},
   "outputs": [
    {
     "name": "stdout",
     "output_type": "stream",
     "text": [
      "Proportion of zero dose children: 42.32\n"
     ]
    }
   ],
   "source": [
    "# Count the number of children who never received the Penta vaccination\n",
    "zero_dose_children = filtered_df[filtered_df['DPT1'] == 0]['DPT1'].count()\n",
    "\n",
    "# Count the total number of children in the dataset\n",
    "total_children = len(filtered_df)\n",
    "\n",
    "# Calculate the proportion of zero dose children\n",
    "proportion_zero_dose = (zero_dose_children / total_children) * 100\n",
    "\n",
    "print(f\"Proportion of zero dose children: {proportion_zero_dose:.2f}\")"
   ]
  },
  {
   "cell_type": "code",
   "execution_count": 137,
   "metadata": {},
   "outputs": [],
   "source": [
    "def calculate_zero_dose_percentage_by_group(df, vaccine_column, group_column):\n",
    "    # Group the DataFrame by group and count the total number of children in each group\n",
    "    total_children_by_group = df.groupby(group_column).size()\n",
    "\n",
    "    # Group the DataFrame by group and count the number of zero-dose children in each group\n",
    "    zero_dose_children_by_group = df[df[vaccine_column] == 0].groupby(group_column).size()\n",
    "\n",
    "    # Calculate the percentage of zero-dose children for each group\n",
    "    zero_dose_percentage_by_group = round((zero_dose_children_by_group / total_children_by_group) * 100,1)\n",
    "\n",
    "    return zero_dose_percentage_by_group"
   ]
  },
  {
   "cell_type": "code",
   "execution_count": 139,
   "metadata": {},
   "outputs": [
    {
     "name": "stdout",
     "output_type": "stream",
     "text": [
      "Region\n",
      "Awdal              50.0\n",
      "Bakool             43.6\n",
      "Banadir            58.1\n",
      "Bari               34.3\n",
      "Bay                28.6\n",
      "Galgaduud          45.5\n",
      "Gedo               54.5\n",
      "Hiraan             44.4\n",
      "Lower Juba         42.3\n",
      "Middle Shabelle    48.3\n",
      "Mudug              33.3\n",
      "Nugaal             26.2\n",
      "Sanaag             39.1\n",
      "Sool               42.9\n",
      "Togdheer           60.0\n",
      "Woqooyi Galbeed    66.7\n",
      "dtype: float64\n"
     ]
    }
   ],
   "source": [
    "zero_dose_percentage_by_group = calculate_zero_dose_percentage_by_group(filtered_df, 'DPT1', 'Region')\n",
    "\n",
    "print(zero_dose_percentage_by_group)"
   ]
  },
  {
   "cell_type": "code",
   "execution_count": 140,
   "metadata": {},
   "outputs": [
    {
     "name": "stdout",
     "output_type": "stream",
     "text": [
      "Gender\n",
      "Female    45.5\n",
      "Male      39.5\n",
      "dtype: float64\n"
     ]
    }
   ],
   "source": [
    "zero_dose_percentage_by_group = calculate_zero_dose_percentage_by_group(filtered_df, 'DPT1', 'Gender')\n",
    "\n",
    "print(zero_dose_percentage_by_group)"
   ]
  },
  {
   "cell_type": "code",
   "execution_count": 141,
   "metadata": {},
   "outputs": [
    {
     "name": "stdout",
     "output_type": "stream",
     "text": [
      "Residence\n",
      "Nomadic    80.4\n",
      "Rural      43.0\n",
      "Urban      33.3\n",
      "dtype: float64\n"
     ]
    }
   ],
   "source": [
    "zero_dose_percentage_by_group = calculate_zero_dose_percentage_by_group(filtered_df, 'DPT1', 'Residence')\n",
    "\n",
    "print(zero_dose_percentage_by_group)"
   ]
  },
  {
   "cell_type": "markdown",
   "metadata": {},
   "source": [
    "# Fully Vccinated"
   ]
  },
  {
   "cell_type": "code",
   "execution_count": 142,
   "metadata": {},
   "outputs": [
    {
     "data": {
      "text/plain": [
       "44.20485175202156"
      ]
     },
     "execution_count": 142,
     "metadata": {},
     "output_type": "execute_result"
    }
   ],
   "source": [
    "# Calculate the number of fully vaccinated kids\n",
    "fully_vaccinated = filtered_df[(filtered_df['BCG']==1) & (filtered_df['Polio3']==1) & (filtered_df['mcv']==1) & (filtered_df['DPT3']==1)]\n",
    "num_fully_vaccinated = len(fully_vaccinated)\n",
    "\n",
    "# Calculate the total number of kids\n",
    "total_kids = len(filtered_df)\n",
    "\n",
    "# Calculate the percentage of fully vaccinated kids\n",
    "percentage_fully_vaccinated = (num_fully_vaccinated / total_kids) * 100\n",
    "percentage_fully_vaccinated"
   ]
  },
  {
   "cell_type": "code",
   "execution_count": null,
   "metadata": {},
   "outputs": [],
   "source": [
    "# Non Vaccinated "
   ]
  },
  {
   "cell_type": "code",
   "execution_count": 144,
   "metadata": {},
   "outputs": [
    {
     "data": {
      "text/plain": [
       "11.590296495956872"
      ]
     },
     "execution_count": 144,
     "metadata": {},
     "output_type": "execute_result"
    }
   ],
   "source": [
    "# Calculate the number of no vaccinated kids\n",
    "no_vaccinated = filtered_df[(filtered_df['BCG']==0) & (filtered_df['Polio1']==0) & (filtered_df['mcv']==0) & (filtered_df['DPT1']==0)]\n",
    "num_no_vaccinated = len(no_vaccinated)\n",
    "\n",
    "# Calculate the total number of kids\n",
    "total_kids =len(filtered_df)\n",
    "\n",
    "\n",
    "# Calculate the percentage of no vaccinated kids\n",
    "percentage_no_vaccinated = (num_no_vaccinated / total_kids) * 100\n",
    "percentage_no_vaccinated"
   ]
  },
  {
   "cell_type": "markdown",
   "metadata": {},
   "source": [
    "## Data Analysis IR dataset"
   ]
  },
  {
   "cell_type": "markdown",
   "metadata": {},
   "source": [
    "## No of responders per region"
   ]
  },
  {
   "cell_type": "code",
   "execution_count": null,
   "metadata": {},
   "outputs": [],
   "source": [
    "# Select few columns from original dataframe into new dataframe \n",
    "df1= df[['CASEID','V101','V102']]\n",
    "df1 = df1.rename(columns={'CASEID': 'CaseId', 'V101': 'Region', 'V102': 'Residence','V005':'sample_weight'})"
   ]
  },
  {
   "cell_type": "code",
   "execution_count": null,
   "metadata": {},
   "outputs": [],
   "source": [
    "# Top five rows of the new dataframe\n",
    "df1.head()"
   ]
  },
  {
   "cell_type": "code",
   "execution_count": null,
   "metadata": {},
   "outputs": [],
   "source": [
    "#Take the 'women's individual sample weight' variable and divide by 1 million.\n",
    "\n",
    "df['sample_weight'] = df['V005']/1000000"
   ]
  },
  {
   "cell_type": "code",
   "execution_count": null,
   "metadata": {},
   "outputs": [],
   "source": [
    "df['sample_weight']"
   ]
  },
  {
   "cell_type": "code",
   "execution_count": null,
   "metadata": {},
   "outputs": [],
   "source": [
    "region_mapping = {11:'Awdal'\n",
    ",12:'Woqooyi Galbeed'\n",
    ",13:'Togdheer'\n",
    ",14:'Sool'\n",
    ",15:'Sanaag'\n",
    ",16:'Bari'\n",
    ",17:'Nugaal'\n",
    ",18:'Mudug'\n",
    ",19:'Galgaduud'\n",
    ",20:'Hiraan'\n",
    ",21:'Middle Shabelle'\n",
    ",22:'Banadir'\n",
    ",23:'Lower Shabelle'\n",
    ",24:'Bay'\n",
    ",25:'Bakool'\n",
    ",26:'Gedo'\n",
    ",27:'Middle Juba'\n",
    ",28:'Lower Juba'\n",
    "\n",
    " }\n",
    "residence_mapping = {1:'Urban',\n",
    "                 2:'Rural',\n",
    "                 3:'Nomadic'}"
   ]
  },
  {
   "cell_type": "code",
   "execution_count": null,
   "metadata": {},
   "outputs": [],
   "source": [
    "df1 = df1.assign(Region= df1.Region.map(region_mapping))\n",
    "df1 = df1.assign(Residence= df1.Residence.map(residence_mapping))"
   ]
  },
  {
   "cell_type": "code",
   "execution_count": null,
   "metadata": {},
   "outputs": [],
   "source": [
    "df1.head()"
   ]
  },
  {
   "cell_type": "code",
   "execution_count": null,
   "metadata": {},
   "outputs": [],
   "source": [
    "\n",
    "grouped_data = df1.groupby(['Region'])['CaseId'].count().sort_values()\n",
    "\n",
    "# Plotting the bar chart with the specified size\n",
    "plt.figure(figsize=(20, 6))  # Change the size of the plot\n",
    "\n",
    "bars = plt.bar(grouped_data.index, grouped_data.values, color='skyblue')  # Set color as skyblue\n",
    "\n",
    "# Adding totals above each bar\n",
    "for bar, total in zip(bars, grouped_data.values):\n",
    "    plt.text(bar.get_x() + bar.get_width() / 2, bar.get_height() + 0.1, total, ha='center', va='bottom')\n",
    "\n",
    "plt.title('Number of Cases per Region')  # Change the title\n",
    "plt.ylabel('Number of Cases')  # Change the y-axis label\n",
    "plt.xlabel('Region')  # Optional: Change the x-axis label\n",
    "\n",
    "plt.show()"
   ]
  },
  {
   "cell_type": "code",
   "execution_count": null,
   "metadata": {},
   "outputs": [],
   "source": [
    "df_grouped = df1.groupby(['Region', 'Residence'])['CaseId'].count().reset_index().sort_values(by='CaseId')\n",
    "\n",
    "fig = px.bar(df_grouped, \n",
    "             x='Region', y='CaseId', color='Residence',\n",
    "             labels={'x': 'Region', 'CaseId': 'Number of Cases'}, \n",
    "             title='Cases per Region by Residence',\n",
    "             category_orders={'Region': df_grouped['Region'].tolist()},\n",
    "            )\n",
    "fig.show()"
   ]
  },
  {
   "cell_type": "markdown",
   "metadata": {},
   "source": [
    "## BCG "
   ]
  },
  {
   "cell_type": "code",
   "execution_count": null,
   "metadata": {},
   "outputs": [],
   "source": [
    "# Define the columns range from 'H3$01' to 'H3$20'\n",
    "columns_range = [f'H2${i:02}' for i in range(1, 21)]\n",
    "\n",
    "# Call the function to replace values in the specified columns\n",
    "df = replace_values_in_columns(df, columns_range)"
   ]
  },
  {
   "cell_type": "code",
   "execution_count": null,
   "metadata": {},
   "outputs": [],
   "source": [
    "df['H2$02'].isna().sum()"
   ]
  },
  {
   "cell_type": "code",
   "execution_count": null,
   "metadata": {},
   "outputs": [],
   "source": [
    "print(df['H2$02'].unique())\n",
    "print(df['H2$02'].value_counts())\n",
    "print(df['H2$01'].unique())\n",
    "print(df['H2$01'].value_counts())"
   ]
  },
  {
   "cell_type": "code",
   "execution_count": null,
   "metadata": {},
   "outputs": [],
   "source": []
  },
  {
   "cell_type": "code",
   "execution_count": null,
   "metadata": {},
   "outputs": [],
   "source": [
    "# Reshape the data from wide to long format\n",
    "df_reshaped_BCG = pd.concat([\n",
    "    df[['CASEID', 'H1B$01', 'H2$01','sample_weight']].rename(columns={'H1B$01': 'Child_Age', 'H2$01': 'BCG'}),\n",
    "    df[['CASEID', 'H1B$02', 'H2$02','sample_weight']].rename(columns={'H1B$02': 'Child_Age', 'H2$02': 'BCG'})\n",
    "], ignore_index=True)\n",
    "\n",
    "df_reshaped_BCG = df_reshaped_BCG.sort_values(by=['CASEID', 'Child_Age']).reset_index(drop=True)\n",
    "\n",
    "print(df_reshaped_BCG)"
   ]
  },
  {
   "cell_type": "code",
   "execution_count": null,
   "metadata": {},
   "outputs": [],
   "source": []
  },
  {
   "cell_type": "code",
   "execution_count": null,
   "metadata": {},
   "outputs": [],
   "source": [
    "calculate_vaccination_coverage(df_reshaped_BCG, 12, 23, 'BCG')"
   ]
  },
  {
   "cell_type": "markdown",
   "metadata": {},
   "source": [
    "## DPT1"
   ]
  },
  {
   "cell_type": "code",
   "execution_count": null,
   "metadata": {},
   "outputs": [],
   "source": [
    "# Define the columns range from 'H3$01' to 'H3$20'\n",
    "columns_range = [f'H3${i:02}' for i in range(1, 21)]\n",
    "\n",
    "# Call the function to replace values in the specified columns\n",
    "df = replace_values_in_columns(df, columns_range)"
   ]
  },
  {
   "cell_type": "code",
   "execution_count": null,
   "metadata": {},
   "outputs": [],
   "source": [
    "df['H3$02'].isna().sum()"
   ]
  },
  {
   "cell_type": "code",
   "execution_count": null,
   "metadata": {},
   "outputs": [],
   "source": [
    "print(df['H3$02'].unique())\n",
    "print(df['H3$02'].value_counts())\n",
    "print(df['H3$01'].unique())\n",
    "print(df['H3$01'].value_counts())"
   ]
  },
  {
   "cell_type": "code",
   "execution_count": null,
   "metadata": {},
   "outputs": [],
   "source": [
    "# Reshape the data from wide to long format\n",
    "df_reshaped_DPT1 = pd.concat([\n",
    "    df[['CASEID', 'H1B$01', 'H3$01','sample_weight']].rename(columns={'H1B$01': 'Child_Age', 'H3$01': 'DPT1'}),\n",
    "    df[['CASEID', 'H1B$02', 'H3$02','sample_weight']].rename(columns={'H1B$02': 'Child_Age', 'H3$02': 'DPT1'})\n",
    "], ignore_index=True)\n",
    "\n",
    "df_reshaped_DPT1 = df_reshaped_DPT1.sort_values(by=['CASEID', 'Child_Age']).reset_index(drop=True)\n",
    "\n",
    "print(df_reshaped_DPT1)"
   ]
  },
  {
   "cell_type": "code",
   "execution_count": null,
   "metadata": {},
   "outputs": [],
   "source": [
    "# Group by child age\n",
    "grouped = df_reshaped.groupby([\"Child_Age\"])\n",
    "\n",
    "# Apply the weighted average function to your variables\n",
    "weighted_averages = grouped.apply(weighted_average)\n",
    "\n",
    "#reset index\n",
    "weighted_averages = weighted_averages.reset_index()"
   ]
  },
  {
   "cell_type": "code",
   "execution_count": null,
   "metadata": {},
   "outputs": [],
   "source": [
    "grouped.head(5)"
   ]
  },
  {
   "cell_type": "code",
   "execution_count": null,
   "metadata": {},
   "outputs": [],
   "source": [
    "calculate_vaccination_coverage(df_reshaped_DPT1, 12, 23, 'DPT1')"
   ]
  },
  {
   "cell_type": "markdown",
   "metadata": {},
   "source": [
    "## DPT2"
   ]
  },
  {
   "cell_type": "code",
   "execution_count": null,
   "metadata": {},
   "outputs": [],
   "source": [
    "# Define the columns range from 'H3$01' to 'H3$20'\n",
    "columns_range = [f'H5${i:02}' for i in range(1, 21)]\n",
    "\n",
    "# Call the function to replace values in the specified columns\n",
    "df = replace_values_in_columns(df, columns_range)"
   ]
  },
  {
   "cell_type": "code",
   "execution_count": null,
   "metadata": {},
   "outputs": [],
   "source": [
    "# Reshape the data from wide to long format\n",
    "df_reshaped_DPT2 = pd.concat([\n",
    "    df[['CASEID', 'H1B$01', 'H5$01','sample_weight']].rename(columns={'H1B$01': 'Child_Age', 'H5$01': 'DPT2'}),\n",
    "    df[['CASEID', 'H1B$02', 'H5$02','sample_weight']].rename(columns={'H1B$02': 'Child_Age', 'H5$02': 'DPT2'})\n",
    "], ignore_index=True)\n",
    "\n",
    "df_reshaped_DPT2 = df_reshaped_DPT2.sort_values(by=['CASEID', 'Child_Age']).reset_index(drop=True)\n",
    "\n",
    "print(df_reshaped3)"
   ]
  },
  {
   "cell_type": "code",
   "execution_count": null,
   "metadata": {},
   "outputs": [],
   "source": [
    "print(df['H5$01'].unique())\n",
    "print(df['H5$01'].value_counts())\n",
    "print(df['H5$02'].unique())\n",
    "print(df['H5$02'].value_counts())"
   ]
  },
  {
   "cell_type": "code",
   "execution_count": null,
   "metadata": {},
   "outputs": [],
   "source": [
    "calculate_vaccination_coverage(df_reshaped_DPT2, 12, 23, 'DPT2')"
   ]
  },
  {
   "cell_type": "markdown",
   "metadata": {},
   "source": [
    "## DPT3"
   ]
  },
  {
   "cell_type": "code",
   "execution_count": null,
   "metadata": {},
   "outputs": [],
   "source": [
    "# Define the columns range from 'H3$01' to 'H3$20'\n",
    "columns_range = [f'H7${i:02}' for i in range(1, 21)]\n",
    "\n",
    "# Call the function to replace values in the specified columns\n",
    "df = replace_values_in_columns(df, columns_range)"
   ]
  },
  {
   "cell_type": "code",
   "execution_count": null,
   "metadata": {},
   "outputs": [],
   "source": [
    "# Reshape the data from wide to long format\n",
    "df_reshaped_DPT3 = pd.concat([\n",
    "    df[['CASEID', 'H1B$01', 'H7$01','sample_weight']].rename(columns={'H1B$01': 'Child_Age', 'H7$01': 'DPT3'}),\n",
    "    df[['CASEID', 'H1B$02', 'H7$02','sample_weight']].rename(columns={'H1B$02': 'Child_Age', 'H7$02': 'DPT3'})\n",
    "], ignore_index=True)\n",
    "\n",
    "df_reshaped_DPT3 = df_reshaped_DPT3.sort_values(by=['CASEID', 'Child_Age']).reset_index(drop=True)\n",
    "\n",
    "print(df_reshaped1)"
   ]
  },
  {
   "cell_type": "code",
   "execution_count": null,
   "metadata": {},
   "outputs": [],
   "source": [
    "print(df['H7$01'].unique())\n",
    "print(df['H7$01'].value_counts())"
   ]
  },
  {
   "cell_type": "code",
   "execution_count": null,
   "metadata": {},
   "outputs": [],
   "source": [
    "calculate_vaccination_coverage(df_reshaped_DPT3, 12, 23, 'DPT3')"
   ]
  },
  {
   "cell_type": "markdown",
   "metadata": {},
   "source": [
    "## Polio1"
   ]
  },
  {
   "cell_type": "code",
   "execution_count": null,
   "metadata": {},
   "outputs": [],
   "source": [
    "# Define the columns range from 'H3$01' to 'H3$20'\n",
    "columns_range = [f'H4${i:02}' for i in range(1, 21)]\n",
    "\n",
    "# Call the function to replace values in the specified columns\n",
    "df = replace_values_in_columns(df, columns_range)"
   ]
  },
  {
   "cell_type": "code",
   "execution_count": null,
   "metadata": {},
   "outputs": [],
   "source": [
    "print(df['H4$01'].unique())\n",
    "print(df['H4$01'].value_counts())\n",
    "print(df['H4$02'].unique())\n",
    "print(df['H4$02'].value_counts())"
   ]
  },
  {
   "cell_type": "code",
   "execution_count": null,
   "metadata": {},
   "outputs": [],
   "source": [
    "# Reshape the data from wide to long format\n",
    "df_reshaped_Polio1= pd.concat([\n",
    "    df[['CASEID', 'H1B$01', 'H4$01','sample_weight']].rename(columns={'H1B$01': 'Child_Age', 'H4$01': 'Polio1'}),\n",
    "    df[['CASEID', 'H1B$02', 'H4$02','sample_weight']].rename(columns={'H1B$02': 'Child_Age', 'H4$02': 'Polio1'})\n",
    "], ignore_index=True)\n",
    "\n",
    "df_reshaped_Polio1 = df_reshaped_Polio1.sort_values(by=['CASEID', 'Child_Age']).reset_index(drop=True)\n",
    "\n",
    "print(df_reshaped_Polio1)"
   ]
  },
  {
   "cell_type": "code",
   "execution_count": null,
   "metadata": {},
   "outputs": [],
   "source": [
    "calculate_vaccination_coverage(df_reshaped_Polio1, 12, 23, 'Polio1')"
   ]
  },
  {
   "cell_type": "markdown",
   "metadata": {},
   "source": [
    "## Polio2"
   ]
  },
  {
   "cell_type": "code",
   "execution_count": null,
   "metadata": {},
   "outputs": [],
   "source": [
    "# Define the columns range from 'H3$01' to 'H3$20'\n",
    "columns_range = [f'H6${i:02}' for i in range(1, 21)]\n",
    "\n",
    "# Call the function to replace values in the specified columns\n",
    "df = replace_values_in_columns(df, columns_range)"
   ]
  },
  {
   "cell_type": "code",
   "execution_count": null,
   "metadata": {},
   "outputs": [],
   "source": [
    "print(df['H6$01'].unique())\n",
    "print(df['H6$01'].value_counts())\n",
    "print(df['H6$02'].unique())\n",
    "print(df['H6$02'].value_counts())"
   ]
  },
  {
   "cell_type": "code",
   "execution_count": null,
   "metadata": {},
   "outputs": [],
   "source": [
    "# Reshape the data from wide to long format\n",
    "df_reshaped_polio2 = pd.concat([\n",
    "    df[['CASEID', 'H1B$01', 'H6$01','sample_weight']].rename(columns={'H1B$01': 'Child_Age', 'H6$01': 'Polio2'}),\n",
    "    df[['CASEID', 'H1B$02', 'H6$02','sample_weight']].rename(columns={'H1B$02': 'Child_Age', 'H6$02': 'Polio2'})\n",
    "], ignore_index=True)\n",
    "\n",
    "df_reshaped_polio2 = df_reshaped_polio2.sort_values(by=['CASEID', 'Child_Age']).reset_index(drop=True)\n",
    "\n",
    "print(df_reshaped_polio2)"
   ]
  },
  {
   "cell_type": "code",
   "execution_count": null,
   "metadata": {},
   "outputs": [],
   "source": [
    "calculate_vaccination_coverage(df_reshaped_polio2, 12, 23, 'Polio2')"
   ]
  },
  {
   "cell_type": "markdown",
   "metadata": {},
   "source": [
    "## Polio3"
   ]
  },
  {
   "cell_type": "code",
   "execution_count": null,
   "metadata": {},
   "outputs": [],
   "source": [
    "# Define the columns range from 'H3$01' to 'H3$20'\n",
    "columns_range = [f'H8${i:02}' for i in range(1, 21)]\n",
    "\n",
    "# Call the function to replace values in the specified columns\n",
    "df = replace_values_in_columns(df, columns_range)"
   ]
  },
  {
   "cell_type": "code",
   "execution_count": null,
   "metadata": {},
   "outputs": [],
   "source": [
    "print(df['H8$01'].unique())\n",
    "print(df['H8$01'].value_counts())\n",
    "print(df['H8$02'].unique())\n",
    "print(df['H8$02'].value_counts())"
   ]
  },
  {
   "cell_type": "code",
   "execution_count": null,
   "metadata": {},
   "outputs": [],
   "source": [
    "# Reshape the data from wide to long format\n",
    "df_reshaped_polio3 = pd.concat([\n",
    "    df[['CASEID', 'H1B$01', 'H8$01','sample_weight']].rename(columns={'H1B$01': 'Child_Age', 'H8$01': 'Polio3'}),\n",
    "    df[['CASEID', 'H1B$02', 'H8$02','sample_weight']].rename(columns={'H1B$02': 'Child_Age', 'H8$02': 'Polio3'})\n",
    "], ignore_index=True)\n",
    "\n",
    "df_reshaped_polio3 = df_reshaped_polio3.sort_values(by=['CASEID', 'Child_Age']).reset_index(drop=True)\n",
    "\n",
    "print(df_reshaped_polio3)"
   ]
  },
  {
   "cell_type": "code",
   "execution_count": null,
   "metadata": {},
   "outputs": [],
   "source": [
    "calculate_vaccination_coverage(df_reshaped_polio3, 12, 23, 'Polio3')"
   ]
  },
  {
   "cell_type": "markdown",
   "metadata": {},
   "source": [
    "## MEASLES"
   ]
  },
  {
   "cell_type": "markdown",
   "metadata": {},
   "source": [
    "## Results"
   ]
  },
  {
   "cell_type": "code",
   "execution_count": null,
   "metadata": {},
   "outputs": [],
   "source": []
  },
  {
   "cell_type": "code",
   "execution_count": null,
   "metadata": {},
   "outputs": [],
   "source": [
    "print(\"BCG Vaccination Coverage for children between 12 to 23 months: {:.2f}%\".format(percentage_vaccinated_BCG))\n",
    "print(\"DPT1 Vaccination Coverage for children between 12 to 23 months: {:.2f}%\".format(percentage_vaccinated_DPT1))\n",
    "print(\"DPT2 Vaccination Coverage for children between 12 to 23 months: {:.2f}%\".format(percentage_vaccinated_DPT2))\n",
    "print(\"DPT3 Vaccination Coverage for children between 12 to 23 months: {:.2f}%\".format(percentage_vaccinated_DPT3))\n",
    "print(\"Polio1 Vaccination Coverage for children between 12 to 23 months: {:.2f}%\".format(percentage_vaccinated_Polio1))\n",
    "print(\"Polio2 Vaccination Coverage for children between 12 to 23 months: {:.2f}%\".format(percentage_vaccinated_Polio2))\n",
    "print(\"Polio3 Vaccination Coverage for children between 12 to 23 months: {:.2f}%\".format(percentage_vaccinated_Polio3))"
   ]
  }
 ],
 "metadata": {
  "kernelspec": {
   "display_name": "Python 3",
   "language": "python",
   "name": "python3"
  },
  "language_info": {
   "codemirror_mode": {
    "name": "ipython",
    "version": 3
   },
   "file_extension": ".py",
   "mimetype": "text/x-python",
   "name": "python",
   "nbconvert_exporter": "python",
   "pygments_lexer": "ipython3",
   "version": "3.8.5"
  }
 },
 "nbformat": 4,
 "nbformat_minor": 4
}
