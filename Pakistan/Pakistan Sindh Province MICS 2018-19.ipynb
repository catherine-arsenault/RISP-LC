{
 "cells": [
  {
   "cell_type": "markdown",
   "metadata": {},
   "source": [
    "# Pakistan Sindh Province MICS 2018-19"
   ]
  },
  {
   "cell_type": "code",
   "execution_count": 1,
   "metadata": {},
   "outputs": [
    {
     "name": "stderr",
     "output_type": "stream",
     "text": [
      "C:\\Users\\swalke\\Anaconda3\\lib\\site-packages\\pandas\\core\\computation\\expressions.py:20: UserWarning: Pandas requires version '2.7.3' or newer of 'numexpr' (version '2.7.1' currently installed).\n",
      "  from pandas.core.computation.check import NUMEXPR_INSTALLED\n"
     ]
    }
   ],
   "source": [
    "import pyreadstat\n",
    "import warnings\n",
    "warnings.filterwarnings(\"ignore\")\n",
    "from googletrans import Translator\n",
    "from googletrans import Translator\n",
    "import pandas as pd\n",
    "import numpy as np"
   ]
  },
  {
   "cell_type": "code",
   "execution_count": 2,
   "metadata": {},
   "outputs": [],
   "source": [
    "def calculate_weighted_percentage(df, column_name):\n",
    "    filtered_df = df[df['UB2'] == 1]\n",
    "    weighted_percentage = round(filtered_df[column_name].mean() * 100,1)\n",
    "    print(\"Weighted percentage of '{}' if 'UB2' is 1: {}\".format(column_name, weighted_percentage))"
   ]
  },
  {
   "cell_type": "code",
   "execution_count": 3,
   "metadata": {},
   "outputs": [],
   "source": [
    "# Function to calculate vaccination coverage for each child_residence between specific age group\n",
    "def calculate_vaccination_coverage_child_residence(df, residence, vaccine_column):\n",
    "    filtered_df = df[(df['UB2']==1) & (df['residence']== residence)]\n",
    "\n",
    "    # Calculate the percentage of children vaccinated with the specified vaccine\n",
    "    # Count non-null values in the vaccine_column\n",
    "    weighted_percentage = round(filtered_df[vaccine_column].mean() * 100,1)\n",
    "    #print(\"Weighted percentage of '{}' if 'UB2' is 1: {}\".format(vaccine_column, weighted_percentage))                  \n",
    "    return weighted_percentage\n"
   ]
  },
  {
   "cell_type": "code",
   "execution_count": 4,
   "metadata": {},
   "outputs": [],
   "source": [
    "# Function to calculate vaccination coverage for each region between specific age group\n",
    "def calculate_vaccination_coverage_region(df, region, vaccine_column):\n",
    "    # Filter rows where child_age is between min_age and max_age and region matches\n",
    "    filtered_df = df[(df['UB2']==1) & (df['region'] == region)]\n",
    "\n",
    "    # Calculate the percentage of children vaccinated with the specified vaccine\n",
    "    total_children = filtered_df[vaccine_column].count()  # Count non-null values in the vaccine_column\n",
    "    if total_children == 0:\n",
    "        print(\"No children found for the specified age range and region: {}.\".format(region))\n",
    "        return 0\n",
    "    percentage_vaccinated = round(filtered_df[vaccine_column].mean() * 100,1)\n",
    "    #print(\"{} Vaccination Coverage for children in {} between {} to {} months using dataset: {:.2f}%\".format(vaccine_column, region, min_age, max_age, percentage_vaccinated))\n",
    "    return percentage_vaccinated"
   ]
  },
  {
   "cell_type": "code",
   "execution_count": 5,
   "metadata": {},
   "outputs": [],
   "source": [
    "# Function to calculate vaccination coverage for each child_gender between specific age group\n",
    "def calculate_vaccination_coverage_child_gender(df, gender, vaccine_column):\n",
    "    filtered_df = df[(df['UB2']==1) & (df['gender']== gender)]\n",
    "\n",
    "    # Calculate the percentage of children vaccinated with the specified vaccine\n",
    "    # Count non-null values in the vaccine_column\n",
    "    weighted_percentage = round(filtered_df[vaccine_column].mean() * 100,1)\n",
    "    #print(\"Weighted percentage of '{}' if 'UB2' is 1: {}\".format(vaccine_column, weighted_percentage))                  \n",
    "    return weighted_percentage\n"
   ]
  },
  {
   "cell_type": "code",
   "execution_count": 6,
   "metadata": {},
   "outputs": [],
   "source": [
    "def calculate_vaccination_coverage_district(df, district, vaccine_column):\n",
    "    # Filter rows where district matches\n",
    "    filtered_df = df[(df['UB2']==1) & (df['district'] == district)]\n",
    "    total_children = filtered_df[vaccine_column].count()  # Count non-null values in the vaccine_column\n",
    "    if total_children == 0:\n",
    "        print(\"No children found for the specified district: {}.\".format(district))\n",
    "        return 0\n",
    "    percentage_vaccinated = round(filtered_df[vaccine_column].mean() * 100, 1)\n",
    "    return percentage_vaccinated"
   ]
  },
  {
   "cell_type": "markdown",
   "metadata": {},
   "source": [
    "# Reading the dataframe"
   ]
  },
  {
   "cell_type": "code",
   "execution_count": 56,
   "metadata": {},
   "outputs": [],
   "source": [
    "df, meta = pyreadstat.read_sav(\"C:/Users/swalke/Desktop/RISP/PAK Sindh 2018-19.sav\")"
   ]
  },
  {
   "cell_type": "code",
   "execution_count": 8,
   "metadata": {},
   "outputs": [
    {
     "data": {
      "text/plain": [
       "{0.0: 'NOT GIVEN',\n",
       " 44.0: 'MARKED ON CARD',\n",
       " 66.0: 'MOTHER REPORTED',\n",
       " 97.0: 'Inconsistent',\n",
       " 98.0: 'DK',\n",
       " 99.0: 'NO RESPONSE'}"
      ]
     },
     "execution_count": 8,
     "metadata": {},
     "output_type": "execute_result"
    }
   ],
   "source": [
    "# Access variable labels\n",
    "variable_labels = meta.column_labels\n",
    "\n",
    "# Access value labels for a specific variable\n",
    "value_labels = meta.variable_value_labels.get(\"IM6BD\")\n",
    "value_labels"
   ]
  },
  {
   "cell_type": "code",
   "execution_count": 9,
   "metadata": {},
   "outputs": [
    {
     "data": {
      "text/plain": [
       "IM6BY\n",
       "2018.0    1743\n",
       "2017.0    1301\n",
       "2016.0     856\n",
       "2019.0     105\n",
       "2015.0       5\n",
       "9999.0       2\n",
       "Name: count, dtype: int64"
      ]
     },
     "execution_count": 9,
     "metadata": {},
     "output_type": "execute_result"
    }
   ],
   "source": [
    "df['IM6BY'].value_counts()"
   ]
  },
  {
   "cell_type": "code",
   "execution_count": 10,
   "metadata": {},
   "outputs": [
    {
     "data": {
      "text/plain": [
       "{0.0: 'NOT GIVEN',\n",
       " 44.0: 'MARKED ON CARD',\n",
       " 66.0: 'MOTHER REPORTED',\n",
       " 97.0: 'Inconsistent',\n",
       " 98.0: 'DK',\n",
       " 99.0: 'NO RESPONSE'}"
      ]
     },
     "execution_count": 10,
     "metadata": {},
     "output_type": "execute_result"
    }
   ],
   "source": [
    "# Access variable labels\n",
    "variable_labels = meta.column_labels\n",
    "\n",
    "# Access value labels for a specific variable\n",
    "value_labels = meta.variable_value_labels.get(\"IM6P1D\")\n",
    "value_labels"
   ]
  },
  {
   "cell_type": "code",
   "execution_count": 57,
   "metadata": {},
   "outputs": [],
   "source": [
    "# Define mapping variables\n",
    "day_mapping = {range(1, 67): True,97.0:True, 98.0:np.nan, 99: np.nan, 0.0:False}\n",
    "month_mapping ={range(1, 67): True, 97.07: True,97.0:True, 98.0:np.nan, 99: np.nan, 0.0:False}\n",
    "year_mapping = {2014:True, 2015:True, 2016:True, 2017:True, 2018:True, 2019:True, 4444:True, 6666:True, 9997.0:True, 9999:np.nan,0.0:False}"
   ]
  },
  {
   "cell_type": "code",
   "execution_count": 58,
   "metadata": {},
   "outputs": [],
   "source": [
    "df['card'] = df['IM2'].replace({1:True, 2:True, 3:True, 4:False, 9:np.nan})"
   ]
  },
  {
   "cell_type": "code",
   "execution_count": 59,
   "metadata": {},
   "outputs": [],
   "source": [
    "df['recall'] = df['IM11'].replace({1:True, 2: False, 8: np.nan, 9: np.nan})"
   ]
  },
  {
   "cell_type": "code",
   "execution_count": 65,
   "metadata": {},
   "outputs": [],
   "source": [
    "df['bcgday'] = df['IM6BD'].replace(day_mapping)\n",
    "df['bcgmonth'] = df['IM6BM'].replace(month_mapping)\n",
    "df['bcgyr'] = df['IM6BY'].replace(year_mapping)\n",
    "\n",
    "\n",
    "df['polio0day'] = df['IM6P0D'].replace(day_mapping)\n",
    "df['polio0month'] = df['IM6P0M'].replace(month_mapping)\n",
    "df['polio0yr'] = df['IM6P0Y'].replace(year_mapping)\n",
    "\n",
    "df['polio1day'] = df['IM6P1D'].replace(day_mapping)\n",
    "df['polio1month'] = df['IM6P1M'].replace(month_mapping)\n",
    "df['polio1yr'] = df['IM6P1Y'].replace(year_mapping)\n",
    "\n",
    "df['polio2day'] = df['IM6P2D'].replace(day_mapping)\n",
    "df['polio2month'] = df['IM6P2M'].replace(month_mapping)\n",
    "df['polio2yr'] = df['IM6P2Y'].replace(year_mapping)\n",
    "\n",
    "\n",
    "df['polio3day'] = df['IM6P3D'].replace(day_mapping)\n",
    "df['polio3month'] = df['IM6P3M'].replace(month_mapping)\n",
    "df['polio3yr'] = df['IM6P3Y'].replace(year_mapping)\n",
    "\n",
    "\n",
    "df['ipvday'] = df['IM6ID'].replace(day_mapping)\n",
    "df['ipvmonth'] = df['IM6IM'].replace(month_mapping)\n",
    "df['ipvyr'] = df['IM6IY'].replace(year_mapping)\n",
    "\n",
    "\n",
    "df['penta1day'] = df['IM6PENTA1D'].replace(day_mapping)\n",
    "df['penta1month'] = df['IM6PENTA1M'].replace(month_mapping)\n",
    "df['penta1yr'] = df['IM6PENTA1Y'].replace(year_mapping)\n",
    "\n",
    "\n",
    "df['penta2day'] = df['IM6PENTA2D'].replace(day_mapping)\n",
    "df['penta2month'] = df['IM6PENTA2M'].replace(month_mapping)\n",
    "df['penta2yr'] = df['IM6PENTA2Y'].replace(year_mapping)\n",
    "\n",
    "\n",
    "df['penta3day'] = df['IM6PENTA3D'].replace(day_mapping)\n",
    "df['penta3month'] = df['IM6PENTA3M'].replace(month_mapping)\n",
    "df['penta3yr'] = df['IM6PENTA3Y'].replace(year_mapping)\n",
    "\n",
    "df['mcvday'] = df['IM6M1D'].replace(day_mapping)\n",
    "df['mcvmonth'] = df['IM6M1M'].replace(month_mapping)\n",
    "df['mcvyr'] = df['IM6M1Y'].replace(year_mapping)\n",
    "\n",
    "\n",
    "#df['yfday'] = df['IM6YD'].replace(day_mapping)\n",
    "#df['yfmonth'] = df['IM6YM'].replace(month_mapping)\n",
    "#df['yfyr'] = df['IM6YY'].replace(year_mapping)\n",
    "\n",
    "df['pcv1day'] = df['IM6PCV1D'].replace(day_mapping)\n",
    "df['pcv1month'] = df['IM6PCV1M'].replace(month_mapping)\n",
    "df['pcv1yr'] = df['IM6PCV1Y'].replace(year_mapping)\n",
    "\n",
    "df['pcv2day'] = df['IM6PCV2D'].replace(day_mapping)\n",
    "df['pcv2month'] = df['IM6PCV2M'].replace(month_mapping)\n",
    "df['pcv2yr'] = df['IM6PCV2Y'].replace(year_mapping)\n",
    "\n",
    "df['pcv3day'] = df['IM6PCV3D'].replace(day_mapping)\n",
    "df['pcv3month'] = df['IM6PCV3M'].replace(month_mapping)\n",
    "df['pcv3yr'] = df['IM6PCV3Y'].replace(year_mapping)"
   ]
  },
  {
   "cell_type": "markdown",
   "metadata": {},
   "source": [
    "# BCG"
   ]
  },
  {
   "cell_type": "code",
   "execution_count": 61,
   "metadata": {},
   "outputs": [],
   "source": [
    "df['bcg_card'] = df[['bcgday', 'bcgmonth','bcgyr']].max(axis=1)\n",
    "df.loc[df['card'] == 0, 'bcg_card'] = False\n",
    "\n",
    "df['bcg_recall'] = df['IM14'].replace({1.0: True, 2.0: False,8: np.nan, 9: np.nan})\n",
    "df.loc[df['recall'] == 0, 'bcg_recall'] = False\n",
    "\n",
    "df['bcg'] = df[['bcg_card', 'bcg_recall']].max(axis=1)\n",
    "df['bcg_sampled']=df['bcg']*df['chweight']"
   ]
  },
  {
   "cell_type": "code",
   "execution_count": 62,
   "metadata": {},
   "outputs": [
    {
     "data": {
      "text/plain": [
       "{1.0: 'YES', 2.0: 'NO', 8.0: 'DK', 9.0: 'NO RESPONSE'}"
      ]
     },
     "execution_count": 62,
     "metadata": {},
     "output_type": "execute_result"
    }
   ],
   "source": [
    "# Access variable labels\n",
    "variable_labels = meta.column_labels\n",
    "\n",
    "# Access value labels for a specific variable\n",
    "value_labels = meta.variable_value_labels.get(\"IM14\")\n",
    "value_labels"
   ]
  },
  {
   "cell_type": "code",
   "execution_count": 63,
   "metadata": {},
   "outputs": [
    {
     "data": {
      "text/plain": [
       "bcg\n",
       "True     7435\n",
       "False    2642\n",
       "Name: count, dtype: int64"
      ]
     },
     "execution_count": 63,
     "metadata": {},
     "output_type": "execute_result"
    }
   ],
   "source": [
    "df['bcg'].value_counts()"
   ]
  },
  {
   "cell_type": "code",
   "execution_count": 18,
   "metadata": {},
   "outputs": [
    {
     "name": "stdout",
     "output_type": "stream",
     "text": [
      "Weighted percentage of 'bcg' if 'UB2' is 1: 78.0\n"
     ]
    }
   ],
   "source": [
    "calculate_weighted_percentage(df, 'bcg')"
   ]
  },
  {
   "cell_type": "code",
   "execution_count": 19,
   "metadata": {},
   "outputs": [
    {
     "name": "stdout",
     "output_type": "stream",
     "text": [
      "Weighted percentage of 'bcg_sampled' if 'UB2' is 1: 79.5\n"
     ]
    }
   ],
   "source": [
    "calculate_weighted_percentage(df, 'bcg_sampled')"
   ]
  },
  {
   "cell_type": "markdown",
   "metadata": {},
   "source": [
    "# Polio"
   ]
  },
  {
   "cell_type": "code",
   "execution_count": 77,
   "metadata": {},
   "outputs": [],
   "source": [
    "#polio0\n",
    "df['polio0_card'] = df[['polio0day', 'polio0month','polio0yr']].max(axis=1)\n",
    "df.loc[df['card'] == False, 'polio0_card'] = False\n",
    "\n",
    "df['polio0_recall1'] = df['IM17'].replace({1: 1, 2: 0, 3: 0, 4: 0, 5: 0, 6: 0, 7: 0, 8: np.nan, 9: np.nan})\n",
    "df.loc[df['recall'] == False, 'polio0_recall1'] = False\n",
    "\n",
    "df['polio0'] = df[['polio0_card','polio0_recall1']].max(axis=1)\n",
    "df['polio0_sampled']=df['polio0']*df['chweight']"
   ]
  },
  {
   "cell_type": "code",
   "execution_count": 78,
   "metadata": {},
   "outputs": [],
   "source": [
    "#Polio1\n",
    "df['polio1_card'] = df[['polio1day', 'polio1month','polio1yr']].max(axis=1)\n",
    "df.loc[df['card'] == False, 'polio1_card'] = False\n",
    "\n",
    "df['polio1_recall1'] = df['IM18'].replace({1: 1, 2: 1, 3: 1, 4: 1, 5: 1, 6: 1, 7: 1, 8: np.nan, 9: np.nan})\n",
    "df.loc[df['recall'] == False, 'polio1_recall1'] = False\n",
    "\n",
    "df['polio1'] = df[['polio1_card','polio1_recall1']].max(axis=1)\n",
    "df['polio1_sampled']=df['polio1']*df['chweight']"
   ]
  },
  {
   "cell_type": "code",
   "execution_count": 79,
   "metadata": {},
   "outputs": [],
   "source": [
    "#Polio2\n",
    "df['polio2_card'] = df[['polio2day', 'polio2month','polio2yr']].max(axis=1)\n",
    "df.loc[df['card'] == False, 'polio2_card'] = False\n",
    "\n",
    "df['polio2_recall'] = df['IM18'].replace({1: 0, 2: 1, 3: 1, 4: 1, 5: 1, 6: 1, 7: 1, 8: np.nan, 9: np.nan})\n",
    "df.loc[df['recall'] == False, 'polio2_recall'] = False\n",
    "\n",
    "df['polio2'] = df[['polio2_card','polio2_recall']].max(axis=1)\n",
    "df['polio2_sampled']=df['polio2']*df['chweight']"
   ]
  },
  {
   "cell_type": "code",
   "execution_count": 80,
   "metadata": {},
   "outputs": [],
   "source": [
    "#Polio3\n",
    "df['polio3_card'] = df[['polio3day', 'polio3month','polio3yr']].max(axis=1)\n",
    "df.loc[df['card'] == False, 'polio3_card'] = False\n",
    "\n",
    "df['polio3_recall'] = df['IM18'].replace({1: 0, 2: 0, 3: 1, 4: 1, 5: 1, 6: 1, 7: 1, 8: np.nan, 9: np.nan})\n",
    "df.loc[df['recall'] == False, 'polio3_recall'] = False\n",
    "\n",
    "df['polio3'] = df[['polio3_card','polio3_recall']].max(axis=1)\n",
    "df['polio3_sampled']=df['polio3']*df['chweight']"
   ]
  },
  {
   "cell_type": "markdown",
   "metadata": {},
   "source": [
    "# Penta"
   ]
  },
  {
   "cell_type": "code",
   "execution_count": 68,
   "metadata": {},
   "outputs": [],
   "source": [
    "#penta1\n",
    "\n",
    "df['penta1_card'] = df[['penta1day', 'penta1month','penta1yr']].max(axis=1)\n",
    "df.loc[df['card'] == False, 'penta1_card'] = False\n",
    "\n",
    "df['penta1_recall'] = df['IM21'].replace({1: 1, 2: 1, 3: 1, 4: 1, 5: 1, 6: 1, 7: 1, 8: np.nan, 9: np.nan})\n",
    "df.loc[df['recall'] == False, 'polio1_recall'] = False\n",
    "\n",
    "df['penta1'] = df[['penta1_card', 'penta1_recall']].max(axis=1)\n",
    "df['penta1_sampled']=df['penta1']*df['chweight']"
   ]
  },
  {
   "cell_type": "code",
   "execution_count": 69,
   "metadata": {},
   "outputs": [],
   "source": [
    "# penta2\n",
    "df['penta2_card'] = df[['penta2day', 'penta2month','penta2yr']].max(axis=1)\n",
    "df.loc[df['card'] == False, 'penta2_card'] = False\n",
    "\n",
    "df['penta2_recall'] = df['IM21'].replace({1: 0, 2: 1, 3: 1, 4: 1, 5: 1, 6: 1, 7: 1, 8: np.nan, 9: np.nan})\n",
    "df.loc[df['recall'] == False, 'polio1_recall'] = False\n",
    "\n",
    "df['penta2'] = df[['penta2_card', 'penta2_recall']].max(axis=1)\n",
    "df['penta2_sampled']=df['penta2']*df['chweight']"
   ]
  },
  {
   "cell_type": "code",
   "execution_count": 70,
   "metadata": {},
   "outputs": [],
   "source": [
    "# penta3\n",
    "df['penta3_card'] = df[['penta3day', 'penta3month','penta3yr']].max(axis=1)\n",
    "df.loc[df['card'] == False, 'penta3_card'] = False\n",
    "\n",
    "df['penta3_recall'] = df['IM21'].replace({1: 0, 2: 0, 3: 1, 4: 1, 5: 1, 6: 1, 7: 1, 8: np.nan, 9: np.nan})\n",
    "df.loc[df['recall'] == False, 'polio1_recall'] = False\n",
    "\n",
    "df['penta3'] = df[['penta3_card', 'penta3_recall']].max(axis=1)\n",
    "df['penta3_sampled']=df['penta3']*df['chweight']"
   ]
  },
  {
   "cell_type": "markdown",
   "metadata": {},
   "source": [
    "# Yellow Fever"
   ]
  },
  {
   "cell_type": "markdown",
   "metadata": {},
   "source": [
    "# PCV"
   ]
  },
  {
   "cell_type": "code",
   "execution_count": 71,
   "metadata": {},
   "outputs": [],
   "source": [
    "#pcv1\n",
    "df['pcv1_card'] = df[['pcv1day', 'pcv1month','pcv1yr']].max(axis=1)\n",
    "df.loc[df['card'] == False, 'pcv1_card'] = False\n",
    "\n",
    "df['pcv1_recall1'] = df['IM23'].replace({1: 1, 2: 1, 3: 1, 4: 1, 5: 1, 6: 1, 7: 1, 8: np.nan, 9: np.nan})\n",
    "df.loc[df['recall'] == False, 'pcv1_recall1'] = False\n",
    "\n",
    "df['pcv1'] = df[['pcv1_card','pcv1_recall1']].max(axis=1)\n",
    "df['pcv1_sampled']=df['pcv1']*df['chweight']\n",
    "\n",
    "\n"
   ]
  },
  {
   "cell_type": "code",
   "execution_count": 72,
   "metadata": {},
   "outputs": [],
   "source": [
    "#pcv2\n",
    "df['pcv2_card'] = df[['pcv2day', 'pcv2month','pcv2yr']].max(axis=1)\n",
    "df.loc[df['card'] == False, 'pcv2_card'] = False\n",
    "\n",
    "df['pcv2_recall'] = df['IM23'].replace({1: 0, 2: 1, 3: 1, 4: 1, 5: 1, 6: 1, 7: 1, 8: np.nan, 9: np.nan})\n",
    "df.loc[df['recall'] == False, 'pcv2_recall'] = False\n",
    "\n",
    "df['pcv2'] = df[['pcv2_card','pcv2_recall']].max(axis=1)\n",
    "df['pcv2_sampled']=df['pcv2']*df['chweight']"
   ]
  },
  {
   "cell_type": "code",
   "execution_count": 73,
   "metadata": {},
   "outputs": [],
   "source": [
    "\n",
    "#pcv3\n",
    "df['pcv3_card'] = df[['pcv3day', 'pcv3month','pcv3yr']].max(axis=1)\n",
    "df.loc[df['card'] == False, 'pcv3_card'] = False\n",
    "\n",
    "df['pcv3_recall'] = df['IM23'].replace({1: 0, 2: 0, 3: 1, 4: 1, 5: 1, 6: 1, 7: 1, 8: np.nan, 9: np.nan})\n",
    "df.loc[df['recall'] == False, 'pcv3_recall'] = False\n",
    "\n",
    "df['pcv3'] = df[['pcv3_card','pcv3_recall']].max(axis=1)\n",
    "df['pcv3_sampled']=df['pcv3']*df['chweight']"
   ]
  },
  {
   "cell_type": "markdown",
   "metadata": {},
   "source": [
    "# IPV"
   ]
  },
  {
   "cell_type": "code",
   "execution_count": 74,
   "metadata": {},
   "outputs": [],
   "source": [
    "df['ipv'] = df[['ipvday', 'ipvmonth','ipvyr']].max(axis=1)\n",
    "df.loc[df['card'] == False, 'ipv'] = False\n",
    "\n",
    "#df['ipv_recall'] = df['IM23'].replace({1: 0, 2: 0, 3: 1, 4: 1, 5: 1, 6: 1, 7: 1, 8: np.nan, 9: np.nan})\n",
    "#df.loc[df['recall'] == False, 'ipv_recall'] = False\n",
    "\n",
    "#df['ipv'] = df[['ipv_card','ipv_recall']].max(axis=1)\n",
    "df['ipv_sampled']=df['ipv']*df['chweight']"
   ]
  },
  {
   "cell_type": "markdown",
   "metadata": {},
   "source": [
    "# mcv"
   ]
  },
  {
   "cell_type": "code",
   "execution_count": 75,
   "metadata": {},
   "outputs": [],
   "source": [
    "df['mcv_card'] = df[['mcvday', 'mcvmonth','mcvyr']].max(axis=1)\n",
    "df.loc[df['card'] == False, 'mcv_card'] = False\n",
    "\n",
    "df['mcv_recall'] = df['IM26'].replace({1: 1, 2: 0, 8: np.nan, 9: np.nan})\n",
    "df.loc[df['recall'] == False, 'mcv_recall'] = False\n",
    "\n",
    "df['mcv'] = df[['mcv_card','mcv_recall']].max(axis=1)\n",
    "df['mcv_sampled']=df['mcv']*df['chweight']"
   ]
  },
  {
   "cell_type": "markdown",
   "metadata": {},
   "source": [
    "# Vaccination Calulations"
   ]
  },
  {
   "cell_type": "code",
   "execution_count": 81,
   "metadata": {},
   "outputs": [
    {
     "name": "stdout",
     "output_type": "stream",
     "text": [
      "Weighted percentage of 'bcg_sampled' if 'UB2' is 1: 79.5\n",
      "Weighted percentage of 'penta1_sampled' if 'UB2' is 1: 72.8\n",
      "Weighted percentage of 'penta3_sampled' if 'UB2' is 1: 54.8\n",
      "Weighted percentage of 'mcv_sampled' if 'UB2' is 1: 60.6\n",
      "Weighted percentage of 'polio0_sampled' if 'UB2' is 1: 77.3\n",
      "Weighted percentage of 'polio1_sampled' if 'UB2' is 1: 68.3\n",
      "Weighted percentage of 'polio3_sampled' if 'UB2' is 1: 51.3\n",
      "Weighted percentage of 'pcv1_sampled' if 'UB2' is 1: 67.7\n",
      "Weighted percentage of 'pcv3_sampled' if 'UB2' is 1: 51.2\n",
      "Weighted percentage of 'ipv_sampled' if 'UB2' is 1: 38.5\n"
     ]
    }
   ],
   "source": [
    "calculate_weighted_percentage(df, 'bcg_sampled')\n",
    "calculate_weighted_percentage(df, 'penta1_sampled')\n",
    "calculate_weighted_percentage(df, 'penta3_sampled')\n",
    "calculate_weighted_percentage(df, 'mcv_sampled')\n",
    "calculate_weighted_percentage(df, 'polio0_sampled')\n",
    "calculate_weighted_percentage(df, 'polio1_sampled')\n",
    "calculate_weighted_percentage(df, 'polio3_sampled')\n",
    "\n",
    "#calculate_weighted_percentage(df, 'yf_sampled')\n",
    "calculate_weighted_percentage(df, 'pcv1_sampled')\n",
    "calculate_weighted_percentage(df, 'pcv3_sampled')\n",
    "\n",
    "calculate_weighted_percentage(df, 'ipv_sampled')"
   ]
  },
  {
   "cell_type": "code",
   "execution_count": 32,
   "metadata": {},
   "outputs": [
    {
     "name": "stdout",
     "output_type": "stream",
     "text": [
      "Weighted percentage of 'bcg' if 'UB2' is 1: 78.0\n",
      "Weighted percentage of 'polio1' if 'UB2' is 1: 66.2\n",
      "Weighted percentage of 'polio3' if 'UB2' is 1: 49.1\n",
      "Weighted percentage of 'penta1' if 'UB2' is 1: 70.9\n",
      "Weighted percentage of 'penta3' if 'UB2' is 1: 52.6\n",
      "Weighted percentage of 'pcv1' if 'UB2' is 1: 66.0\n",
      "Weighted percentage of 'pcv3' if 'UB2' is 1: 49.4\n",
      "Weighted percentage of 'measles' if 'UB2' is 1: 59.2\n",
      "Weighted percentage of 'ipv' if 'UB2' is 1: 37.8\n"
     ]
    }
   ],
   "source": [
    "calculate_weighted_percentage(df, 'bcg')\n",
    "calculate_weighted_percentage(df, 'polio1')\n",
    "calculate_weighted_percentage(df, 'polio3')\n",
    "calculate_weighted_percentage(df, 'penta1')\n",
    "calculate_weighted_percentage(df, 'penta3')\n",
    "#calculate_weighted_percentage(df, 'yf_sampled')\n",
    "calculate_weighted_percentage(df, 'pcv1')\n",
    "calculate_weighted_percentage(df, 'pcv3')\n",
    "calculate_weighted_percentage(df, 'mcv')\n",
    "calculate_weighted_percentage(df, 'ipv')"
   ]
  },
  {
   "cell_type": "code",
   "execution_count": 82,
   "metadata": {},
   "outputs": [],
   "source": [
    "# rename columns in dataframe\n",
    "df = df.rename(columns={'HL4': 'gender','HH6':'residence','division':'district','HH7':'region',})"
   ]
  },
  {
   "cell_type": "code",
   "execution_count": 85,
   "metadata": {},
   "outputs": [
    {
     "data": {
      "text/plain": [
       "{1.0: 'Hyderabad',\n",
       " 2.0: 'Karachi',\n",
       " 3.0: 'Larkana',\n",
       " 4.0: 'Mirpurkhas',\n",
       " 5.0: 'Shaheed Benazirabad',\n",
       " 6.0: 'Sukkur'}"
      ]
     },
     "execution_count": 85,
     "metadata": {},
     "output_type": "execute_result"
    }
   ],
   "source": [
    "# Access variable labels\n",
    "variable_labels = meta.column_labels\n",
    "\n",
    "# Access value labels for a specific variable\n",
    "value_labels = meta.variable_value_labels.get(\"division\")\n",
    "value_labels"
   ]
  },
  {
   "cell_type": "code",
   "execution_count": 84,
   "metadata": {},
   "outputs": [
    {
     "data": {
      "text/plain": [
       "residence\n",
       "2.0    10480\n",
       "1.0     7832\n",
       "Name: count, dtype: int64"
      ]
     },
     "execution_count": 84,
     "metadata": {},
     "output_type": "execute_result"
    }
   ],
   "source": [
    "df['residence'].value_counts()"
   ]
  },
  {
   "cell_type": "code",
   "execution_count": 86,
   "metadata": {},
   "outputs": [],
   "source": [
    "district_mapping={1.0: 'Hyderabad',\n",
    " 2.0: 'Karachi',\n",
    " 3.0: 'Larkana',\n",
    " 4.0: 'Mirpurkhas',\n",
    " 5.0: 'Shaheed Benazirabad',\n",
    " 6.0: 'Sukkur'}"
   ]
  },
  {
   "cell_type": "code",
   "execution_count": 36,
   "metadata": {},
   "outputs": [],
   "source": [
    "# List of Region\n",
    "region_mapping = {1.0: 'Kashmore',\n",
    " 2.0: 'Jacobabad',\n",
    " 3.0: 'Shahdad Kot',\n",
    " 4.0: 'Larkana',\n",
    " 5.0: 'Shikarpur',\n",
    " 6.0: 'Ghotki',\n",
    " 7.0: 'Sukkur',\n",
    " 8.0: 'Khairpur',\n",
    " 9.0: 'Naushahro Feroze',\n",
    " 10.0: 'Shaheed Benazirabad',\n",
    " 11.0: 'Dadu',\n",
    " 12.0: 'Jamshoro',\n",
    " 13.0: 'Hyderabad',\n",
    " 14.0: 'Matiari',\n",
    " 15.0: 'Tando Allahyar',\n",
    " 16.0: 'Tando Muhmmad Khan',\n",
    " 17.0: 'Badin',\n",
    " 18.0: 'Sujawal',\n",
    " 19.0: 'Thatta',\n",
    " 20.0: 'Sanghar',\n",
    " 21.0: 'MirpurK Khas',\n",
    " 22.0: 'Umer Kot',\n",
    " 23.0: 'Tharparkar',\n",
    " 24.0: 'Karachi Malir',\n",
    " 25.0: 'Karachi East',\n",
    " 26.0: 'Karachi Central',\n",
    " 27.0: 'Karachi West',\n",
    " 28.0: 'Karachi South',\n",
    " 29.0: 'Karachi Korangi'}\n",
    "residence_mapping = {1.0: 'Urban', 2.0: 'Rural'}\n",
    "gender_mapping = {1.0: 'Male', 2.0: 'Female'}"
   ]
  },
  {
   "cell_type": "code",
   "execution_count": 87,
   "metadata": {},
   "outputs": [],
   "source": [
    "# Apply mappings to DataFrame columns\n",
    "df['gender'] = df['gender'].replace(gender_mapping)\n",
    "df['region'] = df['region'].replace(region_mapping)\n",
    "df['residence'] = df['residence'].replace(residence_mapping)\n",
    "df['district']=df['district'].replace(district_mapping)"
   ]
  },
  {
   "cell_type": "code",
   "execution_count": 88,
   "metadata": {},
   "outputs": [
    {
     "data": {
      "text/plain": [
       "district\n",
       "Hyderabad              5255\n",
       "Larkana                3679\n",
       "Karachi                3642\n",
       "Sukkur                 2129\n",
       "Mirpurkhas             1940\n",
       "Shaheed Benazirabad    1667\n",
       "Name: count, dtype: int64"
      ]
     },
     "execution_count": 88,
     "metadata": {},
     "output_type": "execute_result"
    }
   ],
   "source": [
    "df['district'].value_counts()"
   ]
  },
  {
   "cell_type": "code",
   "execution_count": 91,
   "metadata": {},
   "outputs": [],
   "source": [
    "# List of vaccines\n",
    "vaccines = ['bcg_sampled','polio0_sampled','polio1_sampled','polio3_sampled','penta1_sampled','penta3_sampled','pcv1_sampled','pcv3_sampled','mcv_sampled','ipv_sampled']"
   ]
  },
  {
   "cell_type": "code",
   "execution_count": 92,
   "metadata": {},
   "outputs": [],
   "source": [
    "# List of vaccines\n",
    "vaccines1 = ['bcg','polio0','polio1','polio3','penta1','penta3','pcv1','pcv3','mcv','ipv']"
   ]
  },
  {
   "cell_type": "code",
   "execution_count": 93,
   "metadata": {},
   "outputs": [],
   "source": [
    "regions=['Kashmore','Jacobabad','Shahdad Kot','Larkana','Shikarpur','Ghotki','Sukkur','Khairpur','Naushahro Feroze',\n",
    "'Shaheed Benazirabad','Dadu','Jamshoro','Hyderabad','Matiari','Tando Allahyar','Tando Muhmmad Khan','Badin',\n",
    "'Sujawal','Thatta','Sanghar','MirpurK Khas','Umer Kot','Tharparkar','Karachi Malir','Karachi East','Karachi Central','Karachi West',\n",
    "'Karachi South','Karachi Korangi']"
   ]
  },
  {
   "cell_type": "code",
   "execution_count": 94,
   "metadata": {},
   "outputs": [],
   "source": [
    "# List of genders\n",
    "genders = ['Female','Male']"
   ]
  },
  {
   "cell_type": "code",
   "execution_count": 95,
   "metadata": {},
   "outputs": [],
   "source": [
    "residences=['Urban','Rural']"
   ]
  },
  {
   "cell_type": "code",
   "execution_count": 96,
   "metadata": {},
   "outputs": [],
   "source": [
    "districts=['Hyderabad','Karachi','Larkana','Mirpurkhas','Shaheed Benazirabad','Sukkur']"
   ]
  },
  {
   "cell_type": "code",
   "execution_count": 97,
   "metadata": {},
   "outputs": [
    {
     "data": {
      "text/plain": [
       "gender\n",
       "Male      9471\n",
       "Female    8841\n",
       "Name: count, dtype: int64"
      ]
     },
     "execution_count": 97,
     "metadata": {},
     "output_type": "execute_result"
    }
   ],
   "source": [
    "df['gender'].value_counts()"
   ]
  },
  {
   "cell_type": "code",
   "execution_count": 98,
   "metadata": {},
   "outputs": [
    {
     "data": {
      "text/html": [
       "<div>\n",
       "<style scoped>\n",
       "    .dataframe tbody tr th:only-of-type {\n",
       "        vertical-align: middle;\n",
       "    }\n",
       "\n",
       "    .dataframe tbody tr th {\n",
       "        vertical-align: top;\n",
       "    }\n",
       "\n",
       "    .dataframe thead th {\n",
       "        text-align: right;\n",
       "    }\n",
       "</style>\n",
       "<table border=\"1\" class=\"dataframe\">\n",
       "  <thead>\n",
       "    <tr style=\"text-align: right;\">\n",
       "      <th>gender</th>\n",
       "      <th>Female</th>\n",
       "      <th>Male</th>\n",
       "    </tr>\n",
       "    <tr>\n",
       "      <th>Vaccine</th>\n",
       "      <th></th>\n",
       "      <th></th>\n",
       "    </tr>\n",
       "  </thead>\n",
       "  <tbody>\n",
       "    <tr>\n",
       "      <th>bcg_sampled</th>\n",
       "      <td>79.3</td>\n",
       "      <td>79.6</td>\n",
       "    </tr>\n",
       "    <tr>\n",
       "      <th>ipv_sampled</th>\n",
       "      <td>37.7</td>\n",
       "      <td>39.2</td>\n",
       "    </tr>\n",
       "    <tr>\n",
       "      <th>mcv_sampled</th>\n",
       "      <td>60.1</td>\n",
       "      <td>61.1</td>\n",
       "    </tr>\n",
       "    <tr>\n",
       "      <th>pcv1_sampled</th>\n",
       "      <td>67.6</td>\n",
       "      <td>67.7</td>\n",
       "    </tr>\n",
       "    <tr>\n",
       "      <th>pcv3_sampled</th>\n",
       "      <td>50.5</td>\n",
       "      <td>51.7</td>\n",
       "    </tr>\n",
       "    <tr>\n",
       "      <th>penta1_sampled</th>\n",
       "      <td>73.1</td>\n",
       "      <td>72.5</td>\n",
       "    </tr>\n",
       "    <tr>\n",
       "      <th>penta3_sampled</th>\n",
       "      <td>54.1</td>\n",
       "      <td>55.5</td>\n",
       "    </tr>\n",
       "    <tr>\n",
       "      <th>polio0_sampled</th>\n",
       "      <td>78.3</td>\n",
       "      <td>76.5</td>\n",
       "    </tr>\n",
       "    <tr>\n",
       "      <th>polio1_sampled</th>\n",
       "      <td>68.3</td>\n",
       "      <td>68.3</td>\n",
       "    </tr>\n",
       "    <tr>\n",
       "      <th>polio3_sampled</th>\n",
       "      <td>51.7</td>\n",
       "      <td>50.9</td>\n",
       "    </tr>\n",
       "  </tbody>\n",
       "</table>\n",
       "</div>"
      ],
      "text/plain": [
       "gender          Female  Male\n",
       "Vaccine                     \n",
       "bcg_sampled       79.3  79.6\n",
       "ipv_sampled       37.7  39.2\n",
       "mcv_sampled       60.1  61.1\n",
       "pcv1_sampled      67.6  67.7\n",
       "pcv3_sampled      50.5  51.7\n",
       "penta1_sampled    73.1  72.5\n",
       "penta3_sampled    54.1  55.5\n",
       "polio0_sampled    78.3  76.5\n",
       "polio1_sampled    68.3  68.3\n",
       "polio3_sampled    51.7  50.9"
      ]
     },
     "execution_count": 98,
     "metadata": {},
     "output_type": "execute_result"
    }
   ],
   "source": [
    "# Create an empty list to store the results\n",
    "results = []\n",
    "\n",
    "# Loop through each vaccine and child_gender\n",
    "for vaccine in vaccines:\n",
    "    for gender in genders:\n",
    "        coverage = calculate_vaccination_coverage_child_gender(df, gender, vaccine)\n",
    "        results.append({'Vaccine': vaccine, 'gender': gender, 'Coverage': coverage})\n",
    "\n",
    "# Convert the list of dictionaries into a DataFrame\n",
    "results_df = pd.DataFrame(results)\n",
    "#results_df['Coverage'] = results_df['Coverage'].round(2)\n",
    "# Display the results as a table\n",
    "pivot_table1 = results_df.pivot_table(index='Vaccine', columns='gender', values='Coverage')\n",
    "pivot_table1"
   ]
  },
  {
   "cell_type": "code",
   "execution_count": 99,
   "metadata": {},
   "outputs": [
    {
     "data": {
      "text/html": [
       "<div>\n",
       "<style scoped>\n",
       "    .dataframe tbody tr th:only-of-type {\n",
       "        vertical-align: middle;\n",
       "    }\n",
       "\n",
       "    .dataframe tbody tr th {\n",
       "        vertical-align: top;\n",
       "    }\n",
       "\n",
       "    .dataframe thead th {\n",
       "        text-align: right;\n",
       "    }\n",
       "</style>\n",
       "<table border=\"1\" class=\"dataframe\">\n",
       "  <thead>\n",
       "    <tr style=\"text-align: right;\">\n",
       "      <th>residence</th>\n",
       "      <th>Rural</th>\n",
       "      <th>Urban</th>\n",
       "    </tr>\n",
       "    <tr>\n",
       "      <th>Vaccine</th>\n",
       "      <th></th>\n",
       "      <th></th>\n",
       "    </tr>\n",
       "  </thead>\n",
       "  <tbody>\n",
       "    <tr>\n",
       "      <th>bcg_sampled</th>\n",
       "      <td>70.5</td>\n",
       "      <td>90.8</td>\n",
       "    </tr>\n",
       "    <tr>\n",
       "      <th>ipv_sampled</th>\n",
       "      <td>29.8</td>\n",
       "      <td>49.8</td>\n",
       "    </tr>\n",
       "    <tr>\n",
       "      <th>mcv_sampled</th>\n",
       "      <td>52.9</td>\n",
       "      <td>70.3</td>\n",
       "    </tr>\n",
       "    <tr>\n",
       "      <th>pcv1_sampled</th>\n",
       "      <td>56.4</td>\n",
       "      <td>81.9</td>\n",
       "    </tr>\n",
       "    <tr>\n",
       "      <th>pcv3_sampled</th>\n",
       "      <td>41.1</td>\n",
       "      <td>63.9</td>\n",
       "    </tr>\n",
       "    <tr>\n",
       "      <th>penta1_sampled</th>\n",
       "      <td>62.5</td>\n",
       "      <td>85.7</td>\n",
       "    </tr>\n",
       "    <tr>\n",
       "      <th>penta3_sampled</th>\n",
       "      <td>44.4</td>\n",
       "      <td>67.9</td>\n",
       "    </tr>\n",
       "    <tr>\n",
       "      <th>polio0_sampled</th>\n",
       "      <td>68.2</td>\n",
       "      <td>88.8</td>\n",
       "    </tr>\n",
       "    <tr>\n",
       "      <th>polio1_sampled</th>\n",
       "      <td>58.1</td>\n",
       "      <td>81.0</td>\n",
       "    </tr>\n",
       "    <tr>\n",
       "      <th>polio3_sampled</th>\n",
       "      <td>42.6</td>\n",
       "      <td>62.1</td>\n",
       "    </tr>\n",
       "  </tbody>\n",
       "</table>\n",
       "</div>"
      ],
      "text/plain": [
       "residence       Rural  Urban\n",
       "Vaccine                     \n",
       "bcg_sampled      70.5   90.8\n",
       "ipv_sampled      29.8   49.8\n",
       "mcv_sampled      52.9   70.3\n",
       "pcv1_sampled     56.4   81.9\n",
       "pcv3_sampled     41.1   63.9\n",
       "penta1_sampled   62.5   85.7\n",
       "penta3_sampled   44.4   67.9\n",
       "polio0_sampled   68.2   88.8\n",
       "polio1_sampled   58.1   81.0\n",
       "polio3_sampled   42.6   62.1"
      ]
     },
     "execution_count": 99,
     "metadata": {},
     "output_type": "execute_result"
    }
   ],
   "source": [
    "# Create an empty list to store the results\n",
    "results1 = []\n",
    "\n",
    "# Loop through each vaccine and child_residence\n",
    "for vaccine in vaccines:\n",
    "    for residence in residences:\n",
    "        coverage = calculate_vaccination_coverage_child_residence(df, residence, vaccine)\n",
    "        results1.append({'Vaccine': vaccine, 'residence': residence, 'Coverage': coverage})\n",
    "\n",
    "# Convert the list of dictionaries into a DataFrame\n",
    "results1_df = pd.DataFrame(results1)\n",
    "#results_df['Coverage'] = results_df['Coverage'].round(2)\n",
    "# Display the results as a table\n",
    "pivot_table1 = results1_df.pivot_table(index='Vaccine', columns='residence', values='Coverage')\n",
    "pivot_table1"
   ]
  },
  {
   "cell_type": "code",
   "execution_count": 46,
   "metadata": {},
   "outputs": [
    {
     "data": {
      "text/html": [
       "<div>\n",
       "<style scoped>\n",
       "    .dataframe tbody tr th:only-of-type {\n",
       "        vertical-align: middle;\n",
       "    }\n",
       "\n",
       "    .dataframe tbody tr th {\n",
       "        vertical-align: top;\n",
       "    }\n",
       "\n",
       "    .dataframe thead th {\n",
       "        text-align: right;\n",
       "    }\n",
       "</style>\n",
       "<table border=\"1\" class=\"dataframe\">\n",
       "  <thead>\n",
       "    <tr style=\"text-align: right;\">\n",
       "      <th>region</th>\n",
       "      <th>Badin</th>\n",
       "      <th>Dadu</th>\n",
       "      <th>Ghotki</th>\n",
       "      <th>Hyderabad</th>\n",
       "      <th>Jacobabad</th>\n",
       "      <th>Jamshoro</th>\n",
       "      <th>Karachi Central</th>\n",
       "      <th>Karachi East</th>\n",
       "      <th>Karachi Korangi</th>\n",
       "      <th>Karachi Malir</th>\n",
       "      <th>...</th>\n",
       "      <th>Shahdad Kot</th>\n",
       "      <th>Shaheed Benazirabad</th>\n",
       "      <th>Shikarpur</th>\n",
       "      <th>Sujawal</th>\n",
       "      <th>Sukkur</th>\n",
       "      <th>Tando Allahyar</th>\n",
       "      <th>Tando Muhmmad Khan</th>\n",
       "      <th>Tharparkar</th>\n",
       "      <th>Thatta</th>\n",
       "      <th>Umer Kot</th>\n",
       "    </tr>\n",
       "    <tr>\n",
       "      <th>Vaccine</th>\n",
       "      <th></th>\n",
       "      <th></th>\n",
       "      <th></th>\n",
       "      <th></th>\n",
       "      <th></th>\n",
       "      <th></th>\n",
       "      <th></th>\n",
       "      <th></th>\n",
       "      <th></th>\n",
       "      <th></th>\n",
       "      <th></th>\n",
       "      <th></th>\n",
       "      <th></th>\n",
       "      <th></th>\n",
       "      <th></th>\n",
       "      <th></th>\n",
       "      <th></th>\n",
       "      <th></th>\n",
       "      <th></th>\n",
       "      <th></th>\n",
       "      <th></th>\n",
       "    </tr>\n",
       "  </thead>\n",
       "  <tbody>\n",
       "    <tr>\n",
       "      <th>bcg</th>\n",
       "      <td>62.0</td>\n",
       "      <td>80.2</td>\n",
       "      <td>78.4</td>\n",
       "      <td>88.3</td>\n",
       "      <td>56.6</td>\n",
       "      <td>62.0</td>\n",
       "      <td>96.9</td>\n",
       "      <td>90.8</td>\n",
       "      <td>77.4</td>\n",
       "      <td>79.5</td>\n",
       "      <td>...</td>\n",
       "      <td>78.2</td>\n",
       "      <td>72.7</td>\n",
       "      <td>83.5</td>\n",
       "      <td>38.0</td>\n",
       "      <td>74.6</td>\n",
       "      <td>83.0</td>\n",
       "      <td>76.4</td>\n",
       "      <td>87.2</td>\n",
       "      <td>77.9</td>\n",
       "      <td>84.4</td>\n",
       "    </tr>\n",
       "    <tr>\n",
       "      <th>ipv</th>\n",
       "      <td>0.0</td>\n",
       "      <td>46.2</td>\n",
       "      <td>39.4</td>\n",
       "      <td>54.5</td>\n",
       "      <td>12.2</td>\n",
       "      <td>18.9</td>\n",
       "      <td>52.3</td>\n",
       "      <td>52.3</td>\n",
       "      <td>48.5</td>\n",
       "      <td>49.1</td>\n",
       "      <td>...</td>\n",
       "      <td>33.9</td>\n",
       "      <td>34.9</td>\n",
       "      <td>20.7</td>\n",
       "      <td>14.0</td>\n",
       "      <td>31.8</td>\n",
       "      <td>42.3</td>\n",
       "      <td>33.0</td>\n",
       "      <td>65.2</td>\n",
       "      <td>35.6</td>\n",
       "      <td>22.1</td>\n",
       "    </tr>\n",
       "    <tr>\n",
       "      <th>measles</th>\n",
       "      <td>29.3</td>\n",
       "      <td>65.4</td>\n",
       "      <td>61.9</td>\n",
       "      <td>81.1</td>\n",
       "      <td>35.5</td>\n",
       "      <td>40.5</td>\n",
       "      <td>78.1</td>\n",
       "      <td>67.1</td>\n",
       "      <td>61.3</td>\n",
       "      <td>63.2</td>\n",
       "      <td>...</td>\n",
       "      <td>75.0</td>\n",
       "      <td>61.4</td>\n",
       "      <td>62.6</td>\n",
       "      <td>34.0</td>\n",
       "      <td>60.1</td>\n",
       "      <td>62.0</td>\n",
       "      <td>59.6</td>\n",
       "      <td>87.2</td>\n",
       "      <td>69.7</td>\n",
       "      <td>50.0</td>\n",
       "    </tr>\n",
       "    <tr>\n",
       "      <th>pcv1</th>\n",
       "      <td>40.7</td>\n",
       "      <td>58.8</td>\n",
       "      <td>62.0</td>\n",
       "      <td>81.7</td>\n",
       "      <td>48.7</td>\n",
       "      <td>51.3</td>\n",
       "      <td>92.6</td>\n",
       "      <td>79.5</td>\n",
       "      <td>69.5</td>\n",
       "      <td>73.9</td>\n",
       "      <td>...</td>\n",
       "      <td>72.4</td>\n",
       "      <td>52.3</td>\n",
       "      <td>72.2</td>\n",
       "      <td>30.0</td>\n",
       "      <td>68.6</td>\n",
       "      <td>50.0</td>\n",
       "      <td>66.3</td>\n",
       "      <td>89.4</td>\n",
       "      <td>50.0</td>\n",
       "      <td>77.5</td>\n",
       "    </tr>\n",
       "    <tr>\n",
       "      <th>pcv3</th>\n",
       "      <td>11.0</td>\n",
       "      <td>47.5</td>\n",
       "      <td>44.5</td>\n",
       "      <td>71.6</td>\n",
       "      <td>31.6</td>\n",
       "      <td>25.6</td>\n",
       "      <td>74.7</td>\n",
       "      <td>60.3</td>\n",
       "      <td>61.0</td>\n",
       "      <td>58.3</td>\n",
       "      <td>...</td>\n",
       "      <td>57.7</td>\n",
       "      <td>44.3</td>\n",
       "      <td>50.4</td>\n",
       "      <td>20.0</td>\n",
       "      <td>45.3</td>\n",
       "      <td>42.9</td>\n",
       "      <td>38.2</td>\n",
       "      <td>74.5</td>\n",
       "      <td>42.5</td>\n",
       "      <td>40.4</td>\n",
       "    </tr>\n",
       "    <tr>\n",
       "      <th>penta1</th>\n",
       "      <td>54.9</td>\n",
       "      <td>66.7</td>\n",
       "      <td>69.6</td>\n",
       "      <td>82.7</td>\n",
       "      <td>50.0</td>\n",
       "      <td>57.9</td>\n",
       "      <td>91.7</td>\n",
       "      <td>82.7</td>\n",
       "      <td>72.8</td>\n",
       "      <td>79.1</td>\n",
       "      <td>...</td>\n",
       "      <td>79.7</td>\n",
       "      <td>54.0</td>\n",
       "      <td>75.7</td>\n",
       "      <td>34.0</td>\n",
       "      <td>71.6</td>\n",
       "      <td>49.5</td>\n",
       "      <td>72.7</td>\n",
       "      <td>93.5</td>\n",
       "      <td>56.3</td>\n",
       "      <td>85.6</td>\n",
       "    </tr>\n",
       "    <tr>\n",
       "      <th>penta3</th>\n",
       "      <td>18.7</td>\n",
       "      <td>54.3</td>\n",
       "      <td>47.8</td>\n",
       "      <td>74.5</td>\n",
       "      <td>32.9</td>\n",
       "      <td>28.9</td>\n",
       "      <td>78.1</td>\n",
       "      <td>62.0</td>\n",
       "      <td>63.1</td>\n",
       "      <td>64.3</td>\n",
       "      <td>...</td>\n",
       "      <td>56.9</td>\n",
       "      <td>44.8</td>\n",
       "      <td>49.6</td>\n",
       "      <td>20.0</td>\n",
       "      <td>47.8</td>\n",
       "      <td>42.3</td>\n",
       "      <td>43.2</td>\n",
       "      <td>79.3</td>\n",
       "      <td>42.9</td>\n",
       "      <td>37.8</td>\n",
       "    </tr>\n",
       "    <tr>\n",
       "      <th>polio1</th>\n",
       "      <td>53.8</td>\n",
       "      <td>63.0</td>\n",
       "      <td>59.0</td>\n",
       "      <td>85.6</td>\n",
       "      <td>32.4</td>\n",
       "      <td>54.4</td>\n",
       "      <td>92.7</td>\n",
       "      <td>77.7</td>\n",
       "      <td>67.6</td>\n",
       "      <td>69.6</td>\n",
       "      <td>...</td>\n",
       "      <td>77.2</td>\n",
       "      <td>46.6</td>\n",
       "      <td>72.2</td>\n",
       "      <td>32.0</td>\n",
       "      <td>70.6</td>\n",
       "      <td>49.5</td>\n",
       "      <td>64.0</td>\n",
       "      <td>75.4</td>\n",
       "      <td>43.3</td>\n",
       "      <td>78.9</td>\n",
       "    </tr>\n",
       "    <tr>\n",
       "      <th>polio3</th>\n",
       "      <td>31.9</td>\n",
       "      <td>49.4</td>\n",
       "      <td>48.2</td>\n",
       "      <td>71.2</td>\n",
       "      <td>21.6</td>\n",
       "      <td>35.4</td>\n",
       "      <td>77.1</td>\n",
       "      <td>60.1</td>\n",
       "      <td>51.4</td>\n",
       "      <td>58.3</td>\n",
       "      <td>...</td>\n",
       "      <td>43.1</td>\n",
       "      <td>36.4</td>\n",
       "      <td>40.0</td>\n",
       "      <td>14.0</td>\n",
       "      <td>41.9</td>\n",
       "      <td>43.4</td>\n",
       "      <td>48.3</td>\n",
       "      <td>69.6</td>\n",
       "      <td>39.2</td>\n",
       "      <td>43.3</td>\n",
       "    </tr>\n",
       "  </tbody>\n",
       "</table>\n",
       "<p>9 rows × 29 columns</p>\n",
       "</div>"
      ],
      "text/plain": [
       "region   Badin  Dadu  Ghotki  Hyderabad  Jacobabad  Jamshoro  Karachi Central  \\\n",
       "Vaccine                                                                         \n",
       "bcg       62.0  80.2    78.4       88.3       56.6      62.0             96.9   \n",
       "ipv        0.0  46.2    39.4       54.5       12.2      18.9             52.3   \n",
       "measles   29.3  65.4    61.9       81.1       35.5      40.5             78.1   \n",
       "pcv1      40.7  58.8    62.0       81.7       48.7      51.3             92.6   \n",
       "pcv3      11.0  47.5    44.5       71.6       31.6      25.6             74.7   \n",
       "penta1    54.9  66.7    69.6       82.7       50.0      57.9             91.7   \n",
       "penta3    18.7  54.3    47.8       74.5       32.9      28.9             78.1   \n",
       "polio1    53.8  63.0    59.0       85.6       32.4      54.4             92.7   \n",
       "polio3    31.9  49.4    48.2       71.2       21.6      35.4             77.1   \n",
       "\n",
       "region   Karachi East  Karachi Korangi  Karachi Malir  ...  Shahdad Kot  \\\n",
       "Vaccine                                                ...                \n",
       "bcg              90.8             77.4           79.5  ...         78.2   \n",
       "ipv              52.3             48.5           49.1  ...         33.9   \n",
       "measles          67.1             61.3           63.2  ...         75.0   \n",
       "pcv1             79.5             69.5           73.9  ...         72.4   \n",
       "pcv3             60.3             61.0           58.3  ...         57.7   \n",
       "penta1           82.7             72.8           79.1  ...         79.7   \n",
       "penta3           62.0             63.1           64.3  ...         56.9   \n",
       "polio1           77.7             67.6           69.6  ...         77.2   \n",
       "polio3           60.1             51.4           58.3  ...         43.1   \n",
       "\n",
       "region   Shaheed Benazirabad  Shikarpur  Sujawal  Sukkur  Tando Allahyar  \\\n",
       "Vaccine                                                                    \n",
       "bcg                     72.7       83.5     38.0    74.6            83.0   \n",
       "ipv                     34.9       20.7     14.0    31.8            42.3   \n",
       "measles                 61.4       62.6     34.0    60.1            62.0   \n",
       "pcv1                    52.3       72.2     30.0    68.6            50.0   \n",
       "pcv3                    44.3       50.4     20.0    45.3            42.9   \n",
       "penta1                  54.0       75.7     34.0    71.6            49.5   \n",
       "penta3                  44.8       49.6     20.0    47.8            42.3   \n",
       "polio1                  46.6       72.2     32.0    70.6            49.5   \n",
       "polio3                  36.4       40.0     14.0    41.9            43.4   \n",
       "\n",
       "region   Tando Muhmmad Khan  Tharparkar  Thatta  Umer Kot  \n",
       "Vaccine                                                    \n",
       "bcg                    76.4        87.2    77.9      84.4  \n",
       "ipv                    33.0        65.2    35.6      22.1  \n",
       "measles                59.6        87.2    69.7      50.0  \n",
       "pcv1                   66.3        89.4    50.0      77.5  \n",
       "pcv3                   38.2        74.5    42.5      40.4  \n",
       "penta1                 72.7        93.5    56.3      85.6  \n",
       "penta3                 43.2        79.3    42.9      37.8  \n",
       "polio1                 64.0        75.4    43.3      78.9  \n",
       "polio3                 48.3        69.6    39.2      43.3  \n",
       "\n",
       "[9 rows x 29 columns]"
      ]
     },
     "execution_count": 46,
     "metadata": {},
     "output_type": "execute_result"
    }
   ],
   "source": [
    "# Create an empty list to store the results\n",
    "results2 = []\n",
    "\n",
    "# Loop through each vaccine and child_region\n",
    "for vaccine in vaccines1:\n",
    "    for region in regions:\n",
    "        coverage = calculate_vaccination_coverage_region(df, region, vaccine)\n",
    "        results2.append({'Vaccine': vaccine, 'region': region, 'Coverage': coverage})\n",
    "\n",
    "# Convert the list of dictionaries into a DataFrame\n",
    "results2_df = pd.DataFrame(results2)\n",
    "#results_df['Coverage'] = results_df['Coverage'].round(2)\n",
    "# Display the results as a table\n",
    "pivot_table2 = results2_df.pivot_table(index='Vaccine', columns='region', values='Coverage')\n",
    "pivot_table2\n",
    "#pivot_table2.to_excel('/path/to/directory/pivot_table2_sorted.xlsx')\n",
    "#pivot_table2.to_excel('Vaccinebyregion.xlsx', index=False)"
   ]
  },
  {
   "cell_type": "code",
   "execution_count": 100,
   "metadata": {},
   "outputs": [
    {
     "data": {
      "text/html": [
       "<div>\n",
       "<style scoped>\n",
       "    .dataframe tbody tr th:only-of-type {\n",
       "        vertical-align: middle;\n",
       "    }\n",
       "\n",
       "    .dataframe tbody tr th {\n",
       "        vertical-align: top;\n",
       "    }\n",
       "\n",
       "    .dataframe thead th {\n",
       "        text-align: right;\n",
       "    }\n",
       "</style>\n",
       "<table border=\"1\" class=\"dataframe\">\n",
       "  <thead>\n",
       "    <tr style=\"text-align: right;\">\n",
       "      <th>district</th>\n",
       "      <th>Hyderabad</th>\n",
       "      <th>Karachi</th>\n",
       "      <th>Larkana</th>\n",
       "      <th>Mirpurkhas</th>\n",
       "      <th>Shaheed Benazirabad</th>\n",
       "      <th>Sukkur</th>\n",
       "    </tr>\n",
       "    <tr>\n",
       "      <th>Vaccine</th>\n",
       "      <th></th>\n",
       "      <th></th>\n",
       "      <th></th>\n",
       "      <th></th>\n",
       "      <th></th>\n",
       "      <th></th>\n",
       "    </tr>\n",
       "  </thead>\n",
       "  <tbody>\n",
       "    <tr>\n",
       "      <th>bcg</th>\n",
       "      <td>74.3</td>\n",
       "      <td>86.7</td>\n",
       "      <td>72.7</td>\n",
       "      <td>81.0</td>\n",
       "      <td>77.1</td>\n",
       "      <td>78.2</td>\n",
       "    </tr>\n",
       "    <tr>\n",
       "      <th>ipv</th>\n",
       "      <td>34.4</td>\n",
       "      <td>50.4</td>\n",
       "      <td>27.8</td>\n",
       "      <td>43.6</td>\n",
       "      <td>40.2</td>\n",
       "      <td>35.5</td>\n",
       "    </tr>\n",
       "    <tr>\n",
       "      <th>mcv</th>\n",
       "      <td>58.4</td>\n",
       "      <td>65.9</td>\n",
       "      <td>48.5</td>\n",
       "      <td>70.4</td>\n",
       "      <td>63.6</td>\n",
       "      <td>55.5</td>\n",
       "    </tr>\n",
       "    <tr>\n",
       "      <th>pcv1</th>\n",
       "      <td>56.6</td>\n",
       "      <td>78.8</td>\n",
       "      <td>61.6</td>\n",
       "      <td>74.7</td>\n",
       "      <td>63.8</td>\n",
       "      <td>66.4</td>\n",
       "    </tr>\n",
       "    <tr>\n",
       "      <th>pcv3</th>\n",
       "      <td>40.8</td>\n",
       "      <td>62.7</td>\n",
       "      <td>44.3</td>\n",
       "      <td>57.5</td>\n",
       "      <td>51.4</td>\n",
       "      <td>45.7</td>\n",
       "    </tr>\n",
       "    <tr>\n",
       "      <th>penta1</th>\n",
       "      <td>62.0</td>\n",
       "      <td>81.4</td>\n",
       "      <td>65.9</td>\n",
       "      <td>81.2</td>\n",
       "      <td>70.7</td>\n",
       "      <td>72.8</td>\n",
       "    </tr>\n",
       "    <tr>\n",
       "      <th>penta3</th>\n",
       "      <td>43.7</td>\n",
       "      <td>65.8</td>\n",
       "      <td>47.4</td>\n",
       "      <td>59.9</td>\n",
       "      <td>54.9</td>\n",
       "      <td>50.6</td>\n",
       "    </tr>\n",
       "    <tr>\n",
       "      <th>polio0</th>\n",
       "      <td>72.2</td>\n",
       "      <td>85.1</td>\n",
       "      <td>71.7</td>\n",
       "      <td>79.6</td>\n",
       "      <td>72.8</td>\n",
       "      <td>77.4</td>\n",
       "    </tr>\n",
       "    <tr>\n",
       "      <th>polio1</th>\n",
       "      <td>58.6</td>\n",
       "      <td>77.4</td>\n",
       "      <td>62.0</td>\n",
       "      <td>72.0</td>\n",
       "      <td>63.1</td>\n",
       "      <td>68.3</td>\n",
       "    </tr>\n",
       "    <tr>\n",
       "      <th>polio3</th>\n",
       "      <td>46.2</td>\n",
       "      <td>62.1</td>\n",
       "      <td>36.8</td>\n",
       "      <td>57.5</td>\n",
       "      <td>48.4</td>\n",
       "      <td>48.5</td>\n",
       "    </tr>\n",
       "  </tbody>\n",
       "</table>\n",
       "</div>"
      ],
      "text/plain": [
       "district  Hyderabad  Karachi  Larkana  Mirpurkhas  Shaheed Benazirabad  Sukkur\n",
       "Vaccine                                                                       \n",
       "bcg            74.3     86.7     72.7        81.0                 77.1    78.2\n",
       "ipv            34.4     50.4     27.8        43.6                 40.2    35.5\n",
       "mcv            58.4     65.9     48.5        70.4                 63.6    55.5\n",
       "pcv1           56.6     78.8     61.6        74.7                 63.8    66.4\n",
       "pcv3           40.8     62.7     44.3        57.5                 51.4    45.7\n",
       "penta1         62.0     81.4     65.9        81.2                 70.7    72.8\n",
       "penta3         43.7     65.8     47.4        59.9                 54.9    50.6\n",
       "polio0         72.2     85.1     71.7        79.6                 72.8    77.4\n",
       "polio1         58.6     77.4     62.0        72.0                 63.1    68.3\n",
       "polio3         46.2     62.1     36.8        57.5                 48.4    48.5"
      ]
     },
     "execution_count": 100,
     "metadata": {},
     "output_type": "execute_result"
    }
   ],
   "source": [
    "# Create an empty list to store the results\n",
    "results2 = []\n",
    "\n",
    "# Loop through each vaccine and child_district\n",
    "for vaccine in vaccines1:\n",
    "    for district in districts:\n",
    "        coverage = calculate_vaccination_coverage_district(df, district, vaccine)\n",
    "        results2.append({'Vaccine': vaccine, 'district': district, 'Coverage': coverage})\n",
    "\n",
    "# Convert the list of dictionaries into a DataFrame\n",
    "results2_df = pd.DataFrame(results2)\n",
    "results2_df\n",
    "# Display the results as a table\n",
    "pivot_table2 = results2_df.pivot_table(index='Vaccine', columns='district', values='Coverage')\n",
    "pivot_table2"
   ]
  },
  {
   "cell_type": "code",
   "execution_count": 102,
   "metadata": {},
   "outputs": [],
   "source": [
    "pivot_table2.to_clipboard(index=True, header=True)"
   ]
  },
  {
   "cell_type": "markdown",
   "metadata": {},
   "source": [
    "## Retention Rates"
   ]
  },
  {
   "cell_type": "code",
   "execution_count": 103,
   "metadata": {},
   "outputs": [],
   "source": [
    "def calculate_retention_rate(df, group_col, dose1_col, dose2_col):\n",
    "    \"\"\"\n",
    "    Calculate retention rate from dose2 to dose1 for each group.\n",
    "    \n",
    "    Parameters:\n",
    "    df (pandas.DataFrame): Input DataFrame containing vaccination data.\n",
    "    group_col (str): Column name for the grouping variable.\n",
    "    dose1_col (str): Column name representing the first dose.\n",
    "    dose2_col (str): Column name representing the second dose.\n",
    "    \n",
    "    Returns:\n",
    "    pandas.DataFrame: DataFrame with retention rates calculated and added as a new column.\n",
    "    \"\"\"\n",
    "    # Group by the specified column and aggregate sum of dose1 and dose2\n",
    "    df1 = df.groupby([group_col]).agg(\n",
    "        sum_dose1=(dose1_col, 'sum'),\n",
    "        sum_dose2=(dose2_col, 'sum')\n",
    "    ).reset_index()\n",
    "    \n",
    "    # Calculate retention rate\n",
    "    df1['retention_rate'] = ((1 - ((df1['sum_dose1'] - df1['sum_dose2']) / df1['sum_dose1'])) * 100)\n",
    "    pivot_table2 = df1.pivot_table(columns=group_col, values='retention_rate')\n",
    "    return pivot_table2\n",
    "  "
   ]
  },
  {
   "cell_type": "code",
   "execution_count": 104,
   "metadata": {},
   "outputs": [],
   "source": [
    " filtered_df = df[(df['UB2']==1)]"
   ]
  },
  {
   "cell_type": "code",
   "execution_count": 107,
   "metadata": {},
   "outputs": [],
   "source": [
    "# Call the calculate_retention_rate function\n",
    "result_df = calculate_retention_rate(filtered_df, 'district', 'penta1', 'penta3')\n",
    "\n",
    "# Copy the result to the clipboard\n",
    "result_df.to_clipboard(index=True, header=True)\n"
   ]
  },
  {
   "cell_type": "code",
   "execution_count": 109,
   "metadata": {},
   "outputs": [],
   "source": [
    "# Call the calculate_retention_rate function\n",
    "result_df = calculate_retention_rate(filtered_df, 'district', 'polio1', 'polio3')\n",
    "\n",
    "# Copy the result to the clipboard\n",
    "result_df.to_clipboard(index=True, header=True)\n"
   ]
  },
  {
   "cell_type": "code",
   "execution_count": 52,
   "metadata": {},
   "outputs": [
    {
     "data": {
      "text/html": [
       "<div>\n",
       "<style scoped>\n",
       "    .dataframe tbody tr th:only-of-type {\n",
       "        vertical-align: middle;\n",
       "    }\n",
       "\n",
       "    .dataframe tbody tr th {\n",
       "        vertical-align: top;\n",
       "    }\n",
       "\n",
       "    .dataframe thead th {\n",
       "        text-align: right;\n",
       "    }\n",
       "</style>\n",
       "<table border=\"1\" class=\"dataframe\">\n",
       "  <thead>\n",
       "    <tr style=\"text-align: right;\">\n",
       "      <th>residence</th>\n",
       "      <th>Rural</th>\n",
       "      <th>Urban</th>\n",
       "    </tr>\n",
       "  </thead>\n",
       "  <tbody>\n",
       "    <tr>\n",
       "      <th>retention_rate</th>\n",
       "      <td>70.982448</td>\n",
       "      <td>79.205873</td>\n",
       "    </tr>\n",
       "  </tbody>\n",
       "</table>\n",
       "</div>"
      ],
      "text/plain": [
       "residence           Rural      Urban\n",
       "retention_rate  70.982448  79.205873"
      ]
     },
     "execution_count": 52,
     "metadata": {},
     "output_type": "execute_result"
    }
   ],
   "source": [
    "calculate_retention_rate(filtered_df, 'residence', 'penta1_sampled', 'penta3_sampled')"
   ]
  },
  {
   "cell_type": "code",
   "execution_count": 53,
   "metadata": {},
   "outputs": [
    {
     "data": {
      "text/html": [
       "<div>\n",
       "<style scoped>\n",
       "    .dataframe tbody tr th:only-of-type {\n",
       "        vertical-align: middle;\n",
       "    }\n",
       "\n",
       "    .dataframe tbody tr th {\n",
       "        vertical-align: top;\n",
       "    }\n",
       "\n",
       "    .dataframe thead th {\n",
       "        text-align: right;\n",
       "    }\n",
       "</style>\n",
       "<table border=\"1\" class=\"dataframe\">\n",
       "  <thead>\n",
       "    <tr style=\"text-align: right;\">\n",
       "      <th>residence</th>\n",
       "      <th>Rural</th>\n",
       "      <th>Urban</th>\n",
       "    </tr>\n",
       "  </thead>\n",
       "  <tbody>\n",
       "    <tr>\n",
       "      <th>retention_rate</th>\n",
       "      <td>73.351087</td>\n",
       "      <td>76.686548</td>\n",
       "    </tr>\n",
       "  </tbody>\n",
       "</table>\n",
       "</div>"
      ],
      "text/plain": [
       "residence           Rural      Urban\n",
       "retention_rate  73.351087  76.686548"
      ]
     },
     "execution_count": 53,
     "metadata": {},
     "output_type": "execute_result"
    }
   ],
   "source": [
    "# Call the calculate_retention_rate function\n",
    "calculate_retention_rate(filtered_df, 'residence', 'polio1_sampled', 'polio3_sampled')"
   ]
  },
  {
   "cell_type": "code",
   "execution_count": 54,
   "metadata": {},
   "outputs": [
    {
     "data": {
      "text/html": [
       "<div>\n",
       "<style scoped>\n",
       "    .dataframe tbody tr th:only-of-type {\n",
       "        vertical-align: middle;\n",
       "    }\n",
       "\n",
       "    .dataframe tbody tr th {\n",
       "        vertical-align: top;\n",
       "    }\n",
       "\n",
       "    .dataframe thead th {\n",
       "        text-align: right;\n",
       "    }\n",
       "</style>\n",
       "<table border=\"1\" class=\"dataframe\">\n",
       "  <thead>\n",
       "    <tr style=\"text-align: right;\">\n",
       "      <th>gender</th>\n",
       "      <th>Female</th>\n",
       "      <th>Male</th>\n",
       "    </tr>\n",
       "  </thead>\n",
       "  <tbody>\n",
       "    <tr>\n",
       "      <th>retention_rate</th>\n",
       "      <td>73.95607</td>\n",
       "      <td>76.451124</td>\n",
       "    </tr>\n",
       "  </tbody>\n",
       "</table>\n",
       "</div>"
      ],
      "text/plain": [
       "gender            Female       Male\n",
       "retention_rate  73.95607  76.451124"
      ]
     },
     "execution_count": 54,
     "metadata": {},
     "output_type": "execute_result"
    }
   ],
   "source": [
    "calculate_retention_rate(filtered_df, 'gender', 'penta1_sampled', 'penta3_sampled')"
   ]
  },
  {
   "cell_type": "code",
   "execution_count": 55,
   "metadata": {},
   "outputs": [
    {
     "data": {
      "text/html": [
       "<div>\n",
       "<style scoped>\n",
       "    .dataframe tbody tr th:only-of-type {\n",
       "        vertical-align: middle;\n",
       "    }\n",
       "\n",
       "    .dataframe tbody tr th {\n",
       "        vertical-align: top;\n",
       "    }\n",
       "\n",
       "    .dataframe thead th {\n",
       "        text-align: right;\n",
       "    }\n",
       "</style>\n",
       "<table border=\"1\" class=\"dataframe\">\n",
       "  <thead>\n",
       "    <tr style=\"text-align: right;\">\n",
       "      <th>gender</th>\n",
       "      <th>Female</th>\n",
       "      <th>Male</th>\n",
       "    </tr>\n",
       "  </thead>\n",
       "  <tbody>\n",
       "    <tr>\n",
       "      <th>retention_rate</th>\n",
       "      <td>75.796018</td>\n",
       "      <td>74.501835</td>\n",
       "    </tr>\n",
       "  </tbody>\n",
       "</table>\n",
       "</div>"
      ],
      "text/plain": [
       "gender             Female       Male\n",
       "retention_rate  75.796018  74.501835"
      ]
     },
     "execution_count": 55,
     "metadata": {},
     "output_type": "execute_result"
    }
   ],
   "source": [
    "calculate_retention_rate(filtered_df, 'gender', 'polio1_sampled', 'polio3_sampled')"
   ]
  },
  {
   "cell_type": "markdown",
   "metadata": {},
   "source": [
    "## National retention rate"
   ]
  },
  {
   "cell_type": "code",
   "execution_count": 111,
   "metadata": {},
   "outputs": [
    {
     "data": {
      "text/plain": [
       "74.15254237288136"
      ]
     },
     "execution_count": 111,
     "metadata": {},
     "output_type": "execute_result"
    }
   ],
   "source": [
    "penta_retention_rate = ((1 - ((filtered_df['penta1'].sum() - filtered_df['penta3'].sum()) / filtered_df['penta1'].sum())) * 100)\n",
    "penta_retention_rate"
   ]
  },
  {
   "cell_type": "code",
   "execution_count": 110,
   "metadata": {},
   "outputs": [
    {
     "data": {
      "text/plain": [
       "74.27993936331481"
      ]
     },
     "execution_count": 110,
     "metadata": {},
     "output_type": "execute_result"
    }
   ],
   "source": [
    "polio_retention_rate = ((1 - ((filtered_df['polio1'].sum() - filtered_df['polio3'].sum()) / filtered_df['polio1'].sum())) * 100)\n",
    "polio_retention_rate"
   ]
  },
  {
   "cell_type": "code",
   "execution_count": null,
   "metadata": {},
   "outputs": [],
   "source": [
    "# Fully vaccinated"
   ]
  },
  {
   "cell_type": "code",
   "execution_count": 113,
   "metadata": {},
   "outputs": [],
   "source": [
    "# Filter out rows with null values in relevant columns\n",
    "filtered_df = filtered_df.dropna(subset=['bcg', 'polio3', 'mcv', 'penta3','polio1','penta1'])"
   ]
  },
  {
   "cell_type": "code",
   "execution_count": 114,
   "metadata": {},
   "outputs": [
    {
     "data": {
      "text/plain": [
       "40.027045300878974"
      ]
     },
     "execution_count": 114,
     "metadata": {},
     "output_type": "execute_result"
    }
   ],
   "source": [
    "# Calculate the number of fully vaccinated kids\n",
    "fully_vaccinated = filtered_df[(filtered_df['bcg']==1) & (filtered_df['polio3']==1) & (filtered_df['mcv']==1) & (filtered_df['penta3']==1)]\n",
    "num_fully_vaccinated = len(fully_vaccinated)\n",
    "\n",
    "# Calculate the total number of kids\n",
    "total_kids = len(filtered_df)\n",
    "\n",
    "# Calculate the percentage of fully vaccinated kids\n",
    "percentage_fully_vaccinated = (num_fully_vaccinated / total_kids) * 100\n",
    "percentage_fully_vaccinated"
   ]
  },
  {
   "cell_type": "markdown",
   "metadata": {},
   "source": [
    "##  Zero dose childern Penta1"
   ]
  },
  {
   "cell_type": "code",
   "execution_count": null,
   "metadata": {},
   "outputs": [],
   "source": [
    "def calculate_zero_dose_proportion(df, vaccine_column):\n",
    "    # Count the number of children who never received the Penta vaccination\n",
    "    zero_dose_children = df[df[vaccine_column] == 0][vaccine_column].count()\n",
    "\n",
    "    # Count the total number of children in the dataset\n",
    "    total_children = df['penta1'].count()\n",
    "\n",
    "    # Calculate the proportion of zero dose children\n",
    "    proportion_zero_dose = (zero_dose_children / total_children) * 100\n",
    "\n",
    "    return proportion_zero_dose"
   ]
  },
  {
   "cell_type": "code",
   "execution_count": null,
   "metadata": {},
   "outputs": [],
   "source": [
    "zero_dose_proportion = calculate_zero_dose_proportion(filtered_df, 'penta1')\n",
    "print(f\"Proportion of zero dose children: {zero_dose_proportion:.2f}%\")\n"
   ]
  },
  {
   "cell_type": "code",
   "execution_count": null,
   "metadata": {},
   "outputs": [],
   "source": [
    "def calculate_zero_dose_percentage_by_group(df, vaccine_column, group_column):\n",
    "    # Group the DataFrame by group and count the total number of children in each group\n",
    "    total_children_by_group = df.groupby(group_column).size()\n",
    "\n",
    "    # Group the DataFrame by group and count the number of zero-dose children in each group\n",
    "    zero_dose_children_by_group = df[df[vaccine_column] == 0].groupby(group_column).size()\n",
    "\n",
    "    # Calculate the percentage of zero-dose children for each group\n",
    "    zero_dose_percentage_by_group = round((zero_dose_children_by_group / total_children_by_group) * 100,1)\n",
    "\n",
    "    return zero_dose_percentage_by_group"
   ]
  },
  {
   "cell_type": "code",
   "execution_count": null,
   "metadata": {},
   "outputs": [],
   "source": [
    "zero_dose_percentage_by_group = calculate_zero_dose_percentage_by_group(df, 'penta1', 'district')\n",
    "\n",
    "print(zero_dose_percentage_by_group)"
   ]
  },
  {
   "cell_type": "code",
   "execution_count": null,
   "metadata": {},
   "outputs": [],
   "source": [
    "zero_dose_percentage_by_group = calculate_zero_dose_percentage_by_group(df, 'penta1', 'residence')\n",
    "\n",
    "print(zero_dose_percentage_by_group)"
   ]
  },
  {
   "cell_type": "code",
   "execution_count": null,
   "metadata": {},
   "outputs": [],
   "source": [
    "zero_dose_percentage_by_group = calculate_zero_dose_percentage_by_group(df, 'penta1', 'gender')\n",
    "\n",
    "print(zero_dose_percentage_by_group)"
   ]
  },
  {
   "cell_type": "code",
   "execution_count": null,
   "metadata": {},
   "outputs": [],
   "source": [
    "# Zero Dose Childern Non-vaccinated at all"
   ]
  },
  {
   "cell_type": "code",
   "execution_count": 116,
   "metadata": {},
   "outputs": [
    {
     "data": {
      "text/plain": [
       "17.68086544962813"
      ]
     },
     "execution_count": 116,
     "metadata": {},
     "output_type": "execute_result"
    }
   ],
   "source": [
    "# Calculate the number of no vaccinated kids\n",
    "no_vaccinated = filtered_df[(filtered_df['bcg']==0) & (filtered_df['polio1']==0) & (filtered_df['mcv']==0) & (filtered_df['penta1']==0)]\n",
    "num_no_vaccinated = len(no_vaccinated)\n",
    "\n",
    "# Calculate the total number of kids\n",
    "total_kids =len(filtered_df)\n",
    "\n",
    "\n",
    "# Calculate the percentage of no vaccinated kids\n",
    "percentage_no_vaccinated = (num_no_vaccinated / total_kids) * 100\n",
    "percentage_no_vaccinated"
   ]
  },
  {
   "cell_type": "code",
   "execution_count": null,
   "metadata": {},
   "outputs": [],
   "source": []
  }
 ],
 "metadata": {
  "kernelspec": {
   "display_name": "Python 3",
   "language": "python",
   "name": "python3"
  },
  "language_info": {
   "codemirror_mode": {
    "name": "ipython",
    "version": 3
   },
   "file_extension": ".py",
   "mimetype": "text/x-python",
   "name": "python",
   "nbconvert_exporter": "python",
   "pygments_lexer": "ipython3",
   "version": "3.8.5"
  }
 },
 "nbformat": 4,
 "nbformat_minor": 4
}
