{
 "cells": [
  {
   "cell_type": "markdown",
   "metadata": {},
   "source": [
    "# Pakistan Khyber Pakhtunkhwa 2019 MICS6 Datasets"
   ]
  },
  {
   "cell_type": "code",
   "execution_count": 1,
   "metadata": {},
   "outputs": [
    {
     "name": "stderr",
     "output_type": "stream",
     "text": [
      "C:\\Users\\swalke\\Anaconda3\\lib\\site-packages\\pandas\\core\\computation\\expressions.py:20: UserWarning: Pandas requires version '2.7.3' or newer of 'numexpr' (version '2.7.1' currently installed).\n",
      "  from pandas.core.computation.check import NUMEXPR_INSTALLED\n"
     ]
    }
   ],
   "source": [
    "import pyreadstat\n",
    "import warnings\n",
    "warnings.filterwarnings(\"ignore\")\n",
    "from googletrans import Translator\n",
    "from googletrans import Translator\n",
    "import pandas as pd\n",
    "import numpy as np"
   ]
  },
  {
   "cell_type": "code",
   "execution_count": 2,
   "metadata": {},
   "outputs": [],
   "source": [
    "def calculate_weighted_percentage(df, column_name):\n",
    "    filtered_df = df[df['UB2'] == 1]\n",
    "    weighted_percentage = round(filtered_df[column_name].mean() * 100,1)\n",
    "    print(\"Weighted percentage of '{}' if 'UB2' is 1: {}\".format(column_name, weighted_percentage))"
   ]
  },
  {
   "cell_type": "code",
   "execution_count": 3,
   "metadata": {},
   "outputs": [],
   "source": [
    "# Function to calculate vaccination coverage for each child_residence between specific age group\n",
    "def calculate_vaccination_coverage_child_residence(df, residence, vaccine_column):\n",
    "    filtered_df = df[(df['UB2']==1) & (df['residence']== residence)]\n",
    "\n",
    "    # Calculate the percentage of children vaccinated with the specified vaccine\n",
    "    # Count non-null values in the vaccine_column\n",
    "    weighted_percentage = round(filtered_df[vaccine_column].mean() * 100,1)\n",
    "    #print(\"Weighted percentage of '{}' if 'UB2' is 1: {}\".format(vaccine_column, weighted_percentage))                  \n",
    "    return weighted_percentage\n"
   ]
  },
  {
   "cell_type": "code",
   "execution_count": 4,
   "metadata": {},
   "outputs": [],
   "source": [
    "# Function to calculate vaccination coverage for each region between specific age group\n",
    "def calculate_vaccination_coverage_region(df, region, vaccine_column):\n",
    "    # Filter rows where child_age is between min_age and max_age and region matches\n",
    "    filtered_df = df[(df['UB2']==1) & (df['region'] == region)]\n",
    "\n",
    "    # Calculate the percentage of children vaccinated with the specified vaccine\n",
    "    total_children = filtered_df[vaccine_column].count()  # Count non-null values in the vaccine_column\n",
    "    if total_children == 0:\n",
    "        print(\"No children found for the specified age range and region: {}.\".format(region))\n",
    "        return 0\n",
    "    percentage_vaccinated = round(filtered_df[vaccine_column].mean() * 100,1)\n",
    "    #print(\"{} Vaccination Coverage for children in {} between {} to {} months using dataset: {:.2f}%\".format(vaccine_column, region, min_age, max_age, percentage_vaccinated))\n",
    "    return percentage_vaccinated"
   ]
  },
  {
   "cell_type": "code",
   "execution_count": 5,
   "metadata": {},
   "outputs": [],
   "source": [
    "# Function to calculate vaccination coverage for each child_gender between specific age group\n",
    "def calculate_vaccination_coverage_child_gender(df, gender, vaccine_column):\n",
    "    filtered_df = df[(df['UB2']==1) & (df['gender']== gender)]\n",
    "\n",
    "    # Calculate the percentage of children vaccinated with the specified vaccine\n",
    "    # Count non-null values in the vaccine_column\n",
    "    weighted_percentage = round(filtered_df[vaccine_column].mean() * 100,1)\n",
    "    #print(\"Weighted percentage of '{}' if 'UB2' is 1: {}\".format(vaccine_column, weighted_percentage))                  \n",
    "    return weighted_percentage\n"
   ]
  },
  {
   "cell_type": "code",
   "execution_count": 85,
   "metadata": {},
   "outputs": [],
   "source": [
    "def calculate_vaccination_coverage_district(df, district, vaccine_column):\n",
    "    # Filter rows where district matches\n",
    "    filtered_df = df[(df['UB2']==1) & (df['district'] == district)]\n",
    "    total_children = filtered_df[vaccine_column].count()  # Count non-null values in the vaccine_column\n",
    "    if total_children == 0:\n",
    "        print(\"No children found for the specified district: {}.\".format(district))\n",
    "        return 0\n",
    "    percentage_vaccinated = round(filtered_df[vaccine_column].mean() * 100, 1)\n",
    "    return percentage_vaccinated"
   ]
  },
  {
   "cell_type": "markdown",
   "metadata": {},
   "source": [
    "# Reading the dataframe"
   ]
  },
  {
   "cell_type": "code",
   "execution_count": 6,
   "metadata": {},
   "outputs": [],
   "source": [
    "df, meta = pyreadstat.read_sav(\"C:/Users/swalke/Desktop/RISP/PAK Khyber 2019.sav\")"
   ]
  },
  {
   "cell_type": "code",
   "execution_count": 7,
   "metadata": {},
   "outputs": [
    {
     "data": {
      "text/plain": [
       "{0.0: 'NOT GIVEN',\n",
       " 44.0: 'MARKED ON CARD',\n",
       " 66.0: 'MOTHER REPORTED',\n",
       " 97.0: 'Inconsistent',\n",
       " 98.0: 'DK',\n",
       " 99.0: 'NO RESPONSE'}"
      ]
     },
     "execution_count": 7,
     "metadata": {},
     "output_type": "execute_result"
    }
   ],
   "source": [
    "# Access variable labels\n",
    "variable_labels = meta.column_labels\n",
    "\n",
    "# Access value labels for a specific variable\n",
    "value_labels = meta.variable_value_labels.get(\"IM6BD\")\n",
    "value_labels"
   ]
  },
  {
   "cell_type": "code",
   "execution_count": 8,
   "metadata": {},
   "outputs": [
    {
     "data": {
      "text/plain": [
       "IM6BY\n",
       "2018.0    2444\n",
       "2017.0    1792\n",
       "2019.0    1362\n",
       "2016.0     602\n",
       "9999.0      19\n",
       "Name: count, dtype: int64"
      ]
     },
     "execution_count": 8,
     "metadata": {},
     "output_type": "execute_result"
    }
   ],
   "source": [
    "df['IM6BY'].value_counts()"
   ]
  },
  {
   "cell_type": "code",
   "execution_count": 9,
   "metadata": {},
   "outputs": [
    {
     "data": {
      "text/plain": [
       "{1.0: 'YES, HAS ONLY CARD(S)',\n",
       " 2.0: 'YES, HAS ONLY OTHER DOCUMENT',\n",
       " 3.0: 'YES, HAS CARD(S) AND OTHER DOCUMENT',\n",
       " 4.0: 'NO, HAS NO CARDS AND NO OTHER DOCUMENT',\n",
       " 9.0: 'NO RESPONSE'}"
      ]
     },
     "execution_count": 9,
     "metadata": {},
     "output_type": "execute_result"
    }
   ],
   "source": [
    "# Access variable labels\n",
    "variable_labels = meta.column_labels\n",
    "\n",
    "# Access value labels for a specific variable\n",
    "value_labels = meta.variable_value_labels.get(\"IM2\")\n",
    "value_labels"
   ]
  },
  {
   "cell_type": "code",
   "execution_count": 10,
   "metadata": {},
   "outputs": [],
   "source": [
    "# Define mapping variables\n",
    "day_mapping = {range(1, 67): True,97.0:True, 99: np.nan, 0.0:False}\n",
    "month_mapping ={range(1, 67): True, 97.07: True, 99: np.nan, 0.0:False}\n",
    "year_mapping = {2014:True, 2015:True, 2016:True, 2017:True, 2018:True, 2019:True, 9997.0:True, 4444:True, 6666:True, 9999:np.nan}"
   ]
  },
  {
   "cell_type": "code",
   "execution_count": 11,
   "metadata": {},
   "outputs": [],
   "source": [
    "df['card'] = df['IM2'].replace({1:True, 2:True, 3:False, 4:False, 9:np.nan})"
   ]
  },
  {
   "cell_type": "code",
   "execution_count": 12,
   "metadata": {},
   "outputs": [],
   "source": [
    "df['recall'] = df['IM11'].replace({1:True, 2: False, 8: np.nan, 9: np.nan})"
   ]
  },
  {
   "cell_type": "code",
   "execution_count": 54,
   "metadata": {},
   "outputs": [],
   "source": [
    "df['bcgday'] = df['IM6BD'].replace(day_mapping)\n",
    "df['bcgmonth'] = df['IM6BM'].replace(month_mapping)\n",
    "df['bcgyr'] = df['IM6BY'].replace(year_mapping)\n",
    "\n",
    "df['polio0day'] = df['IM6P0D'].replace(day_mapping)\n",
    "df['polio0month'] = df['IM6P0M'].replace(month_mapping)\n",
    "df['polio0yr'] = df['IM6P0Y'].replace(year_mapping)\n",
    "\n",
    "\n",
    "df['polio1day'] = df['IM6P1D'].replace(day_mapping)\n",
    "df['polio1month'] = df['IM6P1M'].replace(month_mapping)\n",
    "df['polio1yr'] = df['IM6P1Y'].replace(year_mapping)\n",
    "\n",
    "df['polio2day'] = df['IM6P2D'].replace(day_mapping)\n",
    "df['polio2month'] = df['IM6P2M'].replace(month_mapping)\n",
    "df['polio2yr'] = df['IM6P2Y'].replace(year_mapping)\n",
    "\n",
    "\n",
    "df['polio3day'] = df['IM6P3D'].replace(day_mapping)\n",
    "df['polio3month'] = df['IM6P3M'].replace(month_mapping)\n",
    "df['polio3yr'] = df['IM6P3Y'].replace(year_mapping)\n",
    "\n",
    "\n",
    "df['ipvday'] = df['IM6ID'].replace(day_mapping)\n",
    "df['ipvmonth'] = df['IM6IM'].replace(month_mapping)\n",
    "df['ipvyr'] = df['IM6IY'].replace(year_mapping)\n",
    "\n",
    "\n",
    "df['penta1day'] = df['IM6PENTA1D'].replace(day_mapping)\n",
    "df['penta1month'] = df['IM6PENTA1M'].replace(month_mapping)\n",
    "df['penta1yr'] = df['IM6PENTA1Y'].replace(year_mapping)\n",
    "\n",
    "\n",
    "df['penta2day'] = df['IM6PENTA2D'].replace(day_mapping)\n",
    "df['penta2month'] = df['IM6PENTA2M'].replace(month_mapping)\n",
    "df['penta2yr'] = df['IM6PENTA2Y'].replace(year_mapping)\n",
    "\n",
    "\n",
    "df['penta3day'] = df['IM6PENTA3D'].replace(day_mapping)\n",
    "df['penta3month'] = df['IM6PENTA3M'].replace(month_mapping)\n",
    "df['penta3yr'] = df['IM6PENTA3Y'].replace(year_mapping)\n",
    "\n",
    "df['measlesday'] = df['IM6M1D'].replace(day_mapping)\n",
    "df['measlesmonth'] = df['IM6M1M'].replace(month_mapping)\n",
    "df['measlesyr'] = df['IM6M1Y'].replace(year_mapping)\n",
    "\n",
    "\n",
    "#df['yfday'] = df['IM6YD'].replace(day_mapping)\n",
    "#df['yfmonth'] = df['IM6YM'].replace(month_mapping)\n",
    "#df['yfyr'] = df['IM6YY'].replace(year_mapping)\n",
    "\n",
    "df['pcv1day'] = df['IM6PCV1D'].replace(day_mapping)\n",
    "df['pcv1month'] = df['IM6PCV1M'].replace(month_mapping)\n",
    "df['pcv1yr'] = df['IM6PCV1Y'].replace(year_mapping)\n",
    "\n",
    "df['pcv2day'] = df['IM6PCV2D'].replace(day_mapping)\n",
    "df['pcv2month'] = df['IM6PCV2M'].replace(month_mapping)\n",
    "df['pcv2yr'] = df['IM6PCV2Y'].replace(year_mapping)\n",
    "\n",
    "df['pcv3day'] = df['IM6PCV3D'].replace(day_mapping)\n",
    "df['pcv3month'] = df['IM6PCV3M'].replace(month_mapping)\n",
    "df['pcv3yr'] = df['IM6PCV3Y'].replace(year_mapping)"
   ]
  },
  {
   "cell_type": "markdown",
   "metadata": {},
   "source": [
    "# BCG"
   ]
  },
  {
   "cell_type": "code",
   "execution_count": 14,
   "metadata": {},
   "outputs": [],
   "source": [
    "df['bcg_card'] = df[['bcgday', 'bcgmonth','bcgyr']].max(axis=1)\n",
    "df.loc[df['card'] == 0, 'bcg_card'] = 0\n",
    "\n",
    "df['bcg_recall'] = df['IM14'].replace({1: 1, 2: 0,8: np.nan, 9: np.nan})\n",
    "df.loc[df['recall'] == 0, 'bcg_recall'] = 0\n",
    "\n",
    "df['bcg'] = df[['bcg_card', 'bcg_recall']].max(axis=1)\n",
    "df['bcg_sampled']=df['bcg']*df['chweight']"
   ]
  },
  {
   "cell_type": "code",
   "execution_count": 15,
   "metadata": {},
   "outputs": [],
   "source": [
    "# Access variable labels\n",
    "variable_labels = meta.column_labels\n",
    "\n",
    "# Access value labels for a specific variable\n",
    "value_labels = meta.variable_value_labels.get(\"hh7\")\n",
    "value_labels"
   ]
  },
  {
   "cell_type": "code",
   "execution_count": 16,
   "metadata": {},
   "outputs": [
    {
     "name": "stdout",
     "output_type": "stream",
     "text": [
      "Weighted percentage of 'bcg' if 'UB2' is 1: 77.2\n"
     ]
    }
   ],
   "source": [
    "calculate_weighted_percentage(df, 'bcg')"
   ]
  },
  {
   "cell_type": "code",
   "execution_count": 17,
   "metadata": {},
   "outputs": [
    {
     "name": "stdout",
     "output_type": "stream",
     "text": [
      "Weighted percentage of 'bcg_sampled' if 'UB2' is 1: 82.0\n"
     ]
    }
   ],
   "source": [
    "calculate_weighted_percentage(df, 'bcg_sampled')"
   ]
  },
  {
   "cell_type": "markdown",
   "metadata": {},
   "source": [
    "# Polio"
   ]
  },
  {
   "cell_type": "code",
   "execution_count": 55,
   "metadata": {},
   "outputs": [],
   "source": [
    "#polio0\n",
    "df['polio0_card'] = df[['polio0day', 'polio0month','polio0yr']].max(axis=1)\n",
    "df.loc[df['card'] == False, 'polio0_card'] = False\n",
    "\n",
    "df['polio0_recall1'] = df['IM17'].replace({1: 1, 2: 0, 3: 0, 4: 0, 5: 0, 6: 0, 7: 0, 8: np.nan, 9: np.nan})\n",
    "df.loc[df['recall'] == False, 'polio0_recall1'] = False\n",
    "\n",
    "df['polio0'] = df[['polio0_card','polio0_recall1']].max(axis=1)\n",
    "df['polio0_sampled']=df['polio0']*df['chweight']"
   ]
  },
  {
   "cell_type": "code",
   "execution_count": 18,
   "metadata": {},
   "outputs": [],
   "source": [
    "#Polio1\n",
    "df['polio1_card'] = df[['polio1day', 'polio1month','polio1yr']].max(axis=1)\n",
    "df.loc[df['card'] == False, 'polio1_card'] = False\n",
    "\n",
    "df['polio1_recall1'] = df['IM18'].replace({1: 1, 2: 1, 3: 1, 4: 1, 5: 1, 6: 1, 7: 1, 8: np.nan, 9: np.nan})\n",
    "df.loc[df['recall'] == False, 'polio1_recall1'] = False\n",
    "\n",
    "df['polio1'] = df[['polio1_card','polio1_recall1']].max(axis=1)\n",
    "df['polio1_sampled']=df['polio1']*df['chweight']"
   ]
  },
  {
   "cell_type": "code",
   "execution_count": 19,
   "metadata": {},
   "outputs": [],
   "source": [
    "#Polio2\n",
    "df['polio2_card'] = df[['polio2day', 'polio2month','polio2yr']].max(axis=1)\n",
    "df.loc[df['card'] == False, 'polio2_card'] = False\n",
    "\n",
    "df['polio2_recall'] = df['IM18'].replace({1: 0, 2: 1, 3: 1, 4: 1, 5: 1, 6: 1, 7: 1, 8: np.nan, 9: np.nan})\n",
    "df.loc[df['recall'] == False, 'polio2_recall'] = False\n",
    "\n",
    "df['polio2'] = df[['polio2_card','polio2_recall']].max(axis=1)\n",
    "df['polio2_sampled']=df['polio2']*df['chweight']"
   ]
  },
  {
   "cell_type": "code",
   "execution_count": 20,
   "metadata": {},
   "outputs": [],
   "source": [
    "#Polio3\n",
    "df['polio3_card'] = df[['polio3day', 'polio3month','polio3yr']].max(axis=1)\n",
    "df.loc[df['card'] == False, 'polio3_card'] = False\n",
    "\n",
    "df['polio3_recall'] = df['IM18'].replace({1: 0, 2: 0, 3: 1, 4: 1, 5: 1, 6: 1, 7: 1, 8: np.nan, 9: np.nan})\n",
    "df.loc[df['recall'] == False, 'polio3_recall'] = False\n",
    "\n",
    "df['polio3'] = df[['polio3_card','polio3_recall']].max(axis=1)\n",
    "df['polio3_sampled']=df['polio3']*df['chweight']"
   ]
  },
  {
   "cell_type": "markdown",
   "metadata": {},
   "source": [
    "# Penta"
   ]
  },
  {
   "cell_type": "code",
   "execution_count": 21,
   "metadata": {},
   "outputs": [],
   "source": [
    "#penta1\n",
    "\n",
    "df['penta1_card'] = df[['penta1day', 'penta1month','penta1yr']].max(axis=1)\n",
    "df.loc[df['card'] == False, 'penta1_card'] = False\n",
    "\n",
    "df['penta1_recall'] = df['IM21'].replace({1: 1, 2: 1, 3: 1, 4: 1, 5: 1, 6: 1, 7: 1, 8: np.nan, 9: np.nan})\n",
    "df.loc[df['recall'] == False, 'polio1_recall'] = False\n",
    "\n",
    "df['penta1'] = df[['penta1_card', 'penta1_recall']].max(axis=1)\n",
    "df['penta1_sampled']=df['penta1']*df['chweight']"
   ]
  },
  {
   "cell_type": "code",
   "execution_count": 22,
   "metadata": {},
   "outputs": [],
   "source": [
    "# penta2\n",
    "df['penta2_card'] = df[['penta2day', 'penta2month','penta2yr']].max(axis=1)\n",
    "df.loc[df['card'] == False, 'penta2_card'] = False\n",
    "\n",
    "df['penta2_recall'] = df['IM21'].replace({1: 0, 2: 1, 3: 1, 4: 1, 5: 1, 6: 1, 7: 1, 8: np.nan, 9: np.nan})\n",
    "df.loc[df['recall'] == False, 'polio1_recall'] = False\n",
    "\n",
    "df['penta2'] = df[['penta2_card', 'penta2_recall']].max(axis=1)\n",
    "df['penta2_sampled']=df['penta2']*df['chweight']"
   ]
  },
  {
   "cell_type": "code",
   "execution_count": 23,
   "metadata": {},
   "outputs": [],
   "source": [
    "# penta3\n",
    "df['penta3_card'] = df[['penta3day', 'penta3month','penta3yr']].max(axis=1)\n",
    "df.loc[df['card'] == False, 'penta3_card'] = False\n",
    "\n",
    "df['penta3_recall'] = df['IM21'].replace({1: 0, 2: 0, 3: 1, 4: 1, 5: 1, 6: 1, 7: 1, 8: np.nan, 9: np.nan})\n",
    "df.loc[df['recall'] == False, 'polio1_recall'] = False\n",
    "\n",
    "df['penta3'] = df[['penta3_card', 'penta3_recall']].max(axis=1)\n",
    "df['penta3_sampled']=df['penta3']*df['chweight']"
   ]
  },
  {
   "cell_type": "markdown",
   "metadata": {},
   "source": [
    "# Yellow Fever"
   ]
  },
  {
   "cell_type": "markdown",
   "metadata": {},
   "source": [
    "# PCV"
   ]
  },
  {
   "cell_type": "code",
   "execution_count": 24,
   "metadata": {},
   "outputs": [],
   "source": [
    "#pcv1\n",
    "df['pcv1_card'] = df[['pcv1day', 'pcv1month','pcv1yr']].max(axis=1)\n",
    "df.loc[df['card'] == False, 'pcv1_card'] = False\n",
    "\n",
    "df['pcv1_recall1'] = df['IM23'].replace({1: 1, 2: 1, 3: 1, 4: 1, 5: 1, 6: 1, 7: 1, 8: np.nan, 9: np.nan})\n",
    "df.loc[df['recall'] == False, 'pcv1_recall1'] = False\n",
    "\n",
    "df['pcv1'] = df[['pcv1_card','pcv1_recall1']].max(axis=1)\n",
    "df['pcv1_sampled']=df['pcv1']*df['chweight']\n",
    "\n",
    "\n"
   ]
  },
  {
   "cell_type": "code",
   "execution_count": 25,
   "metadata": {},
   "outputs": [],
   "source": [
    "#pcv2\n",
    "df['pcv2_card'] = df[['pcv2day', 'pcv2month','pcv2yr']].max(axis=1)\n",
    "df.loc[df['card'] == False, 'pcv2_card'] = False\n",
    "\n",
    "df['pcv2_recall'] = df['IM23'].replace({1: 0, 2: 1, 3: 1, 4: 1, 5: 1, 6: 1, 7: 1, 8: np.nan, 9: np.nan})\n",
    "df.loc[df['recall'] == False, 'pcv2_recall'] = False\n",
    "\n",
    "df['pcv2'] = df[['pcv2_card','pcv2_recall']].max(axis=1)\n",
    "df['pcv2_sampled']=df['pcv2']*df['chweight']"
   ]
  },
  {
   "cell_type": "code",
   "execution_count": 26,
   "metadata": {},
   "outputs": [],
   "source": [
    "\n",
    "#pcv3\n",
    "df['pcv3_card'] = df[['pcv3day', 'pcv3month','pcv3yr']].max(axis=1)\n",
    "df.loc[df['card'] == False, 'pcv3_card'] = False\n",
    "\n",
    "df['pcv3_recall'] = df['IM23'].replace({1: 0, 2: 0, 3: 1, 4: 1, 5: 1, 6: 1, 7: 1, 8: np.nan, 9: np.nan})\n",
    "df.loc[df['recall'] == False, 'pcv3_recall'] = False\n",
    "\n",
    "df['pcv3'] = df[['pcv3_card','pcv3_recall']].max(axis=1)\n",
    "df['pcv3_sampled']=df['pcv3']*df['chweight']"
   ]
  },
  {
   "cell_type": "markdown",
   "metadata": {},
   "source": [
    "# IPV"
   ]
  },
  {
   "cell_type": "code",
   "execution_count": 27,
   "metadata": {},
   "outputs": [],
   "source": [
    "df['ipv'] = df[['ipvday', 'ipvmonth','ipvyr']].max(axis=1)\n",
    "df.loc[df['card'] == False, 'ipv'] = False\n",
    "\n",
    "#df['ipv_recall'] = df['IM23'].replace({1: 0, 2: 0, 3: 1, 4: 1, 5: 1, 6: 1, 7: 1, 8: np.nan, 9: np.nan})\n",
    "#df.loc[df['recall'] == False, 'ipv_recall'] = False\n",
    "\n",
    "#df['ipv'] = df[['ipv_card','ipv_recall']].max(axis=1)\n",
    "df['ipv_sampled']=df['ipv']*df['chweight']"
   ]
  },
  {
   "cell_type": "markdown",
   "metadata": {},
   "source": [
    "# measles"
   ]
  },
  {
   "cell_type": "code",
   "execution_count": 28,
   "metadata": {},
   "outputs": [],
   "source": [
    "df['measles_card'] = df[['measlesday', 'measlesmonth','measlesyr']].max(axis=1)\n",
    "df.loc[df['card'] == False, 'measles_card'] = False\n",
    "\n",
    "df['measles_recall'] = df['IM26'].replace({1: 1, 2: 0, 8: np.nan, 9: np.nan})\n",
    "df.loc[df['recall'] == False, 'measles_recall'] = False\n",
    "\n",
    "df['measles'] = df[['measles_card','measles_recall']].max(axis=1)\n",
    "df['measles_sampled']=df['measles']*df['chweight']"
   ]
  },
  {
   "cell_type": "markdown",
   "metadata": {},
   "source": [
    "# Vaccination Calulations"
   ]
  },
  {
   "cell_type": "code",
   "execution_count": 56,
   "metadata": {},
   "outputs": [
    {
     "name": "stdout",
     "output_type": "stream",
     "text": [
      "Weighted percentage of 'bcg_sampled' if 'UB2' is 1: 82.0\n",
      "Weighted percentage of 'polio0_sampled' if 'UB2' is 1: 87.9\n",
      "Weighted percentage of 'polio1_sampled' if 'UB2' is 1: 71.9\n",
      "Weighted percentage of 'polio3_sampled' if 'UB2' is 1: 59.8\n",
      "Weighted percentage of 'penta1_sampled' if 'UB2' is 1: 76.6\n",
      "Weighted percentage of 'penta3_sampled' if 'UB2' is 1: 67.8\n",
      "Weighted percentage of 'pcv1_sampled' if 'UB2' is 1: 73.5\n",
      "Weighted percentage of 'pcv3_sampled' if 'UB2' is 1: 64.5\n",
      "Weighted percentage of 'measles_sampled' if 'UB2' is 1: 65.3\n",
      "Weighted percentage of 'ipv_sampled' if 'UB2' is 1: 53.3\n"
     ]
    }
   ],
   "source": [
    "calculate_weighted_percentage(df, 'bcg_sampled')\n",
    "calculate_weighted_percentage(df, 'polio0_sampled')\n",
    "calculate_weighted_percentage(df, 'polio1_sampled')\n",
    "calculate_weighted_percentage(df, 'polio3_sampled')\n",
    "calculate_weighted_percentage(df, 'penta1_sampled')\n",
    "calculate_weighted_percentage(df, 'penta3_sampled')\n",
    "#calculate_weighted_percentage(df, 'yf_sampled')\n",
    "calculate_weighted_percentage(df, 'pcv1_sampled')\n",
    "calculate_weighted_percentage(df, 'pcv3_sampled')\n",
    "calculate_weighted_percentage(df, 'measles_sampled')\n",
    "calculate_weighted_percentage(df, 'ipv_sampled')"
   ]
  },
  {
   "cell_type": "code",
   "execution_count": 57,
   "metadata": {},
   "outputs": [
    {
     "name": "stdout",
     "output_type": "stream",
     "text": [
      "Weighted percentage of 'bcg' if 'UB2' is 1: 77.2\n",
      "Weighted percentage of 'polio0' if 'UB2' is 1: 79.3\n",
      "Weighted percentage of 'polio1' if 'UB2' is 1: 64.9\n",
      "Weighted percentage of 'polio3' if 'UB2' is 1: 50.9\n",
      "Weighted percentage of 'penta1' if 'UB2' is 1: 69.2\n",
      "Weighted percentage of 'penta3' if 'UB2' is 1: 57.6\n",
      "Weighted percentage of 'pcv1' if 'UB2' is 1: 66.4\n",
      "Weighted percentage of 'pcv3' if 'UB2' is 1: 54.7\n",
      "Weighted percentage of 'measles' if 'UB2' is 1: 56.7\n",
      "Weighted percentage of 'ipv' if 'UB2' is 1: 44.2\n"
     ]
    }
   ],
   "source": [
    "calculate_weighted_percentage(df, 'bcg')\n",
    "calculate_weighted_percentage(df, 'polio0')\n",
    "calculate_weighted_percentage(df, 'polio1')\n",
    "calculate_weighted_percentage(df, 'polio3')\n",
    "calculate_weighted_percentage(df, 'penta1')\n",
    "calculate_weighted_percentage(df, 'penta3')\n",
    "#calculate_weighted_percentage(df, 'yf_sampled')\n",
    "calculate_weighted_percentage(df, 'pcv1')\n",
    "calculate_weighted_percentage(df, 'pcv3')\n",
    "calculate_weighted_percentage(df, 'measles')\n",
    "calculate_weighted_percentage(df, 'ipv')"
   ]
  },
  {
   "cell_type": "code",
   "execution_count": 88,
   "metadata": {},
   "outputs": [],
   "source": [
    "# rename columns in dataframe\n",
    "df = df.rename(columns={'HL4': 'gender','HH6':'residence','division':'district','HH7':'region'})"
   ]
  },
  {
   "cell_type": "code",
   "execution_count": 89,
   "metadata": {},
   "outputs": [
    {
     "data": {
      "text/plain": [
       "{1.0: 'Bannu',\n",
       " 2.0: 'D.I. Khan',\n",
       " 3.0: 'Hazara',\n",
       " 4.0: 'Kohat',\n",
       " 5.0: 'Malakand',\n",
       " 6.0: 'Mardan',\n",
       " 7.0: 'Peshawar'}"
      ]
     },
     "execution_count": 89,
     "metadata": {},
     "output_type": "execute_result"
    }
   ],
   "source": [
    "# Access variable labels\n",
    "variable_labels = meta.column_labels\n",
    "\n",
    "# Access value labels for a specific variable\n",
    "value_labels = meta.variable_value_labels.get(\"division\")\n",
    "value_labels"
   ]
  },
  {
   "cell_type": "code",
   "execution_count": 90,
   "metadata": {},
   "outputs": [],
   "source": [
    "district_mapping={1.0: 'Bannu',\n",
    " 2.0: 'D.I. Khan',\n",
    " 3.0: 'Hazara',\n",
    " 4.0: 'Kohat',\n",
    " 5.0: 'Malakand',\n",
    " 6.0: 'Mardan',\n",
    " 7.0: 'Peshawar'}"
   ]
  },
  {
   "cell_type": "code",
   "execution_count": 91,
   "metadata": {},
   "outputs": [
    {
     "data": {
      "text/plain": [
       "gender\n",
       "Male      12558\n",
       "Female    11787\n",
       "Name: count, dtype: int64"
      ]
     },
     "execution_count": 91,
     "metadata": {},
     "output_type": "execute_result"
    }
   ],
   "source": [
    "df['gender'].value_counts()"
   ]
  },
  {
   "cell_type": "code",
   "execution_count": null,
   "metadata": {},
   "outputs": [],
   "source": []
  },
  {
   "cell_type": "code",
   "execution_count": 92,
   "metadata": {},
   "outputs": [],
   "source": [
    "# List of Region\n",
    "region_mapping = {1.0: 'Abbotabad',\n",
    " 2.0: 'Bannu',\n",
    " 3.0: 'Batagram',\n",
    " 4.0: 'Buner',\n",
    " 5.0: 'Charsadda',\n",
    " 6.0: 'Chitral',\n",
    " 7.0: 'Dera Ismail Khan',\n",
    " 8.0: 'Hangu',\n",
    " 9.0: 'Hari Pur',\n",
    " 10.0: 'Karak',\n",
    " 11.0: 'Kohat',\n",
    " 12.0: 'Kohistan',\n",
    " 13.0: 'Laki Marwat',\n",
    " 14.0: 'Lower Dir',\n",
    " 15.0: 'Malakand',\n",
    " 16.0: 'Mansehra',\n",
    " 17.0: 'Mardan',\n",
    " 18.0: 'Nowshehra',\n",
    " 19.0: 'Peshawar',\n",
    " 20.0: 'Shangla',\n",
    " 21.0: 'Swabi',\n",
    " 22.0: 'Swat',\n",
    " 23.0: 'Tank',\n",
    " 24.0: 'Torghar',\n",
    " 25.0: 'Upper Dir',\n",
    " 26.0: 'Bajor',\n",
    " 27.0: 'Khyber',\n",
    " 28.0: 'Kuram',\n",
    " 29.0: 'Mohmind',\n",
    " 30.0: 'North Waziristan',\n",
    " 31.0: 'Orakzai',\n",
    " 32.0: 'South Waziristan'}\n",
    "residence_mapping = {1.0: 'Urban', 2.0: 'Rural'}\n",
    "gender_mapping = {1.0: 'Male', 2.0: 'Female'}"
   ]
  },
  {
   "cell_type": "code",
   "execution_count": 93,
   "metadata": {},
   "outputs": [],
   "source": [
    "# Apply mappings to DataFrame columns\n",
    "df['gender'] = df['gender'].replace(gender_mapping)\n",
    "df['region'] = df['region'].replace(region_mapping)\n",
    "df['residence'] = df['residence'].replace(residence_mapping)\n",
    "df['district']=df['district'].replace(district_mapping)"
   ]
  },
  {
   "cell_type": "code",
   "execution_count": 94,
   "metadata": {},
   "outputs": [
    {
     "data": {
      "text/plain": [
       "district\n",
       "Malakand     6665\n",
       "Peshawar     4810\n",
       "Hazara       4162\n",
       "Kohat        3387\n",
       "Bannu        1907\n",
       "Mardan       1708\n",
       "D.I. Khan    1706\n",
       "Name: count, dtype: int64"
      ]
     },
     "execution_count": 94,
     "metadata": {},
     "output_type": "execute_result"
    }
   ],
   "source": [
    "df['district'].value_counts()"
   ]
  },
  {
   "cell_type": "code",
   "execution_count": 65,
   "metadata": {},
   "outputs": [],
   "source": [
    "# List of vaccines\n",
    "vaccines = ['bcg_sampled','polio0_sampled','polio1_sampled','polio3_sampled','penta1_sampled','penta3_sampled','pcv1_sampled','pcv3_sampled','ipv_sampled','measles_sampled']"
   ]
  },
  {
   "cell_type": "code",
   "execution_count": 73,
   "metadata": {},
   "outputs": [],
   "source": [
    "# List of vaccines\n",
    "vaccines1 = ['bcg','polio0','polio1','polio3','penta1','penta3','pcv1','pcv3','ipv','measles']"
   ]
  },
  {
   "cell_type": "code",
   "execution_count": 79,
   "metadata": {},
   "outputs": [],
   "source": [
    "districts=['Bannu','D.I. Khan','Hazara','Kohat','Mardan','Peshawar','Malakand']"
   ]
  },
  {
   "cell_type": "code",
   "execution_count": 67,
   "metadata": {},
   "outputs": [],
   "source": [
    "regions=['Abbotabad',\n",
    " 'Bannu',\n",
    "'Batagram',\n",
    "'Buner',\n",
    "'Charsadda',\n",
    " 'Chitral',\n",
    "'Dera Ismail Khan',\n",
    "'Hangu',\n",
    "'Hari Pur',\n",
    "'Karak',\n",
    "'Kohat',\n",
    "'Kohistan',\n",
    "'Laki Marwat',\n",
    "'Lower Dir',\n",
    "'Malakand',\n",
    " 'Mansehra',\n",
    "'Mardan',\n",
    "'Nowshehra',\n",
    "'Peshawar',\n",
    "'Shangla',\n",
    "'Swabi',\n",
    " 'Swat',\n",
    " 'Tank',\n",
    " 'Torghar',\n",
    "'Upper Dir',\n",
    " 'Bajor',\n",
    " 'Khyber',\n",
    " 'Kuram',\n",
    "'Mohmind',\n",
    "'North Waziristan',\n",
    " 'Orakzai',\n",
    "'South Waziristan']"
   ]
  },
  {
   "cell_type": "code",
   "execution_count": 68,
   "metadata": {},
   "outputs": [],
   "source": [
    "# List of genders\n",
    "genders = ['Female','Male']"
   ]
  },
  {
   "cell_type": "code",
   "execution_count": 69,
   "metadata": {},
   "outputs": [],
   "source": [
    "residences=['Urban','Rural']"
   ]
  },
  {
   "cell_type": "code",
   "execution_count": 70,
   "metadata": {},
   "outputs": [
    {
     "data": {
      "text/plain": [
       "gender\n",
       "Male      12558\n",
       "Female    11787\n",
       "Name: count, dtype: int64"
      ]
     },
     "execution_count": 70,
     "metadata": {},
     "output_type": "execute_result"
    }
   ],
   "source": [
    "df['gender'].value_counts()"
   ]
  },
  {
   "cell_type": "code",
   "execution_count": 99,
   "metadata": {},
   "outputs": [
    {
     "data": {
      "text/html": [
       "<div>\n",
       "<style scoped>\n",
       "    .dataframe tbody tr th:only-of-type {\n",
       "        vertical-align: middle;\n",
       "    }\n",
       "\n",
       "    .dataframe tbody tr th {\n",
       "        vertical-align: top;\n",
       "    }\n",
       "\n",
       "    .dataframe thead th {\n",
       "        text-align: right;\n",
       "    }\n",
       "</style>\n",
       "<table border=\"1\" class=\"dataframe\">\n",
       "  <thead>\n",
       "    <tr style=\"text-align: right;\">\n",
       "      <th>gender</th>\n",
       "      <th>Female</th>\n",
       "      <th>Male</th>\n",
       "    </tr>\n",
       "    <tr>\n",
       "      <th>Vaccine</th>\n",
       "      <th></th>\n",
       "      <th></th>\n",
       "    </tr>\n",
       "  </thead>\n",
       "  <tbody>\n",
       "    <tr>\n",
       "      <th>bcg_sampled</th>\n",
       "      <td>84.6</td>\n",
       "      <td>79.4</td>\n",
       "    </tr>\n",
       "    <tr>\n",
       "      <th>ipv_sampled</th>\n",
       "      <td>48.0</td>\n",
       "      <td>58.3</td>\n",
       "    </tr>\n",
       "    <tr>\n",
       "      <th>measles_sampled</th>\n",
       "      <td>63.1</td>\n",
       "      <td>67.4</td>\n",
       "    </tr>\n",
       "    <tr>\n",
       "      <th>pcv1_sampled</th>\n",
       "      <td>75.7</td>\n",
       "      <td>71.4</td>\n",
       "    </tr>\n",
       "    <tr>\n",
       "      <th>pcv3_sampled</th>\n",
       "      <td>60.0</td>\n",
       "      <td>68.7</td>\n",
       "    </tr>\n",
       "    <tr>\n",
       "      <th>penta1_sampled</th>\n",
       "      <td>79.2</td>\n",
       "      <td>74.2</td>\n",
       "    </tr>\n",
       "    <tr>\n",
       "      <th>penta3_sampled</th>\n",
       "      <td>63.4</td>\n",
       "      <td>72.0</td>\n",
       "    </tr>\n",
       "    <tr>\n",
       "      <th>polio0_sampled</th>\n",
       "      <td>91.8</td>\n",
       "      <td>84.2</td>\n",
       "    </tr>\n",
       "    <tr>\n",
       "      <th>polio1_sampled</th>\n",
       "      <td>74.5</td>\n",
       "      <td>69.4</td>\n",
       "    </tr>\n",
       "    <tr>\n",
       "      <th>polio3_sampled</th>\n",
       "      <td>55.2</td>\n",
       "      <td>64.3</td>\n",
       "    </tr>\n",
       "  </tbody>\n",
       "</table>\n",
       "</div>"
      ],
      "text/plain": [
       "gender           Female  Male\n",
       "Vaccine                      \n",
       "bcg_sampled        84.6  79.4\n",
       "ipv_sampled        48.0  58.3\n",
       "measles_sampled    63.1  67.4\n",
       "pcv1_sampled       75.7  71.4\n",
       "pcv3_sampled       60.0  68.7\n",
       "penta1_sampled     79.2  74.2\n",
       "penta3_sampled     63.4  72.0\n",
       "polio0_sampled     91.8  84.2\n",
       "polio1_sampled     74.5  69.4\n",
       "polio3_sampled     55.2  64.3"
      ]
     },
     "execution_count": 99,
     "metadata": {},
     "output_type": "execute_result"
    }
   ],
   "source": [
    "# Create an empty list to store the results\n",
    "results = []\n",
    "\n",
    "# Loop through each vaccine and child_gender\n",
    "for vaccine in vaccines:\n",
    "    for gender in genders:\n",
    "        coverage = calculate_vaccination_coverage_child_gender(df, gender, vaccine)\n",
    "        results.append({'Vaccine': vaccine, 'gender': gender, 'Coverage': coverage})\n",
    "\n",
    "# Convert the list of dictionaries into a DataFrame\n",
    "results_df = pd.DataFrame(results)\n",
    "#results_df['Coverage'] = results_df['Coverage'].round(2)\n",
    "# Display the results as a table\n",
    "pivot_table1 = results_df.pivot_table(index='Vaccine', columns='gender', values='Coverage')\n",
    "pivot_table1"
   ]
  },
  {
   "cell_type": "code",
   "execution_count": 76,
   "metadata": {},
   "outputs": [
    {
     "data": {
      "text/html": [
       "<div>\n",
       "<style scoped>\n",
       "    .dataframe tbody tr th:only-of-type {\n",
       "        vertical-align: middle;\n",
       "    }\n",
       "\n",
       "    .dataframe tbody tr th {\n",
       "        vertical-align: top;\n",
       "    }\n",
       "\n",
       "    .dataframe thead th {\n",
       "        text-align: right;\n",
       "    }\n",
       "</style>\n",
       "<table border=\"1\" class=\"dataframe\">\n",
       "  <thead>\n",
       "    <tr style=\"text-align: right;\">\n",
       "      <th>residence</th>\n",
       "      <th>Rural</th>\n",
       "      <th>Urban</th>\n",
       "    </tr>\n",
       "    <tr>\n",
       "      <th>Vaccine</th>\n",
       "      <th></th>\n",
       "      <th></th>\n",
       "    </tr>\n",
       "  </thead>\n",
       "  <tbody>\n",
       "    <tr>\n",
       "      <th>bcg</th>\n",
       "      <td>77.0</td>\n",
       "      <td>78.4</td>\n",
       "    </tr>\n",
       "    <tr>\n",
       "      <th>ipv</th>\n",
       "      <td>42.4</td>\n",
       "      <td>56.8</td>\n",
       "    </tr>\n",
       "    <tr>\n",
       "      <th>measles</th>\n",
       "      <td>55.7</td>\n",
       "      <td>63.1</td>\n",
       "    </tr>\n",
       "    <tr>\n",
       "      <th>pcv1</th>\n",
       "      <td>65.5</td>\n",
       "      <td>72.9</td>\n",
       "    </tr>\n",
       "    <tr>\n",
       "      <th>pcv3</th>\n",
       "      <td>53.1</td>\n",
       "      <td>66.1</td>\n",
       "    </tr>\n",
       "    <tr>\n",
       "      <th>penta1</th>\n",
       "      <td>68.2</td>\n",
       "      <td>76.2</td>\n",
       "    </tr>\n",
       "    <tr>\n",
       "      <th>penta3</th>\n",
       "      <td>56.2</td>\n",
       "      <td>67.9</td>\n",
       "    </tr>\n",
       "    <tr>\n",
       "      <th>polio0</th>\n",
       "      <td>79.5</td>\n",
       "      <td>77.5</td>\n",
       "    </tr>\n",
       "    <tr>\n",
       "      <th>polio1</th>\n",
       "      <td>63.8</td>\n",
       "      <td>72.7</td>\n",
       "    </tr>\n",
       "    <tr>\n",
       "      <th>polio3</th>\n",
       "      <td>49.3</td>\n",
       "      <td>61.5</td>\n",
       "    </tr>\n",
       "  </tbody>\n",
       "</table>\n",
       "</div>"
      ],
      "text/plain": [
       "residence  Rural  Urban\n",
       "Vaccine                \n",
       "bcg         77.0   78.4\n",
       "ipv         42.4   56.8\n",
       "measles     55.7   63.1\n",
       "pcv1        65.5   72.9\n",
       "pcv3        53.1   66.1\n",
       "penta1      68.2   76.2\n",
       "penta3      56.2   67.9\n",
       "polio0      79.5   77.5\n",
       "polio1      63.8   72.7\n",
       "polio3      49.3   61.5"
      ]
     },
     "execution_count": 76,
     "metadata": {},
     "output_type": "execute_result"
    }
   ],
   "source": [
    "# Create an empty list to store the results\n",
    "results1 = []\n",
    "\n",
    "# Loop through each vaccine and child_residence\n",
    "for vaccine in vaccines1:\n",
    "    for residence in residences:\n",
    "        coverage = calculate_vaccination_coverage_child_residence(df, residence, vaccine)\n",
    "        results1.append({'Vaccine': vaccine, 'residence': residence, 'Coverage': coverage})\n",
    "\n",
    "# Convert the list of dictionaries into a DataFrame\n",
    "results1_df = pd.DataFrame(results1)\n",
    "#results_df['Coverage'] = results_df['Coverage'].round(2)\n",
    "# Display the results as a table\n",
    "pivot_table1 = results1_df.pivot_table(index='Vaccine', columns='residence', values='Coverage')\n",
    "pivot_table1"
   ]
  },
  {
   "cell_type": "code",
   "execution_count": 43,
   "metadata": {},
   "outputs": [
    {
     "data": {
      "text/html": [
       "<div>\n",
       "<style scoped>\n",
       "    .dataframe tbody tr th:only-of-type {\n",
       "        vertical-align: middle;\n",
       "    }\n",
       "\n",
       "    .dataframe tbody tr th {\n",
       "        vertical-align: top;\n",
       "    }\n",
       "\n",
       "    .dataframe thead th {\n",
       "        text-align: right;\n",
       "    }\n",
       "</style>\n",
       "<table border=\"1\" class=\"dataframe\">\n",
       "  <thead>\n",
       "    <tr style=\"text-align: right;\">\n",
       "      <th>region</th>\n",
       "      <th>Abbotabad</th>\n",
       "      <th>Bajor</th>\n",
       "      <th>Bannu</th>\n",
       "      <th>Batagram</th>\n",
       "      <th>Buner</th>\n",
       "      <th>Charsadda</th>\n",
       "      <th>Chitral</th>\n",
       "      <th>Dera Ismail Khan</th>\n",
       "      <th>Hangu</th>\n",
       "      <th>Hari Pur</th>\n",
       "      <th>...</th>\n",
       "      <th>Nowshehra</th>\n",
       "      <th>Orakzai</th>\n",
       "      <th>Peshawar</th>\n",
       "      <th>Shangla</th>\n",
       "      <th>South Waziristan</th>\n",
       "      <th>Swabi</th>\n",
       "      <th>Swat</th>\n",
       "      <th>Tank</th>\n",
       "      <th>Torghar</th>\n",
       "      <th>Upper Dir</th>\n",
       "    </tr>\n",
       "    <tr>\n",
       "      <th>Vaccine</th>\n",
       "      <th></th>\n",
       "      <th></th>\n",
       "      <th></th>\n",
       "      <th></th>\n",
       "      <th></th>\n",
       "      <th></th>\n",
       "      <th></th>\n",
       "      <th></th>\n",
       "      <th></th>\n",
       "      <th></th>\n",
       "      <th></th>\n",
       "      <th></th>\n",
       "      <th></th>\n",
       "      <th></th>\n",
       "      <th></th>\n",
       "      <th></th>\n",
       "      <th></th>\n",
       "      <th></th>\n",
       "      <th></th>\n",
       "      <th></th>\n",
       "      <th></th>\n",
       "    </tr>\n",
       "  </thead>\n",
       "  <tbody>\n",
       "    <tr>\n",
       "      <th>bcg</th>\n",
       "      <td>73.9</td>\n",
       "      <td>71.3</td>\n",
       "      <td>45.6</td>\n",
       "      <td>43.8</td>\n",
       "      <td>80.6</td>\n",
       "      <td>90.0</td>\n",
       "      <td>96.2</td>\n",
       "      <td>49.0</td>\n",
       "      <td>122.6</td>\n",
       "      <td>88.9</td>\n",
       "      <td>...</td>\n",
       "      <td>81.1</td>\n",
       "      <td>37.5</td>\n",
       "      <td>88.7</td>\n",
       "      <td>152.8</td>\n",
       "      <td>30.5</td>\n",
       "      <td>92.7</td>\n",
       "      <td>86.9</td>\n",
       "      <td>47.3</td>\n",
       "      <td>20.2</td>\n",
       "      <td>62.8</td>\n",
       "    </tr>\n",
       "    <tr>\n",
       "      <th>ipv</th>\n",
       "      <td>54.7</td>\n",
       "      <td>43.5</td>\n",
       "      <td>15.4</td>\n",
       "      <td>21.2</td>\n",
       "      <td>60.4</td>\n",
       "      <td>68.5</td>\n",
       "      <td>64.1</td>\n",
       "      <td>30.4</td>\n",
       "      <td>23.9</td>\n",
       "      <td>61.2</td>\n",
       "      <td>...</td>\n",
       "      <td>61.1</td>\n",
       "      <td>20.0</td>\n",
       "      <td>103.5</td>\n",
       "      <td>22.2</td>\n",
       "      <td>2.6</td>\n",
       "      <td>64.6</td>\n",
       "      <td>56.8</td>\n",
       "      <td>17.8</td>\n",
       "      <td>5.2</td>\n",
       "      <td>31.0</td>\n",
       "    </tr>\n",
       "    <tr>\n",
       "      <th>measles</th>\n",
       "      <td>67.4</td>\n",
       "      <td>52.2</td>\n",
       "      <td>25.7</td>\n",
       "      <td>22.5</td>\n",
       "      <td>69.1</td>\n",
       "      <td>71.3</td>\n",
       "      <td>96.2</td>\n",
       "      <td>37.3</td>\n",
       "      <td>21.7</td>\n",
       "      <td>86.1</td>\n",
       "      <td>...</td>\n",
       "      <td>61.7</td>\n",
       "      <td>32.5</td>\n",
       "      <td>106.8</td>\n",
       "      <td>53.7</td>\n",
       "      <td>25.4</td>\n",
       "      <td>81.6</td>\n",
       "      <td>64.2</td>\n",
       "      <td>33.3</td>\n",
       "      <td>15.1</td>\n",
       "      <td>46.8</td>\n",
       "    </tr>\n",
       "    <tr>\n",
       "      <th>pcv1</th>\n",
       "      <td>72.8</td>\n",
       "      <td>61.7</td>\n",
       "      <td>36.0</td>\n",
       "      <td>39.3</td>\n",
       "      <td>77.0</td>\n",
       "      <td>87.8</td>\n",
       "      <td>94.9</td>\n",
       "      <td>34.3</td>\n",
       "      <td>25.4</td>\n",
       "      <td>82.4</td>\n",
       "      <td>...</td>\n",
       "      <td>76.6</td>\n",
       "      <td>32.5</td>\n",
       "      <td>85.3</td>\n",
       "      <td>60.2</td>\n",
       "      <td>24.6</td>\n",
       "      <td>90.1</td>\n",
       "      <td>80.1</td>\n",
       "      <td>36.5</td>\n",
       "      <td>13.6</td>\n",
       "      <td>57.8</td>\n",
       "    </tr>\n",
       "    <tr>\n",
       "      <th>pcv3</th>\n",
       "      <td>68.5</td>\n",
       "      <td>47.0</td>\n",
       "      <td>17.6</td>\n",
       "      <td>24.7</td>\n",
       "      <td>73.4</td>\n",
       "      <td>81.1</td>\n",
       "      <td>93.6</td>\n",
       "      <td>31.4</td>\n",
       "      <td>23.7</td>\n",
       "      <td>78.7</td>\n",
       "      <td>...</td>\n",
       "      <td>68.0</td>\n",
       "      <td>32.5</td>\n",
       "      <td>115.4</td>\n",
       "      <td>55.6</td>\n",
       "      <td>18.6</td>\n",
       "      <td>83.3</td>\n",
       "      <td>69.3</td>\n",
       "      <td>28.4</td>\n",
       "      <td>12.7</td>\n",
       "      <td>37.2</td>\n",
       "    </tr>\n",
       "    <tr>\n",
       "      <th>penta1</th>\n",
       "      <td>73.3</td>\n",
       "      <td>62.6</td>\n",
       "      <td>39.0</td>\n",
       "      <td>43.5</td>\n",
       "      <td>77.7</td>\n",
       "      <td>91.1</td>\n",
       "      <td>96.8</td>\n",
       "      <td>45.1</td>\n",
       "      <td>26.5</td>\n",
       "      <td>86.0</td>\n",
       "      <td>...</td>\n",
       "      <td>79.4</td>\n",
       "      <td>32.5</td>\n",
       "      <td>88.6</td>\n",
       "      <td>62.0</td>\n",
       "      <td>35.6</td>\n",
       "      <td>90.7</td>\n",
       "      <td>81.8</td>\n",
       "      <td>45.2</td>\n",
       "      <td>14.7</td>\n",
       "      <td>62.7</td>\n",
       "    </tr>\n",
       "    <tr>\n",
       "      <th>penta3</th>\n",
       "      <td>70.0</td>\n",
       "      <td>54.8</td>\n",
       "      <td>17.6</td>\n",
       "      <td>24.7</td>\n",
       "      <td>76.3</td>\n",
       "      <td>84.2</td>\n",
       "      <td>95.5</td>\n",
       "      <td>34.3</td>\n",
       "      <td>23.9</td>\n",
       "      <td>84.1</td>\n",
       "      <td>...</td>\n",
       "      <td>69.1</td>\n",
       "      <td>32.5</td>\n",
       "      <td>118.6</td>\n",
       "      <td>56.5</td>\n",
       "      <td>27.1</td>\n",
       "      <td>83.3</td>\n",
       "      <td>71.6</td>\n",
       "      <td>31.5</td>\n",
       "      <td>13.8</td>\n",
       "      <td>51.2</td>\n",
       "    </tr>\n",
       "    <tr>\n",
       "      <th>polio1</th>\n",
       "      <td>72.5</td>\n",
       "      <td>57.4</td>\n",
       "      <td>28.7</td>\n",
       "      <td>41.6</td>\n",
       "      <td>71.2</td>\n",
       "      <td>85.2</td>\n",
       "      <td>94.9</td>\n",
       "      <td>37.3</td>\n",
       "      <td>33.3</td>\n",
       "      <td>75.7</td>\n",
       "      <td>...</td>\n",
       "      <td>76.6</td>\n",
       "      <td>35.0</td>\n",
       "      <td>85.7</td>\n",
       "      <td>61.1</td>\n",
       "      <td>17.8</td>\n",
       "      <td>91.4</td>\n",
       "      <td>76.1</td>\n",
       "      <td>28.4</td>\n",
       "      <td>16.9</td>\n",
       "      <td>52.8</td>\n",
       "    </tr>\n",
       "    <tr>\n",
       "      <th>polio3</th>\n",
       "      <td>65.9</td>\n",
       "      <td>44.3</td>\n",
       "      <td>20.6</td>\n",
       "      <td>28.1</td>\n",
       "      <td>62.6</td>\n",
       "      <td>68.5</td>\n",
       "      <td>86.0</td>\n",
       "      <td>31.4</td>\n",
       "      <td>29.8</td>\n",
       "      <td>72.9</td>\n",
       "      <td>...</td>\n",
       "      <td>61.7</td>\n",
       "      <td>30.0</td>\n",
       "      <td>109.4</td>\n",
       "      <td>50.9</td>\n",
       "      <td>5.1</td>\n",
       "      <td>77.9</td>\n",
       "      <td>64.2</td>\n",
       "      <td>18.9</td>\n",
       "      <td>5.1</td>\n",
       "      <td>34.9</td>\n",
       "    </tr>\n",
       "  </tbody>\n",
       "</table>\n",
       "<p>9 rows × 32 columns</p>\n",
       "</div>"
      ],
      "text/plain": [
       "region   Abbotabad  Bajor  Bannu  Batagram  Buner  Charsadda  Chitral  \\\n",
       "Vaccine                                                                 \n",
       "bcg           73.9   71.3   45.6      43.8   80.6       90.0     96.2   \n",
       "ipv           54.7   43.5   15.4      21.2   60.4       68.5     64.1   \n",
       "measles       67.4   52.2   25.7      22.5   69.1       71.3     96.2   \n",
       "pcv1          72.8   61.7   36.0      39.3   77.0       87.8     94.9   \n",
       "pcv3          68.5   47.0   17.6      24.7   73.4       81.1     93.6   \n",
       "penta1        73.3   62.6   39.0      43.5   77.7       91.1     96.8   \n",
       "penta3        70.0   54.8   17.6      24.7   76.3       84.2     95.5   \n",
       "polio1        72.5   57.4   28.7      41.6   71.2       85.2     94.9   \n",
       "polio3        65.9   44.3   20.6      28.1   62.6       68.5     86.0   \n",
       "\n",
       "region   Dera Ismail Khan  Hangu  Hari Pur  ...  Nowshehra  Orakzai  Peshawar  \\\n",
       "Vaccine                                     ...                                 \n",
       "bcg                  49.0  122.6      88.9  ...       81.1     37.5      88.7   \n",
       "ipv                  30.4   23.9      61.2  ...       61.1     20.0     103.5   \n",
       "measles              37.3   21.7      86.1  ...       61.7     32.5     106.8   \n",
       "pcv1                 34.3   25.4      82.4  ...       76.6     32.5      85.3   \n",
       "pcv3                 31.4   23.7      78.7  ...       68.0     32.5     115.4   \n",
       "penta1               45.1   26.5      86.0  ...       79.4     32.5      88.6   \n",
       "penta3               34.3   23.9      84.1  ...       69.1     32.5     118.6   \n",
       "polio1               37.3   33.3      75.7  ...       76.6     35.0      85.7   \n",
       "polio3               31.4   29.8      72.9  ...       61.7     30.0     109.4   \n",
       "\n",
       "region   Shangla  South Waziristan  Swabi  Swat  Tank  Torghar  Upper Dir  \n",
       "Vaccine                                                                    \n",
       "bcg        152.8              30.5   92.7  86.9  47.3     20.2       62.8  \n",
       "ipv         22.2               2.6   64.6  56.8  17.8      5.2       31.0  \n",
       "measles     53.7              25.4   81.6  64.2  33.3     15.1       46.8  \n",
       "pcv1        60.2              24.6   90.1  80.1  36.5     13.6       57.8  \n",
       "pcv3        55.6              18.6   83.3  69.3  28.4     12.7       37.2  \n",
       "penta1      62.0              35.6   90.7  81.8  45.2     14.7       62.7  \n",
       "penta3      56.5              27.1   83.3  71.6  31.5     13.8       51.2  \n",
       "polio1      61.1              17.8   91.4  76.1  28.4     16.9       52.8  \n",
       "polio3      50.9               5.1   77.9  64.2  18.9      5.1       34.9  \n",
       "\n",
       "[9 rows x 32 columns]"
      ]
     },
     "execution_count": 43,
     "metadata": {},
     "output_type": "execute_result"
    }
   ],
   "source": [
    "# Create an empty list to store the results\n",
    "results2 = []\n",
    "\n",
    "# Loop through each vaccine and child_region\n",
    "for vaccine in vaccines1:\n",
    "    for region in regions:\n",
    "        coverage = calculate_vaccination_coverage_region(df, region, vaccine)\n",
    "        results2.append({'Vaccine': vaccine, 'region': region, 'Coverage': coverage})\n",
    "\n",
    "# Convert the list of dictionaries into a DataFrame\n",
    "results2_df = pd.DataFrame(results2)\n",
    "#results_df['Coverage'] = results_df['Coverage'].round(2)\n",
    "# Display the results as a table\n",
    "pivot_table2 = results2_df.pivot_table(index='Vaccine', columns='region', values='Coverage')\n",
    "pivot_table2\n",
    "#pivot_table2.to_excel('/path/to/directory/pivot_table2_sorted.xlsx')\n",
    "#pivot_table2.to_excel('Vaccinebyregion.xlsx', index=False)"
   ]
  },
  {
   "cell_type": "code",
   "execution_count": 44,
   "metadata": {},
   "outputs": [],
   "source": [
    "pivot_table2.to_clipboard(index=True, header=True)"
   ]
  },
  {
   "cell_type": "code",
   "execution_count": 96,
   "metadata": {},
   "outputs": [
    {
     "data": {
      "text/html": [
       "<div>\n",
       "<style scoped>\n",
       "    .dataframe tbody tr th:only-of-type {\n",
       "        vertical-align: middle;\n",
       "    }\n",
       "\n",
       "    .dataframe tbody tr th {\n",
       "        vertical-align: top;\n",
       "    }\n",
       "\n",
       "    .dataframe thead th {\n",
       "        text-align: right;\n",
       "    }\n",
       "</style>\n",
       "<table border=\"1\" class=\"dataframe\">\n",
       "  <thead>\n",
       "    <tr style=\"text-align: right;\">\n",
       "      <th>district</th>\n",
       "      <th>Bannu</th>\n",
       "      <th>D.I. Khan</th>\n",
       "      <th>Hazara</th>\n",
       "      <th>Kohat</th>\n",
       "      <th>Malakand</th>\n",
       "      <th>Mardan</th>\n",
       "      <th>Peshawar</th>\n",
       "    </tr>\n",
       "    <tr>\n",
       "      <th>Vaccine</th>\n",
       "      <th></th>\n",
       "      <th></th>\n",
       "      <th></th>\n",
       "      <th></th>\n",
       "      <th></th>\n",
       "      <th></th>\n",
       "      <th></th>\n",
       "    </tr>\n",
       "  </thead>\n",
       "  <tbody>\n",
       "    <tr>\n",
       "      <th>bcg</th>\n",
       "      <td>42.6</td>\n",
       "      <td>41.2</td>\n",
       "      <td>73.2</td>\n",
       "      <td>70.1</td>\n",
       "      <td>86.7</td>\n",
       "      <td>92.5</td>\n",
       "      <td>88.9</td>\n",
       "    </tr>\n",
       "    <tr>\n",
       "      <th>ipv</th>\n",
       "      <td>13.0</td>\n",
       "      <td>16.2</td>\n",
       "      <td>34.0</td>\n",
       "      <td>34.4</td>\n",
       "      <td>50.6</td>\n",
       "      <td>58.1</td>\n",
       "      <td>63.3</td>\n",
       "    </tr>\n",
       "    <tr>\n",
       "      <th>measles</th>\n",
       "      <td>27.1</td>\n",
       "      <td>31.5</td>\n",
       "      <td>46.4</td>\n",
       "      <td>53.0</td>\n",
       "      <td>64.1</td>\n",
       "      <td>75.1</td>\n",
       "      <td>67.2</td>\n",
       "    </tr>\n",
       "    <tr>\n",
       "      <th>pcv1</th>\n",
       "      <td>31.8</td>\n",
       "      <td>31.0</td>\n",
       "      <td>63.7</td>\n",
       "      <td>47.9</td>\n",
       "      <td>81.7</td>\n",
       "      <td>86.4</td>\n",
       "      <td>75.1</td>\n",
       "    </tr>\n",
       "    <tr>\n",
       "      <th>pcv3</th>\n",
       "      <td>18.7</td>\n",
       "      <td>25.5</td>\n",
       "      <td>42.1</td>\n",
       "      <td>39.9</td>\n",
       "      <td>64.5</td>\n",
       "      <td>74.7</td>\n",
       "      <td>73.7</td>\n",
       "    </tr>\n",
       "    <tr>\n",
       "      <th>penta1</th>\n",
       "      <td>34.6</td>\n",
       "      <td>41.3</td>\n",
       "      <td>66.2</td>\n",
       "      <td>49.1</td>\n",
       "      <td>83.8</td>\n",
       "      <td>88.9</td>\n",
       "      <td>77.5</td>\n",
       "    </tr>\n",
       "    <tr>\n",
       "      <th>penta3</th>\n",
       "      <td>19.8</td>\n",
       "      <td>30.7</td>\n",
       "      <td>43.5</td>\n",
       "      <td>40.3</td>\n",
       "      <td>69.2</td>\n",
       "      <td>78.3</td>\n",
       "      <td>76.3</td>\n",
       "    </tr>\n",
       "    <tr>\n",
       "      <th>polio0</th>\n",
       "      <td>32.8</td>\n",
       "      <td>36.4</td>\n",
       "      <td>70.9</td>\n",
       "      <td>68.2</td>\n",
       "      <td>93.5</td>\n",
       "      <td>91.4</td>\n",
       "      <td>97.8</td>\n",
       "    </tr>\n",
       "    <tr>\n",
       "      <th>polio1</th>\n",
       "      <td>26.8</td>\n",
       "      <td>27.2</td>\n",
       "      <td>64.4</td>\n",
       "      <td>49.7</td>\n",
       "      <td>79.1</td>\n",
       "      <td>85.3</td>\n",
       "      <td>72.9</td>\n",
       "    </tr>\n",
       "    <tr>\n",
       "      <th>polio3</th>\n",
       "      <td>19.2</td>\n",
       "      <td>17.7</td>\n",
       "      <td>40.5</td>\n",
       "      <td>39.3</td>\n",
       "      <td>60.0</td>\n",
       "      <td>68.1</td>\n",
       "      <td>67.7</td>\n",
       "    </tr>\n",
       "  </tbody>\n",
       "</table>\n",
       "</div>"
      ],
      "text/plain": [
       "district  Bannu  D.I. Khan  Hazara  Kohat  Malakand  Mardan  Peshawar\n",
       "Vaccine                                                              \n",
       "bcg        42.6       41.2    73.2   70.1      86.7    92.5      88.9\n",
       "ipv        13.0       16.2    34.0   34.4      50.6    58.1      63.3\n",
       "measles    27.1       31.5    46.4   53.0      64.1    75.1      67.2\n",
       "pcv1       31.8       31.0    63.7   47.9      81.7    86.4      75.1\n",
       "pcv3       18.7       25.5    42.1   39.9      64.5    74.7      73.7\n",
       "penta1     34.6       41.3    66.2   49.1      83.8    88.9      77.5\n",
       "penta3     19.8       30.7    43.5   40.3      69.2    78.3      76.3\n",
       "polio0     32.8       36.4    70.9   68.2      93.5    91.4      97.8\n",
       "polio1     26.8       27.2    64.4   49.7      79.1    85.3      72.9\n",
       "polio3     19.2       17.7    40.5   39.3      60.0    68.1      67.7"
      ]
     },
     "execution_count": 96,
     "metadata": {},
     "output_type": "execute_result"
    }
   ],
   "source": [
    "# Create an empty list to store the results\n",
    "results2 = []\n",
    "\n",
    "# Loop through each vaccine and child_district\n",
    "for vaccine in vaccines1:\n",
    "    for district in districts:\n",
    "        coverage = calculate_vaccination_coverage_district(df, district, vaccine)\n",
    "        results2.append({'Vaccine': vaccine, 'district': district, 'Coverage': coverage})\n",
    "\n",
    "# Convert the list of dictionaries into a DataFrame\n",
    "results2_df = pd.DataFrame(results2)\n",
    "results2_df\n",
    "# Display the results as a table\n",
    "pivot_table2 = results2_df.pivot_table(index='Vaccine', columns='district', values='Coverage')\n",
    "pivot_table2"
   ]
  },
  {
   "cell_type": "code",
   "execution_count": 97,
   "metadata": {},
   "outputs": [],
   "source": [
    "pivot_table2.to_clipboard(index=True, header=True)"
   ]
  },
  {
   "cell_type": "markdown",
   "metadata": {},
   "source": [
    "### Retention rate"
   ]
  },
  {
   "cell_type": "code",
   "execution_count": 100,
   "metadata": {},
   "outputs": [],
   "source": [
    "def calculate_retention_rate(df, group_col, dose1_col, dose2_col):\n",
    "    \"\"\"\n",
    "    Calculate retention rate from dose2 to dose1 for each group.\n",
    "    \n",
    "    Parameters:\n",
    "    df (pandas.DataFrame): Input DataFrame containing vaccination data.\n",
    "    group_col (str): Column name for the grouping variable.\n",
    "    dose1_col (str): Column name representing the first dose.\n",
    "    dose2_col (str): Column name representing the second dose.\n",
    "    \n",
    "    Returns:\n",
    "    pandas.DataFrame: DataFrame with retention rates calculated and added as a new column.\n",
    "    \"\"\"\n",
    "    # Group by the specified column and aggregate sum of dose1 and dose2\n",
    "    df1 = df.groupby([group_col]).agg(\n",
    "        sum_dose1=(dose1_col, 'sum'),\n",
    "        sum_dose2=(dose2_col, 'sum')\n",
    "    ).reset_index()\n",
    "    \n",
    "    # Calculate retention rate\n",
    "    df1['retention_rate'] = ((1 - ((df1['sum_dose1'] - df1['sum_dose2']) / df1['sum_dose1'])) * 100)\n",
    "    pivot_table2 = df1.pivot_table(columns=group_col, values='retention_rate')\n",
    "    return pivot_table2\n",
    "  "
   ]
  },
  {
   "cell_type": "code",
   "execution_count": 101,
   "metadata": {},
   "outputs": [],
   "source": [
    " filtered_df = df[(df['UB2']==1)]"
   ]
  },
  {
   "cell_type": "code",
   "execution_count": 104,
   "metadata": {},
   "outputs": [
    {
     "data": {
      "text/html": [
       "<div>\n",
       "<style scoped>\n",
       "    .dataframe tbody tr th:only-of-type {\n",
       "        vertical-align: middle;\n",
       "    }\n",
       "\n",
       "    .dataframe tbody tr th {\n",
       "        vertical-align: top;\n",
       "    }\n",
       "\n",
       "    .dataframe thead th {\n",
       "        text-align: right;\n",
       "    }\n",
       "</style>\n",
       "<table border=\"1\" class=\"dataframe\">\n",
       "  <thead>\n",
       "    <tr style=\"text-align: right;\">\n",
       "      <th>district</th>\n",
       "      <th>Bannu</th>\n",
       "      <th>D.I. Khan</th>\n",
       "      <th>Hazara</th>\n",
       "      <th>Kohat</th>\n",
       "      <th>Malakand</th>\n",
       "      <th>Mardan</th>\n",
       "      <th>Peshawar</th>\n",
       "    </tr>\n",
       "  </thead>\n",
       "  <tbody>\n",
       "    <tr>\n",
       "      <th>retention_rate</th>\n",
       "      <td>57.142857</td>\n",
       "      <td>74.380165</td>\n",
       "      <td>65.647059</td>\n",
       "      <td>82.191781</td>\n",
       "      <td>82.625118</td>\n",
       "      <td>88.087774</td>\n",
       "      <td>98.486933</td>\n",
       "    </tr>\n",
       "  </tbody>\n",
       "</table>\n",
       "</div>"
      ],
      "text/plain": [
       "district            Bannu  D.I. Khan     Hazara      Kohat   Malakand  \\\n",
       "retention_rate  57.142857  74.380165  65.647059  82.191781  82.625118   \n",
       "\n",
       "district           Mardan   Peshawar  \n",
       "retention_rate  88.087774  98.486933  "
      ]
     },
     "execution_count": 104,
     "metadata": {},
     "output_type": "execute_result"
    }
   ],
   "source": [
    "# Call the calculate_retention_rate function\n",
    "result_df = calculate_retention_rate(filtered_df, 'district', 'penta1', 'penta3')\n",
    "\n",
    "# Copy the result to the clipboard\n",
    "#result_df.to_clipboard(index=True, header=True)\n",
    "result_df"
   ]
  },
  {
   "cell_type": "code",
   "execution_count": 106,
   "metadata": {},
   "outputs": [
    {
     "data": {
      "text/html": [
       "<div>\n",
       "<style scoped>\n",
       "    .dataframe tbody tr th:only-of-type {\n",
       "        vertical-align: middle;\n",
       "    }\n",
       "\n",
       "    .dataframe tbody tr th {\n",
       "        vertical-align: top;\n",
       "    }\n",
       "\n",
       "    .dataframe thead th {\n",
       "        text-align: right;\n",
       "    }\n",
       "</style>\n",
       "<table border=\"1\" class=\"dataframe\">\n",
       "  <thead>\n",
       "    <tr style=\"text-align: right;\">\n",
       "      <th>district</th>\n",
       "      <th>Bannu</th>\n",
       "      <th>D.I. Khan</th>\n",
       "      <th>Hazara</th>\n",
       "      <th>Kohat</th>\n",
       "      <th>Malakand</th>\n",
       "      <th>Mardan</th>\n",
       "      <th>Peshawar</th>\n",
       "    </tr>\n",
       "  </thead>\n",
       "  <tbody>\n",
       "    <tr>\n",
       "      <th>retention_rate</th>\n",
       "      <td>71.590909</td>\n",
       "      <td>65.0</td>\n",
       "      <td>62.91866</td>\n",
       "      <td>79.054054</td>\n",
       "      <td>75.9</td>\n",
       "      <td>79.87013</td>\n",
       "      <td>92.86754</td>\n",
       "    </tr>\n",
       "  </tbody>\n",
       "</table>\n",
       "</div>"
      ],
      "text/plain": [
       "district            Bannu D.I. Khan    Hazara      Kohat Malakand    Mardan  \\\n",
       "retention_rate  71.590909      65.0  62.91866  79.054054     75.9  79.87013   \n",
       "\n",
       "district        Peshawar  \n",
       "retention_rate  92.86754  "
      ]
     },
     "execution_count": 106,
     "metadata": {},
     "output_type": "execute_result"
    }
   ],
   "source": [
    "# Call the calculate_retention_rate function\n",
    "result_df = calculate_retention_rate(filtered_df, 'district', 'polio1', 'polio3')\n",
    "\n",
    "# Copy the result to the clipboard\n",
    "#result_df.to_clipboard(index=True, header=True)\n",
    "result_df"
   ]
  },
  {
   "cell_type": "code",
   "execution_count": 107,
   "metadata": {},
   "outputs": [
    {
     "data": {
      "text/html": [
       "<div>\n",
       "<style scoped>\n",
       "    .dataframe tbody tr th:only-of-type {\n",
       "        vertical-align: middle;\n",
       "    }\n",
       "\n",
       "    .dataframe tbody tr th {\n",
       "        vertical-align: top;\n",
       "    }\n",
       "\n",
       "    .dataframe thead th {\n",
       "        text-align: right;\n",
       "    }\n",
       "</style>\n",
       "<table border=\"1\" class=\"dataframe\">\n",
       "  <thead>\n",
       "    <tr style=\"text-align: right;\">\n",
       "      <th>residence</th>\n",
       "      <th>Rural</th>\n",
       "      <th>Urban</th>\n",
       "    </tr>\n",
       "  </thead>\n",
       "  <tbody>\n",
       "    <tr>\n",
       "      <th>retention_rate</th>\n",
       "      <td>82.370821</td>\n",
       "      <td>89.125296</td>\n",
       "    </tr>\n",
       "  </tbody>\n",
       "</table>\n",
       "</div>"
      ],
      "text/plain": [
       "residence           Rural      Urban\n",
       "retention_rate  82.370821  89.125296"
      ]
     },
     "execution_count": 107,
     "metadata": {},
     "output_type": "execute_result"
    }
   ],
   "source": [
    "calculate_retention_rate(filtered_df, 'residence', 'penta1', 'penta3')"
   ]
  },
  {
   "cell_type": "code",
   "execution_count": 108,
   "metadata": {},
   "outputs": [
    {
     "data": {
      "text/html": [
       "<div>\n",
       "<style scoped>\n",
       "    .dataframe tbody tr th:only-of-type {\n",
       "        vertical-align: middle;\n",
       "    }\n",
       "\n",
       "    .dataframe tbody tr th {\n",
       "        vertical-align: top;\n",
       "    }\n",
       "\n",
       "    .dataframe thead th {\n",
       "        text-align: right;\n",
       "    }\n",
       "</style>\n",
       "<table border=\"1\" class=\"dataframe\">\n",
       "  <thead>\n",
       "    <tr style=\"text-align: right;\">\n",
       "      <th>residence</th>\n",
       "      <th>Rural</th>\n",
       "      <th>Urban</th>\n",
       "    </tr>\n",
       "  </thead>\n",
       "  <tbody>\n",
       "    <tr>\n",
       "      <th>retention_rate</th>\n",
       "      <td>77.355439</td>\n",
       "      <td>84.653465</td>\n",
       "    </tr>\n",
       "  </tbody>\n",
       "</table>\n",
       "</div>"
      ],
      "text/plain": [
       "residence           Rural      Urban\n",
       "retention_rate  77.355439  84.653465"
      ]
     },
     "execution_count": 108,
     "metadata": {},
     "output_type": "execute_result"
    }
   ],
   "source": [
    "# Call the calculate_retention_rate function\n",
    "calculate_retention_rate(filtered_df, 'residence', 'polio1', 'polio3')"
   ]
  },
  {
   "cell_type": "code",
   "execution_count": 109,
   "metadata": {},
   "outputs": [
    {
     "data": {
      "text/html": [
       "<div>\n",
       "<style scoped>\n",
       "    .dataframe tbody tr th:only-of-type {\n",
       "        vertical-align: middle;\n",
       "    }\n",
       "\n",
       "    .dataframe tbody tr th {\n",
       "        vertical-align: top;\n",
       "    }\n",
       "\n",
       "    .dataframe thead th {\n",
       "        text-align: right;\n",
       "    }\n",
       "</style>\n",
       "<table border=\"1\" class=\"dataframe\">\n",
       "  <thead>\n",
       "    <tr style=\"text-align: right;\">\n",
       "      <th>gender</th>\n",
       "      <th>Female</th>\n",
       "      <th>Male</th>\n",
       "    </tr>\n",
       "  </thead>\n",
       "  <tbody>\n",
       "    <tr>\n",
       "      <th>retention_rate</th>\n",
       "      <td>74.539683</td>\n",
       "      <td>92.635135</td>\n",
       "    </tr>\n",
       "  </tbody>\n",
       "</table>\n",
       "</div>"
      ],
      "text/plain": [
       "gender             Female       Male\n",
       "retention_rate  74.539683  92.635135"
      ]
     },
     "execution_count": 109,
     "metadata": {},
     "output_type": "execute_result"
    }
   ],
   "source": [
    "calculate_retention_rate(filtered_df, 'gender', 'penta1', 'penta3')"
   ]
  },
  {
   "cell_type": "code",
   "execution_count": 110,
   "metadata": {},
   "outputs": [
    {
     "data": {
      "text/html": [
       "<div>\n",
       "<style scoped>\n",
       "    .dataframe tbody tr th:only-of-type {\n",
       "        vertical-align: middle;\n",
       "    }\n",
       "\n",
       "    .dataframe tbody tr th {\n",
       "        vertical-align: top;\n",
       "    }\n",
       "\n",
       "    .dataframe thead th {\n",
       "        text-align: right;\n",
       "    }\n",
       "</style>\n",
       "<table border=\"1\" class=\"dataframe\">\n",
       "  <thead>\n",
       "    <tr style=\"text-align: right;\">\n",
       "      <th>gender</th>\n",
       "      <th>Female</th>\n",
       "      <th>Male</th>\n",
       "    </tr>\n",
       "  </thead>\n",
       "  <tbody>\n",
       "    <tr>\n",
       "      <th>retention_rate</th>\n",
       "      <td>69.111709</td>\n",
       "      <td>88.281812</td>\n",
       "    </tr>\n",
       "  </tbody>\n",
       "</table>\n",
       "</div>"
      ],
      "text/plain": [
       "gender             Female       Male\n",
       "retention_rate  69.111709  88.281812"
      ]
     },
     "execution_count": 110,
     "metadata": {},
     "output_type": "execute_result"
    }
   ],
   "source": [
    "calculate_retention_rate(filtered_df, 'gender', 'polio1', 'polio3')"
   ]
  },
  {
   "cell_type": "markdown",
   "metadata": {},
   "source": [
    "## National retention rate"
   ]
  },
  {
   "cell_type": "code",
   "execution_count": 111,
   "metadata": {},
   "outputs": [
    {
     "data": {
      "text/plain": [
       "78.380257212374"
      ]
     },
     "execution_count": 111,
     "metadata": {},
     "output_type": "execute_result"
    }
   ],
   "source": [
    "polio_retention_rate = ((1 - ((filtered_df['polio1'].sum() - filtered_df['polio3'].sum()) / filtered_df['polio1'].sum())) * 100)\n",
    "polio_retention_rate"
   ]
  },
  {
   "cell_type": "code",
   "execution_count": 112,
   "metadata": {},
   "outputs": [
    {
     "data": {
      "text/plain": [
       "83.30605564648118"
      ]
     },
     "execution_count": 112,
     "metadata": {},
     "output_type": "execute_result"
    }
   ],
   "source": [
    "penta_retention_rate = ((1 - ((filtered_df['penta1'].sum() - filtered_df['penta3'].sum()) / filtered_df['penta1'].sum())) * 100)\n",
    "penta_retention_rate"
   ]
  },
  {
   "cell_type": "markdown",
   "metadata": {},
   "source": [
    "# Fully vaccinated"
   ]
  },
  {
   "cell_type": "code",
   "execution_count": 125,
   "metadata": {},
   "outputs": [
    {
     "data": {
      "text/plain": [
       "42.076626615279984"
      ]
     },
     "execution_count": 125,
     "metadata": {},
     "output_type": "execute_result"
    }
   ],
   "source": [
    "# Calculate the number of fully vaccinated kids\n",
    "fully_vaccinated = filtered_df[(filtered_df['bcg']==1) & (filtered_df['polio3']==1) & (filtered_df['measles']==1) & (filtered_df['penta3']==1)]\n",
    "num_fully_vaccinated = len(fully_vaccinated)\n",
    "\n",
    "# Calculate the total number of kids\n",
    "total_kids = len(filtered_df)\n",
    "\n",
    "# Calculate the percentage of fully vaccinated kids\n",
    "percentage_fully_vaccinated = (num_fully_vaccinated / total_kids) * 100\n",
    "percentage_fully_vaccinated"
   ]
  },
  {
   "cell_type": "markdown",
   "metadata": {},
   "source": [
    "##  Zero dose childern Penta1"
   ]
  },
  {
   "cell_type": "code",
   "execution_count": 116,
   "metadata": {},
   "outputs": [],
   "source": [
    "# Filter out rows with null values in relevant columns\n",
    "filtered_df = filtered_df.dropna(subset=['bcg', 'polio3', 'measles', 'penta3','polio1','penta1'])"
   ]
  },
  {
   "cell_type": "code",
   "execution_count": 118,
   "metadata": {},
   "outputs": [],
   "source": [
    "def calculate_zero_dose_proportion(df, vaccine_column):\n",
    "    # Count the number of children who never received the Penta vaccination\n",
    "    zero_dose_children = df[df[vaccine_column] == 0][vaccine_column].count()\n",
    "\n",
    "    # Count the total number of children in the dataset\n",
    "    total_children = df['penta1'].count()\n",
    "\n",
    "    # Calculate the proportion of zero dose children\n",
    "    proportion_zero_dose = (zero_dose_children / total_children) * 100\n",
    "\n",
    "    return proportion_zero_dose"
   ]
  },
  {
   "cell_type": "code",
   "execution_count": 119,
   "metadata": {},
   "outputs": [
    {
     "name": "stdout",
     "output_type": "stream",
     "text": [
      "Proportion of zero dose children: 35.23%\n"
     ]
    }
   ],
   "source": [
    "zero_dose_proportion = calculate_zero_dose_proportion(filtered_df, 'penta1')\n",
    "print(f\"Proportion of zero dose children: {zero_dose_proportion:.2f}%\")\n"
   ]
  },
  {
   "cell_type": "code",
   "execution_count": 120,
   "metadata": {},
   "outputs": [],
   "source": [
    "def calculate_zero_dose_percentage_by_group(df, vaccine_column, group_column):\n",
    "    # Group the DataFrame by group and count the total number of children in each group\n",
    "    total_children_by_group = df.groupby(group_column).size()\n",
    "\n",
    "    # Group the DataFrame by group and count the number of zero-dose children in each group\n",
    "    zero_dose_children_by_group = df[df[vaccine_column] == 0].groupby(group_column).size()\n",
    "\n",
    "    # Calculate the percentage of zero-dose children for each group\n",
    "    zero_dose_percentage_by_group = round((zero_dose_children_by_group / total_children_by_group) * 100,1)\n",
    "\n",
    "    return zero_dose_percentage_by_group"
   ]
  },
  {
   "cell_type": "code",
   "execution_count": 121,
   "metadata": {},
   "outputs": [
    {
     "name": "stdout",
     "output_type": "stream",
     "text": [
      "district\n",
      "Bannu        40.6\n",
      "D.I. Khan    35.7\n",
      "Hazara       28.2\n",
      "Kohat        31.7\n",
      "Malakand     18.9\n",
      "Mardan       10.7\n",
      "Peshawar     19.1\n",
      "dtype: float64\n"
     ]
    }
   ],
   "source": [
    "zero_dose_percentage_by_group = calculate_zero_dose_percentage_by_group(df, 'penta1', 'district')\n",
    "\n",
    "print(zero_dose_percentage_by_group)"
   ]
  },
  {
   "cell_type": "code",
   "execution_count": 122,
   "metadata": {},
   "outputs": [
    {
     "name": "stdout",
     "output_type": "stream",
     "text": [
      "residence\n",
      "Rural    25.4\n",
      "Urban    18.2\n",
      "dtype: float64\n"
     ]
    }
   ],
   "source": [
    "zero_dose_percentage_by_group = calculate_zero_dose_percentage_by_group(df, 'penta1', 'residence')\n",
    "\n",
    "print(zero_dose_percentage_by_group)"
   ]
  },
  {
   "cell_type": "code",
   "execution_count": 123,
   "metadata": {},
   "outputs": [
    {
     "name": "stdout",
     "output_type": "stream",
     "text": [
      "gender\n",
      "Female    25.5\n",
      "Male      23.8\n",
      "dtype: float64\n"
     ]
    }
   ],
   "source": [
    "zero_dose_percentage_by_group = calculate_zero_dose_percentage_by_group(df, 'penta1', 'gender')\n",
    "\n",
    "print(zero_dose_percentage_by_group)"
   ]
  },
  {
   "cell_type": "markdown",
   "metadata": {},
   "source": [
    "# Zero Dose Childern Non-vaccinated at all"
   ]
  },
  {
   "cell_type": "code",
   "execution_count": 127,
   "metadata": {},
   "outputs": [
    {
     "data": {
      "text/plain": [
       "28.905010201768306"
      ]
     },
     "execution_count": 127,
     "metadata": {},
     "output_type": "execute_result"
    }
   ],
   "source": [
    "# Calculate the number of no vaccinated kids\n",
    "no_vaccinated = filtered_df[(filtered_df['bcg']==0) & (filtered_df['polio1']==0) & (filtered_df['measles']==0) & (filtered_df['penta1']==0)]\n",
    "num_no_vaccinated = len(no_vaccinated)\n",
    "\n",
    "# Calculate the total number of kids\n",
    "total_kids =len(filtered_df)\n",
    "\n",
    "\n",
    "# Calculate the percentage of no vaccinated kids\n",
    "percentage_no_vaccinated = (num_no_vaccinated / total_kids) * 100\n",
    "percentage_no_vaccinated"
   ]
  },
  {
   "cell_type": "code",
   "execution_count": null,
   "metadata": {},
   "outputs": [],
   "source": []
  }
 ],
 "metadata": {
  "kernelspec": {
   "display_name": "Python 3",
   "language": "python",
   "name": "python3"
  },
  "language_info": {
   "codemirror_mode": {
    "name": "ipython",
    "version": 3
   },
   "file_extension": ".py",
   "mimetype": "text/x-python",
   "name": "python",
   "nbconvert_exporter": "python",
   "pygments_lexer": "ipython3",
   "version": "3.8.5"
  }
 },
 "nbformat": 4,
 "nbformat_minor": 4
}
