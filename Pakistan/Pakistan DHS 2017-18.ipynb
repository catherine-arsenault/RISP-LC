{
 "cells": [
  {
   "cell_type": "markdown",
   "metadata": {},
   "source": [
    "# Pakistan DHS 2017-18"
   ]
  },
  {
   "cell_type": "markdown",
   "metadata": {},
   "source": [
    "#### WEIGHTING\n",
    "###### Alert on Weights usedin the Pakistan 2017\n",
    "-\n",
    "18 Survey\n",
    "Tables in Pakistan were not produced for the full country (8 regions), and some regions (AJK and GB) are\n",
    "not included in the national totals. The standard weights are used to generate tabulations for 6\n",
    "regions\n",
    "(HV005/HV028/V005/D005/MV005).\n",
    "To generate any tabulations for the other 2\n",
    "regions (\n",
    "GB or AJK with codes 5 and 7 respectively), use the\n",
    "CS weights ( SHV005/SHV028/SV005/SD005/SMV005).\n",
    "The CS weights are 0 for regions different of 5 and 7. The\n",
    "standard weights are 0 for regions 5 and 7."
   ]
  },
  {
   "cell_type": "markdown",
   "metadata": {},
   "source": [
    "###### Define Functions"
   ]
  },
  {
   "cell_type": "code",
   "execution_count": 2,
   "metadata": {},
   "outputs": [
    {
     "name": "stderr",
     "output_type": "stream",
     "text": [
      "C:\\Users\\swalke\\Anaconda3\\lib\\site-packages\\pandas\\core\\computation\\expressions.py:20: UserWarning: Pandas requires version '2.7.3' or newer of 'numexpr' (version '2.7.1' currently installed).\n",
      "  from pandas.core.computation.check import NUMEXPR_INSTALLED\n"
     ]
    }
   ],
   "source": [
    "#import required packages\n",
    "import pyreadstat\n",
    "import warnings\n",
    "warnings.filterwarnings(\"ignore\")\n",
    "from googletrans import Translator\n",
    "import matplotlib.pyplot as plt\n",
    "import plotly.express as px\n",
    "import numpy as np\n",
    "import pandas as pd"
   ]
  },
  {
   "cell_type": "code",
   "execution_count": 144,
   "metadata": {},
   "outputs": [],
   "source": [
    "# Function to calculate national vaccine coverage between specific age group\n",
    "def calculate_vaccination_coverage(df, min_age, max_age, vaccine_column):\n",
    "    # Filter rows where child_age is between min_age and max_age\n",
    "    filtered_df = df[(df['child_age'] >= min_age) & (df['child_age'] <= max_age)]\n",
    "\n",
    "    # Calculate the percentage of children vaccinated with the specified vaccine\n",
    "    #total_children = filtered_df[vaccine_column].count()  # Count non-null values\n",
    "    filtered_df_len=len(filtered_df)\n",
    "    percentage_vaccinated = (filtered_df[vaccine_column].sum() / filtered_df_len) * 100\n",
    "    #percentage_vaccinated = (filtered_df[vaccine_column].sum() /  total_children) * 100\n",
    "    print(\"{} Vaccination Coverage for children between {} to {} months for Pakistan: {:.2f}%\".format(vaccine_column, min_age, max_age, percentage_vaccinated))\n",
    "    return percentage_vaccinated\n",
    "\n",
    "\n",
    "# Example usage:\n",
    "# calculate_vaccination_coverage(dfKR, 12, 23, 'bcg')\n"
   ]
  },
  {
   "cell_type": "code",
   "execution_count": 145,
   "metadata": {},
   "outputs": [],
   "source": [
    "# Function to calculate vaccination coverage for each child_gender between specific age group\n",
    "def calculate_vaccination_coverage_child_gender(df, min_age, max_age, child_gender, vaccine_column):\n",
    "    # Filter rows where child_age is between min_age and max_age and child_gender matches\n",
    "    filtered_df = df[(df['child_age'] >= min_age) & \n",
    "                     (df['child_age'] <= max_age) &\n",
    "                     (df['child_gender'] == child_gender)]\n",
    "\n",
    "    # Calculate the percentage of children vaccinated with the specified vaccine\n",
    "    total_children = filtered_df[vaccine_column].count()  # Count non-null values in the vaccine_column\n",
    "    if total_children == 0:\n",
    "        print(\"No children found for the specified age range and child_gender.\")\n",
    "        return 0\n",
    "    percentage_vaccinated = (filtered_df[vaccine_column].sum() / total_children) * 100\n",
    "    #print(\"{} Vaccination Coverage for {} children between {} to {} months using KR dataset: {:.2f}%\".format(vaccine_column, child_gender, min_age, max_age, percentage_vaccinated))\n",
    "    return percentage_vaccinated\n"
   ]
  },
  {
   "cell_type": "code",
   "execution_count": 146,
   "metadata": {},
   "outputs": [],
   "source": [
    "# Function to calculate vaccination coverage for each region between specific age group\n",
    "def calculate_vaccination_coverage_region(df, min_age, max_age, region, vaccine_column):\n",
    "    # Filter rows where child_age is between min_age and max_age and region matches\n",
    "    filtered_df = df[(df['child_age'] >= min_age) & \n",
    "                     (df['child_age'] <= max_age) &\n",
    "                     (df['region'] == region)]\n",
    "\n",
    "    # Calculate the percentage of children vaccinated with the specified vaccine\n",
    "    total_children = filtered_df[vaccine_column].count()  # Count non-null values in the vaccine_column\n",
    "    if total_children == 0:\n",
    "        print(\"No children found for the specified age range and region: {}.\".format(region))\n",
    "        return 0\n",
    "    percentage_vaccinated = (filtered_df[vaccine_column].sum() / total_children) * 100\n",
    "    #print(\"{} Vaccination Coverage for children in {} between {} to {} months using dataset: {:.2f}%\".format(vaccine_column, region, min_age, max_age, percentage_vaccinated))\n",
    "    return percentage_vaccinated\n"
   ]
  },
  {
   "cell_type": "code",
   "execution_count": 147,
   "metadata": {},
   "outputs": [],
   "source": [
    "# Function to calculate vaccination coverage for each rsidence i.e urban/rural between specific age group\n",
    "def calculate_vaccination_coverage_residence(df, min_age, max_age, residence, vaccine_column):\n",
    "    # Filter rows where child_age is between min_age and max_age and region matches\n",
    "    filtered_df = df[(df['child_age'] >= min_age) & \n",
    "                     (df['child_age'] <= max_age) &\n",
    "                     (df['residence'] == residence)]\n",
    "\n",
    "    # Calculate the percentage of children vaccinated with the specified vaccine\n",
    "    total_children = filtered_df[vaccine_column].count()  # Count non-null values in the vaccine_column\n",
    "    if total_children == 0:\n",
    "        print(\"No children found for the specified age range and region: {}.\".format(residence))\n",
    "        return 0\n",
    "    percentage_vaccinated = (filtered_df[vaccine_column].sum() / total_children) * 100\n",
    "    #print(\"{} Vaccination Coverage for children in {} between {} to {} months using dataset: {:.2f}%\".format(vaccine_column, residence, min_age, max_age, percentage_vaccinated))\n",
    "    return percentage_vaccinated"
   ]
  },
  {
   "cell_type": "code",
   "execution_count": 148,
   "metadata": {},
   "outputs": [],
   "source": [
    "def calculate_retention_rate(df, group_col, dose1_col, dose2_col):\n",
    "    \"\"\"\n",
    "    Calculate retention rate from dose2 to dose1 for each group.\n",
    "    \n",
    "    Parameters:\n",
    "    df (pandas.DataFrame): Input DataFrame containing vaccination data.\n",
    "    group_col (str): Column name for the grouping variable.\n",
    "    dose1_col (str): Column name representing the first dose.\n",
    "    dose2_col (str): Column name representing the second dose.\n",
    "    \n",
    "    Returns:\n",
    "    pandas.DataFrame: DataFrame with retention rates calculated and added as a new column.\n",
    "    \"\"\"\n",
    "    # Group by the specified column and aggregate sum of dose1 and dose2\n",
    "    df1 = df.groupby([group_col]).agg(\n",
    "        sum_dose1=(dose1_col, 'sum'),\n",
    "        sum_dose2=(dose2_col, 'sum')\n",
    "    ).reset_index()\n",
    "    \n",
    "    # Calculate retention rate\n",
    "    df1['retention_rate'] = (1 - ((df1['sum_dose1'] - df1['sum_dose2']) / df1['sum_dose1'])) * 100\n",
    "    pivot_table2 = df1.pivot_table(columns=group_col, values='retention_rate')\n",
    "    return pivot_table2\n",
    "  "
   ]
  },
  {
   "cell_type": "markdown",
   "metadata": {},
   "source": [
    "## Vaccination Coverage with Pakistan dataset"
   ]
  },
  {
   "cell_type": "code",
   "execution_count": 74,
   "metadata": {},
   "outputs": [],
   "source": [
    "# Reading data into pandas dataframe\n",
    "KRdata, meta = pyreadstat.read_sav(\"C:/Users/swalke/PATH BMGF RISP Dropbox/BMGF RISP Project/Quant analysis/RAW DATA/Pakistan/DHS Pakistan 2017-18 All Datasets\\PKKR71SV/PKKR71FL.SAV\")"
   ]
  },
  {
   "cell_type": "code",
   "execution_count": null,
   "metadata": {},
   "outputs": [],
   "source": [
    "use data.dta"
   ]
  },
  {
   "cell_type": "code",
   "execution_count": 125,
   "metadata": {},
   "outputs": [],
   "source": [
    "# Filter the data for child age between 12 to 23 months\n",
    "KRvac=KRdata[(KRdata['B19'] >= 12) & (KRdata['B19'] <= 23)]"
   ]
  },
  {
   "cell_type": "code",
   "execution_count": 148,
   "metadata": {},
   "outputs": [
    {
     "data": {
      "text/plain": [
       "{0.0: 'No card',\n",
       " 1.0: 'Yes, seen',\n",
       " 2.0: 'Yes, not seen',\n",
       " 3.0: 'No longer has card'}"
      ]
     },
     "execution_count": 148,
     "metadata": {},
     "output_type": "execute_result"
    }
   ],
   "source": [
    "# Access variable labels\n",
    "variable_labels = meta.column_labels\n",
    "\n",
    "# Access value labels for a specific variable\n",
    "value_labels = meta.variable_value_labels.get(\"H1\")\n",
    "value_labels"
   ]
  },
  {
   "cell_type": "code",
   "execution_count": 149,
   "metadata": {},
   "outputs": [
    {
     "data": {
      "text/plain": [
       "H1\n",
       "1.0    3847\n",
       "0.0    1611\n",
       "3.0    1329\n",
       "2.0     366\n",
       "Name: count, dtype: int64"
      ]
     },
     "execution_count": 149,
     "metadata": {},
     "output_type": "execute_result"
    }
   ],
   "source": [
    "KRdata['H1'].value_counts()"
   ]
  },
  {
   "cell_type": "code",
   "execution_count": 150,
   "metadata": {},
   "outputs": [
    {
     "data": {
      "text/plain": [
       "{0.0: 'No',\n",
       " 1.0: 'Vaccination date on card',\n",
       " 2.0: 'Reported by mother',\n",
       " 3.0: 'Vaccination marked on card',\n",
       " 8.0: \"Don't know\"}"
      ]
     },
     "execution_count": 150,
     "metadata": {},
     "output_type": "execute_result"
    }
   ],
   "source": [
    "# Access variable labels\n",
    "variable_labels = meta.column_labels\n",
    "\n",
    "# Access value labels for a specific variable\n",
    "value_labels = meta.variable_value_labels.get(\"H2\")\n",
    "value_labels"
   ]
  },
  {
   "cell_type": "code",
   "execution_count": 154,
   "metadata": {},
   "outputs": [
    {
     "data": {
      "text/plain": [
       "H2\n",
       "1.0    1324\n",
       "2.0     598\n",
       "0.0     369\n",
       "3.0      20\n",
       "8.0       3\n",
       "Name: count, dtype: int64"
      ]
     },
     "execution_count": 154,
     "metadata": {},
     "output_type": "execute_result"
    }
   ],
   "source": [
    "KRvac['H2'].value_counts()"
   ]
  },
  {
   "cell_type": "code",
   "execution_count": 152,
   "metadata": {},
   "outputs": [
    {
     "data": {
      "text/plain": [
       "{0.0: 'No',\n",
       " 1.0: 'Vaccination date on card',\n",
       " 2.0: 'Reported by mother',\n",
       " 3.0: 'Vaccination marked on card',\n",
       " 8.0: \"Don't know\"}"
      ]
     },
     "execution_count": 152,
     "metadata": {},
     "output_type": "execute_result"
    }
   ],
   "source": [
    "# Access variable labels\n",
    "variable_labels = meta.column_labels\n",
    "\n",
    "# Access value labels for a specific variable\n",
    "value_labels = meta.variable_value_labels.get(\"H3\")\n",
    "value_labels"
   ]
  },
  {
   "cell_type": "code",
   "execution_count": 153,
   "metadata": {},
   "outputs": [
    {
     "data": {
      "text/plain": [
       "H3\n",
       "1.0    3436\n",
       "0.0    1825\n",
       "2.0    1799\n",
       "8.0      59\n",
       "3.0      34\n",
       "Name: count, dtype: int64"
      ]
     },
     "execution_count": 153,
     "metadata": {},
     "output_type": "execute_result"
    }
   ],
   "source": [
    "KRdata['H3'].value_counts()"
   ]
  },
  {
   "cell_type": "code",
   "execution_count": 193,
   "metadata": {},
   "outputs": [
    {
     "data": {
      "text/plain": [
       "Series([], Name: count, dtype: int64)"
      ]
     },
     "execution_count": 193,
     "metadata": {},
     "output_type": "execute_result"
    }
   ],
   "source": [
    "KRdata['H59'].value_counts()"
   ]
  },
  {
   "cell_type": "code",
   "execution_count": 126,
   "metadata": {},
   "outputs": [
    {
     "data": {
      "text/plain": [
       "source\n",
       "card      1796\n",
       "mother     518\n",
       "Name: count, dtype: int64"
      ]
     },
     "execution_count": 126,
     "metadata": {},
     "output_type": "execute_result"
    }
   ],
   "source": [
    "KRvac['source'].value_counts()"
   ]
  },
  {
   "cell_type": "code",
   "execution_count": 167,
   "metadata": {},
   "outputs": [],
   "source": [
    "KRvac['sample_weight']=KRvac['V005']/1000000"
   ]
  },
  {
   "cell_type": "code",
   "execution_count": 183,
   "metadata": {},
   "outputs": [],
   "source": [
    "def calculate_and_print_vaccine_coverage(dataframe, column_name):\n",
    "    column = dataframe[column_name]\n",
    "    coverage = (column.sum() / column.count()) * 100\n",
    "    rounded_coverage = round(coverage, 2)\n",
    "    print(\"Vaccine coverage for column\", column_name, \":\", rounded_coverage, \"%\")"
   ]
  },
  {
   "cell_type": "code",
   "execution_count": 197,
   "metadata": {},
   "outputs": [],
   "source": [
    "# Create 'ch_bcg_either', 'ch_bcg_moth', and 'ch_bcg_card' columns based on 'H2'\n",
    "KRvac['ch_bcg_either'] = KRvac['H2'].map({1: 1, 2: 1, 3: 1, 0: 0, 8: np.nan})\n",
    "KRvac['ch_bcg_moth'] = KRvac['H2'].map({1: 0, 2: 1, 3: 0, 0: 0, 8: 0})\n",
    "KRvac['ch_bcg_card'] = KRvac['H2'].map({1: 1, 2: 0, 3: 1, 0: 0, 8: 0})"
   ]
  },
  {
   "cell_type": "code",
   "execution_count": 175,
   "metadata": {},
   "outputs": [
    {
     "data": {
      "text/plain": [
       "ch_bcg_moth\n",
       "0.0    1716\n",
       "1.0     598\n",
       "Name: count, dtype: int64"
      ]
     },
     "execution_count": 175,
     "metadata": {},
     "output_type": "execute_result"
    }
   ],
   "source": [
    "KRvac['ch_bcg_moth'].value_counts()"
   ]
  },
  {
   "cell_type": "code",
   "execution_count": 176,
   "metadata": {},
   "outputs": [
    {
     "data": {
      "text/plain": [
       "ch_bcg_card\n",
       "1.0    1344\n",
       "0.0     970\n",
       "Name: count, dtype: int64"
      ]
     },
     "execution_count": 176,
     "metadata": {},
     "output_type": "execute_result"
    }
   ],
   "source": [
    "KRvac['ch_bcg_card'].value_counts()"
   ]
  },
  {
   "cell_type": "code",
   "execution_count": 198,
   "metadata": {},
   "outputs": [
    {
     "data": {
      "text/plain": [
       "ch_bcg_either\n",
       "1.0    1942\n",
       "0.0     369\n",
       "Name: count, dtype: int64"
      ]
     },
     "execution_count": 198,
     "metadata": {},
     "output_type": "execute_result"
    }
   ],
   "source": [
    "KRvac['ch_bcg_either'].value_counts()"
   ]
  },
  {
   "cell_type": "code",
   "execution_count": 180,
   "metadata": {},
   "outputs": [
    {
     "data": {
      "text/plain": [
       "1942"
      ]
     },
     "execution_count": 180,
     "metadata": {},
     "output_type": "execute_result"
    }
   ],
   "source": [
    "KRvac['ch_bcg_either'].sum()"
   ]
  },
  {
   "cell_type": "code",
   "execution_count": 181,
   "metadata": {},
   "outputs": [
    {
     "data": {
      "text/plain": [
       "2464"
      ]
     },
     "execution_count": 181,
     "metadata": {},
     "output_type": "execute_result"
    }
   ],
   "source": [
    "KRvac['ch_bcg_either'].count()"
   ]
  },
  {
   "cell_type": "code",
   "execution_count": 200,
   "metadata": {},
   "outputs": [],
   "source": [
    "# Mapping variables\n",
    "KRvac['ch_dpt1_either'] = KRvac['H3'].map({1: 1, 2: 1, 3: 1, 0: 0, 8: np.nan})\n",
    "KRvac['ch_dpt2_either'] = KRvac['H5'].map({1: 1, 2: 1, 3: 1, 0: 0, 8: np.nan})\n",
    "KRvac['ch_dpt3_either'] = KRvac['H7'].map({1: 1, 2: 1, 3: 1, 0: 0, 8: np.nan})\n",
    "KRvac['ch_polio1_either'] = KRvac['H4'].map({1: 1, 2: 1, 3: 1, 0: 0, 8: np.nan})\n",
    "KRvac['ch_polio1_either'] = KRvac['H4'].map({1: 1, 2: 1, 3: 1, 0: 0, 8: np.nan})\n",
    "KRvac['ch_polio2_either'] = KRvac['H6'].map({1: 1, 2: 1, 3: 1, 0: 0, 8: np.nan})\n",
    "KRvac['ch_polio3_either'] = KRvac['H8'].map({1: 1, 2: 1, 3: 1, 0: 0, 8: np.nan})\n",
    "KRvac['ch_measles_either'] = KRvac['H9'].map({1: 1, 2: 1, 3: 1, 0: 0, 8: np.nan})"
   ]
  },
  {
   "cell_type": "code",
   "execution_count": null,
   "metadata": {},
   "outputs": [],
   "source": [
    "##### Vaccination Coverage"
   ]
  },
  {
   "cell_type": "code",
   "execution_count": 201,
   "metadata": {},
   "outputs": [
    {
     "name": "stdout",
     "output_type": "stream",
     "text": [
      "Vaccine coverage for column ch_bcg_either : 84.03 %\n",
      "Vaccine coverage for column ch_dpt1_either : 82.16 %\n",
      "Vaccine coverage for column ch_dpt2_either : 77.88 %\n",
      "Vaccine coverage for column ch_dpt3_either : 71.68 %\n",
      "Vaccine coverage for column ch_polio1_either : 93.38 %\n",
      "Vaccine coverage for column ch_polio2_either : 88.48 %\n",
      "Vaccine coverage for column ch_polio3_either : 83.98 %\n",
      "Vaccine coverage for column ch_measles_either : 68.69 %\n"
     ]
    }
   ],
   "source": [
    "calculate_and_print_vaccine_coverage(KRvac, 'ch_bcg_either')\n",
    "calculate_and_print_vaccine_coverage(KRvac, 'ch_dpt1_either')\n",
    "calculate_and_print_vaccine_coverage(KRvac, 'ch_dpt2_either')\n",
    "calculate_and_print_vaccine_coverage(KRvac, 'ch_dpt3_either')\n",
    "calculate_and_print_vaccine_coverage(KRvac, 'ch_polio1_either')\n",
    "calculate_and_print_vaccine_coverage(KRvac, 'ch_polio2_either')\n",
    "calculate_and_print_vaccine_coverage(KRvac, 'ch_polio3_either')\n",
    "#calculate_and_print_vaccine_coverage(KRvac, 'ch_rota1_either')\n",
    "#calculate_and_print_vaccine_coverage(KRvac, 'ch_rota2_either')\n",
    "#calculate_and_print_vaccine_coverage(KRvac, 'ch_rota3_either')\n",
    "calculate_and_print_vaccine_coverage(KRvac, 'ch_measles_either')"
   ]
  }
 ],
 "metadata": {
  "kernelspec": {
   "display_name": "Python 3",
   "language": "python",
   "name": "python3"
  },
  "language_info": {
   "codemirror_mode": {
    "name": "ipython",
    "version": 3
   },
   "file_extension": ".py",
   "mimetype": "text/x-python",
   "name": "python",
   "nbconvert_exporter": "python",
   "pygments_lexer": "ipython3",
   "version": "3.8.5"
  }
 },
 "nbformat": 4,
 "nbformat_minor": 4
}
