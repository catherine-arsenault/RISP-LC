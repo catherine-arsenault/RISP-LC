{
 "cells": [
  {
   "cell_type": "markdown",
   "metadata": {},
   "source": [
    "# Pakistan Sindh Province MICS 2014"
   ]
  },
  {
   "cell_type": "code",
   "execution_count": 1,
   "metadata": {},
   "outputs": [
    {
     "name": "stderr",
     "output_type": "stream",
     "text": [
      "C:\\Users\\swalke\\Anaconda3\\lib\\site-packages\\pandas\\core\\computation\\expressions.py:20: UserWarning: Pandas requires version '2.7.3' or newer of 'numexpr' (version '2.7.1' currently installed).\n",
      "  from pandas.core.computation.check import NUMEXPR_INSTALLED\n"
     ]
    }
   ],
   "source": [
    "import pyreadstat\n",
    "import warnings\n",
    "warnings.filterwarnings(\"ignore\")\n",
    "from googletrans import Translator\n",
    "from googletrans import Translator\n",
    "import pandas as pd\n",
    "import numpy as np"
   ]
  },
  {
   "cell_type": "code",
   "execution_count": 2,
   "metadata": {},
   "outputs": [],
   "source": [
    "def calculate_weighted_percentage(df, column_name):\n",
    "    filtered_df = df[df['AG2'] == 1]\n",
    "    weighted_percentage = round(filtered_df[column_name].mean() * 100,1)\n",
    "    print(\"Weighted percentage of '{}' if 'AG2' is 1: {}\".format(column_name, weighted_percentage))"
   ]
  },
  {
   "cell_type": "code",
   "execution_count": 3,
   "metadata": {},
   "outputs": [],
   "source": [
    "# Function to calculate vaccination coverage for each child_residence between specific age group\n",
    "def calculate_vaccination_coverage_child_residence(df, residence, vaccine_column):\n",
    "    filtered_df = df[(df['AG2']==1) & (df['residence']== residence)]\n",
    "\n",
    "    # Calculate the percentage of children vaccinated with the specified vaccine\n",
    "    # Count non-null values in the vaccine_column\n",
    "    weighted_percentage = round(filtered_df[vaccine_column].mean() * 100,1)\n",
    "    #print(\"Weighted percentage of '{}' if 'AG2' is 1: {}\".format(vaccine_column, weighted_percentage))                  \n",
    "    return weighted_percentage\n"
   ]
  },
  {
   "cell_type": "code",
   "execution_count": 4,
   "metadata": {},
   "outputs": [],
   "source": [
    "# Function to calculate vaccination coverage for each region between specific age group\n",
    "def calculate_vaccination_coverage_region(df, region, vaccine_column):\n",
    "    # Filter rows where child_age is between min_age and max_age and region matches\n",
    "    filtered_df = df[(df['AG2']==1) & (df['region'] == region)]\n",
    "\n",
    "    # Calculate the percentage of children vaccinated with the specified vaccine\n",
    "    total_children = filtered_df[vaccine_column].count()  # Count non-null values in the vaccine_column\n",
    "    if total_children == 0:\n",
    "        print(\"No children found for the specified age range and region: {}.\".format(region))\n",
    "        return 0\n",
    "    percentage_vaccinated = round(filtered_df[vaccine_column].mean() * 100,1)\n",
    "    #print(\"{} Vaccination Coverage for children in {} between {} to {} months using dataset: {:.2f}%\".format(vaccine_column, region, min_age, max_age, percentage_vaccinated))\n",
    "    return percentage_vaccinated"
   ]
  },
  {
   "cell_type": "code",
   "execution_count": 5,
   "metadata": {},
   "outputs": [],
   "source": [
    "# Function to calculate vaccination coverage for each child_gender between specific age group\n",
    "def calculate_vaccination_coverage_child_gender(df, gender, vaccine_column):\n",
    "    filtered_df = df[(df['AG2']==1) & (df['gender']== gender)]\n",
    "\n",
    "    # Calculate the percentage of children vaccinated with the specified vaccine\n",
    "    # Count non-null values in the vaccine_column\n",
    "    weighted_percentage = round(filtered_df[vaccine_column].mean() * 100,1)\n",
    "    #print(\"Weighted percentage of '{}' if 'AG2' is 1: {}\".format(vaccine_column, weighted_percentage))                  \n",
    "    return weighted_percentage\n"
   ]
  },
  {
   "cell_type": "code",
   "execution_count": 6,
   "metadata": {},
   "outputs": [],
   "source": [
    "def calculate_vaccination_coverage_district(df, district, vaccine_column):\n",
    "    # Filter rows where district matches\n",
    "    filtered_df = df[(df['AG2']==1) & (df['district'] == district)]\n",
    "    total_children = filtered_df[vaccine_column].count()  # Count non-null values in the vaccine_column\n",
    "    if total_children == 0:\n",
    "        print(\"No children found for the specified district: {}.\".format(district))\n",
    "        return 0\n",
    "    percentage_vaccinated = round(filtered_df[vaccine_column].mean() * 100, 1)\n",
    "    return percentage_vaccinated"
   ]
  },
  {
   "cell_type": "markdown",
   "metadata": {},
   "source": [
    "# Reading the dataframe"
   ]
  },
  {
   "cell_type": "code",
   "execution_count": 7,
   "metadata": {},
   "outputs": [],
   "source": [
    "df, meta = pyreadstat.read_sav(\"C:/Users/swalke/Desktop/RISP/PAK Panjab 2014.sav\")"
   ]
  },
  {
   "cell_type": "code",
   "execution_count": 8,
   "metadata": {},
   "outputs": [
    {
     "data": {
      "text/plain": [
       "{0.0: 'Not given',\n",
       " 44.0: 'Marked on card',\n",
       " 66.0: 'Mother reported',\n",
       " 97.0: 'Inconsistent',\n",
       " 98.0: 'DK',\n",
       " 99.0: 'Missing'}"
      ]
     },
     "execution_count": 8,
     "metadata": {},
     "output_type": "execute_result"
    }
   ],
   "source": [
    "# Access variable labels\n",
    "variable_labels = meta.column_labels\n",
    "\n",
    "# Access value labels for a specific variable\n",
    "value_labels = meta.variable_value_labels.get(\"IM3BD\")\n",
    "value_labels"
   ]
  },
  {
   "cell_type": "code",
   "execution_count": 9,
   "metadata": {},
   "outputs": [
    {
     "data": {
      "text/plain": [
       "IM3BY\n",
       "2013.0    3502\n",
       "2014.0    2316\n",
       "2012.0    2187\n",
       "2011.0     491\n",
       "4444.0      97\n",
       "9997.0      39\n",
       "0.0         37\n",
       "6666.0      12\n",
       "9999.0       3\n",
       "Name: count, dtype: int64"
      ]
     },
     "execution_count": 9,
     "metadata": {},
     "output_type": "execute_result"
    }
   ],
   "source": [
    "df['IM3BY'].value_counts()"
   ]
  },
  {
   "cell_type": "code",
   "execution_count": 10,
   "metadata": {},
   "outputs": [
    {
     "data": {
      "text/plain": [
       "{1.0: 'Yes', 2.0: 'No', 8.0: 'DK', 9.0: 'Missing'}"
      ]
     },
     "execution_count": 10,
     "metadata": {},
     "output_type": "execute_result"
    }
   ],
   "source": [
    "# Access variable labels\n",
    "variable_labels = meta.column_labels\n",
    "\n",
    "# Access value labels for a specific variable\n",
    "value_labels = meta.variable_value_labels.get(\"IM6\")\n",
    "value_labels"
   ]
  },
  {
   "cell_type": "code",
   "execution_count": 11,
   "metadata": {},
   "outputs": [],
   "source": [
    "# Define mapping variables\n",
    "day_mapping = {range(1, 67): True,97.0:True, 98.0:np.nan, 99: np.nan, 0.0:False}\n",
    "month_mapping ={range(1, 67): True, 97.07: True,97.0:True, 98.0:np.nan, 99: np.nan, 0.0:False}\n",
    "year_mapping = {2011:True, 2012:True, 2013:True, 2014:True, 2015:True, 2016:True, 2017:True, 2018:True, 2019:True, 4444:True, 6666:True, 9997.0:True,9998.0:np.nan, 9999:np.nan,0.0:False}"
   ]
  },
  {
   "cell_type": "code",
   "execution_count": 12,
   "metadata": {},
   "outputs": [],
   "source": [
    "df['card'] = df['IM2'].replace({1:True, 2:False, 3:False, 4:False, 9:np.nan})"
   ]
  },
  {
   "cell_type": "code",
   "execution_count": 13,
   "metadata": {},
   "outputs": [],
   "source": [
    "df['recall'] = df['IM6'].replace({1:True, 2: False, 8: np.nan, 9: np.nan})"
   ]
  },
  {
   "cell_type": "code",
   "execution_count": 15,
   "metadata": {},
   "outputs": [],
   "source": [
    "df['bcgday'] = df['IM3BD'].replace(day_mapping)\n",
    "df['bcgmonth'] = df['IM3BM'].replace(month_mapping)\n",
    "df['bcgyr'] = df['IM3BY'].replace(year_mapping)\n",
    "\n",
    "df['polio0day'] = df['IM3P0D'].replace(day_mapping)\n",
    "df['polio0month'] = df['IM3P0M'].replace(month_mapping)\n",
    "df['polio0yr'] = df['IM3P0Y'].replace(year_mapping)\n",
    "\n",
    "\n",
    "df['polio1day'] = df['IM3P1D'].replace(day_mapping)\n",
    "df['polio1month'] = df['IM3P1M'].replace(month_mapping)\n",
    "df['polio1yr'] = df['IM3P1Y'].replace(year_mapping)\n",
    "\n",
    "df['polio2day'] = df['IM3P2D'].replace(day_mapping)\n",
    "df['polio2month'] = df['IM3P2M'].replace(month_mapping)\n",
    "df['polio2yr'] = df['IM3P2Y'].replace(year_mapping)\n",
    "\n",
    "\n",
    "df['polio3day'] = df['IM3P3D'].replace(day_mapping)\n",
    "df['polio3month'] = df['IM3P3M'].replace(month_mapping)\n",
    "df['polio3yr'] = df['IM3P3Y'].replace(year_mapping)\n",
    "\n",
    "\n",
    "#df['ipvday'] = df['IM3ID'].replace(day_mapping)\n",
    "#df['ipvmonth'] = df['IM3IM'].replace(month_mapping)\n",
    "#df['ipvyr'] = df['IM3IY'].replace(year_mapping)\n",
    "\n",
    "\n",
    "df['penta1day'] = df['IM3T1D'].replace(day_mapping)\n",
    "df['penta1month'] = df['IM3T1M'].replace(month_mapping)\n",
    "df['penta1yr'] = df['IM3T1Y'].replace(year_mapping)\n",
    "\n",
    "\n",
    "df['penta2day'] = df['IM3T2D'].replace(day_mapping)\n",
    "df['penta2month'] = df['IM3T2M'].replace(month_mapping)\n",
    "df['penta2yr'] = df['IM3T2Y'].replace(year_mapping)\n",
    "\n",
    "\n",
    "df['penta3day'] = df['IM3T3D'].replace(day_mapping)\n",
    "df['penta3month'] = df['IM3T3M'].replace(month_mapping)\n",
    "df['penta3yr'] = df['IM3T3Y'].replace(year_mapping)\n",
    "\n",
    "df['mcvday'] = df['IM3M1D'].replace(day_mapping)\n",
    "df['mcvmonth'] = df['IM3M1M'].replace(month_mapping)\n",
    "df['mcvyr'] = df['IM3M1Y'].replace(year_mapping)\n",
    "\n",
    "\n",
    "#df['yfday'] = df['IM3YD'].replace(day_mapping)\n",
    "#df['yfmonth'] = df['IM3YM'].replace(month_mapping)\n",
    "#df['yfyr'] = df['IM3YY'].replace(year_mapping)\n",
    "\n",
    "#df['pcv1day'] = df['IM3C1D'].replace(day_mapping)\n",
    "#df['pcv1month'] = df['IM3C1M'].replace(month_mapping)\n",
    "#df['pcv1yr'] = df['IM3C1Y'].replace(year_mapping)\n",
    "\n",
    "#df['pcv2day'] = df['IM3C2D'].replace(day_mapping)\n",
    "#df['pcv2month'] = df['IM3C2M'].replace(month_mapping)\n",
    "#df['pcv2yr'] = df['IM3C2Y'].replace(year_mapping)\n",
    "\n",
    "#df['pcv3day'] = df['IM3C3D'].replace(day_mapping)\n",
    "#df['pcv3month'] = df['IM3C3M'].replace(month_mapping)\n",
    "#df['pcv3yr'] = df['IM3C3Y'].replace(year_mapping)"
   ]
  },
  {
   "cell_type": "markdown",
   "metadata": {},
   "source": [
    "# BCG"
   ]
  },
  {
   "cell_type": "code",
   "execution_count": 16,
   "metadata": {},
   "outputs": [],
   "source": [
    "df['bcg_card'] = df[['bcgday', 'bcgmonth','bcgyr']].max(axis=1)\n",
    "df.loc[df['card'] == 0, 'bcg_card'] = False\n",
    "\n",
    "df['bcg_recall'] = df['IM7'].replace({1.0: True, 2.0: False,8: np.nan, 9: np.nan})\n",
    "df.loc[df['recall'] == 0, 'bcg_recall'] = False\n",
    "\n",
    "df['bcg'] = df[['bcg_card', 'bcg_recall']].max(axis=1)\n",
    "df['bcg_sampled']=df['bcg']*df['chweight']"
   ]
  },
  {
   "cell_type": "code",
   "execution_count": 17,
   "metadata": {},
   "outputs": [
    {
     "data": {
      "text/plain": [
       "{1.0: 'Yes', 2.0: 'No', 8.0: 'DK', 9.0: 'Missing'}"
      ]
     },
     "execution_count": 17,
     "metadata": {},
     "output_type": "execute_result"
    }
   ],
   "source": [
    "# Access variable labels\n",
    "variable_labels = meta.column_labels\n",
    "\n",
    "# Access value labels for a specific variable\n",
    "value_labels = meta.variable_value_labels.get(\"IM7\")\n",
    "value_labels"
   ]
  },
  {
   "cell_type": "code",
   "execution_count": 18,
   "metadata": {},
   "outputs": [
    {
     "data": {
      "text/plain": [
       "bcg\n",
       "True     14296\n",
       "False     1668\n",
       "Name: count, dtype: int64"
      ]
     },
     "execution_count": 18,
     "metadata": {},
     "output_type": "execute_result"
    }
   ],
   "source": [
    "df['bcg'].value_counts()"
   ]
  },
  {
   "cell_type": "code",
   "execution_count": 19,
   "metadata": {},
   "outputs": [
    {
     "name": "stdout",
     "output_type": "stream",
     "text": [
      "Weighted percentage of 'bcg' if 'AG2' is 1: 93.3\n"
     ]
    }
   ],
   "source": [
    "calculate_weighted_percentage(df, 'bcg')"
   ]
  },
  {
   "cell_type": "code",
   "execution_count": 20,
   "metadata": {},
   "outputs": [
    {
     "name": "stdout",
     "output_type": "stream",
     "text": [
      "Weighted percentage of 'bcg_sampled' if 'AG2' is 1: 92.3\n"
     ]
    }
   ],
   "source": [
    "calculate_weighted_percentage(df, 'bcg_sampled')"
   ]
  },
  {
   "cell_type": "markdown",
   "metadata": {},
   "source": [
    "# Polio"
   ]
  },
  {
   "cell_type": "code",
   "execution_count": 21,
   "metadata": {},
   "outputs": [
    {
     "data": {
      "text/plain": [
       "{7.0: '7 +', 9.0: 'Missing'}"
      ]
     },
     "execution_count": 21,
     "metadata": {},
     "output_type": "execute_result"
    }
   ],
   "source": [
    "# Access variable labels\n",
    "variable_labels = meta.column_labels\n",
    "\n",
    "# Access value labels for a specific variable\n",
    "value_labels = meta.variable_value_labels.get(\"IM10\")\n",
    "value_labels"
   ]
  },
  {
   "cell_type": "code",
   "execution_count": 22,
   "metadata": {},
   "outputs": [
    {
     "data": {
      "text/plain": [
       "IM10\n",
       "7.0    3415\n",
       "2.0     589\n",
       "3.0     483\n",
       "5.0     479\n",
       "4.0     435\n",
       "6.0     412\n",
       "1.0     282\n",
       "9.0      97\n",
       "Name: count, dtype: int64"
      ]
     },
     "execution_count": 22,
     "metadata": {},
     "output_type": "execute_result"
    }
   ],
   "source": [
    "df['IM10'].value_counts()"
   ]
  },
  {
   "cell_type": "code",
   "execution_count": 23,
   "metadata": {},
   "outputs": [],
   "source": [
    "#polio0\n",
    "df['polio0_card'] = df[['polio0day', 'polio0month','polio0yr']].max(axis=1)\n",
    "df.loc[df['card'] == False, 'polio0_card'] = False\n",
    "\n",
    "df['polio0_recall1'] = df['IM9'].replace({1: 1, 2: 0, 3: 0, 4: 0, 5: 0, 6: 0, 7: 0, 8: np.nan, 9: np.nan})\n",
    "df.loc[df['recall'] == False, 'polio0_recall1'] = False\n",
    "\n",
    "df['polio0'] = df[['polio0_card','polio0_recall1']].max(axis=1)\n",
    "df['polio0_sampled']=df['polio0']*df['chweight']"
   ]
  },
  {
   "cell_type": "code",
   "execution_count": 24,
   "metadata": {},
   "outputs": [],
   "source": [
    "#Polio1\n",
    "df['polio1_card'] = df[['polio1day', 'polio1month','polio1yr']].max(axis=1)\n",
    "df.loc[df['card'] == False, 'polio1_card'] = False\n",
    "\n",
    "df['polio1_recall1'] = df['IM10'].replace({1: 1, 2: 1, 3: 1, 4: 1, 5: 1, 6: 1, 7: 1, 8: np.nan, 9: np.nan})\n",
    "df.loc[df['recall'] == False, 'polio1_recall1'] = False\n",
    "\n",
    "df['polio1'] = df[['polio1_card','polio1_recall1']].max(axis=1)\n",
    "df['polio1_sampled']=df['polio1']*df['chweight']"
   ]
  },
  {
   "cell_type": "code",
   "execution_count": 25,
   "metadata": {},
   "outputs": [
    {
     "name": "stdout",
     "output_type": "stream",
     "text": [
      "Weighted percentage of 'polio1_sampled' if 'AG2' is 1: 95.1\n"
     ]
    }
   ],
   "source": [
    "calculate_weighted_percentage(df, 'polio1_sampled')"
   ]
  },
  {
   "cell_type": "code",
   "execution_count": 26,
   "metadata": {},
   "outputs": [],
   "source": [
    "#Polio2\n",
    "df['polio2_card'] = df[['polio2day', 'polio2month','polio2yr']].max(axis=1)\n",
    "df.loc[df['card'] == False, 'polio2_card'] = False\n",
    "\n",
    "df['polio2_recall'] = df['IM10'].replace({1: 0, 2: 1, 3: 1, 4: 1, 5: 1, 6: 1, 7: 1, 8: np.nan, 9: np.nan})\n",
    "df.loc[df['recall'] == False, 'polio2_recall'] = False\n",
    "\n",
    "df['polio2'] = df[['polio2_card','polio2_recall']].max(axis=1)\n",
    "df['polio2_sampled']=df['polio2']*df['chweight']"
   ]
  },
  {
   "cell_type": "code",
   "execution_count": 27,
   "metadata": {},
   "outputs": [],
   "source": [
    "#Polio3\n",
    "df['polio3_card'] = df[['polio3day', 'polio3month','polio3yr']].max(axis=1)\n",
    "df.loc[df['card'] == False, 'polio3_card'] = False\n",
    "\n",
    "df['polio3_recall'] = df['IM10'].replace({1: 0, 2: 0, 3: 1, 4: 1, 5: 1, 6: 1, 7: 1, 8: np.nan, 9: np.nan})\n",
    "df.loc[df['recall'] == False, 'polio3_recall'] = False\n",
    "\n",
    "df['polio3'] = df[['polio3_card','polio3_recall']].max(axis=1)\n",
    "df['polio3_sampled']=df['polio3']*df['chweight']"
   ]
  },
  {
   "cell_type": "markdown",
   "metadata": {},
   "source": [
    "# Penta"
   ]
  },
  {
   "cell_type": "code",
   "execution_count": 28,
   "metadata": {},
   "outputs": [],
   "source": [
    "#penta1\n",
    "\n",
    "df['penta1_card'] = df[['penta1day', 'penta1month','penta1yr']].max(axis=1)\n",
    "df.loc[df['card'] == False, 'penta1_card'] = False\n",
    "\n",
    "df['penta1_recall'] = df['IM12'].replace({1: 1, 2: 1, 3: 1, 4: 1, 5: 1, 6: 1, 7: 1, 8: np.nan, 9: np.nan})\n",
    "df.loc[df['recall'] == False, 'polio1_recall'] = False\n",
    "\n",
    "df['penta1'] = df[['penta1_card', 'penta1_recall']].max(axis=1)\n",
    "df['penta1_sampled']=df['penta1']*df['chweight']"
   ]
  },
  {
   "cell_type": "code",
   "execution_count": 29,
   "metadata": {},
   "outputs": [],
   "source": [
    "# penta2\n",
    "df['penta2_card'] = df[['penta2day', 'penta2month','penta2yr']].max(axis=1)\n",
    "df.loc[df['card'] == False, 'penta2_card'] = False\n",
    "\n",
    "df['penta2_recall'] = df['IM12'].replace({1: 0, 2: 1, 3: 1, 4: 1, 5: 1, 6: 1, 7: 1, 8: np.nan, 9: np.nan})\n",
    "df.loc[df['recall'] == False, 'polio1_recall'] = False\n",
    "\n",
    "df['penta2'] = df[['penta2_card', 'penta2_recall']].max(axis=1)\n",
    "df['penta2_sampled']=df['penta2']*df['chweight']"
   ]
  },
  {
   "cell_type": "code",
   "execution_count": 30,
   "metadata": {},
   "outputs": [],
   "source": [
    "# penta3\n",
    "df['penta3_card'] = df[['penta3day', 'penta3month','penta3yr']].max(axis=1)\n",
    "df.loc[df['card'] == False, 'penta3_card'] = False\n",
    "\n",
    "df['penta3_recall'] = df['IM12'].replace({1: 0, 2: 0, 3: 1, 4: 1, 5: 1, 6: 1, 7: 1, 8: np.nan, 9: np.nan})\n",
    "df.loc[df['recall'] == False, 'polio1_recall'] = False\n",
    "\n",
    "df['penta3'] = df[['penta3_card', 'penta3_recall']].max(axis=1)\n",
    "df['penta3_sampled']=df['penta3']*df['chweight']"
   ]
  },
  {
   "cell_type": "markdown",
   "metadata": {},
   "source": [
    "# Yellow Fever"
   ]
  },
  {
   "cell_type": "markdown",
   "metadata": {},
   "source": [
    "# PCV"
   ]
  },
  {
   "cell_type": "code",
   "execution_count": 30,
   "metadata": {},
   "outputs": [],
   "source": [
    "#pcv1\n",
    "df['pcv1_card'] = df[['pcv1day', 'pcv1month','pcv1yr']].max(axis=1)\n",
    "df.loc[df['card'] == False, 'pcv1_card'] = False\n",
    "\n",
    "df['pcv1_recall1'] = df['IM12'].replace({1: 1, 2: 1, 3: 1, 4: 1, 5: 1, 6: 1, 7: 1, 8: np.nan, 9: np.nan})\n",
    "df.loc[df['recall'] == False, 'pcv1_recall1'] = False\n",
    "\n",
    "df['pcv1'] = df[['pcv1_card','pcv1_recall1']].max(axis=1)\n",
    "df['pcv1_sampled']=df['pcv1']*df['chweight']\n",
    "\n",
    "\n"
   ]
  },
  {
   "cell_type": "code",
   "execution_count": 31,
   "metadata": {},
   "outputs": [],
   "source": [
    "#pcv2\n",
    "df['pcv2_card'] = df[['pcv2day', 'pcv2month','pcv2yr']].max(axis=1)\n",
    "df.loc[df['card'] == False, 'pcv2_card'] = False\n",
    "\n",
    "df['pcv2_recall'] = df['IM12'].replace({1: 0, 2: 1, 3: 1, 4: 1, 5: 1, 6: 1, 7: 1, 8: np.nan, 9: np.nan})\n",
    "df.loc[df['recall'] == False, 'pcv2_recall'] = False\n",
    "\n",
    "df['pcv2'] = df[['pcv2_card','pcv2_recall']].max(axis=1)\n",
    "df['pcv2_sampled']=df['pcv2']*df['chweight']"
   ]
  },
  {
   "cell_type": "code",
   "execution_count": 32,
   "metadata": {},
   "outputs": [],
   "source": [
    "\n",
    "#pcv3\n",
    "df['pcv3_card'] = df[['pcv3day', 'pcv3month','pcv3yr']].max(axis=1)\n",
    "df.loc[df['card'] == False, 'pcv3_card'] = False\n",
    "\n",
    "df['pcv3_recall'] = df['IM12'].replace({1: 0, 2: 0, 3: 1, 4: 1, 5: 1, 6: 1, 7: 1, 8: np.nan, 9: np.nan})\n",
    "df.loc[df['recall'] == False, 'pcv3_recall'] = False\n",
    "\n",
    "df['pcv3'] = df[['pcv3_card','pcv3_recall']].max(axis=1)\n",
    "df['pcv3_sampled']=df['pcv3']*df['chweight']"
   ]
  },
  {
   "cell_type": "markdown",
   "metadata": {},
   "source": [
    "# IPV"
   ]
  },
  {
   "cell_type": "markdown",
   "metadata": {},
   "source": [
    "# mcv"
   ]
  },
  {
   "cell_type": "code",
   "execution_count": 31,
   "metadata": {},
   "outputs": [],
   "source": [
    "df['mcv_card'] = df[['mcvday', 'mcvmonth','mcvyr']].max(axis=1)\n",
    "df.loc[df['card'] == False, 'mcv_card'] = False\n",
    "\n",
    "df['mcv_recall'] = df['IM16'].replace({1: 1, 2: 0, 8: np.nan, 9: np.nan})\n",
    "df.loc[df['recall'] == False, 'mcv_recall'] = False\n",
    "\n",
    "df['mcv'] = df[['mcv_card','mcv_recall']].max(axis=1)\n",
    "df['mcv_sampled']=df['mcv']*df['chweight']"
   ]
  },
  {
   "cell_type": "markdown",
   "metadata": {},
   "source": [
    "# Vaccination Calulations"
   ]
  },
  {
   "cell_type": "code",
   "execution_count": 32,
   "metadata": {},
   "outputs": [
    {
     "name": "stdout",
     "output_type": "stream",
     "text": [
      "Weighted percentage of 'bcg_sampled' if 'AG2' is 1: 92.3\n",
      "Weighted percentage of 'penta1_sampled' if 'AG2' is 1: 92.6\n",
      "Weighted percentage of 'penta3_sampled' if 'AG2' is 1: 79.0\n",
      "Weighted percentage of 'mcv_sampled' if 'AG2' is 1: 77.4\n",
      "Weighted percentage of 'polio0_sampled' if 'AG2' is 1: 90.7\n",
      "Weighted percentage of 'polio1_sampled' if 'AG2' is 1: 95.1\n",
      "Weighted percentage of 'polio3_sampled' if 'AG2' is 1: 88.0\n"
     ]
    }
   ],
   "source": [
    "calculate_weighted_percentage(df, 'bcg_sampled')\n",
    "calculate_weighted_percentage(df, 'penta1_sampled')\n",
    "calculate_weighted_percentage(df, 'penta3_sampled')\n",
    "calculate_weighted_percentage(df, 'mcv_sampled')\n",
    "calculate_weighted_percentage(df, 'polio0_sampled')\n",
    "calculate_weighted_percentage(df, 'polio1_sampled')\n",
    "calculate_weighted_percentage(df, 'polio3_sampled')\n",
    "\n",
    "#calculate_weighted_percentage(df, 'yf_sampled')\n",
    "#calculate_weighted_percentage(df, 'pcv1_sampled')\n",
    "#calculate_weighted_percentage(df, 'pcv3_sampled')\n",
    "\n",
    "#calculate_weighted_percentage(df, 'ipv_sampled')"
   ]
  },
  {
   "cell_type": "code",
   "execution_count": 58,
   "metadata": {},
   "outputs": [
    {
     "name": "stdout",
     "output_type": "stream",
     "text": [
      "Weighted percentage of 'bcg' if 'AG2' is 1: 73.4\n",
      "Weighted percentage of 'polio1' if 'AG2' is 1: 72.5\n",
      "Weighted percentage of 'polio3' if 'AG2' is 1: 52.9\n",
      "Weighted percentage of 'penta1' if 'AG2' is 1: 68.2\n",
      "Weighted percentage of 'penta3' if 'AG2' is 1: 43.7\n",
      "Weighted percentage of 'pcv1' if 'AG2' is 1: 47.3\n",
      "Weighted percentage of 'pcv3' if 'AG2' is 1: 27.1\n",
      "Weighted percentage of 'measles' if 'AG2' is 1: 51.0\n"
     ]
    }
   ],
   "source": [
    "calculate_weighted_percentage(df, 'bcg')\n",
    "calculate_weighted_percentage(df, 'polio1')\n",
    "calculate_weighted_percentage(df, 'polio3')\n",
    "calculate_weighted_percentage(df, 'penta1')\n",
    "calculate_weighted_percentage(df, 'penta3')\n",
    "#calculate_weighted_percentage(df, 'yf_sampled')\n",
    "calculate_weighted_percentage(df, 'pcv1')\n",
    "calculate_weighted_percentage(df, 'pcv3')\n",
    "calculate_weighted_percentage(df, 'mcv')\n",
    "#calculate_weighted_percentage(df, 'ipv')"
   ]
  },
  {
   "cell_type": "code",
   "execution_count": 33,
   "metadata": {},
   "outputs": [],
   "source": [
    "# rename columns in dataframe\n",
    "df = df.rename(columns={'HL4': 'gender','HH6':'residence','division':'district','HH7':'region',})"
   ]
  },
  {
   "cell_type": "code",
   "execution_count": 34,
   "metadata": {},
   "outputs": [
    {
     "data": {
      "text/plain": [
       "{1.0: 'Bahawalpur',\n",
       " 2.0: 'DG Khan',\n",
       " 3.0: 'Faisalabad',\n",
       " 4.0: 'Gujranwala',\n",
       " 5.0: 'Lahore',\n",
       " 6.0: 'Multan',\n",
       " 7.0: 'Rawalpindi',\n",
       " 8.0: 'Sahiwal',\n",
       " 9.0: 'Sargodha'}"
      ]
     },
     "execution_count": 34,
     "metadata": {},
     "output_type": "execute_result"
    }
   ],
   "source": [
    "# Access variable labels\n",
    "variable_labels = meta.column_labels\n",
    "\n",
    "# Access value labels for a specific variable\n",
    "value_labels = meta.variable_value_labels.get(\"division\")\n",
    "value_labels"
   ]
  },
  {
   "cell_type": "code",
   "execution_count": 35,
   "metadata": {},
   "outputs": [],
   "source": [
    "district_mapping={1.0: 'Bahawalpur',\n",
    " 2.0: 'DG Khan',\n",
    " 3.0: 'Faisalabad',\n",
    " 4.0: 'Gujranwala',\n",
    " 5.0: 'Lahore',\n",
    " 6.0: 'Multan',\n",
    " 7.0: 'Rawalpindi',\n",
    " 8.0: 'Sahiwal',\n",
    " 9.0: 'Sargodha'}"
   ]
  },
  {
   "cell_type": "code",
   "execution_count": 36,
   "metadata": {},
   "outputs": [
    {
     "data": {
      "text/plain": [
       "residence\n",
       "2.0    20486\n",
       "1.0    10597\n",
       "Name: count, dtype: int64"
      ]
     },
     "execution_count": 36,
     "metadata": {},
     "output_type": "execute_result"
    }
   ],
   "source": [
    "df['residence'].value_counts()"
   ]
  },
  {
   "cell_type": "code",
   "execution_count": 37,
   "metadata": {},
   "outputs": [],
   "source": [
    "# List of Region\n",
    "region_mapping = {1.0: 'Kashmore',\n",
    " 2.0: 'Jacobabad',\n",
    " 3.0: 'Shahdad Kot',\n",
    " 4.0: 'Larkana',\n",
    " 5.0: 'Shikarpur',\n",
    " 6.0: 'Ghotki',\n",
    " 7.0: 'Sukkur',\n",
    " 8.0: 'Khairpur',\n",
    " 9.0: 'Naushahro Feroze',\n",
    " 10.0: 'Shaheed Benazirabad',\n",
    " 11.0: 'Dadu',\n",
    " 12.0: 'Jamshoro',\n",
    " 13.0: 'Hyderabad',\n",
    " 14.0: 'Matiari',\n",
    " 15.0: 'Tando Allahyar',\n",
    " 16.0: 'Tando Muhammad Khan',\n",
    " 17.0: 'Badin',\n",
    " 18.0: 'Sujawal',\n",
    " 19.0: 'Thatta',\n",
    " 20.0: 'Sanghar',\n",
    " 21.0: 'Mirpur Khas',\n",
    " 22.0: 'Umer Kot',\n",
    " 23.0: 'Tharparkar',\n",
    " 24.0: 'Karachi Malir',\n",
    " 25.0: 'Karachi East',\n",
    " 26.0: 'Karachi Central',\n",
    " 27.0: 'Karachi West',\n",
    " 28.0: 'Karachi South'}\n",
    "residence_mapping = {1.0: 'Urban', 2.0: 'Rural'}\n",
    "gender_mapping = {1.0: 'Male', 2.0: 'Female',9.0:np.nan}"
   ]
  },
  {
   "cell_type": "code",
   "execution_count": 38,
   "metadata": {},
   "outputs": [],
   "source": [
    "# Apply mappings to DataFrame columns\n",
    "df['gender'] = df['gender'].replace(gender_mapping)\n",
    "df['region'] = df['region'].replace(region_mapping)\n",
    "df['residence'] = df['residence'].replace(residence_mapping)\n",
    "df['district']=df['district'].replace(district_mapping)"
   ]
  },
  {
   "cell_type": "code",
   "execution_count": 49,
   "metadata": {},
   "outputs": [],
   "source": [
    "# List of vaccines\n",
    "vaccines = ['bcg_sampled','polio0_sampled','polio1_sampled','polio3_sampled','penta1_sampled','penta3_sampled','mcv_sampled']"
   ]
  },
  {
   "cell_type": "code",
   "execution_count": 58,
   "metadata": {},
   "outputs": [],
   "source": [
    "# List of vaccines\n",
    "vaccines1 = ['bcg','polio0','polio1','polio3','penta1','penta3','mcv']"
   ]
  },
  {
   "cell_type": "code",
   "execution_count": 51,
   "metadata": {},
   "outputs": [],
   "source": [
    "regions=['Kashmore','Jacobabad','Shahdad Kot','Larkana','Shikarpur','Ghotki','Sukkur','Khairpur','Naushahro Feroze',\n",
    "'Shaheed Benazirabad','Dadu','Jamshoro','Hyderabad','Matiari','Tando Allahyar','Tando Muhammad Khan',\n",
    "'Badin','Sujawal','Thatta','Sanghar','Mirpur Khas','Umer Kot','Tharparkar','Karachi Malir','Karachi East','Karachi Central',\n",
    "'Karachi West','Karachi South']"
   ]
  },
  {
   "cell_type": "code",
   "execution_count": 52,
   "metadata": {},
   "outputs": [],
   "source": [
    "districts=['Bahawalpur','DG Khan','Faisalabad','Gujranwala','Lahore','Multan','Rawalpindi','Sahiwal','Sargodha']"
   ]
  },
  {
   "cell_type": "code",
   "execution_count": 53,
   "metadata": {},
   "outputs": [],
   "source": [
    "# List of genders\n",
    "genders = ['Female','Male']"
   ]
  },
  {
   "cell_type": "code",
   "execution_count": 54,
   "metadata": {},
   "outputs": [],
   "source": [
    "residences=['Urban','Rural']"
   ]
  },
  {
   "cell_type": "code",
   "execution_count": 55,
   "metadata": {},
   "outputs": [
    {
     "data": {
      "text/plain": [
       "gender\n",
       "Male      15805\n",
       "Female    15278\n",
       "Name: count, dtype: int64"
      ]
     },
     "execution_count": 55,
     "metadata": {},
     "output_type": "execute_result"
    }
   ],
   "source": [
    "df['gender'].value_counts()"
   ]
  },
  {
   "cell_type": "code",
   "execution_count": 56,
   "metadata": {},
   "outputs": [
    {
     "data": {
      "text/html": [
       "<div>\n",
       "<style scoped>\n",
       "    .dataframe tbody tr th:only-of-type {\n",
       "        vertical-align: middle;\n",
       "    }\n",
       "\n",
       "    .dataframe tbody tr th {\n",
       "        vertical-align: top;\n",
       "    }\n",
       "\n",
       "    .dataframe thead th {\n",
       "        text-align: right;\n",
       "    }\n",
       "</style>\n",
       "<table border=\"1\" class=\"dataframe\">\n",
       "  <thead>\n",
       "    <tr style=\"text-align: right;\">\n",
       "      <th>gender</th>\n",
       "      <th>Female</th>\n",
       "      <th>Male</th>\n",
       "    </tr>\n",
       "    <tr>\n",
       "      <th>Vaccine</th>\n",
       "      <th></th>\n",
       "      <th></th>\n",
       "    </tr>\n",
       "  </thead>\n",
       "  <tbody>\n",
       "    <tr>\n",
       "      <th>bcg_sampled</th>\n",
       "      <td>91.0</td>\n",
       "      <td>93.6</td>\n",
       "    </tr>\n",
       "    <tr>\n",
       "      <th>mcv_sampled</th>\n",
       "      <td>75.1</td>\n",
       "      <td>79.5</td>\n",
       "    </tr>\n",
       "    <tr>\n",
       "      <th>penta1_sampled</th>\n",
       "      <td>91.7</td>\n",
       "      <td>93.5</td>\n",
       "    </tr>\n",
       "    <tr>\n",
       "      <th>penta3_sampled</th>\n",
       "      <td>78.3</td>\n",
       "      <td>79.7</td>\n",
       "    </tr>\n",
       "    <tr>\n",
       "      <th>polio0_sampled</th>\n",
       "      <td>88.5</td>\n",
       "      <td>92.7</td>\n",
       "    </tr>\n",
       "    <tr>\n",
       "      <th>polio1_sampled</th>\n",
       "      <td>93.7</td>\n",
       "      <td>96.3</td>\n",
       "    </tr>\n",
       "    <tr>\n",
       "      <th>polio3_sampled</th>\n",
       "      <td>86.9</td>\n",
       "      <td>89.1</td>\n",
       "    </tr>\n",
       "  </tbody>\n",
       "</table>\n",
       "</div>"
      ],
      "text/plain": [
       "gender          Female  Male\n",
       "Vaccine                     \n",
       "bcg_sampled       91.0  93.6\n",
       "mcv_sampled       75.1  79.5\n",
       "penta1_sampled    91.7  93.5\n",
       "penta3_sampled    78.3  79.7\n",
       "polio0_sampled    88.5  92.7\n",
       "polio1_sampled    93.7  96.3\n",
       "polio3_sampled    86.9  89.1"
      ]
     },
     "execution_count": 56,
     "metadata": {},
     "output_type": "execute_result"
    }
   ],
   "source": [
    "# Create an empty list to store the results\n",
    "results = []\n",
    "\n",
    "# Loop through each vaccine and child_gender\n",
    "for vaccine in vaccines:\n",
    "    for gender in genders:\n",
    "        coverage = calculate_vaccination_coverage_child_gender(df, gender, vaccine)\n",
    "        results.append({'Vaccine': vaccine, 'gender': gender, 'Coverage': coverage})\n",
    "\n",
    "# Convert the list of dictionaries into a DataFrame\n",
    "results_df = pd.DataFrame(results)\n",
    "#results_df['Coverage'] = results_df['Coverage'].round(2)\n",
    "# Display the results as a table\n",
    "pivot_table1 = results_df.pivot_table(index='Vaccine', columns='gender', values='Coverage')\n",
    "pivot_table1"
   ]
  },
  {
   "cell_type": "code",
   "execution_count": 57,
   "metadata": {},
   "outputs": [
    {
     "data": {
      "text/html": [
       "<div>\n",
       "<style scoped>\n",
       "    .dataframe tbody tr th:only-of-type {\n",
       "        vertical-align: middle;\n",
       "    }\n",
       "\n",
       "    .dataframe tbody tr th {\n",
       "        vertical-align: top;\n",
       "    }\n",
       "\n",
       "    .dataframe thead th {\n",
       "        text-align: right;\n",
       "    }\n",
       "</style>\n",
       "<table border=\"1\" class=\"dataframe\">\n",
       "  <thead>\n",
       "    <tr style=\"text-align: right;\">\n",
       "      <th>residence</th>\n",
       "      <th>Rural</th>\n",
       "      <th>Urban</th>\n",
       "    </tr>\n",
       "    <tr>\n",
       "      <th>Vaccine</th>\n",
       "      <th></th>\n",
       "      <th></th>\n",
       "    </tr>\n",
       "  </thead>\n",
       "  <tbody>\n",
       "    <tr>\n",
       "      <th>bcg</th>\n",
       "      <td>92.4</td>\n",
       "      <td>95.0</td>\n",
       "    </tr>\n",
       "    <tr>\n",
       "      <th>mcv</th>\n",
       "      <td>77.2</td>\n",
       "      <td>81.8</td>\n",
       "    </tr>\n",
       "    <tr>\n",
       "      <th>penta1</th>\n",
       "      <td>91.2</td>\n",
       "      <td>94.9</td>\n",
       "    </tr>\n",
       "    <tr>\n",
       "      <th>penta3</th>\n",
       "      <td>77.4</td>\n",
       "      <td>84.1</td>\n",
       "    </tr>\n",
       "    <tr>\n",
       "      <th>polio0</th>\n",
       "      <td>90.6</td>\n",
       "      <td>93.7</td>\n",
       "    </tr>\n",
       "    <tr>\n",
       "      <th>polio1</th>\n",
       "      <td>95.8</td>\n",
       "      <td>96.6</td>\n",
       "    </tr>\n",
       "    <tr>\n",
       "      <th>polio3</th>\n",
       "      <td>89.1</td>\n",
       "      <td>90.1</td>\n",
       "    </tr>\n",
       "  </tbody>\n",
       "</table>\n",
       "</div>"
      ],
      "text/plain": [
       "residence  Rural  Urban\n",
       "Vaccine                \n",
       "bcg         92.4   95.0\n",
       "mcv         77.2   81.8\n",
       "penta1      91.2   94.9\n",
       "penta3      77.4   84.1\n",
       "polio0      90.6   93.7\n",
       "polio1      95.8   96.6\n",
       "polio3      89.1   90.1"
      ]
     },
     "execution_count": 57,
     "metadata": {},
     "output_type": "execute_result"
    }
   ],
   "source": [
    "# Create an empty list to store the results\n",
    "results1 = []\n",
    "\n",
    "# Loop through each vaccine and child_residence\n",
    "for vaccine in vaccines1:\n",
    "    for residence in residences:\n",
    "        coverage = calculate_vaccination_coverage_child_residence(df, residence, vaccine)\n",
    "        results1.append({'Vaccine': vaccine, 'residence': residence, 'Coverage': coverage})\n",
    "\n",
    "# Convert the list of dictionaries into a DataFrame\n",
    "results1_df = pd.DataFrame(results1)\n",
    "#results_df['Coverage'] = results_df['Coverage'].round(2)\n",
    "# Display the results as a table\n",
    "pivot_table1 = results1_df.pivot_table(index='Vaccine', columns='residence', values='Coverage')\n",
    "pivot_table1"
   ]
  },
  {
   "cell_type": "code",
   "execution_count": 59,
   "metadata": {},
   "outputs": [
    {
     "data": {
      "text/html": [
       "<div>\n",
       "<style scoped>\n",
       "    .dataframe tbody tr th:only-of-type {\n",
       "        vertical-align: middle;\n",
       "    }\n",
       "\n",
       "    .dataframe tbody tr th {\n",
       "        vertical-align: top;\n",
       "    }\n",
       "\n",
       "    .dataframe thead th {\n",
       "        text-align: right;\n",
       "    }\n",
       "</style>\n",
       "<table border=\"1\" class=\"dataframe\">\n",
       "  <thead>\n",
       "    <tr style=\"text-align: right;\">\n",
       "      <th>region</th>\n",
       "      <th>Badin</th>\n",
       "      <th>Dadu</th>\n",
       "      <th>Ghotki</th>\n",
       "      <th>Hyderabad</th>\n",
       "      <th>Jacobabad</th>\n",
       "      <th>Jamshoro</th>\n",
       "      <th>Karachi Central</th>\n",
       "      <th>Karachi East</th>\n",
       "      <th>Karachi Malir</th>\n",
       "      <th>Karachi South</th>\n",
       "      <th>...</th>\n",
       "      <th>Shahdad Kot</th>\n",
       "      <th>Shaheed Benazirabad</th>\n",
       "      <th>Shikarpur</th>\n",
       "      <th>Sujawal</th>\n",
       "      <th>Sukkur</th>\n",
       "      <th>Tando Allahyar</th>\n",
       "      <th>Tando Muhammad Khan</th>\n",
       "      <th>Tharparkar</th>\n",
       "      <th>Thatta</th>\n",
       "      <th>Umer Kot</th>\n",
       "    </tr>\n",
       "    <tr>\n",
       "      <th>Vaccine</th>\n",
       "      <th></th>\n",
       "      <th></th>\n",
       "      <th></th>\n",
       "      <th></th>\n",
       "      <th></th>\n",
       "      <th></th>\n",
       "      <th></th>\n",
       "      <th></th>\n",
       "      <th></th>\n",
       "      <th></th>\n",
       "      <th></th>\n",
       "      <th></th>\n",
       "      <th></th>\n",
       "      <th></th>\n",
       "      <th></th>\n",
       "      <th></th>\n",
       "      <th></th>\n",
       "      <th></th>\n",
       "      <th></th>\n",
       "      <th></th>\n",
       "      <th></th>\n",
       "    </tr>\n",
       "  </thead>\n",
       "  <tbody>\n",
       "    <tr>\n",
       "      <th>bcg</th>\n",
       "      <td>98.8</td>\n",
       "      <td>97.2</td>\n",
       "      <td>86.3</td>\n",
       "      <td>100.0</td>\n",
       "      <td>86.4</td>\n",
       "      <td>93.6</td>\n",
       "      <td>94.2</td>\n",
       "      <td>99.3</td>\n",
       "      <td>97.3</td>\n",
       "      <td>98.8</td>\n",
       "      <td>...</td>\n",
       "      <td>88.0</td>\n",
       "      <td>87.9</td>\n",
       "      <td>93.1</td>\n",
       "      <td>93.1</td>\n",
       "      <td>82.8</td>\n",
       "      <td>99.2</td>\n",
       "      <td>99.3</td>\n",
       "      <td>93.4</td>\n",
       "      <td>86.9</td>\n",
       "      <td>89.4</td>\n",
       "    </tr>\n",
       "    <tr>\n",
       "      <th>mcv</th>\n",
       "      <td>94.6</td>\n",
       "      <td>83.2</td>\n",
       "      <td>63.7</td>\n",
       "      <td>98.6</td>\n",
       "      <td>65.0</td>\n",
       "      <td>82.7</td>\n",
       "      <td>84.8</td>\n",
       "      <td>85.8</td>\n",
       "      <td>72.6</td>\n",
       "      <td>89.2</td>\n",
       "      <td>...</td>\n",
       "      <td>58.9</td>\n",
       "      <td>63.9</td>\n",
       "      <td>77.7</td>\n",
       "      <td>73.8</td>\n",
       "      <td>45.0</td>\n",
       "      <td>87.0</td>\n",
       "      <td>93.6</td>\n",
       "      <td>77.5</td>\n",
       "      <td>65.6</td>\n",
       "      <td>77.5</td>\n",
       "    </tr>\n",
       "    <tr>\n",
       "      <th>penta1</th>\n",
       "      <td>99.4</td>\n",
       "      <td>96.2</td>\n",
       "      <td>85.0</td>\n",
       "      <td>100.0</td>\n",
       "      <td>84.1</td>\n",
       "      <td>95.8</td>\n",
       "      <td>95.7</td>\n",
       "      <td>97.3</td>\n",
       "      <td>92.9</td>\n",
       "      <td>95.0</td>\n",
       "      <td>...</td>\n",
       "      <td>86.8</td>\n",
       "      <td>87.4</td>\n",
       "      <td>93.8</td>\n",
       "      <td>91.5</td>\n",
       "      <td>76.0</td>\n",
       "      <td>95.0</td>\n",
       "      <td>98.6</td>\n",
       "      <td>92.4</td>\n",
       "      <td>85.3</td>\n",
       "      <td>94.4</td>\n",
       "    </tr>\n",
       "    <tr>\n",
       "      <th>penta3</th>\n",
       "      <td>90.3</td>\n",
       "      <td>90.4</td>\n",
       "      <td>58.8</td>\n",
       "      <td>97.2</td>\n",
       "      <td>65.5</td>\n",
       "      <td>81.2</td>\n",
       "      <td>82.2</td>\n",
       "      <td>91.9</td>\n",
       "      <td>81.4</td>\n",
       "      <td>86.2</td>\n",
       "      <td>...</td>\n",
       "      <td>71.6</td>\n",
       "      <td>65.7</td>\n",
       "      <td>71.3</td>\n",
       "      <td>71.0</td>\n",
       "      <td>47.9</td>\n",
       "      <td>93.1</td>\n",
       "      <td>95.0</td>\n",
       "      <td>76.4</td>\n",
       "      <td>64.1</td>\n",
       "      <td>81.7</td>\n",
       "    </tr>\n",
       "    <tr>\n",
       "      <th>polio0</th>\n",
       "      <td>97.0</td>\n",
       "      <td>97.2</td>\n",
       "      <td>86.8</td>\n",
       "      <td>98.6</td>\n",
       "      <td>88.1</td>\n",
       "      <td>92.8</td>\n",
       "      <td>94.2</td>\n",
       "      <td>99.3</td>\n",
       "      <td>92.0</td>\n",
       "      <td>97.6</td>\n",
       "      <td>...</td>\n",
       "      <td>86.5</td>\n",
       "      <td>87.9</td>\n",
       "      <td>88.5</td>\n",
       "      <td>92.3</td>\n",
       "      <td>76.8</td>\n",
       "      <td>99.2</td>\n",
       "      <td>97.9</td>\n",
       "      <td>89.4</td>\n",
       "      <td>81.8</td>\n",
       "      <td>85.0</td>\n",
       "    </tr>\n",
       "    <tr>\n",
       "      <th>polio1</th>\n",
       "      <td>99.4</td>\n",
       "      <td>100.0</td>\n",
       "      <td>93.1</td>\n",
       "      <td>100.0</td>\n",
       "      <td>97.5</td>\n",
       "      <td>94.7</td>\n",
       "      <td>95.9</td>\n",
       "      <td>98.6</td>\n",
       "      <td>98.2</td>\n",
       "      <td>97.6</td>\n",
       "      <td>...</td>\n",
       "      <td>95.7</td>\n",
       "      <td>91.9</td>\n",
       "      <td>96.2</td>\n",
       "      <td>95.3</td>\n",
       "      <td>93.4</td>\n",
       "      <td>98.4</td>\n",
       "      <td>100.0</td>\n",
       "      <td>95.3</td>\n",
       "      <td>93.0</td>\n",
       "      <td>91.1</td>\n",
       "    </tr>\n",
       "    <tr>\n",
       "      <th>polio3</th>\n",
       "      <td>90.4</td>\n",
       "      <td>95.3</td>\n",
       "      <td>83.5</td>\n",
       "      <td>98.6</td>\n",
       "      <td>88.1</td>\n",
       "      <td>83.4</td>\n",
       "      <td>79.1</td>\n",
       "      <td>95.9</td>\n",
       "      <td>95.6</td>\n",
       "      <td>90.4</td>\n",
       "      <td>...</td>\n",
       "      <td>89.4</td>\n",
       "      <td>87.2</td>\n",
       "      <td>87.7</td>\n",
       "      <td>85.0</td>\n",
       "      <td>86.8</td>\n",
       "      <td>96.7</td>\n",
       "      <td>98.6</td>\n",
       "      <td>90.7</td>\n",
       "      <td>79.6</td>\n",
       "      <td>86.1</td>\n",
       "    </tr>\n",
       "  </tbody>\n",
       "</table>\n",
       "<p>7 rows × 28 columns</p>\n",
       "</div>"
      ],
      "text/plain": [
       "region   Badin   Dadu  Ghotki  Hyderabad  Jacobabad  Jamshoro  \\\n",
       "Vaccine                                                         \n",
       "bcg       98.8   97.2    86.3      100.0       86.4      93.6   \n",
       "mcv       94.6   83.2    63.7       98.6       65.0      82.7   \n",
       "penta1    99.4   96.2    85.0      100.0       84.1      95.8   \n",
       "penta3    90.3   90.4    58.8       97.2       65.5      81.2   \n",
       "polio0    97.0   97.2    86.8       98.6       88.1      92.8   \n",
       "polio1    99.4  100.0    93.1      100.0       97.5      94.7   \n",
       "polio3    90.4   95.3    83.5       98.6       88.1      83.4   \n",
       "\n",
       "region   Karachi Central  Karachi East  Karachi Malir  Karachi South  ...  \\\n",
       "Vaccine                                                               ...   \n",
       "bcg                 94.2          99.3           97.3           98.8  ...   \n",
       "mcv                 84.8          85.8           72.6           89.2  ...   \n",
       "penta1              95.7          97.3           92.9           95.0  ...   \n",
       "penta3              82.2          91.9           81.4           86.2  ...   \n",
       "polio0              94.2          99.3           92.0           97.6  ...   \n",
       "polio1              95.9          98.6           98.2           97.6  ...   \n",
       "polio3              79.1          95.9           95.6           90.4  ...   \n",
       "\n",
       "region   Shahdad Kot  Shaheed Benazirabad  Shikarpur  Sujawal  Sukkur  \\\n",
       "Vaccine                                                                 \n",
       "bcg             88.0                 87.9       93.1     93.1    82.8   \n",
       "mcv             58.9                 63.9       77.7     73.8    45.0   \n",
       "penta1          86.8                 87.4       93.8     91.5    76.0   \n",
       "penta3          71.6                 65.7       71.3     71.0    47.9   \n",
       "polio0          86.5                 87.9       88.5     92.3    76.8   \n",
       "polio1          95.7                 91.9       96.2     95.3    93.4   \n",
       "polio3          89.4                 87.2       87.7     85.0    86.8   \n",
       "\n",
       "region   Tando Allahyar  Tando Muhammad Khan  Tharparkar  Thatta  Umer Kot  \n",
       "Vaccine                                                                     \n",
       "bcg                99.2                 99.3        93.4    86.9      89.4  \n",
       "mcv                87.0                 93.6        77.5    65.6      77.5  \n",
       "penta1             95.0                 98.6        92.4    85.3      94.4  \n",
       "penta3             93.1                 95.0        76.4    64.1      81.7  \n",
       "polio0             99.2                 97.9        89.4    81.8      85.0  \n",
       "polio1             98.4                100.0        95.3    93.0      91.1  \n",
       "polio3             96.7                 98.6        90.7    79.6      86.1  \n",
       "\n",
       "[7 rows x 28 columns]"
      ]
     },
     "execution_count": 59,
     "metadata": {},
     "output_type": "execute_result"
    }
   ],
   "source": [
    "# Create an empty list to store the results\n",
    "results2 = []\n",
    "\n",
    "# Loop through each vaccine and child_region\n",
    "for vaccine in vaccines1:\n",
    "    for region in regions:\n",
    "        coverage = calculate_vaccination_coverage_region(df, region, vaccine)\n",
    "        results2.append({'Vaccine': vaccine, 'region': region, 'Coverage': coverage})\n",
    "\n",
    "# Convert the list of dictionaries into a DataFrame\n",
    "results2_df = pd.DataFrame(results2)\n",
    "#results_df['Coverage'] = results_df['Coverage'].round(2)\n",
    "# Display the results as a table\n",
    "pivot_table2 = results2_df.pivot_table(index='Vaccine', columns='region', values='Coverage')\n",
    "pivot_table2\n",
    "#pivot_table2.to_excel('/path/to/directory/pivot_table2_sorted.xlsx')\n",
    "#pivot_table2.to_excel('Vaccinebyregion.xlsx', index=False)"
   ]
  },
  {
   "cell_type": "code",
   "execution_count": 60,
   "metadata": {},
   "outputs": [
    {
     "data": {
      "text/html": [
       "<div>\n",
       "<style scoped>\n",
       "    .dataframe tbody tr th:only-of-type {\n",
       "        vertical-align: middle;\n",
       "    }\n",
       "\n",
       "    .dataframe tbody tr th {\n",
       "        vertical-align: top;\n",
       "    }\n",
       "\n",
       "    .dataframe thead th {\n",
       "        text-align: right;\n",
       "    }\n",
       "</style>\n",
       "<table border=\"1\" class=\"dataframe\">\n",
       "  <thead>\n",
       "    <tr style=\"text-align: right;\">\n",
       "      <th>district</th>\n",
       "      <th>Bahawalpur</th>\n",
       "      <th>DG Khan</th>\n",
       "      <th>Faisalabad</th>\n",
       "      <th>Gujranwala</th>\n",
       "      <th>Lahore</th>\n",
       "      <th>Multan</th>\n",
       "      <th>Rawalpindi</th>\n",
       "      <th>Sahiwal</th>\n",
       "      <th>Sargodha</th>\n",
       "    </tr>\n",
       "    <tr>\n",
       "      <th>Vaccine</th>\n",
       "      <th></th>\n",
       "      <th></th>\n",
       "      <th></th>\n",
       "      <th></th>\n",
       "      <th></th>\n",
       "      <th></th>\n",
       "      <th></th>\n",
       "      <th></th>\n",
       "      <th></th>\n",
       "    </tr>\n",
       "  </thead>\n",
       "  <tbody>\n",
       "    <tr>\n",
       "      <th>bcg</th>\n",
       "      <td>89.1</td>\n",
       "      <td>82.1</td>\n",
       "      <td>93.3</td>\n",
       "      <td>97.7</td>\n",
       "      <td>92.6</td>\n",
       "      <td>94.6</td>\n",
       "      <td>97.6</td>\n",
       "      <td>98.2</td>\n",
       "      <td>94.8</td>\n",
       "    </tr>\n",
       "    <tr>\n",
       "      <th>mcv</th>\n",
       "      <td>65.7</td>\n",
       "      <td>57.6</td>\n",
       "      <td>77.4</td>\n",
       "      <td>90.6</td>\n",
       "      <td>76.1</td>\n",
       "      <td>78.7</td>\n",
       "      <td>87.7</td>\n",
       "      <td>87.8</td>\n",
       "      <td>85.4</td>\n",
       "    </tr>\n",
       "    <tr>\n",
       "      <th>penta1</th>\n",
       "      <td>88.8</td>\n",
       "      <td>80.4</td>\n",
       "      <td>92.9</td>\n",
       "      <td>97.7</td>\n",
       "      <td>92.0</td>\n",
       "      <td>94.3</td>\n",
       "      <td>97.1</td>\n",
       "      <td>96.8</td>\n",
       "      <td>92.1</td>\n",
       "    </tr>\n",
       "    <tr>\n",
       "      <th>penta3</th>\n",
       "      <td>70.0</td>\n",
       "      <td>56.1</td>\n",
       "      <td>78.2</td>\n",
       "      <td>90.4</td>\n",
       "      <td>77.1</td>\n",
       "      <td>83.0</td>\n",
       "      <td>85.3</td>\n",
       "      <td>92.6</td>\n",
       "      <td>87.0</td>\n",
       "    </tr>\n",
       "    <tr>\n",
       "      <th>polio0</th>\n",
       "      <td>88.3</td>\n",
       "      <td>81.7</td>\n",
       "      <td>91.9</td>\n",
       "      <td>96.7</td>\n",
       "      <td>91.2</td>\n",
       "      <td>91.2</td>\n",
       "      <td>96.1</td>\n",
       "      <td>96.1</td>\n",
       "      <td>91.3</td>\n",
       "    </tr>\n",
       "    <tr>\n",
       "      <th>polio1</th>\n",
       "      <td>95.8</td>\n",
       "      <td>90.6</td>\n",
       "      <td>96.0</td>\n",
       "      <td>98.3</td>\n",
       "      <td>95.3</td>\n",
       "      <td>95.6</td>\n",
       "      <td>97.6</td>\n",
       "      <td>98.8</td>\n",
       "      <td>97.1</td>\n",
       "    </tr>\n",
       "    <tr>\n",
       "      <th>polio3</th>\n",
       "      <td>86.3</td>\n",
       "      <td>81.1</td>\n",
       "      <td>90.2</td>\n",
       "      <td>92.8</td>\n",
       "      <td>86.8</td>\n",
       "      <td>91.7</td>\n",
       "      <td>86.8</td>\n",
       "      <td>96.1</td>\n",
       "      <td>93.1</td>\n",
       "    </tr>\n",
       "  </tbody>\n",
       "</table>\n",
       "</div>"
      ],
      "text/plain": [
       "district  Bahawalpur  DG Khan  Faisalabad  Gujranwala  Lahore  Multan  \\\n",
       "Vaccine                                                                 \n",
       "bcg             89.1     82.1        93.3        97.7    92.6    94.6   \n",
       "mcv             65.7     57.6        77.4        90.6    76.1    78.7   \n",
       "penta1          88.8     80.4        92.9        97.7    92.0    94.3   \n",
       "penta3          70.0     56.1        78.2        90.4    77.1    83.0   \n",
       "polio0          88.3     81.7        91.9        96.7    91.2    91.2   \n",
       "polio1          95.8     90.6        96.0        98.3    95.3    95.6   \n",
       "polio3          86.3     81.1        90.2        92.8    86.8    91.7   \n",
       "\n",
       "district  Rawalpindi  Sahiwal  Sargodha  \n",
       "Vaccine                                  \n",
       "bcg             97.6     98.2      94.8  \n",
       "mcv             87.7     87.8      85.4  \n",
       "penta1          97.1     96.8      92.1  \n",
       "penta3          85.3     92.6      87.0  \n",
       "polio0          96.1     96.1      91.3  \n",
       "polio1          97.6     98.8      97.1  \n",
       "polio3          86.8     96.1      93.1  "
      ]
     },
     "execution_count": 60,
     "metadata": {},
     "output_type": "execute_result"
    }
   ],
   "source": [
    "# Create an empty list to store the results\n",
    "results2 = []\n",
    "\n",
    "# Loop through each vaccine and child_district\n",
    "for vaccine in vaccines1:\n",
    "    for district in districts:\n",
    "        coverage = calculate_vaccination_coverage_district(df, district, vaccine)\n",
    "        results2.append({'Vaccine': vaccine, 'district': district, 'Coverage': coverage})\n",
    "\n",
    "# Convert the list of dictionaries into a DataFrame\n",
    "results2_df = pd.DataFrame(results2)\n",
    "results2_df\n",
    "# Display the results as a table\n",
    "pivot_table2 = results2_df.pivot_table(index='Vaccine', columns='district', values='Coverage')\n",
    "pivot_table2"
   ]
  },
  {
   "cell_type": "code",
   "execution_count": 61,
   "metadata": {},
   "outputs": [],
   "source": [
    "pivot_table2.to_clipboard(index=True, header=True)"
   ]
  },
  {
   "cell_type": "markdown",
   "metadata": {},
   "source": [
    "## Retention Rates"
   ]
  },
  {
   "cell_type": "code",
   "execution_count": 62,
   "metadata": {},
   "outputs": [],
   "source": [
    "def calculate_retention_rate(df, group_col, dose1_col, dose2_col):\n",
    "    \"\"\"\n",
    "    Calculate retention rate from dose2 to dose1 for each group.\n",
    "    \n",
    "    Parameters:\n",
    "    df (pandas.DataFrame): Input DataFrame containing vaccination data.\n",
    "    group_col (str): Column name for the grouping variable.\n",
    "    dose1_col (str): Column name representing the first dose.\n",
    "    dose2_col (str): Column name representing the second dose.\n",
    "    \n",
    "    Returns:\n",
    "    pandas.DataFrame: DataFrame with retention rates calculated and added as a new column.\n",
    "    \"\"\"\n",
    "    # Group by the specified column and aggregate sum of dose1 and dose2\n",
    "    df1 = df.groupby([group_col]).agg(\n",
    "        sum_dose1=(dose1_col, 'sum'),\n",
    "        sum_dose2=(dose2_col, 'sum')\n",
    "    ).reset_index()\n",
    "    \n",
    "    # Calculate retention rate\n",
    "    df1['retention_rate'] = ((1 - ((df1['sum_dose1'] - df1['sum_dose2']) / df1['sum_dose1'])) * 100)\n",
    "    pivot_table2 = df1.pivot_table(columns=group_col, values='retention_rate')\n",
    "    return pivot_table2\n",
    "  "
   ]
  },
  {
   "cell_type": "code",
   "execution_count": 63,
   "metadata": {},
   "outputs": [],
   "source": [
    " filtered_df = df[(df['AG2']==1)]"
   ]
  },
  {
   "cell_type": "code",
   "execution_count": 64,
   "metadata": {},
   "outputs": [],
   "source": [
    "# Call the calculate_retention_rate function\n",
    "result_df = calculate_retention_rate(filtered_df, 'district', 'penta1', 'penta3')\n",
    "\n",
    "# Copy the result to the clipboard\n",
    "result_df.to_clipboard(index=True, header=True)\n"
   ]
  },
  {
   "cell_type": "code",
   "execution_count": 65,
   "metadata": {},
   "outputs": [],
   "source": [
    "# Call the calculate_retention_rate function\n",
    "result_df = calculate_retention_rate(filtered_df, 'district', 'polio1', 'polio3')\n",
    "\n",
    "# Copy the result to the clipboard\n",
    "result_df.to_clipboard(index=True, header=True)\n"
   ]
  },
  {
   "cell_type": "code",
   "execution_count": 66,
   "metadata": {},
   "outputs": [
    {
     "data": {
      "text/html": [
       "<div>\n",
       "<style scoped>\n",
       "    .dataframe tbody tr th:only-of-type {\n",
       "        vertical-align: middle;\n",
       "    }\n",
       "\n",
       "    .dataframe tbody tr th {\n",
       "        vertical-align: top;\n",
       "    }\n",
       "\n",
       "    .dataframe thead th {\n",
       "        text-align: right;\n",
       "    }\n",
       "</style>\n",
       "<table border=\"1\" class=\"dataframe\">\n",
       "  <thead>\n",
       "    <tr style=\"text-align: right;\">\n",
       "      <th>residence</th>\n",
       "      <th>Rural</th>\n",
       "      <th>Urban</th>\n",
       "    </tr>\n",
       "  </thead>\n",
       "  <tbody>\n",
       "    <tr>\n",
       "      <th>retention_rate</th>\n",
       "      <td>51.98868</td>\n",
       "      <td>80.715707</td>\n",
       "    </tr>\n",
       "  </tbody>\n",
       "</table>\n",
       "</div>"
      ],
      "text/plain": [
       "residence          Rural      Urban\n",
       "retention_rate  51.98868  80.715707"
      ]
     },
     "execution_count": 66,
     "metadata": {},
     "output_type": "execute_result"
    }
   ],
   "source": [
    "calculate_retention_rate(filtered_df, 'residence', 'penta1_sampled', 'penta3_sampled')"
   ]
  },
  {
   "cell_type": "code",
   "execution_count": 112,
   "metadata": {},
   "outputs": [
    {
     "data": {
      "text/html": [
       "<div>\n",
       "<style scoped>\n",
       "    .dataframe tbody tr th:only-of-type {\n",
       "        vertical-align: middle;\n",
       "    }\n",
       "\n",
       "    .dataframe tbody tr th {\n",
       "        vertical-align: top;\n",
       "    }\n",
       "\n",
       "    .dataframe thead th {\n",
       "        text-align: right;\n",
       "    }\n",
       "</style>\n",
       "<table border=\"1\" class=\"dataframe\">\n",
       "  <thead>\n",
       "    <tr style=\"text-align: right;\">\n",
       "      <th>residence</th>\n",
       "      <th>Rural</th>\n",
       "      <th>Urban</th>\n",
       "    </tr>\n",
       "  </thead>\n",
       "  <tbody>\n",
       "    <tr>\n",
       "      <th>retention_rate</th>\n",
       "      <td>65.151758</td>\n",
       "      <td>83.483976</td>\n",
       "    </tr>\n",
       "  </tbody>\n",
       "</table>\n",
       "</div>"
      ],
      "text/plain": [
       "residence           Rural      Urban\n",
       "retention_rate  65.151758  83.483976"
      ]
     },
     "execution_count": 112,
     "metadata": {},
     "output_type": "execute_result"
    }
   ],
   "source": [
    "# Call the calculate_retention_rate function\n",
    "calculate_retention_rate(filtered_df, 'residence', 'polio1_sampled', 'polio3_sampled')"
   ]
  },
  {
   "cell_type": "code",
   "execution_count": 113,
   "metadata": {},
   "outputs": [
    {
     "data": {
      "text/html": [
       "<div>\n",
       "<style scoped>\n",
       "    .dataframe tbody tr th:only-of-type {\n",
       "        vertical-align: middle;\n",
       "    }\n",
       "\n",
       "    .dataframe tbody tr th {\n",
       "        vertical-align: top;\n",
       "    }\n",
       "\n",
       "    .dataframe thead th {\n",
       "        text-align: right;\n",
       "    }\n",
       "</style>\n",
       "<table border=\"1\" class=\"dataframe\">\n",
       "  <thead>\n",
       "    <tr style=\"text-align: right;\">\n",
       "      <th>gender</th>\n",
       "      <th>Female</th>\n",
       "      <th>Male</th>\n",
       "    </tr>\n",
       "  </thead>\n",
       "  <tbody>\n",
       "    <tr>\n",
       "      <th>retention_rate</th>\n",
       "      <td>68.315732</td>\n",
       "      <td>69.007448</td>\n",
       "    </tr>\n",
       "  </tbody>\n",
       "</table>\n",
       "</div>"
      ],
      "text/plain": [
       "gender             Female       Male\n",
       "retention_rate  68.315732  69.007448"
      ]
     },
     "execution_count": 113,
     "metadata": {},
     "output_type": "execute_result"
    }
   ],
   "source": [
    "calculate_retention_rate(filtered_df, 'gender', 'penta1_sampled', 'penta3_sampled')"
   ]
  },
  {
   "cell_type": "code",
   "execution_count": 114,
   "metadata": {},
   "outputs": [
    {
     "data": {
      "text/html": [
       "<div>\n",
       "<style scoped>\n",
       "    .dataframe tbody tr th:only-of-type {\n",
       "        vertical-align: middle;\n",
       "    }\n",
       "\n",
       "    .dataframe tbody tr th {\n",
       "        vertical-align: top;\n",
       "    }\n",
       "\n",
       "    .dataframe thead th {\n",
       "        text-align: right;\n",
       "    }\n",
       "</style>\n",
       "<table border=\"1\" class=\"dataframe\">\n",
       "  <thead>\n",
       "    <tr style=\"text-align: right;\">\n",
       "      <th>gender</th>\n",
       "      <th>Female</th>\n",
       "      <th>Male</th>\n",
       "    </tr>\n",
       "  </thead>\n",
       "  <tbody>\n",
       "    <tr>\n",
       "      <th>retention_rate</th>\n",
       "      <td>75.192819</td>\n",
       "      <td>75.194392</td>\n",
       "    </tr>\n",
       "  </tbody>\n",
       "</table>\n",
       "</div>"
      ],
      "text/plain": [
       "gender             Female       Male\n",
       "retention_rate  75.192819  75.194392"
      ]
     },
     "execution_count": 114,
     "metadata": {},
     "output_type": "execute_result"
    }
   ],
   "source": [
    "calculate_retention_rate(filtered_df, 'gender', 'polio1_sampled', 'polio3_sampled')"
   ]
  },
  {
   "cell_type": "code",
   "execution_count": null,
   "metadata": {},
   "outputs": [],
   "source": [
    "calculate_retention_rate(filtered_df, 'polio1', 'polio3')"
   ]
  },
  {
   "cell_type": "markdown",
   "metadata": {},
   "source": [
    "## National retention rate"
   ]
  },
  {
   "cell_type": "code",
   "execution_count": 67,
   "metadata": {},
   "outputs": [
    {
     "data": {
      "text/plain": [
       "64.23948220064725"
      ]
     },
     "execution_count": 67,
     "metadata": {},
     "output_type": "execute_result"
    }
   ],
   "source": [
    "penta_retention_rate = ((1 - ((filtered_df['penta1'].sum() - filtered_df['penta3'].sum()) / filtered_df['penta1'].sum())) * 100)\n",
    "penta_retention_rate"
   ]
  },
  {
   "cell_type": "code",
   "execution_count": 68,
   "metadata": {},
   "outputs": [
    {
     "data": {
      "text/plain": [
       "73.14730100640439"
      ]
     },
     "execution_count": 68,
     "metadata": {},
     "output_type": "execute_result"
    }
   ],
   "source": [
    "polio_retention_rate = ((1 - ((filtered_df['polio1'].sum() - filtered_df['polio3'].sum()) / filtered_df['polio1'].sum())) * 100)\n",
    "polio_retention_rate"
   ]
  },
  {
   "cell_type": "markdown",
   "metadata": {},
   "source": [
    "## Fully vaccinated"
   ]
  },
  {
   "cell_type": "code",
   "execution_count": 69,
   "metadata": {},
   "outputs": [],
   "source": [
    "# Filter out rows with null values in relevant columns\n",
    "filtered_df = filtered_df.dropna(subset=['bcg', 'polio3', 'mcv', 'penta3','polio1','penta1'])"
   ]
  },
  {
   "cell_type": "code",
   "execution_count": 70,
   "metadata": {},
   "outputs": [
    {
     "data": {
      "text/plain": [
       "33.57196684250188"
      ]
     },
     "execution_count": 70,
     "metadata": {},
     "output_type": "execute_result"
    }
   ],
   "source": [
    "# Calculate the number of fully vaccinated kids\n",
    "fully_vaccinated = filtered_df[(filtered_df['bcg']==1) & (filtered_df['polio3']==1) & (filtered_df['mcv']==1) & (filtered_df['penta3']==1)]\n",
    "num_fully_vaccinated = len(fully_vaccinated)\n",
    "\n",
    "# Calculate the total number of kids\n",
    "total_kids = len(filtered_df)\n",
    "\n",
    "# Calculate the percentage of fully vaccinated kids\n",
    "percentage_fully_vaccinated = (num_fully_vaccinated / total_kids) * 100\n",
    "percentage_fully_vaccinated"
   ]
  },
  {
   "cell_type": "markdown",
   "metadata": {},
   "source": [
    "##  Zero dose childern Penta1"
   ]
  },
  {
   "cell_type": "code",
   "execution_count": null,
   "metadata": {},
   "outputs": [],
   "source": [
    "def calculate_zero_dose_proportion(df, vaccine_column):\n",
    "    # Count the number of children who never received the Penta vaccination\n",
    "    zero_dose_children = df[df[vaccine_column] == 0][vaccine_column].count()\n",
    "\n",
    "    # Count the total number of children in the dataset\n",
    "    total_children = df['penta1'].count()\n",
    "\n",
    "    # Calculate the proportion of zero dose children\n",
    "    proportion_zero_dose = (zero_dose_children / total_children) * 100\n",
    "\n",
    "    return proportion_zero_dose"
   ]
  },
  {
   "cell_type": "code",
   "execution_count": null,
   "metadata": {},
   "outputs": [],
   "source": [
    "zero_dose_proportion = calculate_zero_dose_proportion(filtered_df, 'penta1')\n",
    "print(f\"Proportion of zero dose children: {zero_dose_proportion:.2f}%\")\n"
   ]
  },
  {
   "cell_type": "code",
   "execution_count": null,
   "metadata": {},
   "outputs": [],
   "source": [
    "def calculate_zero_dose_percentage_by_group(df, vaccine_column, group_column):\n",
    "    # Group the DataFrame by group and count the total number of children in each group\n",
    "    total_children_by_group = df.groupby(group_column).size()\n",
    "\n",
    "    # Group the DataFrame by group and count the number of zero-dose children in each group\n",
    "    zero_dose_children_by_group = df[df[vaccine_column] == 0].groupby(group_column).size()\n",
    "\n",
    "    # Calculate the percentage of zero-dose children for each group\n",
    "    zero_dose_percentage_by_group = round((zero_dose_children_by_group / total_children_by_group) * 100,1)\n",
    "\n",
    "    return zero_dose_percentage_by_group"
   ]
  },
  {
   "cell_type": "code",
   "execution_count": null,
   "metadata": {},
   "outputs": [],
   "source": [
    "zero_dose_percentage_by_group = calculate_zero_dose_percentage_by_group(df, 'penta1', 'district')\n",
    "\n",
    "print(zero_dose_percentage_by_group)"
   ]
  },
  {
   "cell_type": "code",
   "execution_count": null,
   "metadata": {},
   "outputs": [],
   "source": [
    "zero_dose_percentage_by_group = calculate_zero_dose_percentage_by_group(df, 'penta1', 'residence')\n",
    "\n",
    "print(zero_dose_percentage_by_group)"
   ]
  },
  {
   "cell_type": "code",
   "execution_count": null,
   "metadata": {},
   "outputs": [],
   "source": [
    "zero_dose_percentage_by_group = calculate_zero_dose_percentage_by_group(df, 'penta1', 'gender')\n",
    "\n",
    "print(zero_dose_percentage_by_group)"
   ]
  },
  {
   "cell_type": "markdown",
   "metadata": {},
   "source": [
    "## Zero Dose Childern Non-vaccinated at all"
   ]
  },
  {
   "cell_type": "code",
   "execution_count": 71,
   "metadata": {},
   "outputs": [
    {
     "data": {
      "text/plain": [
       "21.4016578749058"
      ]
     },
     "execution_count": 71,
     "metadata": {},
     "output_type": "execute_result"
    }
   ],
   "source": [
    "# Calculate the number of no vaccinated kids\n",
    "no_vaccinated = filtered_df[(filtered_df['bcg']==0) & (filtered_df['polio1']==0) & (filtered_df['mcv']==0) & (filtered_df['penta1']==0)]\n",
    "num_no_vaccinated = len(no_vaccinated)\n",
    "\n",
    "# Calculate the total number of kids\n",
    "total_kids =len(filtered_df)\n",
    "\n",
    "\n",
    "# Calculate the percentage of no vaccinated kids\n",
    "percentage_no_vaccinated = (num_no_vaccinated / total_kids) * 100\n",
    "percentage_no_vaccinated"
   ]
  },
  {
   "cell_type": "code",
   "execution_count": null,
   "metadata": {},
   "outputs": [],
   "source": []
  }
 ],
 "metadata": {
  "kernelspec": {
   "display_name": "Python 3",
   "language": "python",
   "name": "python3"
  },
  "language_info": {
   "codemirror_mode": {
    "name": "ipython",
    "version": 3
   },
   "file_extension": ".py",
   "mimetype": "text/x-python",
   "name": "python",
   "nbconvert_exporter": "python",
   "pygments_lexer": "ipython3",
   "version": "3.8.5"
  }
 },
 "nbformat": 4,
 "nbformat_minor": 4
}
