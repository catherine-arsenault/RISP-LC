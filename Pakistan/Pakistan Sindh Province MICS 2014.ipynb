{
 "cells": [
  {
   "cell_type": "markdown",
   "metadata": {},
   "source": [
    "# Pakistan Sindh Province MICS 2014"
   ]
  },
  {
   "cell_type": "code",
   "execution_count": 1,
   "metadata": {},
   "outputs": [
    {
     "name": "stderr",
     "output_type": "stream",
     "text": [
      "C:\\Users\\swalke\\Anaconda3\\lib\\site-packages\\pandas\\core\\computation\\expressions.py:20: UserWarning: Pandas requires version '2.7.3' or newer of 'numexpr' (version '2.7.1' currently installed).\n",
      "  from pandas.core.computation.check import NUMEXPR_INSTALLED\n"
     ]
    }
   ],
   "source": [
    "import pyreadstat\n",
    "import warnings\n",
    "warnings.filterwarnings(\"ignore\")\n",
    "from googletrans import Translator\n",
    "from googletrans import Translator\n",
    "import pandas as pd\n",
    "import numpy as np"
   ]
  },
  {
   "cell_type": "code",
   "execution_count": 2,
   "metadata": {},
   "outputs": [],
   "source": [
    "def calculate_weighted_percentage(df, column_name):\n",
    "    filtered_df = df[df['AG2'] == 1]\n",
    "    weighted_percentage = round(filtered_df[column_name].mean() * 100,1)\n",
    "    print(\"Weighted percentage of '{}' if 'AG2' is 1: {}\".format(column_name, weighted_percentage))"
   ]
  },
  {
   "cell_type": "code",
   "execution_count": 3,
   "metadata": {},
   "outputs": [],
   "source": [
    "# Function to calculate vaccination coverage for each child_residence between specific age group\n",
    "def calculate_vaccination_coverage_child_residence(df, residence, vaccine_column):\n",
    "    filtered_df = df[(df['AG2']==1) & (df['residence']== residence)]\n",
    "\n",
    "    # Calculate the percentage of children vaccinated with the specified vaccine\n",
    "    # Count non-null values in the vaccine_column\n",
    "    weighted_percentage = round(filtered_df[vaccine_column].mean() * 100,1)\n",
    "    #print(\"Weighted percentage of '{}' if 'AG2' is 1: {}\".format(vaccine_column, weighted_percentage))                  \n",
    "    return weighted_percentage\n"
   ]
  },
  {
   "cell_type": "code",
   "execution_count": 4,
   "metadata": {},
   "outputs": [],
   "source": [
    "# Function to calculate vaccination coverage for each region between specific age group\n",
    "def calculate_vaccination_coverage_region(df, region, vaccine_column):\n",
    "    # Filter rows where child_age is between min_age and max_age and region matches\n",
    "    filtered_df = df[(df['AG2']==1) & (df['region'] == region)]\n",
    "\n",
    "    # Calculate the percentage of children vaccinated with the specified vaccine\n",
    "    total_children = filtered_df[vaccine_column].count()  # Count non-null values in the vaccine_column\n",
    "    if total_children == 0:\n",
    "        print(\"No children found for the specified age range and region: {}.\".format(region))\n",
    "        return 0\n",
    "    percentage_vaccinated = round(filtered_df[vaccine_column].mean() * 100,1)\n",
    "    #print(\"{} Vaccination Coverage for children in {} between {} to {} months using dataset: {:.2f}%\".format(vaccine_column, region, min_age, max_age, percentage_vaccinated))\n",
    "    return percentage_vaccinated"
   ]
  },
  {
   "cell_type": "code",
   "execution_count": 5,
   "metadata": {},
   "outputs": [],
   "source": [
    "# Function to calculate vaccination coverage for each child_gender between specific age group\n",
    "def calculate_vaccination_coverage_child_gender(df, gender, vaccine_column):\n",
    "    filtered_df = df[(df['AG2']==1) & (df['gender']== gender)]\n",
    "\n",
    "    # Calculate the percentage of children vaccinated with the specified vaccine\n",
    "    # Count non-null values in the vaccine_column\n",
    "    weighted_percentage = round(filtered_df[vaccine_column].mean() * 100,1)\n",
    "    #print(\"Weighted percentage of '{}' if 'AG2' is 1: {}\".format(vaccine_column, weighted_percentage))                  \n",
    "    return weighted_percentage\n"
   ]
  },
  {
   "cell_type": "code",
   "execution_count": 6,
   "metadata": {},
   "outputs": [],
   "source": [
    "def calculate_vaccination_coverage_district(df, district, vaccine_column):\n",
    "    # Filter rows where district matches\n",
    "    filtered_df = df[(df['AG2']==1) & (df['district'] == district)]\n",
    "    total_children = filtered_df[vaccine_column].count()  # Count non-null values in the vaccine_column\n",
    "    if total_children == 0:\n",
    "        print(\"No children found for the specified district: {}.\".format(district))\n",
    "        return 0\n",
    "    percentage_vaccinated = round(filtered_df[vaccine_column].mean() * 100, 1)\n",
    "    return percentage_vaccinated"
   ]
  },
  {
   "cell_type": "markdown",
   "metadata": {},
   "source": [
    "# Reading the dataframe"
   ]
  },
  {
   "cell_type": "code",
   "execution_count": 7,
   "metadata": {},
   "outputs": [],
   "source": [
    "df, meta = pyreadstat.read_sav(\"C:/Users/swalke/Desktop/RISP/PAK Sindh 2014.sav\")"
   ]
  },
  {
   "cell_type": "code",
   "execution_count": 8,
   "metadata": {},
   "outputs": [
    {
     "data": {
      "text/plain": [
       "{0.0: 'Not given',\n",
       " 44.0: 'Marked on card',\n",
       " 66.0: 'Mother reported',\n",
       " 97.0: 'Inconsistent',\n",
       " 98.0: 'DK',\n",
       " 99.0: 'Missing'}"
      ]
     },
     "execution_count": 8,
     "metadata": {},
     "output_type": "execute_result"
    }
   ],
   "source": [
    "# Access variable labels\n",
    "variable_labels = meta.column_labels\n",
    "\n",
    "# Access value labels for a specific variable\n",
    "value_labels = meta.variable_value_labels.get(\"IM3BD\")\n",
    "value_labels"
   ]
  },
  {
   "cell_type": "code",
   "execution_count": 9,
   "metadata": {},
   "outputs": [
    {
     "data": {
      "text/plain": [
       "IM3BY\n",
       "2013.0    1313\n",
       "2012.0     673\n",
       "2014.0     486\n",
       "2011.0     238\n",
       "4444.0      93\n",
       "0.0         65\n",
       "6666.0      16\n",
       "9998.0      12\n",
       "9997.0       6\n",
       "Name: count, dtype: int64"
      ]
     },
     "execution_count": 9,
     "metadata": {},
     "output_type": "execute_result"
    }
   ],
   "source": [
    "df['IM3BY'].value_counts()"
   ]
  },
  {
   "cell_type": "code",
   "execution_count": 10,
   "metadata": {},
   "outputs": [
    {
     "data": {
      "text/plain": [
       "{1.0: 'Yes', 2.0: 'No', 8.0: 'DK', 9.0: 'Missing'}"
      ]
     },
     "execution_count": 10,
     "metadata": {},
     "output_type": "execute_result"
    }
   ],
   "source": [
    "# Access variable labels\n",
    "variable_labels = meta.column_labels\n",
    "\n",
    "# Access value labels for a specific variable\n",
    "value_labels = meta.variable_value_labels.get(\"IM6\")\n",
    "value_labels"
   ]
  },
  {
   "cell_type": "code",
   "execution_count": 11,
   "metadata": {},
   "outputs": [],
   "source": [
    "# Define mapping variables\n",
    "day_mapping = {range(1, 67): True,97.0:True, 98.0:np.nan, 99: np.nan, 0.0:False}\n",
    "month_mapping ={range(1, 67): True, 97.07: True,97.0:True, 98.0:np.nan, 99: np.nan, 0.0:False}\n",
    "year_mapping = {2011:True, 2012:True, 2013:True, 2014:True, 2015:True, 2016:True, 2017:True, 2018:True, 2019:True, 4444:True, 6666:True, 9997.0:True,9998.0:np.nan, 9999:np.nan,0.0:False}"
   ]
  },
  {
   "cell_type": "code",
   "execution_count": 12,
   "metadata": {},
   "outputs": [],
   "source": [
    "df['card'] = df['IM2'].replace({1:True, 2:False, 3:False, 4:False, 9:np.nan})"
   ]
  },
  {
   "cell_type": "code",
   "execution_count": 13,
   "metadata": {},
   "outputs": [],
   "source": [
    "df['recall'] = df['IM6'].replace({1:True, 2: False, 8: np.nan, 9: np.nan})"
   ]
  },
  {
   "cell_type": "code",
   "execution_count": 36,
   "metadata": {},
   "outputs": [],
   "source": [
    "df['bcgday'] = df['IM3BD'].replace(day_mapping)\n",
    "df['bcgmonth'] = df['IM3BM'].replace(month_mapping)\n",
    "df['bcgyr'] = df['IM3BY'].replace(year_mapping)\n",
    "\n",
    "df['polio0day'] = df['IM3P0D'].replace(day_mapping)\n",
    "df['polio0month'] = df['IM3P0M'].replace(month_mapping)\n",
    "df['polio0yr'] = df['IM3P0Y'].replace(year_mapping)\n",
    "\n",
    "\n",
    "df['polio1day'] = df['IM3P1D'].replace(day_mapping)\n",
    "df['polio1month'] = df['IM3P1M'].replace(month_mapping)\n",
    "df['polio1yr'] = df['IM3P1Y'].replace(year_mapping)\n",
    "\n",
    "df['polio2day'] = df['IM3P2D'].replace(day_mapping)\n",
    "df['polio2month'] = df['IM3P2M'].replace(month_mapping)\n",
    "df['polio2yr'] = df['IM3P2Y'].replace(year_mapping)\n",
    "\n",
    "\n",
    "df['polio3day'] = df['IM3P3D'].replace(day_mapping)\n",
    "df['polio3month'] = df['IM3P3M'].replace(month_mapping)\n",
    "df['polio3yr'] = df['IM3P3Y'].replace(year_mapping)\n",
    "\n",
    "\n",
    "#df['ipvday'] = df['IM3ID'].replace(day_mapping)\n",
    "#df['ipvmonth'] = df['IM3IM'].replace(month_mapping)\n",
    "#df['ipvyr'] = df['IM3IY'].replace(year_mapping)\n",
    "\n",
    "\n",
    "df['penta1day'] = df['IM3T1D'].replace(day_mapping)\n",
    "df['penta1month'] = df['IM3T1M'].replace(month_mapping)\n",
    "df['penta1yr'] = df['IM3T1Y'].replace(year_mapping)\n",
    "\n",
    "\n",
    "df['penta2day'] = df['IM3T2D'].replace(day_mapping)\n",
    "df['penta2month'] = df['IM3T2M'].replace(month_mapping)\n",
    "df['penta2yr'] = df['IM3T2Y'].replace(year_mapping)\n",
    "\n",
    "\n",
    "df['penta3day'] = df['IM3T3D'].replace(day_mapping)\n",
    "df['penta3month'] = df['IM3T3M'].replace(month_mapping)\n",
    "df['penta3yr'] = df['IM3T3Y'].replace(year_mapping)\n",
    "\n",
    "df['mcvday'] = df['IM3M1D'].replace(day_mapping)\n",
    "df['mcvmonth'] = df['IM3M1M'].replace(month_mapping)\n",
    "df['mcvyr'] = df['IM3M1Y'].replace(year_mapping)\n",
    "\n",
    "\n",
    "#df['yfday'] = df['IM3YD'].replace(day_mapping)\n",
    "#df['yfmonth'] = df['IM3YM'].replace(month_mapping)\n",
    "#df['yfyr'] = df['IM3YY'].replace(year_mapping)\n",
    "\n",
    "df['pcv1day'] = df['IM3C1D'].replace(day_mapping)\n",
    "df['pcv1month'] = df['IM3C1M'].replace(month_mapping)\n",
    "df['pcv1yr'] = df['IM3C1Y'].replace(year_mapping)\n",
    "\n",
    "df['pcv2day'] = df['IM3C2D'].replace(day_mapping)\n",
    "df['pcv2month'] = df['IM3C2M'].replace(month_mapping)\n",
    "df['pcv2yr'] = df['IM3C2Y'].replace(year_mapping)\n",
    "\n",
    "df['pcv3day'] = df['IM3C3D'].replace(day_mapping)\n",
    "df['pcv3month'] = df['IM3C3M'].replace(month_mapping)\n",
    "df['pcv3yr'] = df['IM3C3Y'].replace(year_mapping)"
   ]
  },
  {
   "cell_type": "markdown",
   "metadata": {},
   "source": [
    "# BCG"
   ]
  },
  {
   "cell_type": "code",
   "execution_count": 15,
   "metadata": {},
   "outputs": [],
   "source": [
    "df['bcg_card'] = df[['bcgday', 'bcgmonth','bcgyr']].max(axis=1)\n",
    "df.loc[df['card'] == 0, 'bcg_card'] = False\n",
    "\n",
    "df['bcg_recall'] = df['IM7'].replace({1.0: True, 2.0: False,8: np.nan, 9: np.nan})\n",
    "df.loc[df['recall'] == 0, 'bcg_recall'] = False\n",
    "\n",
    "df['bcg'] = df[['bcg_card', 'bcg_recall']].max(axis=1)\n",
    "df['bcg_sampled']=df['bcg']*df['chweight']"
   ]
  },
  {
   "cell_type": "code",
   "execution_count": 16,
   "metadata": {},
   "outputs": [
    {
     "data": {
      "text/plain": [
       "{1.0: 'Yes', 2.0: 'No', 8.0: 'DK', 9.0: 'Missing'}"
      ]
     },
     "execution_count": 16,
     "metadata": {},
     "output_type": "execute_result"
    }
   ],
   "source": [
    "# Access variable labels\n",
    "variable_labels = meta.column_labels\n",
    "\n",
    "# Access value labels for a specific variable\n",
    "value_labels = meta.variable_value_labels.get(\"IM7\")\n",
    "value_labels"
   ]
  },
  {
   "cell_type": "code",
   "execution_count": 17,
   "metadata": {},
   "outputs": [
    {
     "data": {
      "text/plain": [
       "bcg\n",
       "True     6735\n",
       "False    2886\n",
       "Name: count, dtype: int64"
      ]
     },
     "execution_count": 17,
     "metadata": {},
     "output_type": "execute_result"
    }
   ],
   "source": [
    "df['bcg'].value_counts()"
   ]
  },
  {
   "cell_type": "code",
   "execution_count": 18,
   "metadata": {},
   "outputs": [
    {
     "name": "stdout",
     "output_type": "stream",
     "text": [
      "Weighted percentage of 'bcg' if 'AG2' is 1: 73.4\n"
     ]
    }
   ],
   "source": [
    "calculate_weighted_percentage(df, 'bcg')"
   ]
  },
  {
   "cell_type": "code",
   "execution_count": 19,
   "metadata": {},
   "outputs": [
    {
     "name": "stdout",
     "output_type": "stream",
     "text": [
      "Weighted percentage of 'bcg_sampled' if 'AG2' is 1: 74.5\n"
     ]
    }
   ],
   "source": [
    "calculate_weighted_percentage(df, 'bcg_sampled')"
   ]
  },
  {
   "cell_type": "markdown",
   "metadata": {},
   "source": [
    "# Polio"
   ]
  },
  {
   "cell_type": "code",
   "execution_count": 20,
   "metadata": {},
   "outputs": [
    {
     "data": {
      "text/plain": [
       "{9.0: 'Missing'}"
      ]
     },
     "execution_count": 20,
     "metadata": {},
     "output_type": "execute_result"
    }
   ],
   "source": [
    "# Access variable labels\n",
    "variable_labels = meta.column_labels\n",
    "\n",
    "# Access value labels for a specific variable\n",
    "value_labels = meta.variable_value_labels.get(\"IM10\")\n",
    "value_labels"
   ]
  },
  {
   "cell_type": "code",
   "execution_count": 21,
   "metadata": {},
   "outputs": [
    {
     "data": {
      "text/plain": [
       "IM10\n",
       "3.0    987\n",
       "2.0    798\n",
       "4.0    643\n",
       "1.0    602\n",
       "7.0    379\n",
       "5.0    321\n",
       "9.0    265\n",
       "6.0    164\n",
       "Name: count, dtype: int64"
      ]
     },
     "execution_count": 21,
     "metadata": {},
     "output_type": "execute_result"
    }
   ],
   "source": [
    "df['IM10'].value_counts()"
   ]
  },
  {
   "cell_type": "code",
   "execution_count": 22,
   "metadata": {},
   "outputs": [],
   "source": [
    "#polio0\n",
    "df['polio0_card'] = df[['polio0day', 'polio0month','polio0yr']].max(axis=1)\n",
    "df.loc[df['card'] == False, 'polio0_card'] = False\n",
    "\n",
    "df['polio0_recall1'] = df['IM9'].replace({1: 1, 2: 0, 3: 0, 4: 0, 5: 0, 6: 0, 7: 0, 8: np.nan, 9: np.nan})\n",
    "df.loc[df['recall'] == False, 'polio0_recall1'] = False\n",
    "\n",
    "df['polio0'] = df[['polio0_card','polio0_recall1']].max(axis=1)\n",
    "df['polio0_sampled']=df['polio0']*df['chweight']"
   ]
  },
  {
   "cell_type": "code",
   "execution_count": 23,
   "metadata": {},
   "outputs": [],
   "source": [
    "#Polio1\n",
    "df['polio1_card'] = df[['polio1day', 'polio1month','polio1yr']].max(axis=1)\n",
    "df.loc[df['card'] == False, 'polio1_card'] = False\n",
    "\n",
    "df['polio1_recall1'] = df['IM10'].replace({1: 1, 2: 1, 3: 1, 4: 1, 5: 1, 6: 1, 7: 1, 8: np.nan, 9: np.nan})\n",
    "df.loc[df['recall'] == False, 'polio1_recall1'] = False\n",
    "\n",
    "df['polio1'] = df[['polio1_card','polio1_recall1']].max(axis=1)\n",
    "df['polio1_sampled']=df['polio1']*df['chweight']"
   ]
  },
  {
   "cell_type": "code",
   "execution_count": 24,
   "metadata": {},
   "outputs": [
    {
     "name": "stdout",
     "output_type": "stream",
     "text": [
      "Weighted percentage of 'polio1_sampled' if 'AG2' is 1: 74.1\n"
     ]
    }
   ],
   "source": [
    "calculate_weighted_percentage(df, 'polio1_sampled')"
   ]
  },
  {
   "cell_type": "code",
   "execution_count": 25,
   "metadata": {},
   "outputs": [],
   "source": [
    "#Polio2\n",
    "df['polio2_card'] = df[['polio2day', 'polio2month','polio2yr']].max(axis=1)\n",
    "df.loc[df['card'] == False, 'polio2_card'] = False\n",
    "\n",
    "df['polio2_recall'] = df['IM10'].replace({1: 0, 2: 1, 3: 1, 4: 1, 5: 1, 6: 1, 7: 1, 8: np.nan, 9: np.nan})\n",
    "df.loc[df['recall'] == False, 'polio2_recall'] = False\n",
    "\n",
    "df['polio2'] = df[['polio2_card','polio2_recall']].max(axis=1)\n",
    "df['polio2_sampled']=df['polio2']*df['chweight']"
   ]
  },
  {
   "cell_type": "code",
   "execution_count": 26,
   "metadata": {},
   "outputs": [],
   "source": [
    "#Polio3\n",
    "df['polio3_card'] = df[['polio3day', 'polio3month','polio3yr']].max(axis=1)\n",
    "df.loc[df['card'] == False, 'polio3_card'] = False\n",
    "\n",
    "df['polio3_recall'] = df['IM10'].replace({1: 0, 2: 0, 3: 1, 4: 1, 5: 1, 6: 1, 7: 1, 8: np.nan, 9: np.nan})\n",
    "df.loc[df['recall'] == False, 'polio3_recall'] = False\n",
    "\n",
    "df['polio3'] = df[['polio3_card','polio3_recall']].max(axis=1)\n",
    "df['polio3_sampled']=df['polio3']*df['chweight']"
   ]
  },
  {
   "cell_type": "markdown",
   "metadata": {},
   "source": [
    "# Penta"
   ]
  },
  {
   "cell_type": "code",
   "execution_count": 27,
   "metadata": {},
   "outputs": [],
   "source": [
    "#penta1\n",
    "\n",
    "df['penta1_card'] = df[['penta1day', 'penta1month','penta1yr']].max(axis=1)\n",
    "df.loc[df['card'] == False, 'penta1_card'] = False\n",
    "\n",
    "df['penta1_recall'] = df['IM12'].replace({1: 1, 2: 1, 3: 1, 4: 1, 5: 1, 6: 1, 7: 1, 8: np.nan, 9: np.nan})\n",
    "df.loc[df['recall'] == False, 'polio1_recall'] = False\n",
    "\n",
    "df['penta1'] = df[['penta1_card', 'penta1_recall']].max(axis=1)\n",
    "df['penta1_sampled']=df['penta1']*df['chweight']"
   ]
  },
  {
   "cell_type": "code",
   "execution_count": 28,
   "metadata": {},
   "outputs": [],
   "source": [
    "# penta2\n",
    "df['penta2_card'] = df[['penta2day', 'penta2month','penta2yr']].max(axis=1)\n",
    "df.loc[df['card'] == False, 'penta2_card'] = False\n",
    "\n",
    "df['penta2_recall'] = df['IM12'].replace({1: 0, 2: 1, 3: 1, 4: 1, 5: 1, 6: 1, 7: 1, 8: np.nan, 9: np.nan})\n",
    "df.loc[df['recall'] == False, 'polio1_recall'] = False\n",
    "\n",
    "df['penta2'] = df[['penta2_card', 'penta2_recall']].max(axis=1)\n",
    "df['penta2_sampled']=df['penta2']*df['chweight']"
   ]
  },
  {
   "cell_type": "code",
   "execution_count": 29,
   "metadata": {},
   "outputs": [],
   "source": [
    "# penta3\n",
    "df['penta3_card'] = df[['penta3day', 'penta3month','penta3yr']].max(axis=1)\n",
    "df.loc[df['card'] == False, 'penta3_card'] = False\n",
    "\n",
    "df['penta3_recall'] = df['IM12'].replace({1: 0, 2: 0, 3: 1, 4: 1, 5: 1, 6: 1, 7: 1, 8: np.nan, 9: np.nan})\n",
    "df.loc[df['recall'] == False, 'polio1_recall'] = False\n",
    "\n",
    "df['penta3'] = df[['penta3_card', 'penta3_recall']].max(axis=1)\n",
    "df['penta3_sampled']=df['penta3']*df['chweight']"
   ]
  },
  {
   "cell_type": "markdown",
   "metadata": {},
   "source": [
    "# Yellow Fever"
   ]
  },
  {
   "cell_type": "markdown",
   "metadata": {},
   "source": [
    "# PCV"
   ]
  },
  {
   "cell_type": "code",
   "execution_count": 30,
   "metadata": {},
   "outputs": [],
   "source": [
    "#pcv1\n",
    "df['pcv1_card'] = df[['pcv1day', 'pcv1month','pcv1yr']].max(axis=1)\n",
    "df.loc[df['card'] == False, 'pcv1_card'] = False\n",
    "\n",
    "df['pcv1_recall1'] = df['IM12'].replace({1: 1, 2: 1, 3: 1, 4: 1, 5: 1, 6: 1, 7: 1, 8: np.nan, 9: np.nan})\n",
    "df.loc[df['recall'] == False, 'pcv1_recall1'] = False\n",
    "\n",
    "df['pcv1'] = df[['pcv1_card','pcv1_recall1']].max(axis=1)\n",
    "df['pcv1_sampled']=df['pcv1']*df['chweight']\n",
    "\n",
    "\n"
   ]
  },
  {
   "cell_type": "code",
   "execution_count": 31,
   "metadata": {},
   "outputs": [],
   "source": [
    "#pcv2\n",
    "df['pcv2_card'] = df[['pcv2day', 'pcv2month','pcv2yr']].max(axis=1)\n",
    "df.loc[df['card'] == False, 'pcv2_card'] = False\n",
    "\n",
    "df['pcv2_recall'] = df['IM12'].replace({1: 0, 2: 1, 3: 1, 4: 1, 5: 1, 6: 1, 7: 1, 8: np.nan, 9: np.nan})\n",
    "df.loc[df['recall'] == False, 'pcv2_recall'] = False\n",
    "\n",
    "df['pcv2'] = df[['pcv2_card','pcv2_recall']].max(axis=1)\n",
    "df['pcv2_sampled']=df['pcv2']*df['chweight']"
   ]
  },
  {
   "cell_type": "code",
   "execution_count": 32,
   "metadata": {},
   "outputs": [],
   "source": [
    "\n",
    "#pcv3\n",
    "df['pcv3_card'] = df[['pcv3day', 'pcv3month','pcv3yr']].max(axis=1)\n",
    "df.loc[df['card'] == False, 'pcv3_card'] = False\n",
    "\n",
    "df['pcv3_recall'] = df['IM12'].replace({1: 0, 2: 0, 3: 1, 4: 1, 5: 1, 6: 1, 7: 1, 8: np.nan, 9: np.nan})\n",
    "df.loc[df['recall'] == False, 'pcv3_recall'] = False\n",
    "\n",
    "df['pcv3'] = df[['pcv3_card','pcv3_recall']].max(axis=1)\n",
    "df['pcv3_sampled']=df['pcv3']*df['chweight']"
   ]
  },
  {
   "cell_type": "markdown",
   "metadata": {},
   "source": [
    "# IPV"
   ]
  },
  {
   "cell_type": "markdown",
   "metadata": {},
   "source": [
    "# mcv"
   ]
  },
  {
   "cell_type": "code",
   "execution_count": 37,
   "metadata": {},
   "outputs": [],
   "source": [
    "df['mcv_card'] = df[['mcvday', 'mcvmonth','mcvyr']].max(axis=1)\n",
    "df.loc[df['card'] == False, 'mcv_card'] = False\n",
    "\n",
    "df['mcv_recall'] = df['IM16'].replace({1: 1, 2: 0, 8: np.nan, 9: np.nan})\n",
    "df.loc[df['recall'] == False, 'mcv_recall'] = False\n",
    "\n",
    "df['mcv'] = df[['mcv_card','mcv_recall']].max(axis=1)\n",
    "df['mcv_sampled']=df['mcv']*df['chweight']"
   ]
  },
  {
   "cell_type": "markdown",
   "metadata": {},
   "source": [
    "# Vaccination Calulations"
   ]
  },
  {
   "cell_type": "code",
   "execution_count": 38,
   "metadata": {},
   "outputs": [
    {
     "name": "stdout",
     "output_type": "stream",
     "text": [
      "Weighted percentage of 'bcg_sampled' if 'AG2' is 1: 74.5\n",
      "Weighted percentage of 'penta1_sampled' if 'AG2' is 1: 71.4\n",
      "Weighted percentage of 'penta3_sampled' if 'AG2' is 1: 49.2\n",
      "Weighted percentage of 'mcv_sampled' if 'AG2' is 1: 52.9\n",
      "Weighted percentage of 'polio0_sampled' if 'AG2' is 1: 71.8\n",
      "Weighted percentage of 'polio1_sampled' if 'AG2' is 1: 74.1\n",
      "Weighted percentage of 'polio3_sampled' if 'AG2' is 1: 55.8\n",
      "Weighted percentage of 'pcv1_sampled' if 'AG2' is 1: 46.9\n",
      "Weighted percentage of 'pcv3_sampled' if 'AG2' is 1: 28.8\n"
     ]
    }
   ],
   "source": [
    "calculate_weighted_percentage(df, 'bcg_sampled')\n",
    "calculate_weighted_percentage(df, 'penta1_sampled')\n",
    "calculate_weighted_percentage(df, 'penta3_sampled')\n",
    "calculate_weighted_percentage(df, 'mcv_sampled')\n",
    "calculate_weighted_percentage(df, 'polio0_sampled')\n",
    "calculate_weighted_percentage(df, 'polio1_sampled')\n",
    "calculate_weighted_percentage(df, 'polio3_sampled')\n",
    "\n",
    "#calculate_weighted_percentage(df, 'yf_sampled')\n",
    "calculate_weighted_percentage(df, 'pcv1_sampled')\n",
    "calculate_weighted_percentage(df, 'pcv3_sampled')\n",
    "\n",
    "#calculate_weighted_percentage(df, 'ipv_sampled')"
   ]
  },
  {
   "cell_type": "code",
   "execution_count": 58,
   "metadata": {},
   "outputs": [
    {
     "name": "stdout",
     "output_type": "stream",
     "text": [
      "Weighted percentage of 'bcg' if 'AG2' is 1: 73.4\n",
      "Weighted percentage of 'polio1' if 'AG2' is 1: 72.5\n",
      "Weighted percentage of 'polio3' if 'AG2' is 1: 52.9\n",
      "Weighted percentage of 'penta1' if 'AG2' is 1: 68.2\n",
      "Weighted percentage of 'penta3' if 'AG2' is 1: 43.7\n",
      "Weighted percentage of 'pcv1' if 'AG2' is 1: 47.3\n",
      "Weighted percentage of 'pcv3' if 'AG2' is 1: 27.1\n",
      "Weighted percentage of 'measles' if 'AG2' is 1: 51.0\n"
     ]
    }
   ],
   "source": [
    "calculate_weighted_percentage(df, 'bcg')\n",
    "calculate_weighted_percentage(df, 'polio1')\n",
    "calculate_weighted_percentage(df, 'polio3')\n",
    "calculate_weighted_percentage(df, 'penta1')\n",
    "calculate_weighted_percentage(df, 'penta3')\n",
    "#calculate_weighted_percentage(df, 'yf_sampled')\n",
    "calculate_weighted_percentage(df, 'pcv1')\n",
    "calculate_weighted_percentage(df, 'pcv3')\n",
    "calculate_weighted_percentage(df, 'mcv')\n",
    "#calculate_weighted_percentage(df, 'ipv')"
   ]
  },
  {
   "cell_type": "code",
   "execution_count": 39,
   "metadata": {},
   "outputs": [],
   "source": [
    "# rename columns in dataframe\n",
    "df = df.rename(columns={'HL4': 'gender','HH6':'residence','division':'district','HH7':'region',})"
   ]
  },
  {
   "cell_type": "code",
   "execution_count": 41,
   "metadata": {},
   "outputs": [
    {
     "data": {
      "text/plain": [
       "{1.0: 'Larkana',\n",
       " 2.0: 'Sukkur',\n",
       " 3.0: 'Hyderabad',\n",
       " 4.0: 'Mirpur Khas',\n",
       " 5.0: 'Karachi'}"
      ]
     },
     "execution_count": 41,
     "metadata": {},
     "output_type": "execute_result"
    }
   ],
   "source": [
    "# Access variable labels\n",
    "variable_labels = meta.column_labels\n",
    "\n",
    "# Access value labels for a specific variable\n",
    "value_labels = meta.variable_value_labels.get(\"division\")\n",
    "value_labels"
   ]
  },
  {
   "cell_type": "code",
   "execution_count": 42,
   "metadata": {},
   "outputs": [],
   "source": [
    "district_mapping={1.0: 'Larkana',\n",
    " 2.0: 'Sukkur',\n",
    " 3.0: 'Hyderabad',\n",
    " 4.0: 'Mirpur Khas',\n",
    " 5.0: 'Karachi'}"
   ]
  },
  {
   "cell_type": "code",
   "execution_count": 59,
   "metadata": {},
   "outputs": [
    {
     "data": {
      "text/plain": [
       "residence\n",
       "2.0    10480\n",
       "1.0     7832\n",
       "Name: count, dtype: int64"
      ]
     },
     "execution_count": 59,
     "metadata": {},
     "output_type": "execute_result"
    }
   ],
   "source": [
    "df['residence'].value_counts()"
   ]
  },
  {
   "cell_type": "code",
   "execution_count": 43,
   "metadata": {},
   "outputs": [],
   "source": [
    "# List of Region\n",
    "region_mapping = {1.0: 'Kashmore',\n",
    " 2.0: 'Jacobabad',\n",
    " 3.0: 'Shahdad Kot',\n",
    " 4.0: 'Larkana',\n",
    " 5.0: 'Shikarpur',\n",
    " 6.0: 'Ghotki',\n",
    " 7.0: 'Sukkur',\n",
    " 8.0: 'Khairpur',\n",
    " 9.0: 'Naushahro Feroze',\n",
    " 10.0: 'Shaheed Benazirabad',\n",
    " 11.0: 'Dadu',\n",
    " 12.0: 'Jamshoro',\n",
    " 13.0: 'Hyderabad',\n",
    " 14.0: 'Matiari',\n",
    " 15.0: 'Tando Allahyar',\n",
    " 16.0: 'Tando Muhammad Khan',\n",
    " 17.0: 'Badin',\n",
    " 18.0: 'Sujawal',\n",
    " 19.0: 'Thatta',\n",
    " 20.0: 'Sanghar',\n",
    " 21.0: 'Mirpur Khas',\n",
    " 22.0: 'Umer Kot',\n",
    " 23.0: 'Tharparkar',\n",
    " 24.0: 'Karachi Malir',\n",
    " 25.0: 'Karachi East',\n",
    " 26.0: 'Karachi Central',\n",
    " 27.0: 'Karachi West',\n",
    " 28.0: 'Karachi South'}\n",
    "residence_mapping = {1.0: 'Urban', 2.0: 'Rural'}\n",
    "gender_mapping = {1.0: 'Male', 2.0: 'Female',9.0:np.nan}"
   ]
  },
  {
   "cell_type": "code",
   "execution_count": 44,
   "metadata": {},
   "outputs": [],
   "source": [
    "# Apply mappings to DataFrame columns\n",
    "df['gender'] = df['gender'].replace(gender_mapping)\n",
    "df['region'] = df['region'].replace(region_mapping)\n",
    "df['residence'] = df['residence'].replace(residence_mapping)\n",
    "df['district']=df['district'].replace(district_mapping)"
   ]
  },
  {
   "cell_type": "code",
   "execution_count": 52,
   "metadata": {},
   "outputs": [],
   "source": [
    "# List of vaccines\n",
    "vaccines = ['bcg_sampled','polio0_sampled','polio1_sampled','polio3_sampled','penta1_sampled','penta3_sampled','pcv1_sampled','pcv3_sampled','mcv_sampled']"
   ]
  },
  {
   "cell_type": "code",
   "execution_count": 53,
   "metadata": {},
   "outputs": [],
   "source": [
    "# List of vaccines\n",
    "vaccines1 = ['bcg','polio0','polio1','polio3','penta1','penta3','pcv1','pcv3','mcv']"
   ]
  },
  {
   "cell_type": "code",
   "execution_count": 47,
   "metadata": {},
   "outputs": [],
   "source": [
    "regions=['Kashmore','Jacobabad','Shahdad Kot','Larkana','Shikarpur','Ghotki','Sukkur','Khairpur','Naushahro Feroze',\n",
    "'Shaheed Benazirabad','Dadu','Jamshoro','Hyderabad','Matiari','Tando Allahyar','Tando Muhammad Khan',\n",
    "'Badin','Sujawal','Thatta','Sanghar','Mirpur Khas','Umer Kot','Tharparkar','Karachi Malir','Karachi East','Karachi Central',\n",
    "'Karachi West','Karachi South']"
   ]
  },
  {
   "cell_type": "code",
   "execution_count": 58,
   "metadata": {},
   "outputs": [],
   "source": [
    "districts=['Hyderabad','Karachi','Larkana','Mirpurkhas','Sukkur']"
   ]
  },
  {
   "cell_type": "code",
   "execution_count": 48,
   "metadata": {},
   "outputs": [],
   "source": [
    "# List of genders\n",
    "genders = ['Female','Male']"
   ]
  },
  {
   "cell_type": "code",
   "execution_count": 49,
   "metadata": {},
   "outputs": [],
   "source": [
    "residences=['Urban','Rural']"
   ]
  },
  {
   "cell_type": "code",
   "execution_count": 50,
   "metadata": {},
   "outputs": [
    {
     "data": {
      "text/plain": [
       "gender\n",
       "Male      9296\n",
       "Female    8812\n",
       "Name: count, dtype: int64"
      ]
     },
     "execution_count": 50,
     "metadata": {},
     "output_type": "execute_result"
    }
   ],
   "source": [
    "df['gender'].value_counts()"
   ]
  },
  {
   "cell_type": "code",
   "execution_count": 54,
   "metadata": {},
   "outputs": [
    {
     "data": {
      "text/html": [
       "<div>\n",
       "<style scoped>\n",
       "    .dataframe tbody tr th:only-of-type {\n",
       "        vertical-align: middle;\n",
       "    }\n",
       "\n",
       "    .dataframe tbody tr th {\n",
       "        vertical-align: top;\n",
       "    }\n",
       "\n",
       "    .dataframe thead th {\n",
       "        text-align: right;\n",
       "    }\n",
       "</style>\n",
       "<table border=\"1\" class=\"dataframe\">\n",
       "  <thead>\n",
       "    <tr style=\"text-align: right;\">\n",
       "      <th>gender</th>\n",
       "      <th>Female</th>\n",
       "      <th>Male</th>\n",
       "    </tr>\n",
       "    <tr>\n",
       "      <th>Vaccine</th>\n",
       "      <th></th>\n",
       "      <th></th>\n",
       "    </tr>\n",
       "  </thead>\n",
       "  <tbody>\n",
       "    <tr>\n",
       "      <th>bcg_sampled</th>\n",
       "      <td>73.4</td>\n",
       "      <td>75.5</td>\n",
       "    </tr>\n",
       "    <tr>\n",
       "      <th>mcv_sampled</th>\n",
       "      <td>52.9</td>\n",
       "      <td>53.0</td>\n",
       "    </tr>\n",
       "    <tr>\n",
       "      <th>pcv1_sampled</th>\n",
       "      <td>45.2</td>\n",
       "      <td>48.4</td>\n",
       "    </tr>\n",
       "    <tr>\n",
       "      <th>pcv3_sampled</th>\n",
       "      <td>27.5</td>\n",
       "      <td>30.0</td>\n",
       "    </tr>\n",
       "    <tr>\n",
       "      <th>penta1_sampled</th>\n",
       "      <td>69.5</td>\n",
       "      <td>73.2</td>\n",
       "    </tr>\n",
       "    <tr>\n",
       "      <th>penta3_sampled</th>\n",
       "      <td>47.7</td>\n",
       "      <td>50.7</td>\n",
       "    </tr>\n",
       "    <tr>\n",
       "      <th>polio0_sampled</th>\n",
       "      <td>70.7</td>\n",
       "      <td>72.8</td>\n",
       "    </tr>\n",
       "    <tr>\n",
       "      <th>polio1_sampled</th>\n",
       "      <td>73.5</td>\n",
       "      <td>74.7</td>\n",
       "    </tr>\n",
       "    <tr>\n",
       "      <th>polio3_sampled</th>\n",
       "      <td>55.3</td>\n",
       "      <td>56.3</td>\n",
       "    </tr>\n",
       "  </tbody>\n",
       "</table>\n",
       "</div>"
      ],
      "text/plain": [
       "gender          Female  Male\n",
       "Vaccine                     \n",
       "bcg_sampled       73.4  75.5\n",
       "mcv_sampled       52.9  53.0\n",
       "pcv1_sampled      45.2  48.4\n",
       "pcv3_sampled      27.5  30.0\n",
       "penta1_sampled    69.5  73.2\n",
       "penta3_sampled    47.7  50.7\n",
       "polio0_sampled    70.7  72.8\n",
       "polio1_sampled    73.5  74.7\n",
       "polio3_sampled    55.3  56.3"
      ]
     },
     "execution_count": 54,
     "metadata": {},
     "output_type": "execute_result"
    }
   ],
   "source": [
    "# Create an empty list to store the results\n",
    "results = []\n",
    "\n",
    "# Loop through each vaccine and child_gender\n",
    "for vaccine in vaccines:\n",
    "    for gender in genders:\n",
    "        coverage = calculate_vaccination_coverage_child_gender(df, gender, vaccine)\n",
    "        results.append({'Vaccine': vaccine, 'gender': gender, 'Coverage': coverage})\n",
    "\n",
    "# Convert the list of dictionaries into a DataFrame\n",
    "results_df = pd.DataFrame(results)\n",
    "#results_df['Coverage'] = results_df['Coverage'].round(2)\n",
    "# Display the results as a table\n",
    "pivot_table1 = results_df.pivot_table(index='Vaccine', columns='gender', values='Coverage')\n",
    "pivot_table1"
   ]
  },
  {
   "cell_type": "code",
   "execution_count": 55,
   "metadata": {},
   "outputs": [
    {
     "data": {
      "text/html": [
       "<div>\n",
       "<style scoped>\n",
       "    .dataframe tbody tr th:only-of-type {\n",
       "        vertical-align: middle;\n",
       "    }\n",
       "\n",
       "    .dataframe tbody tr th {\n",
       "        vertical-align: top;\n",
       "    }\n",
       "\n",
       "    .dataframe thead th {\n",
       "        text-align: right;\n",
       "    }\n",
       "</style>\n",
       "<table border=\"1\" class=\"dataframe\">\n",
       "  <thead>\n",
       "    <tr style=\"text-align: right;\">\n",
       "      <th>residence</th>\n",
       "      <th>Rural</th>\n",
       "      <th>Urban</th>\n",
       "    </tr>\n",
       "    <tr>\n",
       "      <th>Vaccine</th>\n",
       "      <th></th>\n",
       "      <th></th>\n",
       "    </tr>\n",
       "  </thead>\n",
       "  <tbody>\n",
       "    <tr>\n",
       "      <th>bcg</th>\n",
       "      <td>65.7</td>\n",
       "      <td>84.6</td>\n",
       "    </tr>\n",
       "    <tr>\n",
       "      <th>mcv</th>\n",
       "      <td>42.8</td>\n",
       "      <td>63.3</td>\n",
       "    </tr>\n",
       "    <tr>\n",
       "      <th>pcv1</th>\n",
       "      <td>42.2</td>\n",
       "      <td>55.1</td>\n",
       "    </tr>\n",
       "    <tr>\n",
       "      <th>pcv3</th>\n",
       "      <td>20.2</td>\n",
       "      <td>37.5</td>\n",
       "    </tr>\n",
       "    <tr>\n",
       "      <th>penta1</th>\n",
       "      <td>59.1</td>\n",
       "      <td>81.1</td>\n",
       "    </tr>\n",
       "    <tr>\n",
       "      <th>penta3</th>\n",
       "      <td>32.2</td>\n",
       "      <td>60.2</td>\n",
       "    </tr>\n",
       "    <tr>\n",
       "      <th>polio0</th>\n",
       "      <td>61.7</td>\n",
       "      <td>82.4</td>\n",
       "    </tr>\n",
       "    <tr>\n",
       "      <th>polio1</th>\n",
       "      <td>65.6</td>\n",
       "      <td>82.8</td>\n",
       "    </tr>\n",
       "    <tr>\n",
       "      <th>polio3</th>\n",
       "      <td>44.6</td>\n",
       "      <td>65.5</td>\n",
       "    </tr>\n",
       "  </tbody>\n",
       "</table>\n",
       "</div>"
      ],
      "text/plain": [
       "residence  Rural  Urban\n",
       "Vaccine                \n",
       "bcg         65.7   84.6\n",
       "mcv         42.8   63.3\n",
       "pcv1        42.2   55.1\n",
       "pcv3        20.2   37.5\n",
       "penta1      59.1   81.1\n",
       "penta3      32.2   60.2\n",
       "polio0      61.7   82.4\n",
       "polio1      65.6   82.8\n",
       "polio3      44.6   65.5"
      ]
     },
     "execution_count": 55,
     "metadata": {},
     "output_type": "execute_result"
    }
   ],
   "source": [
    "# Create an empty list to store the results\n",
    "results1 = []\n",
    "\n",
    "# Loop through each vaccine and child_residence\n",
    "for vaccine in vaccines1:\n",
    "    for residence in residences:\n",
    "        coverage = calculate_vaccination_coverage_child_residence(df, residence, vaccine)\n",
    "        results1.append({'Vaccine': vaccine, 'residence': residence, 'Coverage': coverage})\n",
    "\n",
    "# Convert the list of dictionaries into a DataFrame\n",
    "results1_df = pd.DataFrame(results1)\n",
    "#results_df['Coverage'] = results_df['Coverage'].round(2)\n",
    "# Display the results as a table\n",
    "pivot_table1 = results1_df.pivot_table(index='Vaccine', columns='residence', values='Coverage')\n",
    "pivot_table1"
   ]
  },
  {
   "cell_type": "code",
   "execution_count": 56,
   "metadata": {},
   "outputs": [
    {
     "data": {
      "text/html": [
       "<div>\n",
       "<style scoped>\n",
       "    .dataframe tbody tr th:only-of-type {\n",
       "        vertical-align: middle;\n",
       "    }\n",
       "\n",
       "    .dataframe tbody tr th {\n",
       "        vertical-align: top;\n",
       "    }\n",
       "\n",
       "    .dataframe thead th {\n",
       "        text-align: right;\n",
       "    }\n",
       "</style>\n",
       "<table border=\"1\" class=\"dataframe\">\n",
       "  <thead>\n",
       "    <tr style=\"text-align: right;\">\n",
       "      <th>region</th>\n",
       "      <th>Badin</th>\n",
       "      <th>Dadu</th>\n",
       "      <th>Ghotki</th>\n",
       "      <th>Hyderabad</th>\n",
       "      <th>Jacobabad</th>\n",
       "      <th>Jamshoro</th>\n",
       "      <th>Karachi Central</th>\n",
       "      <th>Karachi East</th>\n",
       "      <th>Karachi Malir</th>\n",
       "      <th>Karachi South</th>\n",
       "      <th>...</th>\n",
       "      <th>Shahdad Kot</th>\n",
       "      <th>Shaheed Benazirabad</th>\n",
       "      <th>Shikarpur</th>\n",
       "      <th>Sujawal</th>\n",
       "      <th>Sukkur</th>\n",
       "      <th>Tando Allahyar</th>\n",
       "      <th>Tando Muhammad Khan</th>\n",
       "      <th>Tharparkar</th>\n",
       "      <th>Thatta</th>\n",
       "      <th>Umer Kot</th>\n",
       "    </tr>\n",
       "    <tr>\n",
       "      <th>Vaccine</th>\n",
       "      <th></th>\n",
       "      <th></th>\n",
       "      <th></th>\n",
       "      <th></th>\n",
       "      <th></th>\n",
       "      <th></th>\n",
       "      <th></th>\n",
       "      <th></th>\n",
       "      <th></th>\n",
       "      <th></th>\n",
       "      <th></th>\n",
       "      <th></th>\n",
       "      <th></th>\n",
       "      <th></th>\n",
       "      <th></th>\n",
       "      <th></th>\n",
       "      <th></th>\n",
       "      <th></th>\n",
       "      <th></th>\n",
       "      <th></th>\n",
       "      <th></th>\n",
       "    </tr>\n",
       "  </thead>\n",
       "  <tbody>\n",
       "    <tr>\n",
       "      <th>bcg</th>\n",
       "      <td>68.9</td>\n",
       "      <td>62.7</td>\n",
       "      <td>67.4</td>\n",
       "      <td>79.0</td>\n",
       "      <td>64.5</td>\n",
       "      <td>76.8</td>\n",
       "      <td>85.7</td>\n",
       "      <td>88.0</td>\n",
       "      <td>80.2</td>\n",
       "      <td>88.6</td>\n",
       "      <td>...</td>\n",
       "      <td>58.0</td>\n",
       "      <td>79.1</td>\n",
       "      <td>66.9</td>\n",
       "      <td>56.9</td>\n",
       "      <td>66.7</td>\n",
       "      <td>86.3</td>\n",
       "      <td>81.2</td>\n",
       "      <td>72.5</td>\n",
       "      <td>85.1</td>\n",
       "      <td>77.3</td>\n",
       "    </tr>\n",
       "    <tr>\n",
       "      <th>mcv</th>\n",
       "      <td>55.7</td>\n",
       "      <td>44.0</td>\n",
       "      <td>44.1</td>\n",
       "      <td>59.0</td>\n",
       "      <td>38.1</td>\n",
       "      <td>60.3</td>\n",
       "      <td>73.9</td>\n",
       "      <td>72.0</td>\n",
       "      <td>59.6</td>\n",
       "      <td>69.6</td>\n",
       "      <td>...</td>\n",
       "      <td>26.9</td>\n",
       "      <td>45.5</td>\n",
       "      <td>37.4</td>\n",
       "      <td>54.4</td>\n",
       "      <td>31.5</td>\n",
       "      <td>66.0</td>\n",
       "      <td>59.5</td>\n",
       "      <td>70.5</td>\n",
       "      <td>52.1</td>\n",
       "      <td>61.4</td>\n",
       "    </tr>\n",
       "    <tr>\n",
       "      <th>pcv1</th>\n",
       "      <td>41.9</td>\n",
       "      <td>38.8</td>\n",
       "      <td>48.4</td>\n",
       "      <td>42.0</td>\n",
       "      <td>39.3</td>\n",
       "      <td>51.6</td>\n",
       "      <td>55.1</td>\n",
       "      <td>51.4</td>\n",
       "      <td>32.6</td>\n",
       "      <td>44.1</td>\n",
       "      <td>...</td>\n",
       "      <td>38.8</td>\n",
       "      <td>53.7</td>\n",
       "      <td>46.9</td>\n",
       "      <td>27.1</td>\n",
       "      <td>42.2</td>\n",
       "      <td>65.6</td>\n",
       "      <td>47.4</td>\n",
       "      <td>56.4</td>\n",
       "      <td>54.3</td>\n",
       "      <td>52.2</td>\n",
       "    </tr>\n",
       "    <tr>\n",
       "      <th>pcv3</th>\n",
       "      <td>21.9</td>\n",
       "      <td>19.4</td>\n",
       "      <td>21.0</td>\n",
       "      <td>30.0</td>\n",
       "      <td>21.4</td>\n",
       "      <td>38.7</td>\n",
       "      <td>46.4</td>\n",
       "      <td>43.2</td>\n",
       "      <td>22.5</td>\n",
       "      <td>38.2</td>\n",
       "      <td>...</td>\n",
       "      <td>27.2</td>\n",
       "      <td>26.2</td>\n",
       "      <td>33.6</td>\n",
       "      <td>11.2</td>\n",
       "      <td>21.6</td>\n",
       "      <td>38.7</td>\n",
       "      <td>19.7</td>\n",
       "      <td>25.6</td>\n",
       "      <td>21.4</td>\n",
       "      <td>19.1</td>\n",
       "    </tr>\n",
       "    <tr>\n",
       "      <th>penta1</th>\n",
       "      <td>62.9</td>\n",
       "      <td>51.1</td>\n",
       "      <td>60.5</td>\n",
       "      <td>75.8</td>\n",
       "      <td>46.2</td>\n",
       "      <td>83.9</td>\n",
       "      <td>95.2</td>\n",
       "      <td>94.2</td>\n",
       "      <td>79.1</td>\n",
       "      <td>92.1</td>\n",
       "      <td>...</td>\n",
       "      <td>62.2</td>\n",
       "      <td>74.5</td>\n",
       "      <td>49.5</td>\n",
       "      <td>52.8</td>\n",
       "      <td>60.5</td>\n",
       "      <td>82.8</td>\n",
       "      <td>71.1</td>\n",
       "      <td>68.9</td>\n",
       "      <td>78.3</td>\n",
       "      <td>63.2</td>\n",
       "    </tr>\n",
       "    <tr>\n",
       "      <th>penta3</th>\n",
       "      <td>34.3</td>\n",
       "      <td>29.8</td>\n",
       "      <td>33.1</td>\n",
       "      <td>58.6</td>\n",
       "      <td>24.4</td>\n",
       "      <td>69.6</td>\n",
       "      <td>85.5</td>\n",
       "      <td>84.1</td>\n",
       "      <td>62.8</td>\n",
       "      <td>79.4</td>\n",
       "      <td>...</td>\n",
       "      <td>45.7</td>\n",
       "      <td>41.1</td>\n",
       "      <td>35.5</td>\n",
       "      <td>32.1</td>\n",
       "      <td>36.0</td>\n",
       "      <td>53.8</td>\n",
       "      <td>35.5</td>\n",
       "      <td>36.5</td>\n",
       "      <td>39.1</td>\n",
       "      <td>27.2</td>\n",
       "    </tr>\n",
       "    <tr>\n",
       "      <th>polio0</th>\n",
       "      <td>64.2</td>\n",
       "      <td>60.4</td>\n",
       "      <td>65.1</td>\n",
       "      <td>75.2</td>\n",
       "      <td>64.2</td>\n",
       "      <td>72.7</td>\n",
       "      <td>83.1</td>\n",
       "      <td>88.0</td>\n",
       "      <td>78.9</td>\n",
       "      <td>85.7</td>\n",
       "      <td>...</td>\n",
       "      <td>56.0</td>\n",
       "      <td>70.1</td>\n",
       "      <td>61.4</td>\n",
       "      <td>48.7</td>\n",
       "      <td>69.0</td>\n",
       "      <td>83.2</td>\n",
       "      <td>70.0</td>\n",
       "      <td>69.2</td>\n",
       "      <td>82.4</td>\n",
       "      <td>77.3</td>\n",
       "    </tr>\n",
       "    <tr>\n",
       "      <th>polio1</th>\n",
       "      <td>72.6</td>\n",
       "      <td>63.1</td>\n",
       "      <td>65.1</td>\n",
       "      <td>78.1</td>\n",
       "      <td>60.0</td>\n",
       "      <td>78.5</td>\n",
       "      <td>85.7</td>\n",
       "      <td>89.2</td>\n",
       "      <td>80.0</td>\n",
       "      <td>87.0</td>\n",
       "      <td>...</td>\n",
       "      <td>56.1</td>\n",
       "      <td>68.9</td>\n",
       "      <td>63.6</td>\n",
       "      <td>57.0</td>\n",
       "      <td>68.8</td>\n",
       "      <td>89.4</td>\n",
       "      <td>78.2</td>\n",
       "      <td>80.0</td>\n",
       "      <td>78.4</td>\n",
       "      <td>82.1</td>\n",
       "    </tr>\n",
       "    <tr>\n",
       "      <th>polio3</th>\n",
       "      <td>45.3</td>\n",
       "      <td>43.6</td>\n",
       "      <td>31.0</td>\n",
       "      <td>60.0</td>\n",
       "      <td>39.1</td>\n",
       "      <td>63.1</td>\n",
       "      <td>80.0</td>\n",
       "      <td>78.4</td>\n",
       "      <td>61.1</td>\n",
       "      <td>76.8</td>\n",
       "      <td>...</td>\n",
       "      <td>43.9</td>\n",
       "      <td>52.7</td>\n",
       "      <td>45.5</td>\n",
       "      <td>38.6</td>\n",
       "      <td>42.4</td>\n",
       "      <td>76.6</td>\n",
       "      <td>44.9</td>\n",
       "      <td>61.2</td>\n",
       "      <td>52.7</td>\n",
       "      <td>58.6</td>\n",
       "    </tr>\n",
       "  </tbody>\n",
       "</table>\n",
       "<p>9 rows × 28 columns</p>\n",
       "</div>"
      ],
      "text/plain": [
       "region   Badin  Dadu  Ghotki  Hyderabad  Jacobabad  Jamshoro  Karachi Central  \\\n",
       "Vaccine                                                                         \n",
       "bcg       68.9  62.7    67.4       79.0       64.5      76.8             85.7   \n",
       "mcv       55.7  44.0    44.1       59.0       38.1      60.3             73.9   \n",
       "pcv1      41.9  38.8    48.4       42.0       39.3      51.6             55.1   \n",
       "pcv3      21.9  19.4    21.0       30.0       21.4      38.7             46.4   \n",
       "penta1    62.9  51.1    60.5       75.8       46.2      83.9             95.2   \n",
       "penta3    34.3  29.8    33.1       58.6       24.4      69.6             85.5   \n",
       "polio0    64.2  60.4    65.1       75.2       64.2      72.7             83.1   \n",
       "polio1    72.6  63.1    65.1       78.1       60.0      78.5             85.7   \n",
       "polio3    45.3  43.6    31.0       60.0       39.1      63.1             80.0   \n",
       "\n",
       "region   Karachi East  Karachi Malir  Karachi South  ...  Shahdad Kot  \\\n",
       "Vaccine                                              ...                \n",
       "bcg              88.0           80.2           88.6  ...         58.0   \n",
       "mcv              72.0           59.6           69.6  ...         26.9   \n",
       "pcv1             51.4           32.6           44.1  ...         38.8   \n",
       "pcv3             43.2           22.5           38.2  ...         27.2   \n",
       "penta1           94.2           79.1           92.1  ...         62.2   \n",
       "penta3           84.1           62.8           79.4  ...         45.7   \n",
       "polio0           88.0           78.9           85.7  ...         56.0   \n",
       "polio1           89.2           80.0           87.0  ...         56.1   \n",
       "polio3           78.4           61.1           76.8  ...         43.9   \n",
       "\n",
       "region   Shaheed Benazirabad  Shikarpur  Sujawal  Sukkur  Tando Allahyar  \\\n",
       "Vaccine                                                                    \n",
       "bcg                     79.1       66.9     56.9    66.7            86.3   \n",
       "mcv                     45.5       37.4     54.4    31.5            66.0   \n",
       "pcv1                    53.7       46.9     27.1    42.2            65.6   \n",
       "pcv3                    26.2       33.6     11.2    21.6            38.7   \n",
       "penta1                  74.5       49.5     52.8    60.5            82.8   \n",
       "penta3                  41.1       35.5     32.1    36.0            53.8   \n",
       "polio0                  70.1       61.4     48.7    69.0            83.2   \n",
       "polio1                  68.9       63.6     57.0    68.8            89.4   \n",
       "polio3                  52.7       45.5     38.6    42.4            76.6   \n",
       "\n",
       "region   Tando Muhammad Khan  Tharparkar  Thatta  Umer Kot  \n",
       "Vaccine                                                     \n",
       "bcg                     81.2        72.5    85.1      77.3  \n",
       "mcv                     59.5        70.5    52.1      61.4  \n",
       "pcv1                    47.4        56.4    54.3      52.2  \n",
       "pcv3                    19.7        25.6    21.4      19.1  \n",
       "penta1                  71.1        68.9    78.3      63.2  \n",
       "penta3                  35.5        36.5    39.1      27.2  \n",
       "polio0                  70.0        69.2    82.4      77.3  \n",
       "polio1                  78.2        80.0    78.4      82.1  \n",
       "polio3                  44.9        61.2    52.7      58.6  \n",
       "\n",
       "[9 rows x 28 columns]"
      ]
     },
     "execution_count": 56,
     "metadata": {},
     "output_type": "execute_result"
    }
   ],
   "source": [
    "# Create an empty list to store the results\n",
    "results2 = []\n",
    "\n",
    "# Loop through each vaccine and child_region\n",
    "for vaccine in vaccines1:\n",
    "    for region in regions:\n",
    "        coverage = calculate_vaccination_coverage_region(df, region, vaccine)\n",
    "        results2.append({'Vaccine': vaccine, 'region': region, 'Coverage': coverage})\n",
    "\n",
    "# Convert the list of dictionaries into a DataFrame\n",
    "results2_df = pd.DataFrame(results2)\n",
    "#results_df['Coverage'] = results_df['Coverage'].round(2)\n",
    "# Display the results as a table\n",
    "pivot_table2 = results2_df.pivot_table(index='Vaccine', columns='region', values='Coverage')\n",
    "pivot_table2\n",
    "#pivot_table2.to_excel('/path/to/directory/pivot_table2_sorted.xlsx')\n",
    "#pivot_table2.to_excel('Vaccinebyregion.xlsx', index=False)"
   ]
  },
  {
   "cell_type": "code",
   "execution_count": 59,
   "metadata": {},
   "outputs": [
    {
     "name": "stdout",
     "output_type": "stream",
     "text": [
      "No children found for the specified district: Mirpurkhas.\n",
      "No children found for the specified district: Mirpurkhas.\n",
      "No children found for the specified district: Mirpurkhas.\n",
      "No children found for the specified district: Mirpurkhas.\n",
      "No children found for the specified district: Mirpurkhas.\n",
      "No children found for the specified district: Mirpurkhas.\n",
      "No children found for the specified district: Mirpurkhas.\n",
      "No children found for the specified district: Mirpurkhas.\n",
      "No children found for the specified district: Mirpurkhas.\n"
     ]
    },
    {
     "data": {
      "text/html": [
       "<div>\n",
       "<style scoped>\n",
       "    .dataframe tbody tr th:only-of-type {\n",
       "        vertical-align: middle;\n",
       "    }\n",
       "\n",
       "    .dataframe tbody tr th {\n",
       "        vertical-align: top;\n",
       "    }\n",
       "\n",
       "    .dataframe thead th {\n",
       "        text-align: right;\n",
       "    }\n",
       "</style>\n",
       "<table border=\"1\" class=\"dataframe\">\n",
       "  <thead>\n",
       "    <tr style=\"text-align: right;\">\n",
       "      <th>district</th>\n",
       "      <th>Hyderabad</th>\n",
       "      <th>Karachi</th>\n",
       "      <th>Larkana</th>\n",
       "      <th>Mirpurkhas</th>\n",
       "      <th>Sukkur</th>\n",
       "    </tr>\n",
       "    <tr>\n",
       "      <th>Vaccine</th>\n",
       "      <th></th>\n",
       "      <th></th>\n",
       "      <th></th>\n",
       "      <th></th>\n",
       "      <th></th>\n",
       "    </tr>\n",
       "  </thead>\n",
       "  <tbody>\n",
       "    <tr>\n",
       "      <th>bcg</th>\n",
       "      <td>74.9</td>\n",
       "      <td>83.6</td>\n",
       "      <td>63.9</td>\n",
       "      <td>0.0</td>\n",
       "      <td>72.7</td>\n",
       "    </tr>\n",
       "    <tr>\n",
       "      <th>mcv</th>\n",
       "      <td>56.1</td>\n",
       "      <td>64.5</td>\n",
       "      <td>33.8</td>\n",
       "      <td>0.0</td>\n",
       "      <td>44.9</td>\n",
       "    </tr>\n",
       "    <tr>\n",
       "      <th>pcv1</th>\n",
       "      <td>46.4</td>\n",
       "      <td>44.1</td>\n",
       "      <td>40.4</td>\n",
       "      <td>0.0</td>\n",
       "      <td>51.1</td>\n",
       "    </tr>\n",
       "    <tr>\n",
       "      <th>pcv3</th>\n",
       "      <td>25.6</td>\n",
       "      <td>34.1</td>\n",
       "      <td>27.1</td>\n",
       "      <td>0.0</td>\n",
       "      <td>26.8</td>\n",
       "    </tr>\n",
       "    <tr>\n",
       "      <th>penta1</th>\n",
       "      <td>69.2</td>\n",
       "      <td>85.5</td>\n",
       "      <td>54.6</td>\n",
       "      <td>0.0</td>\n",
       "      <td>66.4</td>\n",
       "    </tr>\n",
       "    <tr>\n",
       "      <th>penta3</th>\n",
       "      <td>43.3</td>\n",
       "      <td>71.4</td>\n",
       "      <td>37.6</td>\n",
       "      <td>0.0</td>\n",
       "      <td>39.0</td>\n",
       "    </tr>\n",
       "    <tr>\n",
       "      <th>polio0</th>\n",
       "      <td>69.8</td>\n",
       "      <td>81.7</td>\n",
       "      <td>62.7</td>\n",
       "      <td>0.0</td>\n",
       "      <td>69.7</td>\n",
       "    </tr>\n",
       "    <tr>\n",
       "      <th>polio1</th>\n",
       "      <td>74.3</td>\n",
       "      <td>82.5</td>\n",
       "      <td>62.2</td>\n",
       "      <td>0.0</td>\n",
       "      <td>69.5</td>\n",
       "    </tr>\n",
       "    <tr>\n",
       "      <th>polio3</th>\n",
       "      <td>54.1</td>\n",
       "      <td>71.8</td>\n",
       "      <td>46.2</td>\n",
       "      <td>0.0</td>\n",
       "      <td>44.4</td>\n",
       "    </tr>\n",
       "  </tbody>\n",
       "</table>\n",
       "</div>"
      ],
      "text/plain": [
       "district  Hyderabad  Karachi  Larkana  Mirpurkhas  Sukkur\n",
       "Vaccine                                                  \n",
       "bcg            74.9     83.6     63.9         0.0    72.7\n",
       "mcv            56.1     64.5     33.8         0.0    44.9\n",
       "pcv1           46.4     44.1     40.4         0.0    51.1\n",
       "pcv3           25.6     34.1     27.1         0.0    26.8\n",
       "penta1         69.2     85.5     54.6         0.0    66.4\n",
       "penta3         43.3     71.4     37.6         0.0    39.0\n",
       "polio0         69.8     81.7     62.7         0.0    69.7\n",
       "polio1         74.3     82.5     62.2         0.0    69.5\n",
       "polio3         54.1     71.8     46.2         0.0    44.4"
      ]
     },
     "execution_count": 59,
     "metadata": {},
     "output_type": "execute_result"
    }
   ],
   "source": [
    "# Create an empty list to store the results\n",
    "results2 = []\n",
    "\n",
    "# Loop through each vaccine and child_district\n",
    "for vaccine in vaccines1:\n",
    "    for district in districts:\n",
    "        coverage = calculate_vaccination_coverage_district(df, district, vaccine)\n",
    "        results2.append({'Vaccine': vaccine, 'district': district, 'Coverage': coverage})\n",
    "\n",
    "# Convert the list of dictionaries into a DataFrame\n",
    "results2_df = pd.DataFrame(results2)\n",
    "results2_df\n",
    "# Display the results as a table\n",
    "pivot_table2 = results2_df.pivot_table(index='Vaccine', columns='district', values='Coverage')\n",
    "pivot_table2"
   ]
  },
  {
   "cell_type": "code",
   "execution_count": 60,
   "metadata": {},
   "outputs": [],
   "source": [
    "pivot_table2.to_clipboard(index=True, header=True)"
   ]
  },
  {
   "cell_type": "markdown",
   "metadata": {},
   "source": [
    "## Retention Rates"
   ]
  },
  {
   "cell_type": "code",
   "execution_count": 61,
   "metadata": {},
   "outputs": [],
   "source": [
    "def calculate_retention_rate(df, group_col, dose1_col, dose2_col):\n",
    "    \"\"\"\n",
    "    Calculate retention rate from dose2 to dose1 for each group.\n",
    "    \n",
    "    Parameters:\n",
    "    df (pandas.DataFrame): Input DataFrame containing vaccination data.\n",
    "    group_col (str): Column name for the grouping variable.\n",
    "    dose1_col (str): Column name representing the first dose.\n",
    "    dose2_col (str): Column name representing the second dose.\n",
    "    \n",
    "    Returns:\n",
    "    pandas.DataFrame: DataFrame with retention rates calculated and added as a new column.\n",
    "    \"\"\"\n",
    "    # Group by the specified column and aggregate sum of dose1 and dose2\n",
    "    df1 = df.groupby([group_col]).agg(\n",
    "        sum_dose1=(dose1_col, 'sum'),\n",
    "        sum_dose2=(dose2_col, 'sum')\n",
    "    ).reset_index()\n",
    "    \n",
    "    # Calculate retention rate\n",
    "    df1['retention_rate'] = ((1 - ((df1['sum_dose1'] - df1['sum_dose2']) / df1['sum_dose1'])) * 100)\n",
    "    pivot_table2 = df1.pivot_table(columns=group_col, values='retention_rate')\n",
    "    return pivot_table2\n",
    "  "
   ]
  },
  {
   "cell_type": "code",
   "execution_count": 62,
   "metadata": {},
   "outputs": [],
   "source": [
    " filtered_df = df[(df['AG2']==1)]"
   ]
  },
  {
   "cell_type": "code",
   "execution_count": 63,
   "metadata": {},
   "outputs": [],
   "source": [
    "# Call the calculate_retention_rate function\n",
    "result_df = calculate_retention_rate(filtered_df, 'district', 'penta1', 'penta3')\n",
    "\n",
    "# Copy the result to the clipboard\n",
    "result_df.to_clipboard(index=True, header=True)\n"
   ]
  },
  {
   "cell_type": "code",
   "execution_count": 64,
   "metadata": {},
   "outputs": [],
   "source": [
    "# Call the calculate_retention_rate function\n",
    "result_df = calculate_retention_rate(filtered_df, 'district', 'polio1', 'polio3')\n",
    "\n",
    "# Copy the result to the clipboard\n",
    "result_df.to_clipboard(index=True, header=True)\n"
   ]
  },
  {
   "cell_type": "code",
   "execution_count": 66,
   "metadata": {},
   "outputs": [
    {
     "data": {
      "text/html": [
       "<div>\n",
       "<style scoped>\n",
       "    .dataframe tbody tr th:only-of-type {\n",
       "        vertical-align: middle;\n",
       "    }\n",
       "\n",
       "    .dataframe tbody tr th {\n",
       "        vertical-align: top;\n",
       "    }\n",
       "\n",
       "    .dataframe thead th {\n",
       "        text-align: right;\n",
       "    }\n",
       "</style>\n",
       "<table border=\"1\" class=\"dataframe\">\n",
       "  <thead>\n",
       "    <tr style=\"text-align: right;\">\n",
       "      <th>residence</th>\n",
       "      <th>Rural</th>\n",
       "      <th>Urban</th>\n",
       "    </tr>\n",
       "  </thead>\n",
       "  <tbody>\n",
       "    <tr>\n",
       "      <th>retention_rate</th>\n",
       "      <td>51.98868</td>\n",
       "      <td>80.715707</td>\n",
       "    </tr>\n",
       "  </tbody>\n",
       "</table>\n",
       "</div>"
      ],
      "text/plain": [
       "residence          Rural      Urban\n",
       "retention_rate  51.98868  80.715707"
      ]
     },
     "execution_count": 66,
     "metadata": {},
     "output_type": "execute_result"
    }
   ],
   "source": [
    "calculate_retention_rate(filtered_df, 'residence', 'penta1_sampled', 'penta3_sampled')"
   ]
  },
  {
   "cell_type": "code",
   "execution_count": 112,
   "metadata": {},
   "outputs": [
    {
     "data": {
      "text/html": [
       "<div>\n",
       "<style scoped>\n",
       "    .dataframe tbody tr th:only-of-type {\n",
       "        vertical-align: middle;\n",
       "    }\n",
       "\n",
       "    .dataframe tbody tr th {\n",
       "        vertical-align: top;\n",
       "    }\n",
       "\n",
       "    .dataframe thead th {\n",
       "        text-align: right;\n",
       "    }\n",
       "</style>\n",
       "<table border=\"1\" class=\"dataframe\">\n",
       "  <thead>\n",
       "    <tr style=\"text-align: right;\">\n",
       "      <th>residence</th>\n",
       "      <th>Rural</th>\n",
       "      <th>Urban</th>\n",
       "    </tr>\n",
       "  </thead>\n",
       "  <tbody>\n",
       "    <tr>\n",
       "      <th>retention_rate</th>\n",
       "      <td>65.151758</td>\n",
       "      <td>83.483976</td>\n",
       "    </tr>\n",
       "  </tbody>\n",
       "</table>\n",
       "</div>"
      ],
      "text/plain": [
       "residence           Rural      Urban\n",
       "retention_rate  65.151758  83.483976"
      ]
     },
     "execution_count": 112,
     "metadata": {},
     "output_type": "execute_result"
    }
   ],
   "source": [
    "# Call the calculate_retention_rate function\n",
    "calculate_retention_rate(filtered_df, 'residence', 'polio1_sampled', 'polio3_sampled')"
   ]
  },
  {
   "cell_type": "code",
   "execution_count": 113,
   "metadata": {},
   "outputs": [
    {
     "data": {
      "text/html": [
       "<div>\n",
       "<style scoped>\n",
       "    .dataframe tbody tr th:only-of-type {\n",
       "        vertical-align: middle;\n",
       "    }\n",
       "\n",
       "    .dataframe tbody tr th {\n",
       "        vertical-align: top;\n",
       "    }\n",
       "\n",
       "    .dataframe thead th {\n",
       "        text-align: right;\n",
       "    }\n",
       "</style>\n",
       "<table border=\"1\" class=\"dataframe\">\n",
       "  <thead>\n",
       "    <tr style=\"text-align: right;\">\n",
       "      <th>gender</th>\n",
       "      <th>Female</th>\n",
       "      <th>Male</th>\n",
       "    </tr>\n",
       "  </thead>\n",
       "  <tbody>\n",
       "    <tr>\n",
       "      <th>retention_rate</th>\n",
       "      <td>68.315732</td>\n",
       "      <td>69.007448</td>\n",
       "    </tr>\n",
       "  </tbody>\n",
       "</table>\n",
       "</div>"
      ],
      "text/plain": [
       "gender             Female       Male\n",
       "retention_rate  68.315732  69.007448"
      ]
     },
     "execution_count": 113,
     "metadata": {},
     "output_type": "execute_result"
    }
   ],
   "source": [
    "calculate_retention_rate(filtered_df, 'gender', 'penta1_sampled', 'penta3_sampled')"
   ]
  },
  {
   "cell_type": "code",
   "execution_count": 114,
   "metadata": {},
   "outputs": [
    {
     "data": {
      "text/html": [
       "<div>\n",
       "<style scoped>\n",
       "    .dataframe tbody tr th:only-of-type {\n",
       "        vertical-align: middle;\n",
       "    }\n",
       "\n",
       "    .dataframe tbody tr th {\n",
       "        vertical-align: top;\n",
       "    }\n",
       "\n",
       "    .dataframe thead th {\n",
       "        text-align: right;\n",
       "    }\n",
       "</style>\n",
       "<table border=\"1\" class=\"dataframe\">\n",
       "  <thead>\n",
       "    <tr style=\"text-align: right;\">\n",
       "      <th>gender</th>\n",
       "      <th>Female</th>\n",
       "      <th>Male</th>\n",
       "    </tr>\n",
       "  </thead>\n",
       "  <tbody>\n",
       "    <tr>\n",
       "      <th>retention_rate</th>\n",
       "      <td>75.192819</td>\n",
       "      <td>75.194392</td>\n",
       "    </tr>\n",
       "  </tbody>\n",
       "</table>\n",
       "</div>"
      ],
      "text/plain": [
       "gender             Female       Male\n",
       "retention_rate  75.192819  75.194392"
      ]
     },
     "execution_count": 114,
     "metadata": {},
     "output_type": "execute_result"
    }
   ],
   "source": [
    "calculate_retention_rate(filtered_df, 'gender', 'polio1_sampled', 'polio3_sampled')"
   ]
  },
  {
   "cell_type": "code",
   "execution_count": null,
   "metadata": {},
   "outputs": [],
   "source": [
    "calculate_retention_rate(filtered_df, 'polio1', 'polio3')"
   ]
  },
  {
   "cell_type": "markdown",
   "metadata": {},
   "source": [
    "## National retention rate"
   ]
  },
  {
   "cell_type": "code",
   "execution_count": 67,
   "metadata": {},
   "outputs": [
    {
     "data": {
      "text/plain": [
       "64.23948220064725"
      ]
     },
     "execution_count": 67,
     "metadata": {},
     "output_type": "execute_result"
    }
   ],
   "source": [
    "penta_retention_rate = ((1 - ((filtered_df['penta1'].sum() - filtered_df['penta3'].sum()) / filtered_df['penta1'].sum())) * 100)\n",
    "penta_retention_rate"
   ]
  },
  {
   "cell_type": "code",
   "execution_count": 68,
   "metadata": {},
   "outputs": [
    {
     "data": {
      "text/plain": [
       "73.14730100640439"
      ]
     },
     "execution_count": 68,
     "metadata": {},
     "output_type": "execute_result"
    }
   ],
   "source": [
    "polio_retention_rate = ((1 - ((filtered_df['polio1'].sum() - filtered_df['polio3'].sum()) / filtered_df['polio1'].sum())) * 100)\n",
    "polio_retention_rate"
   ]
  },
  {
   "cell_type": "markdown",
   "metadata": {},
   "source": [
    "## Fully vaccinated"
   ]
  },
  {
   "cell_type": "code",
   "execution_count": 69,
   "metadata": {},
   "outputs": [],
   "source": [
    "# Filter out rows with null values in relevant columns\n",
    "filtered_df = filtered_df.dropna(subset=['bcg', 'polio3', 'mcv', 'penta3','polio1','penta1'])"
   ]
  },
  {
   "cell_type": "code",
   "execution_count": 70,
   "metadata": {},
   "outputs": [
    {
     "data": {
      "text/plain": [
       "33.57196684250188"
      ]
     },
     "execution_count": 70,
     "metadata": {},
     "output_type": "execute_result"
    }
   ],
   "source": [
    "# Calculate the number of fully vaccinated kids\n",
    "fully_vaccinated = filtered_df[(filtered_df['bcg']==1) & (filtered_df['polio3']==1) & (filtered_df['mcv']==1) & (filtered_df['penta3']==1)]\n",
    "num_fully_vaccinated = len(fully_vaccinated)\n",
    "\n",
    "# Calculate the total number of kids\n",
    "total_kids = len(filtered_df)\n",
    "\n",
    "# Calculate the percentage of fully vaccinated kids\n",
    "percentage_fully_vaccinated = (num_fully_vaccinated / total_kids) * 100\n",
    "percentage_fully_vaccinated"
   ]
  },
  {
   "cell_type": "markdown",
   "metadata": {},
   "source": [
    "##  Zero dose childern Penta1"
   ]
  },
  {
   "cell_type": "code",
   "execution_count": null,
   "metadata": {},
   "outputs": [],
   "source": [
    "def calculate_zero_dose_proportion(df, vaccine_column):\n",
    "    # Count the number of children who never received the Penta vaccination\n",
    "    zero_dose_children = df[df[vaccine_column] == 0][vaccine_column].count()\n",
    "\n",
    "    # Count the total number of children in the dataset\n",
    "    total_children = df['penta1'].count()\n",
    "\n",
    "    # Calculate the proportion of zero dose children\n",
    "    proportion_zero_dose = (zero_dose_children / total_children) * 100\n",
    "\n",
    "    return proportion_zero_dose"
   ]
  },
  {
   "cell_type": "code",
   "execution_count": null,
   "metadata": {},
   "outputs": [],
   "source": [
    "zero_dose_proportion = calculate_zero_dose_proportion(filtered_df, 'penta1')\n",
    "print(f\"Proportion of zero dose children: {zero_dose_proportion:.2f}%\")\n"
   ]
  },
  {
   "cell_type": "code",
   "execution_count": null,
   "metadata": {},
   "outputs": [],
   "source": [
    "def calculate_zero_dose_percentage_by_group(df, vaccine_column, group_column):\n",
    "    # Group the DataFrame by group and count the total number of children in each group\n",
    "    total_children_by_group = df.groupby(group_column).size()\n",
    "\n",
    "    # Group the DataFrame by group and count the number of zero-dose children in each group\n",
    "    zero_dose_children_by_group = df[df[vaccine_column] == 0].groupby(group_column).size()\n",
    "\n",
    "    # Calculate the percentage of zero-dose children for each group\n",
    "    zero_dose_percentage_by_group = round((zero_dose_children_by_group / total_children_by_group) * 100,1)\n",
    "\n",
    "    return zero_dose_percentage_by_group"
   ]
  },
  {
   "cell_type": "code",
   "execution_count": null,
   "metadata": {},
   "outputs": [],
   "source": [
    "zero_dose_percentage_by_group = calculate_zero_dose_percentage_by_group(df, 'penta1', 'district')\n",
    "\n",
    "print(zero_dose_percentage_by_group)"
   ]
  },
  {
   "cell_type": "code",
   "execution_count": null,
   "metadata": {},
   "outputs": [],
   "source": [
    "zero_dose_percentage_by_group = calculate_zero_dose_percentage_by_group(df, 'penta1', 'residence')\n",
    "\n",
    "print(zero_dose_percentage_by_group)"
   ]
  },
  {
   "cell_type": "code",
   "execution_count": null,
   "metadata": {},
   "outputs": [],
   "source": [
    "zero_dose_percentage_by_group = calculate_zero_dose_percentage_by_group(df, 'penta1', 'gender')\n",
    "\n",
    "print(zero_dose_percentage_by_group)"
   ]
  },
  {
   "cell_type": "markdown",
   "metadata": {},
   "source": [
    "## Zero Dose Childern Non-vaccinated at all"
   ]
  },
  {
   "cell_type": "code",
   "execution_count": 71,
   "metadata": {},
   "outputs": [
    {
     "data": {
      "text/plain": [
       "21.4016578749058"
      ]
     },
     "execution_count": 71,
     "metadata": {},
     "output_type": "execute_result"
    }
   ],
   "source": [
    "# Calculate the number of no vaccinated kids\n",
    "no_vaccinated = filtered_df[(filtered_df['bcg']==0) & (filtered_df['polio1']==0) & (filtered_df['mcv']==0) & (filtered_df['penta1']==0)]\n",
    "num_no_vaccinated = len(no_vaccinated)\n",
    "\n",
    "# Calculate the total number of kids\n",
    "total_kids =len(filtered_df)\n",
    "\n",
    "\n",
    "# Calculate the percentage of no vaccinated kids\n",
    "percentage_no_vaccinated = (num_no_vaccinated / total_kids) * 100\n",
    "percentage_no_vaccinated"
   ]
  },
  {
   "cell_type": "code",
   "execution_count": null,
   "metadata": {},
   "outputs": [],
   "source": []
  }
 ],
 "metadata": {
  "kernelspec": {
   "display_name": "Python 3",
   "language": "python",
   "name": "python3"
  },
  "language_info": {
   "codemirror_mode": {
    "name": "ipython",
    "version": 3
   },
   "file_extension": ".py",
   "mimetype": "text/x-python",
   "name": "python",
   "nbconvert_exporter": "python",
   "pygments_lexer": "ipython3",
   "version": "3.8.5"
  }
 },
 "nbformat": 4,
 "nbformat_minor": 4
}
