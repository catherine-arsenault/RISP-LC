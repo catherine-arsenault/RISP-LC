{
 "cells": [
  {
   "cell_type": "markdown",
   "metadata": {},
   "source": [
    "# Pakistan Khyber Pakhtunkhwa MICS 2016-17"
   ]
  },
  {
   "cell_type": "code",
   "execution_count": 70,
   "metadata": {},
   "outputs": [],
   "source": [
    "import pyreadstat\n",
    "import warnings\n",
    "warnings.filterwarnings(\"ignore\")\n",
    "from googletrans import Translator\n",
    "from googletrans import Translator\n",
    "import pandas as pd\n",
    "import numpy as np"
   ]
  },
  {
   "cell_type": "code",
   "execution_count": 226,
   "metadata": {},
   "outputs": [],
   "source": [
    "def calculate_vaccination_percentage(df, column_name):\n",
    "    filtered_df = df[df['AG2'] == 1]\n",
    "    weighted_percentage = round(filtered_df[column_name].mean() * 100,1)\n",
    "    print(\"Weighted percentage of '{}' if 'AG2' is 1: {}\".format(column_name, weighted_percentage))"
   ]
  },
  {
   "cell_type": "code",
   "execution_count": 72,
   "metadata": {},
   "outputs": [],
   "source": [
    "# Function to calculate vaccination coverage for each child_residence between specific age group\n",
    "def calculate_vaccination_coverage_child_residence(df, residence, vaccine_column):\n",
    "    filtered_df = df[(df['AG2']==1) & (df['residence']== residence)]\n",
    "\n",
    "    # Calculate the percentage of children vaccinated with the specified vaccine\n",
    "    # Count non-null values in the vaccine_column\n",
    "    weighted_percentage = round(filtered_df[vaccine_column].mean() * 100,1)\n",
    "    #print(\"Weighted percentage of '{}' if 'AG2' is 1: {}\".format(vaccine_column, weighted_percentage))                  \n",
    "    return weighted_percentage\n"
   ]
  },
  {
   "cell_type": "code",
   "execution_count": 73,
   "metadata": {},
   "outputs": [],
   "source": [
    "# Function to calculate vaccination coverage for each region between specific age group\n",
    "def calculate_vaccination_coverage_region(df, region, vaccine_column):\n",
    "    # Filter rows where child_age is between min_age and max_age and region matches\n",
    "    filtered_df = df[(df['AG2']==1) & (df['region'] == region)]\n",
    "\n",
    "    # Calculate the percentage of children vaccinated with the specified vaccine\n",
    "    total_children = filtered_df[vaccine_column].count()  # Count non-null values in the vaccine_column\n",
    "    if total_children == 0:\n",
    "        print(\"No children found for the specified age range and region: {}.\".format(region))\n",
    "        return 0\n",
    "    percentage_vaccinated = round(filtered_df[vaccine_column].mean() * 100,1)\n",
    "    #print(\"{} Vaccination Coverage for children in {} between {} to {} months using dataset: {:.2f}%\".format(vaccine_column, region, min_age, max_age, percentage_vaccinated))\n",
    "    return percentage_vaccinated"
   ]
  },
  {
   "cell_type": "code",
   "execution_count": 177,
   "metadata": {},
   "outputs": [],
   "source": [
    "def calculate_vaccination_coverage_district(df, district, vaccine_column):\n",
    "    # Filter rows where district matches\n",
    "    filtered_df = df[(df['AG2']==1) & (df['district'] == district)]\n",
    "    total_children = filtered_df[vaccine_column].count()  # Count non-null values in the vaccine_column\n",
    "    if total_children == 0:\n",
    "        print(\"No children found for the specified district: {}.\".format(district))\n",
    "        return 0\n",
    "    percentage_vaccinated = round(filtered_df[vaccine_column].mean() * 100, 1)\n",
    "    return percentage_vaccinated"
   ]
  },
  {
   "cell_type": "code",
   "execution_count": 74,
   "metadata": {},
   "outputs": [],
   "source": [
    "# Function to calculate vaccination coverage for each child_gender between specific age group\n",
    "def calculate_vaccination_coverage_child_gender(df, gender, vaccine_column):\n",
    "    filtered_df = df[(df['AG2']==1) & (df['gender']== gender)]\n",
    "\n",
    "    # Calculate the percentage of children vaccinated with the specified vaccine\n",
    "    # Count non-null values in the vaccine_column\n",
    "    weighted_percentage = round(filtered_df[vaccine_column].mean() * 100,1)\n",
    "    #print(\"Weighted percentage of '{}' if 'AG2' is 1: {}\".format(vaccine_column, weighted_percentage))                  \n",
    "    return weighted_percentage\n"
   ]
  },
  {
   "cell_type": "markdown",
   "metadata": {},
   "source": [
    "# Reading the dataframe"
   ]
  },
  {
   "cell_type": "code",
   "execution_count": 75,
   "metadata": {},
   "outputs": [],
   "source": [
    "df, meta = pyreadstat.read_sav(\"C:/Users/swalke/Desktop/RISP/PAK Khyber 2016-17.sav\")"
   ]
  },
  {
   "cell_type": "code",
   "execution_count": 76,
   "metadata": {},
   "outputs": [],
   "source": [
    "# Access variable labels\n",
    "variable_labels = meta.column_labels\n",
    "\n",
    "# Access value labels for a specific variable\n",
    "value_labels = meta.variable_value_labels.get(\"AG2\")\n",
    "value_labels"
   ]
  },
  {
   "cell_type": "code",
   "execution_count": 77,
   "metadata": {},
   "outputs": [
    {
     "data": {
      "text/plain": [
       "AG2\n",
       "3.0    4523\n",
       "0.0    4461\n",
       "2.0    4064\n",
       "1.0    4015\n",
       "4.0    3863\n",
       "Name: count, dtype: int64"
      ]
     },
     "execution_count": 77,
     "metadata": {},
     "output_type": "execute_result"
    }
   ],
   "source": [
    "df['AG2'].value_counts()"
   ]
  },
  {
   "cell_type": "code",
   "execution_count": 78,
   "metadata": {},
   "outputs": [
    {
     "data": {
      "text/plain": [
       "{0.0: 'Not given',\n",
       " 44.0: 'Marked on card',\n",
       " 66.0: 'Mother reported',\n",
       " 97.0: 'Inconsistent',\n",
       " 98.0: 'DK',\n",
       " 99.0: 'Missing'}"
      ]
     },
     "execution_count": 78,
     "metadata": {},
     "output_type": "execute_result"
    }
   ],
   "source": [
    "# Access variable labels\n",
    "variable_labels = meta.column_labels\n",
    "\n",
    "# Access value labels for a specific variable\n",
    "value_labels = meta.variable_value_labels.get(\"IM3BD\")\n",
    "value_labels"
   ]
  },
  {
   "cell_type": "code",
   "execution_count": 79,
   "metadata": {},
   "outputs": [
    {
     "data": {
      "text/plain": [
       "IM3BY\n",
       "2016.0    2385\n",
       "2015.0    1470\n",
       "2014.0     688\n",
       "2017.0     432\n",
       "0.0         32\n",
       "9997.0      21\n",
       "4444.0      15\n",
       "6666.0       2\n",
       "Name: count, dtype: int64"
      ]
     },
     "execution_count": 79,
     "metadata": {},
     "output_type": "execute_result"
    }
   ],
   "source": [
    "df['IM3BY'].value_counts()"
   ]
  },
  {
   "cell_type": "code",
   "execution_count": 80,
   "metadata": {},
   "outputs": [],
   "source": [
    "# Define mapping variables\n",
    "day_mapping = {range(1, 67): True, 97.0:1, 99.0: np.nan, 0.0:False,98:np.nan, 9997.0:np.nan}\n",
    "month_mapping ={range(1, 67): True, 97.0: 1, 99.0: np.nan, 0.0:False, 98:np.nan, 9997.0:np.nan}\n",
    "year_mapping = {2014:True, 2015:True, 2016:True, 2017:True, 2018:True, 2019:True, 4444:True, 6666:True, 9999:np.nan, 9997.0:1, 9998.0:np.nan}"
   ]
  },
  {
   "cell_type": "code",
   "execution_count": 81,
   "metadata": {},
   "outputs": [],
   "source": [
    "df['card'] = df['IM2'].replace({1:True, 2:False, 3:False, 4:False, 9:np.nan})"
   ]
  },
  {
   "cell_type": "code",
   "execution_count": 82,
   "metadata": {},
   "outputs": [],
   "source": [
    "df['recall'] = df['IM6'].replace({1:True, 2: False, 8: np.nan, 9: np.nan})"
   ]
  },
  {
   "cell_type": "code",
   "execution_count": 83,
   "metadata": {},
   "outputs": [],
   "source": [
    "df['bcgday'] = df['IM3BD'].replace(day_mapping)\n",
    "df['bcgmonth'] = df['IM3BM'].replace(month_mapping)\n",
    "df['bcgyr'] = df['IM3BY'].replace(year_mapping)\n",
    "\n",
    "\n",
    "df['polio0day'] = df['IM3P0D'].replace(day_mapping)\n",
    "df['polio0month'] = df['IM3P0M'].replace(month_mapping)\n",
    "df['polio0yr'] = df['IM3P0Y'].replace(year_mapping)\n",
    "\n",
    "\n",
    "df['polio1day'] = df['IM3P1D'].replace(day_mapping)\n",
    "df['polio1month'] = df['IM3P1M'].replace(month_mapping)\n",
    "df['polio1yr'] = df['IM3P1Y'].replace(year_mapping)\n",
    "\n",
    "df['polio2day'] = df['IM3P2D'].replace(day_mapping)\n",
    "df['polio2month'] = df['IM3P2M'].replace(month_mapping)\n",
    "df['polio2yr'] = df['IM3P2Y'].replace(year_mapping)\n",
    "\n",
    "\n",
    "df['polio3day'] = df['IM3P3D'].replace(day_mapping)\n",
    "df['polio3month'] = df['IM3P3M'].replace(month_mapping)\n",
    "df['polio3yr'] = df['IM3P3Y'].replace(year_mapping)\n",
    "\n",
    "\n",
    "#df['ipvday'] = df['IM3ID'].replace(day_mapping)\n",
    "#df['ipvmonth'] = df['IM3IM'].replace(month_mapping)\n",
    "#df['ipvyr'] = df['IM3IY'].replace(year_mapping)\n",
    "\n",
    "\n",
    "df['penta1day'] = df['IM3T1D'].replace(day_mapping)\n",
    "df['penta1month'] = df['IM3T1M'].replace(month_mapping)\n",
    "df['penta1yr'] = df['IM3T1Y'].replace(year_mapping)\n",
    "\n",
    "\n",
    "df['penta2day'] = df['IM3T2D'].replace(day_mapping)\n",
    "df['penta2month'] = df['IM3T2M'].replace(month_mapping)\n",
    "df['penta2yr'] = df['IM3T2Y'].replace(year_mapping)\n",
    "\n",
    "\n",
    "df['penta3day'] = df['IM3T3D'].replace(day_mapping)\n",
    "df['penta3month'] = df['IM3T3M'].replace(month_mapping)\n",
    "df['penta3yr'] = df['IM3T3Y'].replace(year_mapping)\n",
    "\n",
    "df['mcv1day'] = df['IM3M1D'].replace(day_mapping)\n",
    "df['mcv1month'] = df['IM3M1M'].replace(month_mapping)\n",
    "df['mcv1yr'] = df['IM3M1Y'].replace(year_mapping)\n",
    "\n",
    "df['mcv2day'] = df['IM3M2D'].replace(day_mapping)\n",
    "df['mcv2month'] = df['IM3M2M'].replace(month_mapping)\n",
    "df['mcv2yr'] = df['IM3M2Y'].replace(year_mapping)\n",
    "\n",
    "#df['yfday'] = df['IM3YD'].replace(day_mapping)\n",
    "#df['yfmonth'] = df['IM3YM'].replace(month_mapping)\n",
    "#df['yfyr'] = df['IM3YY'].replace(year_mapping)\n",
    "\n",
    "#df['pcv1day'] = df['IM3PCV1D'].replace(day_mapping)\n",
    "#df['pcv1month'] = df['IM3PCV1M'].replace(month_mapping)\n",
    "#df['pcv1yr'] = df['IM3PCV1Y'].replace(year_mapping)\n",
    "\n",
    "#df['pcv2day'] = df['IM3PCV2D'].replace(day_mapping)\n",
    "#df['pcv2month'] = df['IM3PCV2M'].replace(month_mapping)\n",
    "#df['pcv2yr'] = df['IM3PCV2Y'].replace(year_mapping)\n",
    "\n",
    "#df['pcv3day'] = df['IM3PCV3D'].replace(day_mapping)\n",
    "#df['pcv3month'] = df['IM3PCV3M'].replace(month_mapping)\n",
    "#df['pcv3yr'] = df['IM3PCV3Y'].replace(year_mapping)"
   ]
  },
  {
   "cell_type": "code",
   "execution_count": 84,
   "metadata": {},
   "outputs": [
    {
     "data": {
      "text/plain": [
       "{1.0: 'Yes', 2.0: 'No', 8.0: 'DK', 9.0: 'Missing'}"
      ]
     },
     "execution_count": 84,
     "metadata": {},
     "output_type": "execute_result"
    }
   ],
   "source": [
    "# Access variable labels\n",
    "variable_labels = meta.column_labels\n",
    "\n",
    "# Access value labels for a specific variable\n",
    "value_labels = meta.variable_value_labels.get(\"IM7\")\n",
    "value_labels"
   ]
  },
  {
   "cell_type": "markdown",
   "metadata": {},
   "source": [
    "# BCG"
   ]
  },
  {
   "cell_type": "code",
   "execution_count": 85,
   "metadata": {},
   "outputs": [],
   "source": [
    "df['bcg_card'] = df[['bcgday', 'bcgmonth','bcgyr']].max(axis=1)\n",
    "df.loc[df['card'] == 0, 'bcg_card'] = 0\n",
    "\n",
    "df['bcg_recall'] = df['IM7'].replace({1: True, 2: False ,8: np.nan, 9: np.nan})\n",
    "df.loc[df['recall'] == 0, 'bcg_recall'] = 0\n",
    "\n",
    "df['bcg'] = df[['bcg_card', 'bcg_recall']].max(axis=1)\n",
    "df['bcg_sampled']=df['bcg']*df['chweight']"
   ]
  },
  {
   "cell_type": "code",
   "execution_count": 86,
   "metadata": {},
   "outputs": [
    {
     "name": "stdout",
     "output_type": "stream",
     "text": [
      "Weighted percentage of 'bcg_sampled' if 'AG2' is 1: 73.3\n"
     ]
    }
   ],
   "source": [
    "calculate_weighted_percentage(df, 'bcg_sampled')"
   ]
  },
  {
   "cell_type": "code",
   "execution_count": 87,
   "metadata": {},
   "outputs": [
    {
     "name": "stdout",
     "output_type": "stream",
     "text": [
      "Weighted percentage of 'bcg_card' if 'AG2' is 1: 61.4\n"
     ]
    }
   ],
   "source": [
    "calculate_weighted_percentage(df, 'bcg_card')"
   ]
  },
  {
   "cell_type": "code",
   "execution_count": 88,
   "metadata": {},
   "outputs": [
    {
     "name": "stdout",
     "output_type": "stream",
     "text": [
      "Weighted percentage of 'bcg_recall' if 'AG2' is 1: 44.3\n"
     ]
    }
   ],
   "source": [
    "calculate_weighted_percentage(df, 'bcg_recall')"
   ]
  },
  {
   "cell_type": "markdown",
   "metadata": {},
   "source": [
    "# Polio"
   ]
  },
  {
   "cell_type": "code",
   "execution_count": 89,
   "metadata": {},
   "outputs": [
    {
     "data": {
      "text/plain": [
       "{9.0: 'Missing'}"
      ]
     },
     "execution_count": 89,
     "metadata": {},
     "output_type": "execute_result"
    }
   ],
   "source": [
    "# Access variable labels\n",
    "variable_labels = meta.column_labels\n",
    "\n",
    "# Access value labels for a specific variable\n",
    "value_labels = meta.variable_value_labels.get(\"IM10\")\n",
    "value_labels"
   ]
  },
  {
   "cell_type": "code",
   "execution_count": 90,
   "metadata": {},
   "outputs": [
    {
     "data": {
      "text/plain": [
       "IM10\n",
       "1.0    1400\n",
       "2.0     959\n",
       "7.0     926\n",
       "3.0     311\n",
       "4.0     280\n",
       "9.0     280\n",
       "6.0     180\n",
       "5.0     174\n",
       "Name: count, dtype: int64"
      ]
     },
     "execution_count": 90,
     "metadata": {},
     "output_type": "execute_result"
    }
   ],
   "source": [
    "df['IM10'].value_counts()"
   ]
  },
  {
   "cell_type": "code",
   "execution_count": 91,
   "metadata": {},
   "outputs": [],
   "source": [
    "#polio0\n",
    "df['polio0_card'] = df[['polio0day', 'polio0month','polio0yr']].max(axis=1)\n",
    "df.loc[df['card'] == False, 'polio0_card'] = False\n",
    "\n",
    "df['polio0_recall1'] = df['IM9'].replace({1: 1, 2: 0, 3: 0, 4: 0, 5: 0, 6: 0, 7: 0, 8: np.nan, 9: np.nan})\n",
    "df.loc[df['recall'] == False, 'polio0_recall1'] = False\n",
    "\n",
    "df['polio0'] = df[['polio0_card','polio0_recall1']].max(axis=1)\n",
    "df['polio0_sampled']=df['polio0']*df['chweight']"
   ]
  },
  {
   "cell_type": "code",
   "execution_count": 92,
   "metadata": {},
   "outputs": [],
   "source": [
    "#Polio1\n",
    "df['polio1_card'] = df[['polio1day', 'polio1month','polio1yr']].max(axis=1)\n",
    "df.loc[df['card'] == False, 'polio1_card'] = False\n",
    "\n",
    "df['polio1_recall1'] = df['IM10'].replace({1: 1, 2: 1, 3: 1, 4: 1, 5: 1, 6: 1, 7: 1, 8: np.nan, 9: np.nan})\n",
    "df.loc[df['recall'] == False, 'polio1_recall1'] = False\n",
    "\n",
    "df['polio1'] = df[['polio1_card','polio1_recall1']].max(axis=1)\n",
    "df['polio1_sampled']=df['polio1']*df['chweight']"
   ]
  },
  {
   "cell_type": "code",
   "execution_count": 93,
   "metadata": {},
   "outputs": [
    {
     "data": {
      "text/plain": [
       "polio1\n",
       "True     8757\n",
       "False    3463\n",
       "Name: count, dtype: int64"
      ]
     },
     "execution_count": 93,
     "metadata": {},
     "output_type": "execute_result"
    }
   ],
   "source": [
    "df['polio1'].value_counts()"
   ]
  },
  {
   "cell_type": "code",
   "execution_count": 94,
   "metadata": {},
   "outputs": [
    {
     "name": "stdout",
     "output_type": "stream",
     "text": [
      "Weighted percentage of 'polio1_sampled' if 'AG2' is 1: 79.3\n"
     ]
    }
   ],
   "source": [
    "calculate_weighted_percentage(df, 'polio1_sampled')"
   ]
  },
  {
   "cell_type": "code",
   "execution_count": 95,
   "metadata": {},
   "outputs": [],
   "source": [
    "#Polio2\n",
    "df['polio2_card'] = df[['polio2day', 'polio2month','polio2yr']].max(axis=1)\n",
    "df.loc[df['card'] == False, 'polio2_card'] = False\n",
    "\n",
    "df['polio2_recall'] = df['IM10'].replace({1: 0, 2: 1, 3: 1, 4: 1, 5: 1, 6: 1, 7: 1, 8: np.nan, 9: np.nan})\n",
    "df.loc[df['recall'] == False, 'polio2_recall'] = False\n",
    "\n",
    "df['polio2'] = df[['polio2_card','polio2_recall']].max(axis=1)\n",
    "df['polio2_sampled']=df['polio2']*df['chweight']"
   ]
  },
  {
   "cell_type": "code",
   "execution_count": 96,
   "metadata": {},
   "outputs": [
    {
     "name": "stdout",
     "output_type": "stream",
     "text": [
      "Weighted percentage of 'polio2_sampled' if 'AG2' is 1: 66.5\n"
     ]
    }
   ],
   "source": [
    "calculate_weighted_percentage(df, 'polio2_sampled')"
   ]
  },
  {
   "cell_type": "code",
   "execution_count": 97,
   "metadata": {},
   "outputs": [],
   "source": [
    "#Polio3\n",
    "df['polio3_card'] = df[['polio3day', 'polio3month','polio3yr']].max(axis=1)\n",
    "df.loc[df['card'] == False, 'polio3_card'] = False\n",
    "\n",
    "df['polio3_recall'] = df['IM10'].replace({1: 0, 2: 0, 3: 1, 4: 1, 5: 1, 6: 1, 7: 1, 8: np.nan, 9: np.nan})\n",
    "df.loc[df['recall'] == False, 'polio3_recall'] = False\n",
    "\n",
    "df['polio3'] = df[['polio3_card','polio3_recall']].max(axis=1)\n",
    "df['polio3_sampled']=df['polio3']*df['chweight']"
   ]
  },
  {
   "cell_type": "code",
   "execution_count": 98,
   "metadata": {},
   "outputs": [
    {
     "name": "stdout",
     "output_type": "stream",
     "text": [
      "Weighted percentage of 'polio3_sampled' if 'AG2' is 1: 57.0\n"
     ]
    }
   ],
   "source": [
    "calculate_weighted_percentage(df, 'polio3_sampled')"
   ]
  },
  {
   "cell_type": "markdown",
   "metadata": {},
   "source": [
    "# Penta"
   ]
  },
  {
   "cell_type": "code",
   "execution_count": 99,
   "metadata": {},
   "outputs": [],
   "source": [
    "#penta1\n",
    "\n",
    "df['penta1_card'] = df[['penta1day', 'penta1month','penta1yr']].max(axis=1)\n",
    "df.loc[df['card'] == False, 'penta1_card'] = False\n",
    "\n",
    "df['penta1_recall'] = df['IM12'].replace({1: 1, 2: 1, 3: 1, 4: 1, 5: 1, 6: 1, 7: 1, 8: np.nan, 9: np.nan})\n",
    "df.loc[df['recall'] == False, 'polio1_recall'] = False\n",
    "\n",
    "df['penta1'] = df[['penta1_card', 'penta1_recall']].max(axis=1)\n",
    "df['penta1_sampled']=df['penta1']*df['chweight']"
   ]
  },
  {
   "cell_type": "code",
   "execution_count": 100,
   "metadata": {},
   "outputs": [
    {
     "name": "stdout",
     "output_type": "stream",
     "text": [
      "Weighted percentage of 'penta1_sampled' if 'AG2' is 1: 76.3\n"
     ]
    }
   ],
   "source": [
    "calculate_weighted_percentage(df, 'penta1_sampled')"
   ]
  },
  {
   "cell_type": "code",
   "execution_count": 101,
   "metadata": {},
   "outputs": [],
   "source": [
    "# penta2\n",
    "df['penta2_card'] = df[['penta2day', 'penta2month','penta2yr']].max(axis=1)\n",
    "df.loc[df['card'] == False, 'penta2_card'] = False\n",
    "\n",
    "df['penta2_recall'] = df['IM12'].replace({1: 0, 2: 1, 3: 1, 4: 1, 5: 1, 6: 1, 7: 1, 8: np.nan, 9: np.nan})\n",
    "df.loc[df['recall'] == False, 'polio1_recall'] = False\n",
    "\n",
    "df['penta2'] = df[['penta2_card', 'penta2_recall']].max(axis=1)\n",
    "df['penta2_sampled']=df['penta2']*df['chweight']"
   ]
  },
  {
   "cell_type": "code",
   "execution_count": 102,
   "metadata": {},
   "outputs": [
    {
     "name": "stdout",
     "output_type": "stream",
     "text": [
      "Weighted percentage of 'penta2_sampled' if 'AG2' is 1: 67.5\n"
     ]
    }
   ],
   "source": [
    "calculate_weighted_percentage(df, 'penta2_sampled')"
   ]
  },
  {
   "cell_type": "code",
   "execution_count": 103,
   "metadata": {},
   "outputs": [],
   "source": [
    "# penta3\n",
    "df['penta3_card'] = df[['penta3day', 'penta3month','penta3yr']].max(axis=1)\n",
    "df.loc[df['card'] == False, 'penta3_card'] = False\n",
    "\n",
    "df['penta3_recall'] = df['IM12'].replace({1: 0, 2: 0, 3: 1, 4: 1, 5: 1, 6: 1, 7: 1, 8: np.nan, 9: np.nan})\n",
    "df.loc[df['recall'] == False, 'polio1_recall'] = False\n",
    "\n",
    "df['penta3'] = df[['penta3_card', 'penta3_recall']].max(axis=1)\n",
    "df['penta3_sampled']=df['penta3']*df['chweight']"
   ]
  },
  {
   "cell_type": "code",
   "execution_count": 104,
   "metadata": {},
   "outputs": [
    {
     "name": "stdout",
     "output_type": "stream",
     "text": [
      "Weighted percentage of 'penta3_sampled' if 'AG2' is 1: 58.4\n"
     ]
    }
   ],
   "source": [
    "calculate_weighted_percentage(df, 'penta3_sampled')"
   ]
  },
  {
   "cell_type": "markdown",
   "metadata": {},
   "source": [
    "# Yellow Fever"
   ]
  },
  {
   "cell_type": "markdown",
   "metadata": {},
   "source": [
    "# PCV"
   ]
  },
  {
   "cell_type": "markdown",
   "metadata": {},
   "source": [
    "# IPV"
   ]
  },
  {
   "cell_type": "markdown",
   "metadata": {},
   "source": [
    "# mcv"
   ]
  },
  {
   "cell_type": "code",
   "execution_count": 105,
   "metadata": {},
   "outputs": [
    {
     "data": {
      "text/plain": [
       "{1.0: 'Yes', 2.0: 'No', 8.0: 'DK', 9.0: 'Missing'}"
      ]
     },
     "execution_count": 105,
     "metadata": {},
     "output_type": "execute_result"
    }
   ],
   "source": [
    "# Access variable labels\n",
    "variable_labels = meta.column_labels\n",
    "\n",
    "# Access value labels for a specific variable\n",
    "value_labels = meta.variable_value_labels.get(\"IM16\")\n",
    "value_labels"
   ]
  },
  {
   "cell_type": "code",
   "execution_count": 106,
   "metadata": {},
   "outputs": [],
   "source": [
    "df['mcv_card'] = df[['mcv1day', 'mcv1month','mcv1yr']].max(axis=1)\n",
    "df.loc[df['card'] == False, 'mcv_card'] = False\n",
    "\n",
    "df['mcv1_recall'] = df['IM16'].replace({1: 1, 2: 0, 8: np.nan, 9: np.nan})\n",
    "df.loc[df['recall'] == False, 'mcv1_recall'] = False\n",
    "\n",
    "df['mcv1'] = df[['mcv_card','mcv1_recall']].max(axis=1)\n",
    "df['mcv1_sampled']=df['mcv1']*df['chweight']"
   ]
  },
  {
   "cell_type": "code",
   "execution_count": 107,
   "metadata": {},
   "outputs": [
    {
     "name": "stdout",
     "output_type": "stream",
     "text": [
      "Weighted percentage of 'mcv1_sampled' if 'AG2' is 1: 55.2\n"
     ]
    }
   ],
   "source": [
    "calculate_weighted_percentage(df, 'mcv1_sampled')"
   ]
  },
  {
   "cell_type": "markdown",
   "metadata": {},
   "source": [
    "# Vaccination Calulations"
   ]
  },
  {
   "cell_type": "code",
   "execution_count": 108,
   "metadata": {},
   "outputs": [
    {
     "name": "stdout",
     "output_type": "stream",
     "text": [
      "Weighted percentage of 'bcg_sampled' if 'AG2' is 1: 73.3\n",
      "Weighted percentage of 'polio0_sampled' if 'AG2' is 1: 78.0\n",
      "Weighted percentage of 'polio1_sampled' if 'AG2' is 1: 79.3\n",
      "Weighted percentage of 'polio3_sampled' if 'AG2' is 1: 57.0\n",
      "Weighted percentage of 'penta1_sampled' if 'AG2' is 1: 76.3\n",
      "Weighted percentage of 'penta3_sampled' if 'AG2' is 1: 58.4\n",
      "Weighted percentage of 'mcv1_sampled' if 'AG2' is 1: 55.2\n"
     ]
    }
   ],
   "source": [
    "calculate_vaccination_percentage(df, 'bcg_sampled')\n",
    "\n",
    "calculate_vaccination_percentage(df, 'polio0_sampled')\n",
    "calculate_vaccination_percentage(df, 'polio1_sampled')\n",
    "calculate_vaccination_percentage(df, 'polio3_sampled')\n",
    "calculate_vaccination_percentage(df, 'penta1_sampled')\n",
    "calculate_vaccination_percentage(df, 'penta3_sampled')\n",
    "calculate_vaccination_percentage(df, 'mcv1_sampled')\n",
    "#calculate_vaccination_percentage(df, 'ipv_sampled')"
   ]
  },
  {
   "cell_type": "code",
   "execution_count": 109,
   "metadata": {},
   "outputs": [
    {
     "name": "stdout",
     "output_type": "stream",
     "text": [
      "Weighted percentage of 'bcg' if 'AG2' is 1: 67.8\n",
      "Weighted percentage of 'polio1' if 'AG2' is 1: 77.4\n",
      "Weighted percentage of 'polio3' if 'AG2' is 1: 54.1\n",
      "Weighted percentage of 'penta1' if 'AG2' is 1: 69.1\n",
      "Weighted percentage of 'penta3' if 'AG2' is 1: 51.8\n",
      "Weighted percentage of 'mcv1' if 'AG2' is 1: 51.1\n"
     ]
    }
   ],
   "source": [
    "calculate_vaccination_percentage(df, 'bcg')\n",
    "calculate_vaccination_percentage(df, 'polio1')\n",
    "calculate_vaccination_percentage(df, 'polio3')\n",
    "calculate_vaccination_percentage(df, 'penta1')\n",
    "calculate_vaccination_percentage(df, 'penta3')\n",
    "calculate_vaccination_percentage(df, 'mcv1')"
   ]
  },
  {
   "cell_type": "code",
   "execution_count": 137,
   "metadata": {},
   "outputs": [],
   "source": [
    "# rename columns in dataframe\n",
    "df = df.rename(columns={'HL4': 'gender','HH6':'residence','division':'district','HH7':'region'})"
   ]
  },
  {
   "cell_type": "code",
   "execution_count": 138,
   "metadata": {},
   "outputs": [],
   "source": [
    "#df['region'].value_counts()"
   ]
  },
  {
   "cell_type": "code",
   "execution_count": 166,
   "metadata": {},
   "outputs": [
    {
     "data": {
      "text/plain": [
       "{1.0: 'Bannu',\n",
       " 2.0: 'D.I. Khan',\n",
       " 3.0: 'Hazara',\n",
       " 4.0: 'Kohat',\n",
       " 5.0: 'Mardan',\n",
       " 6.0: 'Peshawar',\n",
       " 7.0: 'Malakand'}"
      ]
     },
     "execution_count": 166,
     "metadata": {},
     "output_type": "execute_result"
    }
   ],
   "source": [
    "# Access variable labels\n",
    "variable_labels = meta.column_labels\n",
    "\n",
    "# Access value labels for a specific variable\n",
    "value_labels = meta.variable_value_labels.get(\"division\")\n",
    "value_labels"
   ]
  },
  {
   "cell_type": "code",
   "execution_count": 165,
   "metadata": {},
   "outputs": [],
   "source": [
    "district_mapping= {1.0: 'Bannu',\n",
    " 2.0: 'D.I. Khan',\n",
    " 3.0: 'Hazara',\n",
    " 4.0: 'Kohat',\n",
    " 5.0: 'Mardan',\n",
    " 6.0: 'Peshawar',\n",
    " 7.0: 'Malakand'}"
   ]
  },
  {
   "cell_type": "code",
   "execution_count": 141,
   "metadata": {},
   "outputs": [],
   "source": [
    "# List of Region\n",
    "region_mapping = {1.0: 'Abbottabad',\n",
    " 2.0: 'Bannu',\n",
    " 3.0: 'Batagram',\n",
    " 4.0: 'Buner',\n",
    " 5.0: 'Charsadda',\n",
    " 6.0: 'Chitral',\n",
    " 7.0: 'D. I. Khan',\n",
    " 8.0: 'Hangu',\n",
    " 9.0: 'Haripur',\n",
    " 10.0: 'Karak',\n",
    " 11.0: 'Kohat',\n",
    " 12.0: 'Kohistan',\n",
    " 13.0: 'Lakki Marwat',\n",
    " 14.0: 'Lower Dir',\n",
    " 15.0: 'Malakand Protected Area',\n",
    " 16.0: 'Mansehra',\n",
    " 17.0: 'Mardan',\n",
    " 18.0: 'Nowshera',\n",
    " 19.0: 'Peshawar',\n",
    " 20.0: 'Shangla',\n",
    " 21.0: 'Swabi',\n",
    " 22.0: 'Swat',\n",
    " 23.0: 'Tank',\n",
    " 24.0: 'Tor Ghar',\n",
    " 25.0: 'Upper Dir'}\n",
    "residence_mapping = {1.0: 'Urban', 2.0: 'Rural'}\n",
    "gender_mapping = {1.0: 'Male', 2.0: 'Female'}"
   ]
  },
  {
   "cell_type": "code",
   "execution_count": 142,
   "metadata": {},
   "outputs": [],
   "source": [
    "# Apply mappings to DataFrame columns\n",
    "df['gender'] = df['gender'].replace(gender_mapping)\n",
    "df['region'] = df['region'].replace(region_mapping)\n",
    "df['residence'] = df['residence'].replace(residence_mapping)\n",
    "df['district']=df['district'].replace(district_mapping)"
   ]
  },
  {
   "cell_type": "code",
   "execution_count": 143,
   "metadata": {},
   "outputs": [],
   "source": [
    "# List of vaccines\n",
    "vaccines = ['bcg_sampled','penta1_sampled','penta3_sampled','polio0_sampled','polio1_sampled','polio3_sampled','mcv1_sampled']"
   ]
  },
  {
   "cell_type": "code",
   "execution_count": 144,
   "metadata": {},
   "outputs": [],
   "source": [
    "# List of vaccines\n",
    "vaccines1 = ['bcg','penta1','penta3','polio0','polio1','polio3','mcv1']"
   ]
  },
  {
   "cell_type": "code",
   "execution_count": 145,
   "metadata": {},
   "outputs": [],
   "source": [
    "regions=['Abbottabad','Bannu','Batagram','Buner','Charsadda','Chitral','D. I. Khan','Hangu','Haripur','Karak','Kohat','Kohistan','Lakki Marwat','Lower Dir','Malakand Protected Area','Mansehra','Mardan','Nowshera',\n",
    "'Peshawar','Shangla','Swabi','Swat','Tank','Tor Ghar','Upper Dir']"
   ]
  },
  {
   "cell_type": "code",
   "execution_count": 179,
   "metadata": {},
   "outputs": [],
   "source": [
    "districts=['Bannu','D.I. Khan','Hazara','Kohat','Mardan','Peshawar','Malakand']"
   ]
  },
  {
   "cell_type": "code",
   "execution_count": 120,
   "metadata": {},
   "outputs": [],
   "source": [
    "# List of genders\n",
    "genders = ['Female','Male']"
   ]
  },
  {
   "cell_type": "code",
   "execution_count": 121,
   "metadata": {},
   "outputs": [],
   "source": [
    "residences=['Urban','Rural']"
   ]
  },
  {
   "cell_type": "code",
   "execution_count": 122,
   "metadata": {},
   "outputs": [
    {
     "data": {
      "text/plain": [
       "gender\n",
       "Male      10881\n",
       "Female    10478\n",
       "Name: count, dtype: int64"
      ]
     },
     "execution_count": 122,
     "metadata": {},
     "output_type": "execute_result"
    }
   ],
   "source": [
    "df['gender'].value_counts()"
   ]
  },
  {
   "cell_type": "code",
   "execution_count": 123,
   "metadata": {},
   "outputs": [
    {
     "data": {
      "text/html": [
       "<div>\n",
       "<style scoped>\n",
       "    .dataframe tbody tr th:only-of-type {\n",
       "        vertical-align: middle;\n",
       "    }\n",
       "\n",
       "    .dataframe tbody tr th {\n",
       "        vertical-align: top;\n",
       "    }\n",
       "\n",
       "    .dataframe thead th {\n",
       "        text-align: right;\n",
       "    }\n",
       "</style>\n",
       "<table border=\"1\" class=\"dataframe\">\n",
       "  <thead>\n",
       "    <tr style=\"text-align: right;\">\n",
       "      <th>gender</th>\n",
       "      <th>Female</th>\n",
       "      <th>Male</th>\n",
       "    </tr>\n",
       "    <tr>\n",
       "      <th>Vaccine</th>\n",
       "      <th></th>\n",
       "      <th></th>\n",
       "    </tr>\n",
       "  </thead>\n",
       "  <tbody>\n",
       "    <tr>\n",
       "      <th>bcg</th>\n",
       "      <td>67.1</td>\n",
       "      <td>68.5</td>\n",
       "    </tr>\n",
       "    <tr>\n",
       "      <th>mcv1</th>\n",
       "      <td>50.5</td>\n",
       "      <td>51.6</td>\n",
       "    </tr>\n",
       "    <tr>\n",
       "      <th>penta1</th>\n",
       "      <td>68.5</td>\n",
       "      <td>69.7</td>\n",
       "    </tr>\n",
       "    <tr>\n",
       "      <th>penta3</th>\n",
       "      <td>51.6</td>\n",
       "      <td>52.0</td>\n",
       "    </tr>\n",
       "    <tr>\n",
       "      <th>polio0</th>\n",
       "      <td>74.6</td>\n",
       "      <td>74.9</td>\n",
       "    </tr>\n",
       "    <tr>\n",
       "      <th>polio1</th>\n",
       "      <td>78.1</td>\n",
       "      <td>76.7</td>\n",
       "    </tr>\n",
       "    <tr>\n",
       "      <th>polio3</th>\n",
       "      <td>54.5</td>\n",
       "      <td>53.7</td>\n",
       "    </tr>\n",
       "  </tbody>\n",
       "</table>\n",
       "</div>"
      ],
      "text/plain": [
       "gender   Female  Male\n",
       "Vaccine              \n",
       "bcg        67.1  68.5\n",
       "mcv1       50.5  51.6\n",
       "penta1     68.5  69.7\n",
       "penta3     51.6  52.0\n",
       "polio0     74.6  74.9\n",
       "polio1     78.1  76.7\n",
       "polio3     54.5  53.7"
      ]
     },
     "execution_count": 123,
     "metadata": {},
     "output_type": "execute_result"
    }
   ],
   "source": [
    "# Create an empty list to store the results\n",
    "results = []\n",
    "\n",
    "# Loop through each vaccine and child_gender\n",
    "for vaccine in vaccines1:\n",
    "    for gender in genders:\n",
    "        coverage = calculate_vaccination_coverage_child_gender(df, gender, vaccine)\n",
    "        results.append({'Vaccine': vaccine, 'gender': gender, 'Coverage': coverage})\n",
    "\n",
    "# Convert the list of dictionaries into a DataFrame\n",
    "results_df = pd.DataFrame(results)\n",
    "#results_df['Coverage'] = results_df['Coverage'].round(2)\n",
    "# Display the results as a table\n",
    "pivot_table1 = results_df.pivot_table(index='Vaccine', columns='gender', values='Coverage')\n",
    "pivot_table1"
   ]
  },
  {
   "cell_type": "code",
   "execution_count": 124,
   "metadata": {},
   "outputs": [
    {
     "data": {
      "text/html": [
       "<div>\n",
       "<style scoped>\n",
       "    .dataframe tbody tr th:only-of-type {\n",
       "        vertical-align: middle;\n",
       "    }\n",
       "\n",
       "    .dataframe tbody tr th {\n",
       "        vertical-align: top;\n",
       "    }\n",
       "\n",
       "    .dataframe thead th {\n",
       "        text-align: right;\n",
       "    }\n",
       "</style>\n",
       "<table border=\"1\" class=\"dataframe\">\n",
       "  <thead>\n",
       "    <tr style=\"text-align: right;\">\n",
       "      <th>residence</th>\n",
       "      <th>Rural</th>\n",
       "      <th>Urban</th>\n",
       "    </tr>\n",
       "    <tr>\n",
       "      <th>Vaccine</th>\n",
       "      <th></th>\n",
       "      <th></th>\n",
       "    </tr>\n",
       "  </thead>\n",
       "  <tbody>\n",
       "    <tr>\n",
       "      <th>bcg</th>\n",
       "      <td>62.8</td>\n",
       "      <td>81.4</td>\n",
       "    </tr>\n",
       "    <tr>\n",
       "      <th>mcv1</th>\n",
       "      <td>46.4</td>\n",
       "      <td>63.8</td>\n",
       "    </tr>\n",
       "    <tr>\n",
       "      <th>penta1</th>\n",
       "      <td>63.9</td>\n",
       "      <td>83.8</td>\n",
       "    </tr>\n",
       "    <tr>\n",
       "      <th>penta3</th>\n",
       "      <td>47.5</td>\n",
       "      <td>64.1</td>\n",
       "    </tr>\n",
       "    <tr>\n",
       "      <th>polio0</th>\n",
       "      <td>71.5</td>\n",
       "      <td>83.6</td>\n",
       "    </tr>\n",
       "    <tr>\n",
       "      <th>polio1</th>\n",
       "      <td>75.1</td>\n",
       "      <td>83.9</td>\n",
       "    </tr>\n",
       "    <tr>\n",
       "      <th>polio3</th>\n",
       "      <td>53.6</td>\n",
       "      <td>55.4</td>\n",
       "    </tr>\n",
       "  </tbody>\n",
       "</table>\n",
       "</div>"
      ],
      "text/plain": [
       "residence  Rural  Urban\n",
       "Vaccine                \n",
       "bcg         62.8   81.4\n",
       "mcv1        46.4   63.8\n",
       "penta1      63.9   83.8\n",
       "penta3      47.5   64.1\n",
       "polio0      71.5   83.6\n",
       "polio1      75.1   83.9\n",
       "polio3      53.6   55.4"
      ]
     },
     "execution_count": 124,
     "metadata": {},
     "output_type": "execute_result"
    }
   ],
   "source": [
    "# Create an empty list to store the results\n",
    "results1 = []\n",
    "\n",
    "# Loop through each vaccine and child_residence\n",
    "for vaccine in vaccines1:\n",
    "    for residence in residences:\n",
    "        coverage = calculate_vaccination_coverage_child_residence(df, residence, vaccine)\n",
    "        results1.append({'Vaccine': vaccine, 'residence': residence, 'Coverage': coverage})\n",
    "\n",
    "# Convert the list of dictionaries into a DataFrame\n",
    "results1_df = pd.DataFrame(results1)\n",
    "#results_df['Coverage'] = results_df['Coverage'].round(2)\n",
    "# Display the results as a table\n",
    "pivot_table1 = results1_df.pivot_table(index='Vaccine', columns='residence', values='Coverage')\n",
    "pivot_table1"
   ]
  },
  {
   "cell_type": "code",
   "execution_count": 151,
   "metadata": {},
   "outputs": [
    {
     "data": {
      "text/html": [
       "<div>\n",
       "<style scoped>\n",
       "    .dataframe tbody tr th:only-of-type {\n",
       "        vertical-align: middle;\n",
       "    }\n",
       "\n",
       "    .dataframe tbody tr th {\n",
       "        vertical-align: top;\n",
       "    }\n",
       "\n",
       "    .dataframe thead th {\n",
       "        text-align: right;\n",
       "    }\n",
       "</style>\n",
       "<table border=\"1\" class=\"dataframe\">\n",
       "  <thead>\n",
       "    <tr style=\"text-align: right;\">\n",
       "      <th>region</th>\n",
       "      <th>Abbottabad</th>\n",
       "      <th>Bannu</th>\n",
       "      <th>Batagram</th>\n",
       "      <th>Buner</th>\n",
       "      <th>Charsadda</th>\n",
       "      <th>Chitral</th>\n",
       "      <th>D. I. Khan</th>\n",
       "      <th>Hangu</th>\n",
       "      <th>Haripur</th>\n",
       "      <th>Karak</th>\n",
       "      <th>...</th>\n",
       "      <th>Mansehra</th>\n",
       "      <th>Mardan</th>\n",
       "      <th>Nowshera</th>\n",
       "      <th>Peshawar</th>\n",
       "      <th>Shangla</th>\n",
       "      <th>Swabi</th>\n",
       "      <th>Swat</th>\n",
       "      <th>Tank</th>\n",
       "      <th>Tor Ghar</th>\n",
       "      <th>Upper Dir</th>\n",
       "    </tr>\n",
       "    <tr>\n",
       "      <th>Vaccine</th>\n",
       "      <th></th>\n",
       "      <th></th>\n",
       "      <th></th>\n",
       "      <th></th>\n",
       "      <th></th>\n",
       "      <th></th>\n",
       "      <th></th>\n",
       "      <th></th>\n",
       "      <th></th>\n",
       "      <th></th>\n",
       "      <th></th>\n",
       "      <th></th>\n",
       "      <th></th>\n",
       "      <th></th>\n",
       "      <th></th>\n",
       "      <th></th>\n",
       "      <th></th>\n",
       "      <th></th>\n",
       "      <th></th>\n",
       "      <th></th>\n",
       "      <th></th>\n",
       "    </tr>\n",
       "  </thead>\n",
       "  <tbody>\n",
       "    <tr>\n",
       "      <th>bcg</th>\n",
       "      <td>96.0</td>\n",
       "      <td>38.3</td>\n",
       "      <td>55.9</td>\n",
       "      <td>66.4</td>\n",
       "      <td>84.7</td>\n",
       "      <td>89.9</td>\n",
       "      <td>48.0</td>\n",
       "      <td>65.8</td>\n",
       "      <td>92.2</td>\n",
       "      <td>35.0</td>\n",
       "      <td>...</td>\n",
       "      <td>82.2</td>\n",
       "      <td>93.1</td>\n",
       "      <td>87.6</td>\n",
       "      <td>82.6</td>\n",
       "      <td>34.3</td>\n",
       "      <td>91.7</td>\n",
       "      <td>91.3</td>\n",
       "      <td>38.8</td>\n",
       "      <td>11.0</td>\n",
       "      <td>76.3</td>\n",
       "    </tr>\n",
       "    <tr>\n",
       "      <th>mcv1</th>\n",
       "      <td>83.4</td>\n",
       "      <td>25.1</td>\n",
       "      <td>41.4</td>\n",
       "      <td>45.7</td>\n",
       "      <td>64.3</td>\n",
       "      <td>88.4</td>\n",
       "      <td>26.5</td>\n",
       "      <td>51.8</td>\n",
       "      <td>81.6</td>\n",
       "      <td>29.2</td>\n",
       "      <td>...</td>\n",
       "      <td>66.4</td>\n",
       "      <td>71.1</td>\n",
       "      <td>65.1</td>\n",
       "      <td>61.2</td>\n",
       "      <td>14.0</td>\n",
       "      <td>75.4</td>\n",
       "      <td>73.2</td>\n",
       "      <td>21.2</td>\n",
       "      <td>6.6</td>\n",
       "      <td>52.3</td>\n",
       "    </tr>\n",
       "    <tr>\n",
       "      <th>penta1</th>\n",
       "      <td>91.4</td>\n",
       "      <td>41.1</td>\n",
       "      <td>55.7</td>\n",
       "      <td>68.4</td>\n",
       "      <td>87.6</td>\n",
       "      <td>97.1</td>\n",
       "      <td>47.9</td>\n",
       "      <td>59.4</td>\n",
       "      <td>94.8</td>\n",
       "      <td>39.7</td>\n",
       "      <td>...</td>\n",
       "      <td>83.6</td>\n",
       "      <td>94.0</td>\n",
       "      <td>85.7</td>\n",
       "      <td>89.6</td>\n",
       "      <td>34.0</td>\n",
       "      <td>90.5</td>\n",
       "      <td>92.0</td>\n",
       "      <td>35.6</td>\n",
       "      <td>13.1</td>\n",
       "      <td>74.5</td>\n",
       "    </tr>\n",
       "    <tr>\n",
       "      <th>penta3</th>\n",
       "      <td>85.0</td>\n",
       "      <td>13.9</td>\n",
       "      <td>35.0</td>\n",
       "      <td>55.3</td>\n",
       "      <td>57.4</td>\n",
       "      <td>86.7</td>\n",
       "      <td>21.5</td>\n",
       "      <td>43.9</td>\n",
       "      <td>84.5</td>\n",
       "      <td>20.6</td>\n",
       "      <td>...</td>\n",
       "      <td>70.0</td>\n",
       "      <td>77.7</td>\n",
       "      <td>71.4</td>\n",
       "      <td>64.2</td>\n",
       "      <td>9.4</td>\n",
       "      <td>68.0</td>\n",
       "      <td>82.8</td>\n",
       "      <td>15.3</td>\n",
       "      <td>4.8</td>\n",
       "      <td>51.0</td>\n",
       "    </tr>\n",
       "    <tr>\n",
       "      <th>polio0</th>\n",
       "      <td>92.7</td>\n",
       "      <td>43.2</td>\n",
       "      <td>64.5</td>\n",
       "      <td>67.2</td>\n",
       "      <td>80.8</td>\n",
       "      <td>90.9</td>\n",
       "      <td>54.8</td>\n",
       "      <td>82.9</td>\n",
       "      <td>91.3</td>\n",
       "      <td>49.2</td>\n",
       "      <td>...</td>\n",
       "      <td>89.0</td>\n",
       "      <td>93.1</td>\n",
       "      <td>88.9</td>\n",
       "      <td>82.8</td>\n",
       "      <td>64.0</td>\n",
       "      <td>90.2</td>\n",
       "      <td>91.2</td>\n",
       "      <td>46.5</td>\n",
       "      <td>42.9</td>\n",
       "      <td>83.2</td>\n",
       "    </tr>\n",
       "    <tr>\n",
       "      <th>polio1</th>\n",
       "      <td>96.0</td>\n",
       "      <td>46.7</td>\n",
       "      <td>87.5</td>\n",
       "      <td>63.8</td>\n",
       "      <td>78.7</td>\n",
       "      <td>92.4</td>\n",
       "      <td>52.9</td>\n",
       "      <td>83.4</td>\n",
       "      <td>93.2</td>\n",
       "      <td>52.1</td>\n",
       "      <td>...</td>\n",
       "      <td>91.0</td>\n",
       "      <td>92.1</td>\n",
       "      <td>86.3</td>\n",
       "      <td>81.8</td>\n",
       "      <td>68.1</td>\n",
       "      <td>92.1</td>\n",
       "      <td>91.2</td>\n",
       "      <td>44.3</td>\n",
       "      <td>66.7</td>\n",
       "      <td>84.3</td>\n",
       "    </tr>\n",
       "    <tr>\n",
       "      <th>polio3</th>\n",
       "      <td>82.7</td>\n",
       "      <td>26.9</td>\n",
       "      <td>69.1</td>\n",
       "      <td>50.4</td>\n",
       "      <td>44.0</td>\n",
       "      <td>79.0</td>\n",
       "      <td>17.8</td>\n",
       "      <td>42.7</td>\n",
       "      <td>85.4</td>\n",
       "      <td>24.4</td>\n",
       "      <td>...</td>\n",
       "      <td>81.4</td>\n",
       "      <td>72.4</td>\n",
       "      <td>70.5</td>\n",
       "      <td>49.4</td>\n",
       "      <td>26.4</td>\n",
       "      <td>64.6</td>\n",
       "      <td>70.9</td>\n",
       "      <td>17.7</td>\n",
       "      <td>41.1</td>\n",
       "      <td>59.3</td>\n",
       "    </tr>\n",
       "  </tbody>\n",
       "</table>\n",
       "<p>7 rows × 25 columns</p>\n",
       "</div>"
      ],
      "text/plain": [
       "region   Abbottabad  Bannu  Batagram  Buner  Charsadda  Chitral  D. I. Khan  \\\n",
       "Vaccine                                                                       \n",
       "bcg            96.0   38.3      55.9   66.4       84.7     89.9        48.0   \n",
       "mcv1           83.4   25.1      41.4   45.7       64.3     88.4        26.5   \n",
       "penta1         91.4   41.1      55.7   68.4       87.6     97.1        47.9   \n",
       "penta3         85.0   13.9      35.0   55.3       57.4     86.7        21.5   \n",
       "polio0         92.7   43.2      64.5   67.2       80.8     90.9        54.8   \n",
       "polio1         96.0   46.7      87.5   63.8       78.7     92.4        52.9   \n",
       "polio3         82.7   26.9      69.1   50.4       44.0     79.0        17.8   \n",
       "\n",
       "region   Hangu  Haripur  Karak  ...  Mansehra  Mardan  Nowshera  Peshawar  \\\n",
       "Vaccine                         ...                                         \n",
       "bcg       65.8     92.2   35.0  ...      82.2    93.1      87.6      82.6   \n",
       "mcv1      51.8     81.6   29.2  ...      66.4    71.1      65.1      61.2   \n",
       "penta1    59.4     94.8   39.7  ...      83.6    94.0      85.7      89.6   \n",
       "penta3    43.9     84.5   20.6  ...      70.0    77.7      71.4      64.2   \n",
       "polio0    82.9     91.3   49.2  ...      89.0    93.1      88.9      82.8   \n",
       "polio1    83.4     93.2   52.1  ...      91.0    92.1      86.3      81.8   \n",
       "polio3    42.7     85.4   24.4  ...      81.4    72.4      70.5      49.4   \n",
       "\n",
       "region   Shangla  Swabi  Swat  Tank  Tor Ghar  Upper Dir  \n",
       "Vaccine                                                   \n",
       "bcg         34.3   91.7  91.3  38.8      11.0       76.3  \n",
       "mcv1        14.0   75.4  73.2  21.2       6.6       52.3  \n",
       "penta1      34.0   90.5  92.0  35.6      13.1       74.5  \n",
       "penta3       9.4   68.0  82.8  15.3       4.8       51.0  \n",
       "polio0      64.0   90.2  91.2  46.5      42.9       83.2  \n",
       "polio1      68.1   92.1  91.2  44.3      66.7       84.3  \n",
       "polio3      26.4   64.6  70.9  17.7      41.1       59.3  \n",
       "\n",
       "[7 rows x 25 columns]"
      ]
     },
     "execution_count": 151,
     "metadata": {},
     "output_type": "execute_result"
    }
   ],
   "source": [
    "# Create an empty list to store the results\n",
    "results2 = []\n",
    "\n",
    "# Loop through each vaccine and child_region\n",
    "for vaccine in vaccines1:\n",
    "    for region in regions:\n",
    "        coverage = calculate_vaccination_coverage_region(df, region, vaccine)\n",
    "        results2.append({'Vaccine': vaccine, 'region': region, 'Coverage': coverage})\n",
    "\n",
    "# Convert the list of dictionaries into a DataFrame\n",
    "results2_df = pd.DataFrame(results2)\n",
    "#results_df['Coverage'] = results_df['Coverage'].round(2)\n",
    "# Display the results as a table\n",
    "pivot_table2 = results2_df.pivot_table(index='Vaccine', columns='region', values='Coverage')\n",
    "pivot_table2\n",
    "#pivot_table2.to_excel('/path/to/directory/pivot_table2_sorted.xlsx')\n",
    "#pivot_table2.to_excel('Vaccinebyregion.xlsx', index=False)"
   ]
  },
  {
   "cell_type": "code",
   "execution_count": 154,
   "metadata": {},
   "outputs": [
    {
     "data": {
      "text/plain": [
       "district\n",
       "Malakand     5536\n",
       "Hazara       4639\n",
       "Peshawar     3280\n",
       "Kohat        2399\n",
       "D.I. Khan    1885\n",
       "Mardan       1836\n",
       "Bannu        1784\n",
       "Name: count, dtype: int64"
      ]
     },
     "execution_count": 154,
     "metadata": {},
     "output_type": "execute_result"
    }
   ],
   "source": [
    "df['district'].value_counts()"
   ]
  },
  {
   "cell_type": "code",
   "execution_count": 172,
   "metadata": {},
   "outputs": [
    {
     "data": {
      "text/plain": [
       "district\n",
       "Bannu        158.0\n",
       "D.I. Khan    171.0\n",
       "Hazara       574.0\n",
       "Kohat        346.0\n",
       "Malakand     850.0\n",
       "Mardan       335.0\n",
       "Peshawar     532.0\n",
       "Name: polio0, dtype: object"
      ]
     },
     "execution_count": 172,
     "metadata": {},
     "output_type": "execute_result"
    }
   ],
   "source": [
    "filtered_df.groupby('district')['polio0'].sum()"
   ]
  },
  {
   "cell_type": "code",
   "execution_count": 181,
   "metadata": {},
   "outputs": [
    {
     "data": {
      "text/html": [
       "<div>\n",
       "<style scoped>\n",
       "    .dataframe tbody tr th:only-of-type {\n",
       "        vertical-align: middle;\n",
       "    }\n",
       "\n",
       "    .dataframe tbody tr th {\n",
       "        vertical-align: top;\n",
       "    }\n",
       "\n",
       "    .dataframe thead th {\n",
       "        text-align: right;\n",
       "    }\n",
       "</style>\n",
       "<table border=\"1\" class=\"dataframe\">\n",
       "  <thead>\n",
       "    <tr style=\"text-align: right;\">\n",
       "      <th>district</th>\n",
       "      <th>Bannu</th>\n",
       "      <th>D.I. Khan</th>\n",
       "      <th>Hazara</th>\n",
       "      <th>Kohat</th>\n",
       "      <th>Malakand</th>\n",
       "      <th>Mardan</th>\n",
       "      <th>Peshawar</th>\n",
       "    </tr>\n",
       "    <tr>\n",
       "      <th>Vaccine</th>\n",
       "      <th></th>\n",
       "      <th></th>\n",
       "      <th></th>\n",
       "      <th></th>\n",
       "      <th></th>\n",
       "      <th></th>\n",
       "      <th></th>\n",
       "    </tr>\n",
       "  </thead>\n",
       "  <tbody>\n",
       "    <tr>\n",
       "      <th>bcg</th>\n",
       "      <td>37.4</td>\n",
       "      <td>43.6</td>\n",
       "      <td>58.8</td>\n",
       "      <td>59.4</td>\n",
       "      <td>76.5</td>\n",
       "      <td>92.6</td>\n",
       "      <td>84.3</td>\n",
       "    </tr>\n",
       "    <tr>\n",
       "      <th>mcv1</th>\n",
       "      <td>23.2</td>\n",
       "      <td>23.9</td>\n",
       "      <td>47.6</td>\n",
       "      <td>46.7</td>\n",
       "      <td>57.6</td>\n",
       "      <td>72.7</td>\n",
       "      <td>62.9</td>\n",
       "    </tr>\n",
       "    <tr>\n",
       "      <th>penta1</th>\n",
       "      <td>35.7</td>\n",
       "      <td>41.8</td>\n",
       "      <td>58.1</td>\n",
       "      <td>60.3</td>\n",
       "      <td>79.9</td>\n",
       "      <td>92.7</td>\n",
       "      <td>88.1</td>\n",
       "    </tr>\n",
       "    <tr>\n",
       "      <th>penta3</th>\n",
       "      <td>12.0</td>\n",
       "      <td>18.4</td>\n",
       "      <td>47.9</td>\n",
       "      <td>44.9</td>\n",
       "      <td>63.7</td>\n",
       "      <td>74.1</td>\n",
       "      <td>64.5</td>\n",
       "    </tr>\n",
       "    <tr>\n",
       "      <th>polio0</th>\n",
       "      <td>51.0</td>\n",
       "      <td>50.9</td>\n",
       "      <td>71.3</td>\n",
       "      <td>74.4</td>\n",
       "      <td>80.6</td>\n",
       "      <td>92.0</td>\n",
       "      <td>83.8</td>\n",
       "    </tr>\n",
       "    <tr>\n",
       "      <th>polio1</th>\n",
       "      <td>54.9</td>\n",
       "      <td>48.8</td>\n",
       "      <td>83.0</td>\n",
       "      <td>76.9</td>\n",
       "      <td>81.3</td>\n",
       "      <td>92.1</td>\n",
       "      <td>82.1</td>\n",
       "    </tr>\n",
       "    <tr>\n",
       "      <th>polio3</th>\n",
       "      <td>36.7</td>\n",
       "      <td>17.8</td>\n",
       "      <td>69.0</td>\n",
       "      <td>41.4</td>\n",
       "      <td>60.5</td>\n",
       "      <td>69.6</td>\n",
       "      <td>53.1</td>\n",
       "    </tr>\n",
       "  </tbody>\n",
       "</table>\n",
       "</div>"
      ],
      "text/plain": [
       "district  Bannu  D.I. Khan  Hazara  Kohat  Malakand  Mardan  Peshawar\n",
       "Vaccine                                                              \n",
       "bcg        37.4       43.6    58.8   59.4      76.5    92.6      84.3\n",
       "mcv1       23.2       23.9    47.6   46.7      57.6    72.7      62.9\n",
       "penta1     35.7       41.8    58.1   60.3      79.9    92.7      88.1\n",
       "penta3     12.0       18.4    47.9   44.9      63.7    74.1      64.5\n",
       "polio0     51.0       50.9    71.3   74.4      80.6    92.0      83.8\n",
       "polio1     54.9       48.8    83.0   76.9      81.3    92.1      82.1\n",
       "polio3     36.7       17.8    69.0   41.4      60.5    69.6      53.1"
      ]
     },
     "execution_count": 181,
     "metadata": {},
     "output_type": "execute_result"
    }
   ],
   "source": [
    "# Create an empty list to store the results\n",
    "results2 = []\n",
    "\n",
    "# Loop through each vaccine and child_district\n",
    "for vaccine in vaccines1:\n",
    "    for district in districts:\n",
    "        coverage = calculate_vaccination_coverage_district(filtered_df, district, vaccine)\n",
    "        results2.append({'Vaccine': vaccine, 'district': district, 'Coverage': coverage})\n",
    "\n",
    "# Convert the list of dictionaries into a DataFrame\n",
    "results2_df = pd.DataFrame(results2)\n",
    "results2_df\n",
    "# Display the results as a table\n",
    "pivot_table2 = results2_df.pivot_table(index='Vaccine', columns='district', values='Coverage')\n",
    "pivot_table2"
   ]
  },
  {
   "cell_type": "code",
   "execution_count": 126,
   "metadata": {},
   "outputs": [],
   "source": [
    "pivot_table2.to_clipboard(index=True, header=True)"
   ]
  },
  {
   "cell_type": "markdown",
   "metadata": {},
   "source": [
    "## Retention rate"
   ]
  },
  {
   "cell_type": "code",
   "execution_count": 182,
   "metadata": {},
   "outputs": [],
   "source": [
    "def calculate_retention_rate(df, group_col, dose1_col, dose2_col):\n",
    "    \"\"\"\n",
    "    Calculate retention rate from dose2 to dose1 for each group.\n",
    "    \n",
    "    Parameters:\n",
    "    df (pandas.DataFrame): Input DataFrame containing vaccination data.\n",
    "    group_col (str): Column name for the grouping variable.\n",
    "    dose1_col (str): Column name representing the first dose.\n",
    "    dose2_col (str): Column name representing the second dose.\n",
    "    \n",
    "    Returns:\n",
    "    pandas.DataFrame: DataFrame with retention rates calculated and added as a new column.\n",
    "    \"\"\"\n",
    "    # Group by the specified column and aggregate sum of dose1 and dose2\n",
    "    df1 = df.groupby([group_col]).agg(\n",
    "        sum_dose1=(dose1_col, 'sum'),\n",
    "        sum_dose2=(dose2_col, 'sum')\n",
    "    ).reset_index()\n",
    "    \n",
    "    # Calculate retention rate\n",
    "    df1['retention_rate'] = ((1 - ((df1['sum_dose1'] - df1['sum_dose2']) / df1['sum_dose1'])) * 100)\n",
    "    pivot_table2 = df1.pivot_table(columns=group_col, values='retention_rate')\n",
    "    return pivot_table2\n",
    "  "
   ]
  },
  {
   "cell_type": "code",
   "execution_count": 183,
   "metadata": {},
   "outputs": [],
   "source": [
    " filtered_df = df[(df['AG2']==1)]"
   ]
  },
  {
   "cell_type": "code",
   "execution_count": 186,
   "metadata": {},
   "outputs": [
    {
     "data": {
      "text/html": [
       "<div>\n",
       "<style scoped>\n",
       "    .dataframe tbody tr th:only-of-type {\n",
       "        vertical-align: middle;\n",
       "    }\n",
       "\n",
       "    .dataframe tbody tr th {\n",
       "        vertical-align: top;\n",
       "    }\n",
       "\n",
       "    .dataframe thead th {\n",
       "        text-align: right;\n",
       "    }\n",
       "</style>\n",
       "<table border=\"1\" class=\"dataframe\">\n",
       "  <thead>\n",
       "    <tr style=\"text-align: right;\">\n",
       "      <th>district</th>\n",
       "      <th>Bannu</th>\n",
       "      <th>D.I. Khan</th>\n",
       "      <th>Hazara</th>\n",
       "      <th>Kohat</th>\n",
       "      <th>Malakand</th>\n",
       "      <th>Mardan</th>\n",
       "      <th>Peshawar</th>\n",
       "    </tr>\n",
       "  </thead>\n",
       "  <tbody>\n",
       "    <tr>\n",
       "      <th>retention_rate</th>\n",
       "      <td>33.663366</td>\n",
       "      <td>44.0</td>\n",
       "      <td>82.33945</td>\n",
       "      <td>74.458874</td>\n",
       "      <td>79.773692</td>\n",
       "      <td>79.746835</td>\n",
       "      <td>73.175966</td>\n",
       "    </tr>\n",
       "  </tbody>\n",
       "</table>\n",
       "</div>"
      ],
      "text/plain": [
       "district            Bannu D.I. Khan    Hazara      Kohat   Malakand  \\\n",
       "retention_rate  33.663366      44.0  82.33945  74.458874  79.773692   \n",
       "\n",
       "district           Mardan   Peshawar  \n",
       "retention_rate  79.746835  73.175966  "
      ]
     },
     "execution_count": 186,
     "metadata": {},
     "output_type": "execute_result"
    }
   ],
   "source": [
    "# Call the calculate_retention_rate function\n",
    "result_df = round(calculate_retention_rate(filtered_df, 'district', 'penta1', 'penta3'),1)\n",
    "\n",
    "# Copy the result to the clipboard\n",
    "#result_df.to_clipboard(index=True, header=True)\n",
    "result_df"
   ]
  },
  {
   "cell_type": "code",
   "execution_count": 187,
   "metadata": {},
   "outputs": [
    {
     "data": {
      "text/html": [
       "<div>\n",
       "<style scoped>\n",
       "    .dataframe tbody tr th:only-of-type {\n",
       "        vertical-align: middle;\n",
       "    }\n",
       "\n",
       "    .dataframe tbody tr th {\n",
       "        vertical-align: top;\n",
       "    }\n",
       "\n",
       "    .dataframe thead th {\n",
       "        text-align: right;\n",
       "    }\n",
       "</style>\n",
       "<table border=\"1\" class=\"dataframe\">\n",
       "  <thead>\n",
       "    <tr style=\"text-align: right;\">\n",
       "      <th>district</th>\n",
       "      <th>Bannu</th>\n",
       "      <th>D.I. Khan</th>\n",
       "      <th>Hazara</th>\n",
       "      <th>Kohat</th>\n",
       "      <th>Malakand</th>\n",
       "      <th>Mardan</th>\n",
       "      <th>Peshawar</th>\n",
       "    </tr>\n",
       "  </thead>\n",
       "  <tbody>\n",
       "    <tr>\n",
       "      <th>retention_rate</th>\n",
       "      <td>66.863905</td>\n",
       "      <td>36.419753</td>\n",
       "      <td>83.033033</td>\n",
       "      <td>53.781513</td>\n",
       "      <td>74.407583</td>\n",
       "      <td>75.535168</td>\n",
       "      <td>64.636542</td>\n",
       "    </tr>\n",
       "  </tbody>\n",
       "</table>\n",
       "</div>"
      ],
      "text/plain": [
       "district            Bannu  D.I. Khan     Hazara      Kohat   Malakand  \\\n",
       "retention_rate  66.863905  36.419753  83.033033  53.781513  74.407583   \n",
       "\n",
       "district           Mardan   Peshawar  \n",
       "retention_rate  75.535168  64.636542  "
      ]
     },
     "execution_count": 187,
     "metadata": {},
     "output_type": "execute_result"
    }
   ],
   "source": [
    "# Call the calculate_retention_rate function\n",
    "result_df = calculate_retention_rate(filtered_df, 'district', 'polio1', 'polio3')\n",
    "\n",
    "# Copy the result to the clipboard\n",
    "#result_df.to_clipboard(index=True, header=True)\n",
    "result_df"
   ]
  },
  {
   "cell_type": "code",
   "execution_count": 131,
   "metadata": {},
   "outputs": [
    {
     "data": {
      "text/html": [
       "<div>\n",
       "<style scoped>\n",
       "    .dataframe tbody tr th:only-of-type {\n",
       "        vertical-align: middle;\n",
       "    }\n",
       "\n",
       "    .dataframe tbody tr th {\n",
       "        vertical-align: top;\n",
       "    }\n",
       "\n",
       "    .dataframe thead th {\n",
       "        text-align: right;\n",
       "    }\n",
       "</style>\n",
       "<table border=\"1\" class=\"dataframe\">\n",
       "  <thead>\n",
       "    <tr style=\"text-align: right;\">\n",
       "      <th>residence</th>\n",
       "      <th>Rural</th>\n",
       "      <th>Urban</th>\n",
       "    </tr>\n",
       "  </thead>\n",
       "  <tbody>\n",
       "    <tr>\n",
       "      <th>retention_rate</th>\n",
       "      <td>74.193548</td>\n",
       "      <td>76.510067</td>\n",
       "    </tr>\n",
       "  </tbody>\n",
       "</table>\n",
       "</div>"
      ],
      "text/plain": [
       "residence           Rural      Urban\n",
       "retention_rate  74.193548  76.510067"
      ]
     },
     "execution_count": 131,
     "metadata": {},
     "output_type": "execute_result"
    }
   ],
   "source": [
    "calculate_retention_rate(filtered_df, 'residence', 'penta1', 'penta3')"
   ]
  },
  {
   "cell_type": "code",
   "execution_count": 132,
   "metadata": {},
   "outputs": [
    {
     "data": {
      "text/html": [
       "<div>\n",
       "<style scoped>\n",
       "    .dataframe tbody tr th:only-of-type {\n",
       "        vertical-align: middle;\n",
       "    }\n",
       "\n",
       "    .dataframe tbody tr th {\n",
       "        vertical-align: top;\n",
       "    }\n",
       "\n",
       "    .dataframe thead th {\n",
       "        text-align: right;\n",
       "    }\n",
       "</style>\n",
       "<table border=\"1\" class=\"dataframe\">\n",
       "  <thead>\n",
       "    <tr style=\"text-align: right;\">\n",
       "      <th>residence</th>\n",
       "      <th>Rural</th>\n",
       "      <th>Urban</th>\n",
       "    </tr>\n",
       "  </thead>\n",
       "  <tbody>\n",
       "    <tr>\n",
       "      <th>retention_rate</th>\n",
       "      <td>71.461717</td>\n",
       "      <td>66.097838</td>\n",
       "    </tr>\n",
       "  </tbody>\n",
       "</table>\n",
       "</div>"
      ],
      "text/plain": [
       "residence           Rural      Urban\n",
       "retention_rate  71.461717  66.097838"
      ]
     },
     "execution_count": 132,
     "metadata": {},
     "output_type": "execute_result"
    }
   ],
   "source": [
    "# Call the calculate_retention_rate function\n",
    "calculate_retention_rate(filtered_df, 'residence', 'polio1', 'polio3')"
   ]
  },
  {
   "cell_type": "code",
   "execution_count": 133,
   "metadata": {},
   "outputs": [
    {
     "data": {
      "text/html": [
       "<div>\n",
       "<style scoped>\n",
       "    .dataframe tbody tr th:only-of-type {\n",
       "        vertical-align: middle;\n",
       "    }\n",
       "\n",
       "    .dataframe tbody tr th {\n",
       "        vertical-align: top;\n",
       "    }\n",
       "\n",
       "    .dataframe thead th {\n",
       "        text-align: right;\n",
       "    }\n",
       "</style>\n",
       "<table border=\"1\" class=\"dataframe\">\n",
       "  <thead>\n",
       "    <tr style=\"text-align: right;\">\n",
       "      <th>gender</th>\n",
       "      <th>Female</th>\n",
       "      <th>Male</th>\n",
       "    </tr>\n",
       "  </thead>\n",
       "  <tbody>\n",
       "    <tr>\n",
       "      <th>retention_rate</th>\n",
       "      <td>75.34965</td>\n",
       "      <td>74.525969</td>\n",
       "    </tr>\n",
       "  </tbody>\n",
       "</table>\n",
       "</div>"
      ],
      "text/plain": [
       "gender            Female       Male\n",
       "retention_rate  75.34965  74.525969"
      ]
     },
     "execution_count": 133,
     "metadata": {},
     "output_type": "execute_result"
    }
   ],
   "source": [
    "calculate_retention_rate(filtered_df, 'gender', 'penta1', 'penta3')"
   ]
  },
  {
   "cell_type": "code",
   "execution_count": 134,
   "metadata": {},
   "outputs": [
    {
     "data": {
      "text/html": [
       "<div>\n",
       "<style scoped>\n",
       "    .dataframe tbody tr th:only-of-type {\n",
       "        vertical-align: middle;\n",
       "    }\n",
       "\n",
       "    .dataframe tbody tr th {\n",
       "        vertical-align: top;\n",
       "    }\n",
       "\n",
       "    .dataframe thead th {\n",
       "        text-align: right;\n",
       "    }\n",
       "</style>\n",
       "<table border=\"1\" class=\"dataframe\">\n",
       "  <thead>\n",
       "    <tr style=\"text-align: right;\">\n",
       "      <th>gender</th>\n",
       "      <th>Female</th>\n",
       "      <th>Male</th>\n",
       "    </tr>\n",
       "  </thead>\n",
       "  <tbody>\n",
       "    <tr>\n",
       "      <th>retention_rate</th>\n",
       "      <td>69.793746</td>\n",
       "      <td>70.019595</td>\n",
       "    </tr>\n",
       "  </tbody>\n",
       "</table>\n",
       "</div>"
      ],
      "text/plain": [
       "gender             Female       Male\n",
       "retention_rate  69.793746  70.019595"
      ]
     },
     "execution_count": 134,
     "metadata": {},
     "output_type": "execute_result"
    }
   ],
   "source": [
    "calculate_retention_rate(filtered_df, 'gender', 'polio1', 'polio3')"
   ]
  },
  {
   "cell_type": "markdown",
   "metadata": {},
   "source": [
    "## National retention rate"
   ]
  },
  {
   "cell_type": "code",
   "execution_count": 189,
   "metadata": {},
   "outputs": [
    {
     "data": {
      "text/plain": [
       "69.90771259063942"
      ]
     },
     "execution_count": 189,
     "metadata": {},
     "output_type": "execute_result"
    }
   ],
   "source": [
    "polio_retention_rate = ((1 - ((filtered_df['polio1'].sum() - filtered_df['polio3'].sum()) / filtered_df['polio1'].sum())) * 100)\n",
    "polio_retention_rate"
   ]
  },
  {
   "cell_type": "code",
   "execution_count": 190,
   "metadata": {},
   "outputs": [
    {
     "data": {
      "text/plain": [
       "74.925753075944"
      ]
     },
     "execution_count": 190,
     "metadata": {},
     "output_type": "execute_result"
    }
   ],
   "source": [
    "penta_retention_rate = ((1 - ((filtered_df['penta1'].sum() - filtered_df['penta3'].sum()) / filtered_df['penta1'].sum())) * 100)\n",
    "penta_retention_rate"
   ]
  },
  {
   "cell_type": "markdown",
   "metadata": {},
   "source": [
    "##  Zero dose childern"
   ]
  },
  {
   "cell_type": "code",
   "execution_count": 242,
   "metadata": {},
   "outputs": [
    {
     "name": "stdout",
     "output_type": "stream",
     "text": [
      "Proportion of zero dose children: 19.23\n"
     ]
    }
   ],
   "source": [
    "# Count the number of children who never received the Penta vaccination\n",
    "zero_dose_children = df[df['penta1'] == 0]['penta1'].count()\n",
    "\n",
    "# Count the total number of children in the dataset\n",
    "total_children = len(df)\n",
    "\n",
    "# Calculate the proportion of zero dose children\n",
    "proportion_zero_dose = (zero_dose_children / total_children) * 100\n",
    "\n",
    "print(f\"Proportion of zero dose children: {proportion_zero_dose:.2f}\")"
   ]
  },
  {
   "cell_type": "code",
   "execution_count": 243,
   "metadata": {},
   "outputs": [],
   "source": [
    "def calculate_zero_dose_proportion(df, vaccine_column):\n",
    "    # Count the number of children who never received the Penta vaccination\n",
    "    zero_dose_children = df[df[vaccine_column] == 0][vaccine_column].count()\n",
    "\n",
    "    # Count the total number of children in the dataset\n",
    "    total_children = df['penta1'].count()\n",
    "\n",
    "    # Calculate the proportion of zero dose children\n",
    "    proportion_zero_dose = (zero_dose_children / total_children) * 100\n",
    "\n",
    "    return proportion_zero_dose\n"
   ]
  },
  {
   "cell_type": "code",
   "execution_count": 244,
   "metadata": {},
   "outputs": [
    {
     "name": "stdout",
     "output_type": "stream",
     "text": [
      "Proportion of zero dose children: 30.88%\n"
     ]
    }
   ],
   "source": [
    "zero_dose_proportion = calculate_zero_dose_proportion(filtered_df, 'penta1')\n",
    "print(f\"Proportion of zero dose children: {zero_dose_proportion:.2f}%\")\n"
   ]
  },
  {
   "cell_type": "code",
   "execution_count": 221,
   "metadata": {},
   "outputs": [],
   "source": [
    "def calculate_zero_dose_percentage_by_group(df, vaccine_column, group_column):\n",
    "    # Group the DataFrame by group and count the total number of children in each group\n",
    "    total_children_by_group = df.groupby(group_column).size()\n",
    "\n",
    "    # Group the DataFrame by group and count the number of zero-dose children in each group\n",
    "    zero_dose_children_by_group = df[df[vaccine_column] == 0].groupby(group_column).size()\n",
    "\n",
    "    # Calculate the percentage of zero-dose children for each group\n",
    "    zero_dose_percentage_by_group = round((zero_dose_children_by_group / total_children_by_group) * 100,1)\n",
    "\n",
    "    return zero_dose_percentage_by_group\n"
   ]
  },
  {
   "cell_type": "code",
   "execution_count": 223,
   "metadata": {},
   "outputs": [
    {
     "name": "stdout",
     "output_type": "stream",
     "text": [
      "district\n",
      "Bannu        38.2\n",
      "D.I. Khan    26.1\n",
      "Hazara       24.8\n",
      "Kohat        23.3\n",
      "Malakand     14.1\n",
      "Mardan        7.8\n",
      "Peshawar      9.1\n",
      "dtype: float64\n"
     ]
    }
   ],
   "source": [
    "zero_dose_percentage_by_group = calculate_zero_dose_percentage_by_group(df, 'penta1, 'district')\n",
    "\n",
    "print(zero_dose_percentage_by_group)"
   ]
  },
  {
   "cell_type": "code",
   "execution_count": 224,
   "metadata": {},
   "outputs": [
    {
     "name": "stdout",
     "output_type": "stream",
     "text": [
      "residence\n",
      "Rural    22.1\n",
      "Urban    11.1\n",
      "dtype: float64\n"
     ]
    }
   ],
   "source": [
    "zero_dose_percentage_by_group = calculate_zero_dose_percentage_by_group(df, 'penta1', 'residence')\n",
    "\n",
    "print(zero_dose_percentage_by_group)"
   ]
  },
  {
   "cell_type": "code",
   "execution_count": 225,
   "metadata": {},
   "outputs": [
    {
     "name": "stdout",
     "output_type": "stream",
     "text": [
      "gender\n",
      "Female    19.9\n",
      "Male      18.5\n",
      "dtype: float64\n"
     ]
    }
   ],
   "source": [
    "zero_dose_percentage_by_group = calculate_zero_dose_percentage_by_group(df, 'penta1', 'gender')\n",
    "\n",
    "print(zero_dose_percentage_by_group)"
   ]
  },
  {
   "cell_type": "markdown",
   "metadata": {},
   "source": [
    "# Fully vaccinated"
   ]
  },
  {
   "cell_type": "code",
   "execution_count": 247,
   "metadata": {},
   "outputs": [
    {
     "data": {
      "text/plain": [
       "35.118306351183065"
      ]
     },
     "execution_count": 247,
     "metadata": {},
     "output_type": "execute_result"
    }
   ],
   "source": [
    "# Calculate the number of fully vaccinated kids\n",
    "fully_vaccinated = filtered_df[(filtered_df['bcg']==1) & (filtered_df['polio3']==1) & (filtered_df['mcv1']==1) & (filtered_df['penta3']==1)]\n",
    "num_fully_vaccinated = len(fully_vaccinated)\n",
    "\n",
    "# Calculate the total number of kids\n",
    "total_kids =len(filtered_df)\n",
    "\n",
    "# Calculate the percentage of fully vaccinated kids\n",
    "percentage_fully_vaccinated = (num_fully_vaccinated / total_kids) * 100\n",
    "percentage_fully_vaccinated"
   ]
  },
  {
   "cell_type": "code",
   "execution_count": 248,
   "metadata": {},
   "outputs": [
    {
     "data": {
      "text/plain": [
       "41.75303523837726"
      ]
     },
     "execution_count": 248,
     "metadata": {},
     "output_type": "execute_result"
    }
   ],
   "source": [
    "# Filter out rows with null values in relevant columns\n",
    "filtered_df = filtered_df.dropna(subset=['bcg', 'polio3', 'mcv1', 'penta3'])\n",
    "\n",
    "# Calculate the number of fully vaccinated kids\n",
    "fully_vaccinated = filtered_df[(filtered_df['bcg']==1) & (filtered_df['polio3']==1) & (filtered_df['mcv1']==1) & (filtered_df['penta3']==1)]\n",
    "num_fully_vaccinated = len(fully_vaccinated)\n",
    "\n",
    "# Calculate the total number of kids\n",
    "total_kids = len(filtered_df)\n",
    "\n",
    "# Calculate the percentage of fully vaccinated kids\n",
    "percentage_fully_vaccinated = (num_fully_vaccinated / total_kids) * 100\n",
    "percentage_fully_vaccinated"
   ]
  },
  {
   "cell_type": "markdown",
   "metadata": {},
   "source": [
    "# Non Vaccinated "
   ]
  },
  {
   "cell_type": "code",
   "execution_count": 241,
   "metadata": {},
   "outputs": [
    {
     "data": {
      "text/plain": [
       "13.250311332503115"
      ]
     },
     "execution_count": 241,
     "metadata": {},
     "output_type": "execute_result"
    }
   ],
   "source": [
    "# Calculate the number of no vaccinated kids\n",
    "no_vaccinated = filtered_df[(filtered_df['bcg']==0) & (filtered_df['polio1']==0) & (filtered_df['mcv1']==0) & (filtered_df['penta1']==0)]\n",
    "num_no_vaccinated = len(no_vaccinated)\n",
    "\n",
    "# Calculate the total number of kids\n",
    "total_kids =len(filtered_df)\n",
    "\n",
    "\n",
    "# Calculate the percentage of no vaccinated kids\n",
    "percentage_no_vaccinated = (num_no_vaccinated / total_kids) * 100\n",
    "percentage_no_vaccinated"
   ]
  },
  {
   "cell_type": "code",
   "execution_count": null,
   "metadata": {},
   "outputs": [],
   "source": []
  }
 ],
 "metadata": {
  "kernelspec": {
   "display_name": "Python 3",
   "language": "python",
   "name": "python3"
  },
  "language_info": {
   "codemirror_mode": {
    "name": "ipython",
    "version": 3
   },
   "file_extension": ".py",
   "mimetype": "text/x-python",
   "name": "python",
   "nbconvert_exporter": "python",
   "pygments_lexer": "ipython3",
   "version": "3.8.5"
  }
 },
 "nbformat": 4,
 "nbformat_minor": 4
}
