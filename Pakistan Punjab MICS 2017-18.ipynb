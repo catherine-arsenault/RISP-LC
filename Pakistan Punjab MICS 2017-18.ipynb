{
 "cells": [
  {
   "cell_type": "markdown",
   "metadata": {},
   "source": [
    "# Pakistan Punjab 2017-18 MICS6 Datasets"
   ]
  },
  {
   "cell_type": "code",
   "execution_count": 2,
   "metadata": {},
   "outputs": [],
   "source": [
    "import pyreadstat\n",
    "import warnings\n",
    "warnings.filterwarnings(\"ignore\")\n",
    "from googletrans import Translator\n",
    "from googletrans import Translator\n",
    "import pandas as pd\n",
    "import numpy as np"
   ]
  },
  {
   "cell_type": "code",
   "execution_count": 3,
   "metadata": {},
   "outputs": [],
   "source": [
    "def calculate_weighted_percentage(df, column_name):\n",
    "    filtered_df = df[df['UB2'] == 1]\n",
    "    weighted_percentage = round(filtered_df[column_name].mean() * 100, 1)\n",
    "\n",
    "    print(\"Weighted percentage of '{}' if 'UB2' is 1: {}\".format(column_name, weighted_percentage))"
   ]
  },
  {
   "cell_type": "code",
   "execution_count": 4,
   "metadata": {},
   "outputs": [],
   "source": [
    "# Function to calculate vaccination coverage for each child_residence between specific age group\n",
    "def calculate_vaccination_coverage_child_residence(df, residence, vaccine_column):\n",
    "    filtered_df = df[(df['UB2']==1) & (df['residence']== residence)]\n",
    "\n",
    "    # Calculate the percentage of children vaccinated with the specified vaccine\n",
    "    # Count non-null values in the vaccine_column\n",
    "    weighted_percentage = round(filtered_df[vaccine_column].mean() * 100, 1)\n",
    "    #print(\"Weighted percentage of '{}' if 'UB2' is 1: {}\".format(vaccine_column, weighted_percentage))                  \n",
    "    return weighted_percentage\n"
   ]
  },
  {
   "cell_type": "code",
   "execution_count": 5,
   "metadata": {},
   "outputs": [],
   "source": [
    "# Function to calculate vaccination coverage for each region between specific age group\n",
    "def calculate_vaccination_coverage_region(df, region, vaccine_column):\n",
    "    # Filter rows where child_age is between min_age and max_age and region matches\n",
    "    filtered_df = df[(df['UB2']==1) & (df['region'] == region)]\n",
    "\n",
    "    # Calculate the percentage of children vaccinated with the specified vaccine\n",
    "    total_children = filtered_df[vaccine_column].count()  # Count non-null values in the vaccine_column\n",
    "    if total_children == 0:\n",
    "        print(\"No children found for the specified age range and region: {}.\".format(region))\n",
    "        return 0\n",
    "    percentage_vaccinated =  round(filtered_df[ vaccine_column].mean() * 100, 1)\n",
    "    #print(\"{} Vaccination Coverage for children in {} between {} to {} months using dataset: {:.2f}%\".format(vaccine_column, region, min_age, max_age, percentage_vaccinated))\n",
    "    return percentage_vaccinated"
   ]
  },
  {
   "cell_type": "code",
   "execution_count": 6,
   "metadata": {},
   "outputs": [],
   "source": [
    "# Function to calculate vaccination coverage for each child_gender between specific age group\n",
    "def calculate_vaccination_coverage_child_gender(df, gender, vaccine_column):\n",
    "    filtered_df = df[(df['UB2']==1) & (df['gender']== gender)]\n",
    "\n",
    "    # Calculate the percentage of children vaccinated with the specified vaccine\n",
    "    # Count non-null values in the vaccine_column\n",
    "    weighted_percentage = round(filtered_df[ vaccine_column].mean() * 100, 1)\n",
    "    #print(\"Weighted percentage of '{}' if 'UB2' is 1: {}\".format(vaccine_column, weighted_percentage))                  \n",
    "    return weighted_percentage\n"
   ]
  },
  {
   "cell_type": "code",
   "execution_count": 7,
   "metadata": {},
   "outputs": [],
   "source": [
    "def calculate_vaccination_coverage_district(df, district, vaccine_column):\n",
    "    # Filter rows where district matches\n",
    "    filtered_df = df[(df['UB2']==1) & (df['district'] == district)]\n",
    "    total_children = filtered_df[vaccine_column].count()  # Count non-null values in the vaccine_column\n",
    "    if total_children == 0:\n",
    "        print(\"No children found for the specified district: {}.\".format(district))\n",
    "        return 0\n",
    "    percentage_vaccinated = round(filtered_df[vaccine_column].mean() * 100, 1)\n",
    "    return percentage_vaccinated"
   ]
  },
  {
   "cell_type": "markdown",
   "metadata": {},
   "source": [
    "# Reading the dataframe"
   ]
  },
  {
   "cell_type": "code",
   "execution_count": 8,
   "metadata": {},
   "outputs": [],
   "source": [
    "df, meta = pyreadstat.read_sav(\"C:/Users/swalke/Desktop/RISP/Pakistan Punjab 2017-18 MICS6 Datasets/ch.sav\")"
   ]
  },
  {
   "cell_type": "code",
   "execution_count": 7,
   "metadata": {},
   "outputs": [],
   "source": [
    "#df['chweight']=df['chweight']/1000000"
   ]
  },
  {
   "cell_type": "code",
   "execution_count": 122,
   "metadata": {},
   "outputs": [
    {
     "data": {
      "text/plain": [
       "{0.0: 'NOT GIVEN',\n",
       " 44.0: 'MARKED ON CARD',\n",
       " 66.0: 'MOTHER REPORTED',\n",
       " 97.0: 'Inconsistent',\n",
       " 98.0: 'DK',\n",
       " 99.0: 'NO RESPONSE'}"
      ]
     },
     "execution_count": 122,
     "metadata": {},
     "output_type": "execute_result"
    }
   ],
   "source": [
    "# Access variable labels\n",
    "variable_labels = meta.column_labels\n",
    "\n",
    "# Access value labels for a specific variable\n",
    "value_labels = meta.variable_value_labels.get(\"IM6BD\")\n",
    "value_labels"
   ]
  },
  {
   "cell_type": "code",
   "execution_count": 119,
   "metadata": {},
   "outputs": [
    {
     "data": {
      "text/plain": [
       "IM11\n",
       "1.0    3964\n",
       "2.0    1959\n",
       "9.0      61\n",
       "8.0      40\n",
       "Name: count, dtype: int64"
      ]
     },
     "execution_count": 119,
     "metadata": {},
     "output_type": "execute_result"
    }
   ],
   "source": [
    "df['IM11'].value_counts()"
   ]
  },
  {
   "cell_type": "code",
   "execution_count": 120,
   "metadata": {},
   "outputs": [
    {
     "data": {
      "text/plain": [
       "IM2\n",
       "1.0    17245\n",
       "4.0     5324\n",
       "3.0      976\n",
       "2.0      222\n",
       "9.0       86\n",
       "Name: count, dtype: int64"
      ]
     },
     "execution_count": 120,
     "metadata": {},
     "output_type": "execute_result"
    }
   ],
   "source": [
    "df['IM2'].value_counts()"
   ]
  },
  {
   "cell_type": "code",
   "execution_count": 9,
   "metadata": {},
   "outputs": [],
   "source": [
    "# Define mapping variables\n",
    "day_mapping = {0.0: False, range(1, 67): True, 97.0:True, 98.0:np.nan, 99.0: np.nan}\n",
    "month_mapping ={0.0: False, range(1, 67): True, 99.0: np.nan, 97.0:True,98.0:np.nan,}\n",
    "year_mapping = {2014.0:True, 2015.0:True, 2016.0:True, 2017.0:True, 2018.0:True, 2019.0:True, 4444.0:True,9997.0:True, 6666.0:True, 9999.0:np.nan}"
   ]
  },
  {
   "cell_type": "code",
   "execution_count": 10,
   "metadata": {},
   "outputs": [],
   "source": [
    "df['card'] = df['IM2'].replace({1:True, 2:True, 3:True, 4:False, 9:np.nan})"
   ]
  },
  {
   "cell_type": "code",
   "execution_count": 11,
   "metadata": {},
   "outputs": [],
   "source": [
    "df['recall'] = df['IM11'].replace({1:True, 2: False, 8: np.nan, 9: np.nan})"
   ]
  },
  {
   "cell_type": "code",
   "execution_count": 13,
   "metadata": {},
   "outputs": [],
   "source": [
    "df['bcgday'] = df['IM6BD'].replace(day_mapping)\n",
    "df['bcgmonth'] = df['IM6BM'].replace(month_mapping)\n",
    "df['bcgyr'] = df['IM6BY'].replace(year_mapping)\n",
    "\n",
    "df['polio0day'] = df['IM6P0D'].replace(day_mapping)\n",
    "df['polio0month'] = df['IM6P0M'].replace(month_mapping)\n",
    "df['polio0yr'] = df['IM6P0Y'].replace(year_mapping)\n",
    "\n",
    "\n",
    "df['polio1day'] = df['IM6P1D'].replace(day_mapping)\n",
    "df['polio1month'] = df['IM6P1M'].replace(month_mapping)\n",
    "df['polio1yr'] = df['IM6P1Y'].replace(year_mapping)\n",
    "\n",
    "df['polio2day'] = df['IM6P2D'].replace(day_mapping)\n",
    "df['polio2month'] = df['IM6P2M'].replace(month_mapping)\n",
    "df['polio2yr'] = df['IM6P2Y'].replace(year_mapping)\n",
    "\n",
    "\n",
    "df['polio3day'] = df['IM6P3D'].replace(day_mapping)\n",
    "df['polio3month'] = df['IM6P3M'].replace(month_mapping)\n",
    "df['polio3yr'] = df['IM6P3Y'].replace(year_mapping)\n",
    "\n",
    "\n",
    "df['ipvday'] = df['IM6ID'].replace(day_mapping)\n",
    "df['ipvmonth'] = df['IM6IM'].replace(month_mapping)\n",
    "df['ipvyr'] = df['IM6IY'].replace(year_mapping)\n",
    "\n",
    "\n",
    "df['penta1day'] = df['IM6PENTA1D'].replace(day_mapping)\n",
    "df['penta1month'] = df['IM6PENTA1M'].replace(month_mapping)\n",
    "df['penta1yr'] = df['IM6PENTA1Y'].replace(year_mapping)\n",
    "\n",
    "\n",
    "df['penta2day'] = df['IM6PENTA2D'].replace(day_mapping)\n",
    "df['penta2month'] = df['IM6PENTA2M'].replace(month_mapping)\n",
    "df['penta2yr'] = df['IM6PENTA2Y'].replace(year_mapping)\n",
    "\n",
    "\n",
    "df['penta3day'] = df['IM6PENTA3D'].replace(day_mapping)\n",
    "df['penta3month'] = df['IM6PENTA3M'].replace(month_mapping)\n",
    "df['penta3yr'] = df['IM6PENTA3Y'].replace(year_mapping)\n",
    "\n",
    "df['mcvday'] = df['IM6M1D'].replace(day_mapping)\n",
    "df['mcvmonth'] = df['IM6M1M'].replace(month_mapping)\n",
    "df['mcvyr'] = df['IM6M1Y'].replace(year_mapping)\n",
    "\n",
    "\n",
    "#df['yfday'] = df['IM6YD'].replace(day_mapping)\n",
    "#df['yfmonth'] = df['IM6YM'].replace(month_mapping)\n",
    "#df['yfyr'] = df['IM6YY'].replace(year_mapping)\n",
    "\n",
    "df['pcv1day'] = df['IM6PCV1D'].replace(day_mapping)\n",
    "df['pcv1month'] = df['IM6PCV1M'].replace(month_mapping)\n",
    "df['pcv1yr'] = df['IM6PCV1Y'].replace(year_mapping)\n",
    "\n",
    "df['pcv2day'] = df['IM6PCV2D'].replace(day_mapping)\n",
    "df['pcv2month'] = df['IM6PCV2M'].replace(month_mapping)\n",
    "df['pcv2yr'] = df['IM6PCV2Y'].replace(year_mapping)\n",
    "\n",
    "df['pcv3day'] = df['IM6PCV3D'].replace(day_mapping)\n",
    "df['pcv3month'] = df['IM6PCV3M'].replace(month_mapping)\n",
    "df['pcv3yr'] = df['IM6PCV3Y'].replace(year_mapping)"
   ]
  },
  {
   "cell_type": "markdown",
   "metadata": {},
   "source": [
    "# BCG"
   ]
  },
  {
   "cell_type": "code",
   "execution_count": 14,
   "metadata": {},
   "outputs": [],
   "source": [
    "df['bcg_card'] = df[['bcgday', 'bcgmonth','bcgyr']].max(axis=1)\n",
    "df.loc[df['card'] == 0, 'bcg_card'] = 0\n",
    "\n",
    "df['bcg_recall'] = df['IM14'].replace({1: 1, 2: 0,8: np.nan, 9: np.nan})\n",
    "df.loc[df['recall'] == 0, 'bcg_recall'] = 0\n",
    "\n",
    "df['bcg'] = df[['bcg_card', 'bcg_recall']].max(axis=1)\n",
    "df['bcg_sampled']=df['bcg']*df['chweight']"
   ]
  },
  {
   "cell_type": "code",
   "execution_count": 12,
   "metadata": {},
   "outputs": [
    {
     "data": {
      "text/plain": [
       "bcg_card\n",
       "True    17735\n",
       "0        5418\n",
       "Name: count, dtype: int64"
      ]
     },
     "execution_count": 12,
     "metadata": {},
     "output_type": "execute_result"
    }
   ],
   "source": [
    "df['bcg_card'].value_counts()"
   ]
  },
  {
   "cell_type": "code",
   "execution_count": 13,
   "metadata": {},
   "outputs": [
    {
     "data": {
      "text/plain": [
       "bcg_recall\n",
       "1.0    3776\n",
       "0.0    2152\n",
       "Name: count, dtype: int64"
      ]
     },
     "execution_count": 13,
     "metadata": {},
     "output_type": "execute_result"
    }
   ],
   "source": [
    "df['bcg_recall'].value_counts()"
   ]
  },
  {
   "cell_type": "code",
   "execution_count": 14,
   "metadata": {},
   "outputs": [
    {
     "data": {
      "text/plain": [
       "{1.0: 'YES', 2.0: 'NO', 8.0: 'DK', 9.0: 'NO RESPONSE'}"
      ]
     },
     "execution_count": 14,
     "metadata": {},
     "output_type": "execute_result"
    }
   ],
   "source": [
    "# Access variable labels\n",
    "variable_labels = meta.column_labels\n",
    "\n",
    "# Access value labels for a specific variable\n",
    "value_labels = meta.variable_value_labels.get(\"IM14\")\n",
    "value_labels"
   ]
  },
  {
   "cell_type": "code",
   "execution_count": 38,
   "metadata": {},
   "outputs": [
    {
     "name": "stdout",
     "output_type": "stream",
     "text": [
      "Weighted percentage of 'bcg_sampled' if 'UB2' is 1: 92.7\n"
     ]
    }
   ],
   "source": [
    "calculate_weighted_percentage(df, 'bcg_sampled')"
   ]
  },
  {
   "cell_type": "markdown",
   "metadata": {},
   "source": [
    "# Polio"
   ]
  },
  {
   "cell_type": "code",
   "execution_count": 16,
   "metadata": {},
   "outputs": [
    {
     "data": {
      "text/plain": [
       "{1.0: 'YES', 2.0: 'NO', 8.0: 'DK', 9.0: 'NO RESPONSE'}"
      ]
     },
     "execution_count": 16,
     "metadata": {},
     "output_type": "execute_result"
    }
   ],
   "source": [
    "# Access variable labels\n",
    "variable_labels = meta.column_labels\n",
    "\n",
    "# Access value labels for a specific variable\n",
    "value_labels = meta.variable_value_labels.get(\"IM14\")\n",
    "value_labels"
   ]
  },
  {
   "cell_type": "code",
   "execution_count": 28,
   "metadata": {},
   "outputs": [],
   "source": [
    "#polio0\n",
    "df['polio0_card'] = df[['polio0day', 'polio0month','polio0yr']].max(axis=1)\n",
    "df.loc[df['card'] == False, 'polio0_card'] = False\n",
    "\n",
    "df['polio0_recall1'] = df['IM17'].replace({1: 1, 2: 0, 3: 0, 4: 0, 5: 0, 6: 0, 7: 0, 8: np.nan, 9: np.nan})\n",
    "df.loc[df['recall'] == False, 'polio0_recall1'] = False\n",
    "\n",
    "\n",
    "df['polio0'] = df[['polio0_card','polio0_recall1']].max(axis=1)\n",
    "df['polio0_sampled']=df['polio0']*df['chweight']"
   ]
  },
  {
   "cell_type": "code",
   "execution_count": 16,
   "metadata": {},
   "outputs": [],
   "source": [
    "#Polio1\n",
    "df['polio1_card'] = df[['polio1day', 'polio1month','polio1yr']].max(axis=1)\n",
    "df.loc[df['card'] == False, 'polio1_card'] = False\n",
    "\n",
    "df['polio1_recall1'] = df['IM18'].replace({1: 1, 2: 1, 3: 1, 4: 1, 5: 1, 6: 1, 7: 1, 8: np.nan, 9: np.nan})\n",
    "df.loc[df['recall'] == False, 'polio1_recall1'] = False\n",
    "\n",
    "\n",
    "df['polio1'] = df[['polio1_card','polio1_recall1']].max(axis=1)\n",
    "df['polio1_sampled']=df['polio1']*df['chweight']"
   ]
  },
  {
   "cell_type": "code",
   "execution_count": 17,
   "metadata": {},
   "outputs": [
    {
     "name": "stdout",
     "output_type": "stream",
     "text": [
      "Weighted percentage of 'polio1' if 'UB2' is 1: 87.3\n"
     ]
    }
   ],
   "source": [
    "calculate_weighted_percentage(df, 'polio1')"
   ]
  },
  {
   "cell_type": "code",
   "execution_count": 18,
   "metadata": {},
   "outputs": [],
   "source": [
    "#Polio2\n",
    "df['polio2_card'] = df[['polio2day', 'polio2month','polio2yr']].max(axis=1)\n",
    "df.loc[df['card'] == False, 'polio2_card'] = False\n",
    "\n",
    "df['polio2_recall'] = df['IM18'].replace({1: 0, 2: 1, 3: 1, 4: 1, 5: 1, 6: 1, 7: 1, 8: np.nan, 9: np.nan})\n",
    "df.loc[df['recall'] == False, 'polio2_recall'] = False\n",
    "\n",
    "df['polio2'] = df[['polio2_card','polio2_recall']].max(axis=1)\n",
    "df['polio2_sampled']=df['polio2']*df['chweight']"
   ]
  },
  {
   "cell_type": "code",
   "execution_count": 19,
   "metadata": {},
   "outputs": [],
   "source": [
    "#Polio3\n",
    "df['polio3_card'] = df[['polio3day', 'polio3month','polio3yr']].max(axis=1)\n",
    "df.loc[df['card'] == False, 'polio3_card'] = False\n",
    "\n",
    "df['polio3_recall'] = df['IM18'].replace({1: 0, 2: 0, 3: 1, 4: 1, 5: 1, 6: 1, 7: 1, 8: np.nan, 9: np.nan})\n",
    "df.loc[df['recall'] == False, 'polio3_recall'] = False\n",
    "\n",
    "df['polio3'] = df[['polio3_card','polio3_recall']].max(axis=1)\n",
    "df['polio3_sampled']=df['polio3']*df['chweight']"
   ]
  },
  {
   "cell_type": "markdown",
   "metadata": {},
   "source": [
    "# Penta"
   ]
  },
  {
   "cell_type": "code",
   "execution_count": 20,
   "metadata": {},
   "outputs": [],
   "source": [
    "#penta1\n",
    "\n",
    "df['penta1_card'] = df[['penta1day', 'penta1month','penta1yr']].max(axis=1)\n",
    "df.loc[df['card'] == False, 'penta1_card'] = False\n",
    "\n",
    "df['penta1_recall'] = df['IM21'].replace({1: 1, 2: 1, 3: 1, 4: 1, 5: 1, 6: 1, 7: 1, 8: np.nan, 9: np.nan})\n",
    "df.loc[df['recall'] == False, 'polio1_recall'] = False\n",
    "\n",
    "df['penta1'] = df[['penta1_card', 'penta1_recall']].max(axis=1)\n",
    "df['penta1_sampled']=df['penta1']*df['chweight']"
   ]
  },
  {
   "cell_type": "code",
   "execution_count": 21,
   "metadata": {},
   "outputs": [],
   "source": [
    "# penta2\n",
    "df['penta2_card'] = df[['penta2day', 'penta2month','penta2yr']].max(axis=1)\n",
    "df.loc[df['card'] == False, 'penta2_card'] = False\n",
    "\n",
    "df['penta2_recall'] = df['IM21'].replace({1: 0, 2: 1, 3: 1, 4: 1, 5: 1, 6: 1, 7: 1, 8: np.nan, 9: np.nan})\n",
    "df.loc[df['recall'] == False, 'polio1_recall'] = False\n",
    "\n",
    "df['penta2'] = df[['penta2_card', 'penta2_recall']].max(axis=1)\n",
    "df['penta2_sampled']=df['penta2']*df['chweight']"
   ]
  },
  {
   "cell_type": "code",
   "execution_count": 22,
   "metadata": {},
   "outputs": [],
   "source": [
    "# penta3\n",
    "df['penta3_card'] = df[['penta3day', 'penta3month','penta3yr']].max(axis=1)\n",
    "df.loc[df['card'] == False, 'penta3_card'] = False\n",
    "\n",
    "df['penta3_recall'] = df['IM21'].replace({1: 0, 2: 0, 3: 1, 4: 1, 5: 1, 6: 1, 7: 1, 8: np.nan, 9: np.nan})\n",
    "df.loc[df['recall'] == False, 'polio1_recall'] = False\n",
    "\n",
    "df['penta3'] = df[['penta3_card', 'penta3_recall']].max(axis=1)\n",
    "df['penta3_sampled']=df['penta3']*df['chweight']"
   ]
  },
  {
   "cell_type": "markdown",
   "metadata": {},
   "source": [
    "# Yellow Fever"
   ]
  },
  {
   "cell_type": "markdown",
   "metadata": {},
   "source": [
    "# PCV"
   ]
  },
  {
   "cell_type": "code",
   "execution_count": 23,
   "metadata": {},
   "outputs": [],
   "source": [
    "#pcv1\n",
    "df['pcv1_card'] = df[['pcv1day', 'pcv1month','pcv1yr']].max(axis=1)\n",
    "df.loc[df['card'] == False, 'pcv1_card'] = False\n",
    "\n",
    "df['pcv1_recall1'] = df['IM23'].replace({1: 1, 2: 1, 3: 1, 4: 1, 5: 1, 6: 1, 7: 1, 8: np.nan, 9: np.nan})\n",
    "df.loc[df['recall'] == False, 'pcv1_recall1'] = False\n",
    "\n",
    "df['pcv1'] = df[['pcv1_card','pcv1_recall1']].max(axis=1)\n",
    "df['pcv1_sampled']=df['pcv1']*df['chweight']\n",
    "\n",
    "\n"
   ]
  },
  {
   "cell_type": "code",
   "execution_count": 24,
   "metadata": {},
   "outputs": [],
   "source": [
    "#pcv2\n",
    "df['pcv2_card'] = df[['pcv2day', 'pcv2month','pcv2yr']].max(axis=1)\n",
    "df.loc[df['card'] == False, 'pcv2_card'] = False\n",
    "\n",
    "df['pcv2_recall'] = df['IM23'].replace({1: 0, 2: 1, 3: 1, 4: 1, 5: 1, 6: 1, 7: 1, 8: np.nan, 9: np.nan})\n",
    "df.loc[df['recall'] == False, 'pcv2_recall'] = False\n",
    "\n",
    "df['pcv2'] = df[['pcv2_card','pcv2_recall']].max(axis=1)\n",
    "df['pcv2_sampled']=df['pcv2']*df['chweight']"
   ]
  },
  {
   "cell_type": "code",
   "execution_count": 25,
   "metadata": {},
   "outputs": [],
   "source": [
    "\n",
    "#pcv3\n",
    "df['pcv3_card'] = df[['pcv3day', 'pcv3month','pcv3yr']].max(axis=1)\n",
    "df.loc[df['card'] == False, 'pcv3_card'] = False\n",
    "\n",
    "df['pcv3_recall'] = df['IM23'].replace({1: 0, 2: 0, 3: 1, 4: 1, 5: 1, 6: 1, 7: 1, 8: np.nan, 9: np.nan})\n",
    "df.loc[df['recall'] == False, 'pcv3_recall'] = False\n",
    "\n",
    "df['pcv3'] = df[['pcv3_card','pcv3_recall']].max(axis=1)\n",
    "df['pcv3_sampled']=df['pcv3']*df['chweight']"
   ]
  },
  {
   "cell_type": "markdown",
   "metadata": {},
   "source": [
    "# IPV"
   ]
  },
  {
   "cell_type": "code",
   "execution_count": 26,
   "metadata": {},
   "outputs": [],
   "source": [
    "df['ipv'] = df[['ipvday', 'ipvmonth','ipvyr']].max(axis=1)\n",
    "df.loc[df['card'] == False, 'ipv'] = False\n",
    "\n",
    "#df['ipv_recall'] = df['IM23'].replace({1: 0, 2: 0, 3: 1, 4: 1, 5: 1, 6: 1, 7: 1, 8: np.nan, 9: np.nan})\n",
    "#df.loc[df['recall'] == False, 'ipv_recall'] = False\n",
    "\n",
    "#df['ipv'] = df[['ipv_card','ipv_recall']].max(axis=1)\n",
    "df['ipv_sampled']=df['ipv']*df['chweight']"
   ]
  },
  {
   "cell_type": "markdown",
   "metadata": {},
   "source": [
    "# mcv"
   ]
  },
  {
   "cell_type": "code",
   "execution_count": 27,
   "metadata": {},
   "outputs": [],
   "source": [
    "df['mcv_card'] = df[['mcvday', 'mcvmonth','mcvyr']].max(axis=1)\n",
    "df.loc[df['card'] == False, 'mcv_card'] = False\n",
    "\n",
    "df['mcv_recall'] = df['IM26'].replace({1: 1, 2: 0, 8: np.nan, 9: np.nan})\n",
    "df.loc[df['recall'] == False, 'mcv_recall'] = False\n",
    "\n",
    "df['mcv'] = df[['mcv_card','mcv_recall']].max(axis=1)\n",
    "df['mcv_sampled']=df['mcv']*df['chweight']"
   ]
  },
  {
   "cell_type": "markdown",
   "metadata": {},
   "source": [
    "# Vaccination Calulations"
   ]
  },
  {
   "cell_type": "code",
   "execution_count": 30,
   "metadata": {},
   "outputs": [
    {
     "name": "stdout",
     "output_type": "stream",
     "text": [
      "Weighted percentage of 'bcg_sampled' if 'UB2' is 1: 92.7\n",
      "Weighted percentage of 'polio0_sampled' if 'UB2' is 1: 91.2\n",
      "Weighted percentage of 'polio1_sampled' if 'UB2' is 1: 87.1\n",
      "Weighted percentage of 'polio3_sampled' if 'UB2' is 1: 81.2\n",
      "Weighted percentage of 'penta1_sampled' if 'UB2' is 1: 91.4\n",
      "Weighted percentage of 'penta3_sampled' if 'UB2' is 1: 86.0\n",
      "Weighted percentage of 'pcv1_sampled' if 'UB2' is 1: 88.8\n",
      "Weighted percentage of 'pcv3_sampled' if 'UB2' is 1: 83.8\n",
      "Weighted percentage of 'mcv_sampled' if 'UB2' is 1: 81.4\n",
      "Weighted percentage of 'ipv_sampled' if 'UB2' is 1: 75.2\n"
     ]
    }
   ],
   "source": [
    "calculate_weighted_percentage(df, 'bcg_sampled')\n",
    "calculate_weighted_percentage(df, 'polio0_sampled')\n",
    "calculate_weighted_percentage(df, 'polio1_sampled')\n",
    "calculate_weighted_percentage(df, 'polio3_sampled')\n",
    "calculate_weighted_percentage(df, 'penta1_sampled')\n",
    "calculate_weighted_percentage(df, 'penta3_sampled')\n",
    "#calculate_weighted_percentage(df, 'yf_sampled')\n",
    "calculate_weighted_percentage(df, 'pcv1_sampled')\n",
    "calculate_weighted_percentage(df, 'pcv3_sampled')\n",
    "calculate_weighted_percentage(df, 'mcv_sampled')\n",
    "calculate_weighted_percentage(df, 'ipv_sampled')"
   ]
  },
  {
   "cell_type": "code",
   "execution_count": 30,
   "metadata": {},
   "outputs": [
    {
     "name": "stdout",
     "output_type": "stream",
     "text": [
      "Weighted percentage of 'bcg' if 'UB2' is 1: 93.0\n",
      "Weighted percentage of 'polio1' if 'UB2' is 1: 87.3\n",
      "Weighted percentage of 'polio3' if 'UB2' is 1: 81.9\n",
      "Weighted percentage of 'penta1' if 'UB2' is 1: 91.5\n",
      "Weighted percentage of 'penta3' if 'UB2' is 1: 86.4\n",
      "Weighted percentage of 'pcv1' if 'UB2' is 1: 89.1\n",
      "Weighted percentage of 'pcv3' if 'UB2' is 1: 84.4\n",
      "Weighted percentage of 'measles' if 'UB2' is 1: 82.1\n",
      "Weighted percentage of 'ipv' if 'UB2' is 1: 76.0\n"
     ]
    }
   ],
   "source": [
    "calculate_weighted_percentage(df, 'bcg')\n",
    "calculate_weighted_percentage(df, 'polio1')\n",
    "calculate_weighted_percentage(df, 'polio3')\n",
    "calculate_weighted_percentage(df, 'penta1')\n",
    "calculate_weighted_percentage(df, 'penta3')\n",
    "#calculate_weighted_percentage(df, 'yf_sampled')\n",
    "calculate_weighted_percentage(df, 'pcv1')\n",
    "calculate_weighted_percentage(df, 'pcv3')\n",
    "calculate_weighted_percentage(df, 'mcv')\n",
    "calculate_weighted_percentage(df, 'ipv')"
   ]
  },
  {
   "cell_type": "code",
   "execution_count": 34,
   "metadata": {},
   "outputs": [],
   "source": [
    "# rename columns in dataframe\n",
    "df = df.rename(columns={'HL4': 'gender','HH6':'residence','hh7':'region','division':'district'})"
   ]
  },
  {
   "cell_type": "code",
   "execution_count": 31,
   "metadata": {},
   "outputs": [
    {
     "data": {
      "text/plain": [
       "{1.0: 'Bahawalpur',\n",
       " 2.0: 'DG Khan',\n",
       " 3.0: 'Faisalabad',\n",
       " 4.0: 'Gujranwala',\n",
       " 5.0: 'Lahore',\n",
       " 6.0: 'Multan',\n",
       " 7.0: 'Rawalpindi',\n",
       " 8.0: 'Sahiwal',\n",
       " 9.0: 'Sargodha'}"
      ]
     },
     "execution_count": 31,
     "metadata": {},
     "output_type": "execute_result"
    }
   ],
   "source": [
    "# Access variable labels\n",
    "variable_labels = meta.column_labels\n",
    "\n",
    "# Access value labels for a specific variable\n",
    "value_labels = meta.variable_value_labels.get(\"division\")\n",
    "value_labels"
   ]
  },
  {
   "cell_type": "code",
   "execution_count": 32,
   "metadata": {},
   "outputs": [],
   "source": [
    "# List of Region\n",
    "region_mapping = {1.0: 'Bahawalpur',\n",
    " 2.0: 'Bahawalnagar',\n",
    " 3.0: 'RY Khan',\n",
    " 4.0: 'DG Khan',\n",
    " 5.0: 'Layyah',\n",
    " 6.0: 'Muzaffargarh',\n",
    " 7.0: 'Rajanpur',\n",
    " 8.0: 'Faisalabad',\n",
    " 9.0: 'Chiniot',\n",
    " 10.0: 'Jhang',\n",
    " 11.0: 'TT Singh',\n",
    " 12.0: 'Gujranwala',\n",
    " 13.0: 'Gujrat',\n",
    " 14.0: 'Hafizabad',\n",
    " 15.0: 'Mandi Bahauddin',\n",
    " 16.0: 'Narowal',\n",
    " 17.0: 'Sialkot',\n",
    " 18.0: 'Lahore',\n",
    " 19.0: 'Kasur',\n",
    " 20.0: 'Nankana Sahib',\n",
    " 21.0: 'Sheikhupura',\n",
    " 22.0: 'Multan',\n",
    " 23.0: 'Khanewal',\n",
    " 24.0: 'Lodhran',\n",
    " 25.0: 'Vehari',\n",
    " 26.0: 'Rawalpindi',\n",
    " 27.0: 'Attock',\n",
    " 28.0: 'Chakwal',\n",
    " 29.0: 'Jhelum',\n",
    " 30.0: 'Sahiwal',\n",
    " 31.0: 'Okara',\n",
    " 32.0: 'Pakpattan',\n",
    " 33.0: 'Sargodha',\n",
    " 34.0: 'Bhakkar',\n",
    " 35.0: 'Khushab',\n",
    " 36.0: 'Mianwali'}\n",
    "residence_mapping = {1.0: 'Urban', 2.0: 'Rural'}\n",
    "gender_mapping = {1.0: 'Male', 2.0: 'Female'}\n",
    "district_mapping= {1.0: 'Bahawalpur',\n",
    " 2.0: 'DG Khan',\n",
    " 3.0: 'Faisalabad',\n",
    " 4.0: 'Gujranwala',\n",
    " 5.0: 'Lahore',\n",
    " 6.0: 'Multan',\n",
    " 7.0: 'Rawalpindi',\n",
    " 8.0: 'Sahiwal',\n",
    " 9.0: 'Sargodha'}"
   ]
  },
  {
   "cell_type": "code",
   "execution_count": 35,
   "metadata": {},
   "outputs": [],
   "source": [
    "# Apply mappings to DataFrame columns\n",
    "df['gender'] = df['gender'].replace(gender_mapping)\n",
    "df['region'] = df['region'].replace(region_mapping)\n",
    "df['residence'] = df['residence'].replace(residence_mapping)\n",
    "df['district']=df['district'].replace(district_mapping)"
   ]
  },
  {
   "cell_type": "code",
   "execution_count": 36,
   "metadata": {},
   "outputs": [],
   "source": [
    "# List of vaccines\n",
    "vaccines = ['bcg_sampled','polio0_sampled','polio1_sampled','polio3_sampled','penta1_sampled','penta3_sampled','pcv1_sampled','pcv3_sampled','mcv_sampled','ipv_sampled']"
   ]
  },
  {
   "cell_type": "code",
   "execution_count": 37,
   "metadata": {},
   "outputs": [],
   "source": [
    "# List of vaccines\n",
    "vaccines1 = ['bcg','polio0','polio1','polio3','penta1','penta3','pcv1','pcv3','mcv','ipv']"
   ]
  },
  {
   "cell_type": "code",
   "execution_count": 38,
   "metadata": {},
   "outputs": [],
   "source": [
    "regions=['Bahawalpur',\n",
    "'Bahawalnagar',\n",
    "'RY Khan',\n",
    "'DG Khan',\n",
    "'Layyah',\n",
    "'Muzaffargarh',\n",
    "'Rajanpur',\n",
    "'Faisalabad',\n",
    "'Chiniot',\n",
    "'Jhang',\n",
    "'TT Singh',\n",
    "'Gujranwala',\n",
    "'Gujrat',\n",
    "'Hafizabad',\n",
    "'Mandi Bahauddin',\n",
    "'Narowal',\n",
    "'Sialkot',\n",
    "'Lahore',\n",
    "'Kasur',\n",
    "'Nankana Sahib',\n",
    "'Sheikhupura',\n",
    "'Multan',\n",
    "'Khanewal',\n",
    "'Lodhran',\n",
    "'Vehari',\n",
    "'Rawalpindi',\n",
    "'Attock',\n",
    "'Chakwal',\n",
    "'Jhelum',\n",
    "'Sahiwal',\n",
    "'Okara',\n",
    "'Pakpattan',\n",
    "'Sargodha',\n",
    "'Bhakkar',\n",
    "'Khushab',\n",
    "'Mianwali']"
   ]
  },
  {
   "cell_type": "code",
   "execution_count": 39,
   "metadata": {},
   "outputs": [],
   "source": [
    "# List of genders\n",
    "genders = ['Male','Female']"
   ]
  },
  {
   "cell_type": "code",
   "execution_count": 40,
   "metadata": {},
   "outputs": [],
   "source": [
    "residences=['Urban','Rural']"
   ]
  },
  {
   "cell_type": "code",
   "execution_count": 42,
   "metadata": {},
   "outputs": [],
   "source": [
    "districts=['Bahawalpur','DG Khan','Faisalabad','Gujranwala','Lahore','Multan','Rawalpindi','Sahiwal','Sargodha']"
   ]
  },
  {
   "cell_type": "code",
   "execution_count": 43,
   "metadata": {},
   "outputs": [
    {
     "data": {
      "text/plain": [
       "gender\n",
       "Male      21836\n",
       "Female    20572\n",
       "Name: count, dtype: int64"
      ]
     },
     "execution_count": 43,
     "metadata": {},
     "output_type": "execute_result"
    }
   ],
   "source": [
    "df['gender'].value_counts()"
   ]
  },
  {
   "cell_type": "code",
   "execution_count": 44,
   "metadata": {},
   "outputs": [
    {
     "data": {
      "text/html": [
       "<div>\n",
       "<style scoped>\n",
       "    .dataframe tbody tr th:only-of-type {\n",
       "        vertical-align: middle;\n",
       "    }\n",
       "\n",
       "    .dataframe tbody tr th {\n",
       "        vertical-align: top;\n",
       "    }\n",
       "\n",
       "    .dataframe thead th {\n",
       "        text-align: right;\n",
       "    }\n",
       "</style>\n",
       "<table border=\"1\" class=\"dataframe\">\n",
       "  <thead>\n",
       "    <tr style=\"text-align: right;\">\n",
       "      <th>gender</th>\n",
       "      <th>Female</th>\n",
       "      <th>Male</th>\n",
       "    </tr>\n",
       "    <tr>\n",
       "      <th>Vaccine</th>\n",
       "      <th></th>\n",
       "      <th></th>\n",
       "    </tr>\n",
       "  </thead>\n",
       "  <tbody>\n",
       "    <tr>\n",
       "      <th>bcg_sampled</th>\n",
       "      <td>92.6</td>\n",
       "      <td>92.8</td>\n",
       "    </tr>\n",
       "    <tr>\n",
       "      <th>ipv_sampled</th>\n",
       "      <td>74.1</td>\n",
       "      <td>76.3</td>\n",
       "    </tr>\n",
       "    <tr>\n",
       "      <th>mcv_sampled</th>\n",
       "      <td>79.8</td>\n",
       "      <td>82.9</td>\n",
       "    </tr>\n",
       "    <tr>\n",
       "      <th>pcv1_sampled</th>\n",
       "      <td>88.9</td>\n",
       "      <td>88.8</td>\n",
       "    </tr>\n",
       "    <tr>\n",
       "      <th>pcv3_sampled</th>\n",
       "      <td>83.5</td>\n",
       "      <td>84.1</td>\n",
       "    </tr>\n",
       "    <tr>\n",
       "      <th>penta1_sampled</th>\n",
       "      <td>91.5</td>\n",
       "      <td>91.3</td>\n",
       "    </tr>\n",
       "    <tr>\n",
       "      <th>penta3_sampled</th>\n",
       "      <td>85.4</td>\n",
       "      <td>86.5</td>\n",
       "    </tr>\n",
       "    <tr>\n",
       "      <th>polio0_sampled</th>\n",
       "      <td>90.7</td>\n",
       "      <td>91.8</td>\n",
       "    </tr>\n",
       "    <tr>\n",
       "      <th>polio1_sampled</th>\n",
       "      <td>86.6</td>\n",
       "      <td>87.5</td>\n",
       "    </tr>\n",
       "    <tr>\n",
       "      <th>polio3_sampled</th>\n",
       "      <td>80.3</td>\n",
       "      <td>82.1</td>\n",
       "    </tr>\n",
       "  </tbody>\n",
       "</table>\n",
       "</div>"
      ],
      "text/plain": [
       "gender          Female  Male\n",
       "Vaccine                     \n",
       "bcg_sampled       92.6  92.8\n",
       "ipv_sampled       74.1  76.3\n",
       "mcv_sampled       79.8  82.9\n",
       "pcv1_sampled      88.9  88.8\n",
       "pcv3_sampled      83.5  84.1\n",
       "penta1_sampled    91.5  91.3\n",
       "penta3_sampled    85.4  86.5\n",
       "polio0_sampled    90.7  91.8\n",
       "polio1_sampled    86.6  87.5\n",
       "polio3_sampled    80.3  82.1"
      ]
     },
     "execution_count": 44,
     "metadata": {},
     "output_type": "execute_result"
    }
   ],
   "source": [
    "# Create an empty list to store the results\n",
    "results = []\n",
    "\n",
    "# Loop through each vaccine and child_gender\n",
    "for vaccine in vaccines:\n",
    "    for gender in genders:\n",
    "        coverage = calculate_vaccination_coverage_child_gender(df, gender, vaccine)\n",
    "        results.append({'Vaccine': vaccine, 'gender': gender, 'Coverage': coverage})\n",
    "\n",
    "# Convert the list of dictionaries into a DataFrame\n",
    "results_df = pd.DataFrame(results)\n",
    "#results_df['Coverage'] = results_df['Coverage'].round(2)\n",
    "# Display the results as a table\n",
    "pivot_table1 = results_df.pivot_table(index='Vaccine', columns='gender', values='Coverage')\n",
    "pivot_table1"
   ]
  },
  {
   "cell_type": "code",
   "execution_count": 47,
   "metadata": {},
   "outputs": [
    {
     "data": {
      "text/html": [
       "<div>\n",
       "<style scoped>\n",
       "    .dataframe tbody tr th:only-of-type {\n",
       "        vertical-align: middle;\n",
       "    }\n",
       "\n",
       "    .dataframe tbody tr th {\n",
       "        vertical-align: top;\n",
       "    }\n",
       "\n",
       "    .dataframe thead th {\n",
       "        text-align: right;\n",
       "    }\n",
       "</style>\n",
       "<table border=\"1\" class=\"dataframe\">\n",
       "  <thead>\n",
       "    <tr style=\"text-align: right;\">\n",
       "      <th>residence</th>\n",
       "      <th>Rural</th>\n",
       "      <th>Urban</th>\n",
       "    </tr>\n",
       "    <tr>\n",
       "      <th>Vaccine</th>\n",
       "      <th></th>\n",
       "      <th></th>\n",
       "    </tr>\n",
       "  </thead>\n",
       "  <tbody>\n",
       "    <tr>\n",
       "      <th>bcg</th>\n",
       "      <td>93.0</td>\n",
       "      <td>92.9</td>\n",
       "    </tr>\n",
       "    <tr>\n",
       "      <th>ipv</th>\n",
       "      <td>76.4</td>\n",
       "      <td>74.7</td>\n",
       "    </tr>\n",
       "    <tr>\n",
       "      <th>mcv</th>\n",
       "      <td>82.0</td>\n",
       "      <td>82.2</td>\n",
       "    </tr>\n",
       "    <tr>\n",
       "      <th>pcv1</th>\n",
       "      <td>89.3</td>\n",
       "      <td>88.7</td>\n",
       "    </tr>\n",
       "    <tr>\n",
       "      <th>pcv3</th>\n",
       "      <td>84.7</td>\n",
       "      <td>83.6</td>\n",
       "    </tr>\n",
       "    <tr>\n",
       "      <th>penta1</th>\n",
       "      <td>91.5</td>\n",
       "      <td>91.7</td>\n",
       "    </tr>\n",
       "    <tr>\n",
       "      <th>penta3</th>\n",
       "      <td>86.5</td>\n",
       "      <td>86.0</td>\n",
       "    </tr>\n",
       "    <tr>\n",
       "      <th>polio0</th>\n",
       "      <td>91.5</td>\n",
       "      <td>91.6</td>\n",
       "    </tr>\n",
       "    <tr>\n",
       "      <th>polio1</th>\n",
       "      <td>87.4</td>\n",
       "      <td>87.2</td>\n",
       "    </tr>\n",
       "    <tr>\n",
       "      <th>polio3</th>\n",
       "      <td>82.4</td>\n",
       "      <td>80.5</td>\n",
       "    </tr>\n",
       "  </tbody>\n",
       "</table>\n",
       "</div>"
      ],
      "text/plain": [
       "residence  Rural  Urban\n",
       "Vaccine                \n",
       "bcg         93.0   92.9\n",
       "ipv         76.4   74.7\n",
       "mcv         82.0   82.2\n",
       "pcv1        89.3   88.7\n",
       "pcv3        84.7   83.6\n",
       "penta1      91.5   91.7\n",
       "penta3      86.5   86.0\n",
       "polio0      91.5   91.6\n",
       "polio1      87.4   87.2\n",
       "polio3      82.4   80.5"
      ]
     },
     "execution_count": 47,
     "metadata": {},
     "output_type": "execute_result"
    }
   ],
   "source": [
    "# Create an empty list to store the results\n",
    "results1 = []\n",
    "\n",
    "# Loop through each vaccine and child_residence\n",
    "for vaccine in vaccines1:\n",
    "    for residence in residences:\n",
    "        coverage = calculate_vaccination_coverage_child_residence(df, residence, vaccine)\n",
    "        results1.append({'Vaccine': vaccine, 'residence': residence, 'Coverage': coverage})\n",
    "\n",
    "# Convert the list of dictionaries into a DataFrame\n",
    "results1_df = pd.DataFrame(results1)\n",
    "#results_df['Coverage'] = results_df['Coverage'].round(2)\n",
    "# Display the results as a table\n",
    "pivot_table1 = results1_df.pivot_table(index='Vaccine', columns='residence', values='Coverage')\n",
    "pivot_table1"
   ]
  },
  {
   "cell_type": "code",
   "execution_count": 55,
   "metadata": {},
   "outputs": [
    {
     "data": {
      "text/html": [
       "<div>\n",
       "<style scoped>\n",
       "    .dataframe tbody tr th:only-of-type {\n",
       "        vertical-align: middle;\n",
       "    }\n",
       "\n",
       "    .dataframe tbody tr th {\n",
       "        vertical-align: top;\n",
       "    }\n",
       "\n",
       "    .dataframe thead th {\n",
       "        text-align: right;\n",
       "    }\n",
       "</style>\n",
       "<table border=\"1\" class=\"dataframe\">\n",
       "  <thead>\n",
       "    <tr style=\"text-align: right;\">\n",
       "      <th>region</th>\n",
       "      <th>Attock</th>\n",
       "      <th>Bahawalnagar</th>\n",
       "      <th>Bahawalpur</th>\n",
       "      <th>Bhakkar</th>\n",
       "      <th>Chakwal</th>\n",
       "      <th>Chiniot</th>\n",
       "      <th>DG Khan</th>\n",
       "      <th>Faisalabad</th>\n",
       "      <th>Gujranwala</th>\n",
       "      <th>Gujrat</th>\n",
       "      <th>...</th>\n",
       "      <th>Pakpattan</th>\n",
       "      <th>RY Khan</th>\n",
       "      <th>Rajanpur</th>\n",
       "      <th>Rawalpindi</th>\n",
       "      <th>Sahiwal</th>\n",
       "      <th>Sargodha</th>\n",
       "      <th>Sheikhupura</th>\n",
       "      <th>Sialkot</th>\n",
       "      <th>TT Singh</th>\n",
       "      <th>Vehari</th>\n",
       "    </tr>\n",
       "    <tr>\n",
       "      <th>Vaccine</th>\n",
       "      <th></th>\n",
       "      <th></th>\n",
       "      <th></th>\n",
       "      <th></th>\n",
       "      <th></th>\n",
       "      <th></th>\n",
       "      <th></th>\n",
       "      <th></th>\n",
       "      <th></th>\n",
       "      <th></th>\n",
       "      <th></th>\n",
       "      <th></th>\n",
       "      <th></th>\n",
       "      <th></th>\n",
       "      <th></th>\n",
       "      <th></th>\n",
       "      <th></th>\n",
       "      <th></th>\n",
       "      <th></th>\n",
       "      <th></th>\n",
       "      <th></th>\n",
       "    </tr>\n",
       "  </thead>\n",
       "  <tbody>\n",
       "    <tr>\n",
       "      <th>bcg</th>\n",
       "      <td>89.6</td>\n",
       "      <td>91.2</td>\n",
       "      <td>92.4</td>\n",
       "      <td>88.6</td>\n",
       "      <td>98.7</td>\n",
       "      <td>94.3</td>\n",
       "      <td>67.5</td>\n",
       "      <td>96.0</td>\n",
       "      <td>92.6</td>\n",
       "      <td>98.6</td>\n",
       "      <td>...</td>\n",
       "      <td>97.5</td>\n",
       "      <td>87.3</td>\n",
       "      <td>85.1</td>\n",
       "      <td>93.6</td>\n",
       "      <td>96.4</td>\n",
       "      <td>97.7</td>\n",
       "      <td>95.0</td>\n",
       "      <td>95.6</td>\n",
       "      <td>95.8</td>\n",
       "      <td>96.0</td>\n",
       "    </tr>\n",
       "    <tr>\n",
       "      <th>ipv</th>\n",
       "      <td>74.3</td>\n",
       "      <td>71.8</td>\n",
       "      <td>67.8</td>\n",
       "      <td>72.4</td>\n",
       "      <td>77.5</td>\n",
       "      <td>82.1</td>\n",
       "      <td>53.2</td>\n",
       "      <td>76.1</td>\n",
       "      <td>74.3</td>\n",
       "      <td>86.4</td>\n",
       "      <td>...</td>\n",
       "      <td>81.5</td>\n",
       "      <td>68.8</td>\n",
       "      <td>59.6</td>\n",
       "      <td>73.3</td>\n",
       "      <td>88.5</td>\n",
       "      <td>90.4</td>\n",
       "      <td>74.4</td>\n",
       "      <td>85.7</td>\n",
       "      <td>82.4</td>\n",
       "      <td>79.6</td>\n",
       "    </tr>\n",
       "    <tr>\n",
       "      <th>measles</th>\n",
       "      <td>78.2</td>\n",
       "      <td>73.0</td>\n",
       "      <td>74.3</td>\n",
       "      <td>78.7</td>\n",
       "      <td>88.4</td>\n",
       "      <td>82.9</td>\n",
       "      <td>57.9</td>\n",
       "      <td>83.1</td>\n",
       "      <td>77.5</td>\n",
       "      <td>94.4</td>\n",
       "      <td>...</td>\n",
       "      <td>84.9</td>\n",
       "      <td>74.5</td>\n",
       "      <td>64.9</td>\n",
       "      <td>83.1</td>\n",
       "      <td>92.2</td>\n",
       "      <td>91.8</td>\n",
       "      <td>83.3</td>\n",
       "      <td>90.0</td>\n",
       "      <td>85.7</td>\n",
       "      <td>83.4</td>\n",
       "    </tr>\n",
       "    <tr>\n",
       "      <th>pcv1</th>\n",
       "      <td>83.2</td>\n",
       "      <td>84.3</td>\n",
       "      <td>85.2</td>\n",
       "      <td>88.6</td>\n",
       "      <td>95.5</td>\n",
       "      <td>91.9</td>\n",
       "      <td>67.4</td>\n",
       "      <td>91.6</td>\n",
       "      <td>87.6</td>\n",
       "      <td>93.5</td>\n",
       "      <td>...</td>\n",
       "      <td>94.1</td>\n",
       "      <td>80.7</td>\n",
       "      <td>77.2</td>\n",
       "      <td>89.8</td>\n",
       "      <td>95.3</td>\n",
       "      <td>96.3</td>\n",
       "      <td>94.1</td>\n",
       "      <td>93.2</td>\n",
       "      <td>91.7</td>\n",
       "      <td>93.0</td>\n",
       "    </tr>\n",
       "    <tr>\n",
       "      <th>pcv3</th>\n",
       "      <td>76.8</td>\n",
       "      <td>77.5</td>\n",
       "      <td>81.3</td>\n",
       "      <td>83.4</td>\n",
       "      <td>89.7</td>\n",
       "      <td>89.4</td>\n",
       "      <td>61.5</td>\n",
       "      <td>87.6</td>\n",
       "      <td>80.2</td>\n",
       "      <td>90.2</td>\n",
       "      <td>...</td>\n",
       "      <td>89.1</td>\n",
       "      <td>77.7</td>\n",
       "      <td>68.9</td>\n",
       "      <td>80.9</td>\n",
       "      <td>94.8</td>\n",
       "      <td>95.4</td>\n",
       "      <td>86.8</td>\n",
       "      <td>91.6</td>\n",
       "      <td>85.7</td>\n",
       "      <td>88.4</td>\n",
       "    </tr>\n",
       "    <tr>\n",
       "      <th>penta1</th>\n",
       "      <td>88.8</td>\n",
       "      <td>85.7</td>\n",
       "      <td>87.6</td>\n",
       "      <td>90.5</td>\n",
       "      <td>96.1</td>\n",
       "      <td>93.5</td>\n",
       "      <td>72.3</td>\n",
       "      <td>92.7</td>\n",
       "      <td>88.8</td>\n",
       "      <td>96.7</td>\n",
       "      <td>...</td>\n",
       "      <td>95.0</td>\n",
       "      <td>84.0</td>\n",
       "      <td>79.6</td>\n",
       "      <td>92.5</td>\n",
       "      <td>97.9</td>\n",
       "      <td>97.3</td>\n",
       "      <td>96.3</td>\n",
       "      <td>94.8</td>\n",
       "      <td>94.0</td>\n",
       "      <td>95.5</td>\n",
       "    </tr>\n",
       "    <tr>\n",
       "      <th>penta3</th>\n",
       "      <td>83.4</td>\n",
       "      <td>78.3</td>\n",
       "      <td>83.7</td>\n",
       "      <td>84.4</td>\n",
       "      <td>89.7</td>\n",
       "      <td>89.4</td>\n",
       "      <td>63.0</td>\n",
       "      <td>87.8</td>\n",
       "      <td>81.4</td>\n",
       "      <td>92.1</td>\n",
       "      <td>...</td>\n",
       "      <td>89.9</td>\n",
       "      <td>80.4</td>\n",
       "      <td>70.7</td>\n",
       "      <td>83.1</td>\n",
       "      <td>96.9</td>\n",
       "      <td>96.4</td>\n",
       "      <td>90.8</td>\n",
       "      <td>92.0</td>\n",
       "      <td>88.1</td>\n",
       "      <td>91.0</td>\n",
       "    </tr>\n",
       "    <tr>\n",
       "      <th>polio1</th>\n",
       "      <td>82.8</td>\n",
       "      <td>83.8</td>\n",
       "      <td>84.1</td>\n",
       "      <td>87.7</td>\n",
       "      <td>91.6</td>\n",
       "      <td>94.3</td>\n",
       "      <td>66.0</td>\n",
       "      <td>89.0</td>\n",
       "      <td>87.7</td>\n",
       "      <td>92.5</td>\n",
       "      <td>...</td>\n",
       "      <td>92.4</td>\n",
       "      <td>81.0</td>\n",
       "      <td>73.7</td>\n",
       "      <td>87.0</td>\n",
       "      <td>94.8</td>\n",
       "      <td>97.3</td>\n",
       "      <td>89.9</td>\n",
       "      <td>91.5</td>\n",
       "      <td>91.6</td>\n",
       "      <td>89.9</td>\n",
       "    </tr>\n",
       "    <tr>\n",
       "      <th>polio3</th>\n",
       "      <td>79.2</td>\n",
       "      <td>76.5</td>\n",
       "      <td>80.3</td>\n",
       "      <td>81.5</td>\n",
       "      <td>87.1</td>\n",
       "      <td>91.1</td>\n",
       "      <td>60.9</td>\n",
       "      <td>83.1</td>\n",
       "      <td>80.6</td>\n",
       "      <td>90.1</td>\n",
       "      <td>...</td>\n",
       "      <td>85.7</td>\n",
       "      <td>75.9</td>\n",
       "      <td>68.3</td>\n",
       "      <td>76.3</td>\n",
       "      <td>92.2</td>\n",
       "      <td>95.0</td>\n",
       "      <td>80.3</td>\n",
       "      <td>86.3</td>\n",
       "      <td>89.2</td>\n",
       "      <td>85.4</td>\n",
       "    </tr>\n",
       "  </tbody>\n",
       "</table>\n",
       "<p>9 rows × 36 columns</p>\n",
       "</div>"
      ],
      "text/plain": [
       "region   Attock  Bahawalnagar  Bahawalpur  Bhakkar  Chakwal  Chiniot  DG Khan  \\\n",
       "Vaccine                                                                         \n",
       "bcg        89.6          91.2        92.4     88.6     98.7     94.3     67.5   \n",
       "ipv        74.3          71.8        67.8     72.4     77.5     82.1     53.2   \n",
       "measles    78.2          73.0        74.3     78.7     88.4     82.9     57.9   \n",
       "pcv1       83.2          84.3        85.2     88.6     95.5     91.9     67.4   \n",
       "pcv3       76.8          77.5        81.3     83.4     89.7     89.4     61.5   \n",
       "penta1     88.8          85.7        87.6     90.5     96.1     93.5     72.3   \n",
       "penta3     83.4          78.3        83.7     84.4     89.7     89.4     63.0   \n",
       "polio1     82.8          83.8        84.1     87.7     91.6     94.3     66.0   \n",
       "polio3     79.2          76.5        80.3     81.5     87.1     91.1     60.9   \n",
       "\n",
       "region   Faisalabad  Gujranwala  Gujrat  ...  Pakpattan  RY Khan  Rajanpur  \\\n",
       "Vaccine                                  ...                                 \n",
       "bcg            96.0        92.6    98.6  ...       97.5     87.3      85.1   \n",
       "ipv            76.1        74.3    86.4  ...       81.5     68.8      59.6   \n",
       "measles        83.1        77.5    94.4  ...       84.9     74.5      64.9   \n",
       "pcv1           91.6        87.6    93.5  ...       94.1     80.7      77.2   \n",
       "pcv3           87.6        80.2    90.2  ...       89.1     77.7      68.9   \n",
       "penta1         92.7        88.8    96.7  ...       95.0     84.0      79.6   \n",
       "penta3         87.8        81.4    92.1  ...       89.9     80.4      70.7   \n",
       "polio1         89.0        87.7    92.5  ...       92.4     81.0      73.7   \n",
       "polio3         83.1        80.6    90.1  ...       85.7     75.9      68.3   \n",
       "\n",
       "region   Rawalpindi  Sahiwal  Sargodha  Sheikhupura  Sialkot  TT Singh  Vehari  \n",
       "Vaccine                                                                         \n",
       "bcg            93.6     96.4      97.7         95.0     95.6      95.8    96.0  \n",
       "ipv            73.3     88.5      90.4         74.4     85.7      82.4    79.6  \n",
       "measles        83.1     92.2      91.8         83.3     90.0      85.7    83.4  \n",
       "pcv1           89.8     95.3      96.3         94.1     93.2      91.7    93.0  \n",
       "pcv3           80.9     94.8      95.4         86.8     91.6      85.7    88.4  \n",
       "penta1         92.5     97.9      97.3         96.3     94.8      94.0    95.5  \n",
       "penta3         83.1     96.9      96.4         90.8     92.0      88.1    91.0  \n",
       "polio1         87.0     94.8      97.3         89.9     91.5      91.6    89.9  \n",
       "polio3         76.3     92.2      95.0         80.3     86.3      89.2    85.4  \n",
       "\n",
       "[9 rows x 36 columns]"
      ]
     },
     "execution_count": 55,
     "metadata": {},
     "output_type": "execute_result"
    }
   ],
   "source": [
    "# Create an empty list to store the results\n",
    "results2 = []\n",
    "\n",
    "# Loop through each vaccine and child_region\n",
    "for vaccine in vaccines1:\n",
    "    for region in regions:\n",
    "        coverage = calculate_vaccination_coverage_region(df, region, vaccine)\n",
    "        results2.append({'Vaccine': vaccine, 'region': region, 'Coverage': coverage})\n",
    "\n",
    "# Convert the list of dictionaries into a DataFrame\n",
    "results2_df = pd.DataFrame(results2)\n",
    "#results_df['Coverage'] = results_df['Coverage'].round(2)\n",
    "# Display the results as a table\n",
    "pivot_table2 = results2_df.pivot_table(index='Vaccine', columns='region', values='Coverage')\n",
    "pivot_table2\n",
    "#pivot_table2.to_excel('/path/to/directory/pivot_table2_sorted.xlsx')\n",
    "#pivot_table2.to_excel('Vaccinebyregion.xlsx', index=False)"
   ]
  },
  {
   "cell_type": "code",
   "execution_count": 48,
   "metadata": {},
   "outputs": [
    {
     "data": {
      "text/html": [
       "<div>\n",
       "<style scoped>\n",
       "    .dataframe tbody tr th:only-of-type {\n",
       "        vertical-align: middle;\n",
       "    }\n",
       "\n",
       "    .dataframe tbody tr th {\n",
       "        vertical-align: top;\n",
       "    }\n",
       "\n",
       "    .dataframe thead th {\n",
       "        text-align: right;\n",
       "    }\n",
       "</style>\n",
       "<table border=\"1\" class=\"dataframe\">\n",
       "  <thead>\n",
       "    <tr style=\"text-align: right;\">\n",
       "      <th>district</th>\n",
       "      <th>Bahawalpur</th>\n",
       "      <th>DG Khan</th>\n",
       "      <th>Faisalabad</th>\n",
       "      <th>Gujranwala</th>\n",
       "      <th>Lahore</th>\n",
       "      <th>Multan</th>\n",
       "      <th>Rawalpindi</th>\n",
       "      <th>Sahiwal</th>\n",
       "      <th>Sargodha</th>\n",
       "    </tr>\n",
       "    <tr>\n",
       "      <th>Vaccine</th>\n",
       "      <th></th>\n",
       "      <th></th>\n",
       "      <th></th>\n",
       "      <th></th>\n",
       "      <th></th>\n",
       "      <th></th>\n",
       "      <th></th>\n",
       "      <th></th>\n",
       "      <th></th>\n",
       "    </tr>\n",
       "  </thead>\n",
       "  <tbody>\n",
       "    <tr>\n",
       "      <th>bcg</th>\n",
       "      <td>90.0</td>\n",
       "      <td>84.9</td>\n",
       "      <td>94.9</td>\n",
       "      <td>95.4</td>\n",
       "      <td>89.1</td>\n",
       "      <td>96.3</td>\n",
       "      <td>94.4</td>\n",
       "      <td>97.3</td>\n",
       "      <td>94.4</td>\n",
       "    </tr>\n",
       "    <tr>\n",
       "      <th>ipv</th>\n",
       "      <td>69.4</td>\n",
       "      <td>66.5</td>\n",
       "      <td>77.4</td>\n",
       "      <td>80.8</td>\n",
       "      <td>69.1</td>\n",
       "      <td>77.8</td>\n",
       "      <td>77.5</td>\n",
       "      <td>84.0</td>\n",
       "      <td>81.8</td>\n",
       "    </tr>\n",
       "    <tr>\n",
       "      <th>mcv</th>\n",
       "      <td>74.0</td>\n",
       "      <td>71.3</td>\n",
       "      <td>82.0</td>\n",
       "      <td>86.4</td>\n",
       "      <td>76.9</td>\n",
       "      <td>86.3</td>\n",
       "      <td>84.8</td>\n",
       "      <td>89.6</td>\n",
       "      <td>87.3</td>\n",
       "    </tr>\n",
       "    <tr>\n",
       "      <th>pcv1</th>\n",
       "      <td>83.1</td>\n",
       "      <td>81.2</td>\n",
       "      <td>90.3</td>\n",
       "      <td>90.3</td>\n",
       "      <td>85.7</td>\n",
       "      <td>93.4</td>\n",
       "      <td>90.6</td>\n",
       "      <td>95.6</td>\n",
       "      <td>93.0</td>\n",
       "    </tr>\n",
       "    <tr>\n",
       "      <th>pcv3</th>\n",
       "      <td>78.7</td>\n",
       "      <td>74.9</td>\n",
       "      <td>85.8</td>\n",
       "      <td>87.0</td>\n",
       "      <td>77.8</td>\n",
       "      <td>90.2</td>\n",
       "      <td>84.1</td>\n",
       "      <td>92.5</td>\n",
       "      <td>90.2</td>\n",
       "    </tr>\n",
       "    <tr>\n",
       "      <th>penta1</th>\n",
       "      <td>85.6</td>\n",
       "      <td>85.4</td>\n",
       "      <td>92.4</td>\n",
       "      <td>92.3</td>\n",
       "      <td>88.5</td>\n",
       "      <td>95.5</td>\n",
       "      <td>93.2</td>\n",
       "      <td>97.5</td>\n",
       "      <td>94.4</td>\n",
       "    </tr>\n",
       "    <tr>\n",
       "      <th>penta3</th>\n",
       "      <td>80.8</td>\n",
       "      <td>77.9</td>\n",
       "      <td>86.8</td>\n",
       "      <td>88.1</td>\n",
       "      <td>81.0</td>\n",
       "      <td>92.2</td>\n",
       "      <td>86.6</td>\n",
       "      <td>94.0</td>\n",
       "      <td>91.3</td>\n",
       "    </tr>\n",
       "    <tr>\n",
       "      <th>polio0</th>\n",
       "      <td>86.8</td>\n",
       "      <td>84.1</td>\n",
       "      <td>92.3</td>\n",
       "      <td>93.6</td>\n",
       "      <td>88.9</td>\n",
       "      <td>95.1</td>\n",
       "      <td>93.6</td>\n",
       "      <td>95.4</td>\n",
       "      <td>93.3</td>\n",
       "    </tr>\n",
       "    <tr>\n",
       "      <th>polio1</th>\n",
       "      <td>82.8</td>\n",
       "      <td>79.3</td>\n",
       "      <td>89.6</td>\n",
       "      <td>88.9</td>\n",
       "      <td>83.1</td>\n",
       "      <td>91.4</td>\n",
       "      <td>88.0</td>\n",
       "      <td>91.7</td>\n",
       "      <td>91.6</td>\n",
       "    </tr>\n",
       "    <tr>\n",
       "      <th>polio3</th>\n",
       "      <td>77.4</td>\n",
       "      <td>72.7</td>\n",
       "      <td>83.9</td>\n",
       "      <td>84.7</td>\n",
       "      <td>74.4</td>\n",
       "      <td>87.8</td>\n",
       "      <td>81.5</td>\n",
       "      <td>88.1</td>\n",
       "      <td>87.5</td>\n",
       "    </tr>\n",
       "  </tbody>\n",
       "</table>\n",
       "</div>"
      ],
      "text/plain": [
       "district  Bahawalpur  DG Khan  Faisalabad  Gujranwala  Lahore  Multan  \\\n",
       "Vaccine                                                                 \n",
       "bcg             90.0     84.9        94.9        95.4    89.1    96.3   \n",
       "ipv             69.4     66.5        77.4        80.8    69.1    77.8   \n",
       "mcv             74.0     71.3        82.0        86.4    76.9    86.3   \n",
       "pcv1            83.1     81.2        90.3        90.3    85.7    93.4   \n",
       "pcv3            78.7     74.9        85.8        87.0    77.8    90.2   \n",
       "penta1          85.6     85.4        92.4        92.3    88.5    95.5   \n",
       "penta3          80.8     77.9        86.8        88.1    81.0    92.2   \n",
       "polio0          86.8     84.1        92.3        93.6    88.9    95.1   \n",
       "polio1          82.8     79.3        89.6        88.9    83.1    91.4   \n",
       "polio3          77.4     72.7        83.9        84.7    74.4    87.8   \n",
       "\n",
       "district  Rawalpindi  Sahiwal  Sargodha  \n",
       "Vaccine                                  \n",
       "bcg             94.4     97.3      94.4  \n",
       "ipv             77.5     84.0      81.8  \n",
       "mcv             84.8     89.6      87.3  \n",
       "pcv1            90.6     95.6      93.0  \n",
       "pcv3            84.1     92.5      90.2  \n",
       "penta1          93.2     97.5      94.4  \n",
       "penta3          86.6     94.0      91.3  \n",
       "polio0          93.6     95.4      93.3  \n",
       "polio1          88.0     91.7      91.6  \n",
       "polio3          81.5     88.1      87.5  "
      ]
     },
     "execution_count": 48,
     "metadata": {},
     "output_type": "execute_result"
    }
   ],
   "source": [
    "# Create an empty list to store the results\n",
    "results2 = []\n",
    "\n",
    "# Loop through each vaccine and child_district\n",
    "for vaccine in vaccines1:\n",
    "    for district in districts:\n",
    "        coverage = calculate_vaccination_coverage_district(df, district, vaccine)\n",
    "        results2.append({'Vaccine': vaccine, 'district': district, 'Coverage': coverage})\n",
    "\n",
    "# Convert the list of dictionaries into a DataFrame\n",
    "results2_df = pd.DataFrame(results2)\n",
    "results2_df\n",
    "# Display the results as a table\n",
    "pivot_table2 = results2_df.pivot_table(index='Vaccine', columns='district', values='Coverage')\n",
    "pivot_table2"
   ]
  },
  {
   "cell_type": "code",
   "execution_count": 49,
   "metadata": {},
   "outputs": [],
   "source": [
    "pivot_table2.to_clipboard(index=True, header=True)"
   ]
  },
  {
   "cell_type": "code",
   "execution_count": 52,
   "metadata": {},
   "outputs": [],
   "source": [
    "def calculate_retention_rate(df, group_col, dose1_col, dose2_col):\n",
    "    \"\"\"\n",
    "    Calculate retention rate from dose2 to dose1 for each group.\n",
    "    \n",
    "    Parameters:\n",
    "    df (pandas.DataFrame): Input DataFrame containing vaccination data.\n",
    "    group_col (str): Column name for the grouping variable.\n",
    "    dose1_col (str): Column name representing the first dose.\n",
    "    dose2_col (str): Column name representing the second dose.\n",
    "    \n",
    "    Returns:\n",
    "    pandas.DataFrame: DataFrame with retention rates calculated and added as a new column.\n",
    "    \"\"\"\n",
    "    # Group by the specified column and aggregate sum of dose1 and dose2\n",
    "    df1 = df.groupby([group_col]).agg(\n",
    "        sum_dose1=(dose1_col, 'sum'),\n",
    "        sum_dose2=(dose2_col, 'sum')\n",
    "    ).reset_index()\n",
    "    \n",
    "    # Calculate retention rate\n",
    "    df1['retention_rate'] = ((1 - ((df1['sum_dose1'] - df1['sum_dose2']) / df1['sum_dose1'])) * 100)\n",
    "    pivot_table2 = df1.pivot_table(columns=group_col, values='retention_rate')\n",
    "    return pivot_table2\n",
    "  "
   ]
  },
  {
   "cell_type": "markdown",
   "metadata": {},
   "source": [
    "# Retention Rates"
   ]
  },
  {
   "cell_type": "code",
   "execution_count": 50,
   "metadata": {},
   "outputs": [],
   "source": [
    " filtered_df = df[(df['UB2']==1)]"
   ]
  },
  {
   "cell_type": "code",
   "execution_count": 53,
   "metadata": {},
   "outputs": [],
   "source": [
    "# Call the calculate_retention_rate function\n",
    "result_df = calculate_retention_rate(filtered_df, 'district', 'penta1_sampled', 'penta3_sampled')\n",
    "\n",
    "# Copy the result to the clipboard\n",
    "result_df.to_clipboard(index=True, header=True)\n"
   ]
  },
  {
   "cell_type": "code",
   "execution_count": 54,
   "metadata": {},
   "outputs": [],
   "source": [
    "# Call the calculate_retention_rate function\n",
    "result_df = calculate_retention_rate(filtered_df, 'district', 'polio1_sampled', 'polio3_sampled')\n",
    "\n",
    "# Copy the result to the clipboard\n",
    "result_df.to_clipboard(index=True, header=True)\n"
   ]
  },
  {
   "cell_type": "code",
   "execution_count": 55,
   "metadata": {},
   "outputs": [
    {
     "data": {
      "text/html": [
       "<div>\n",
       "<style scoped>\n",
       "    .dataframe tbody tr th:only-of-type {\n",
       "        vertical-align: middle;\n",
       "    }\n",
       "\n",
       "    .dataframe tbody tr th {\n",
       "        vertical-align: top;\n",
       "    }\n",
       "\n",
       "    .dataframe thead th {\n",
       "        text-align: right;\n",
       "    }\n",
       "</style>\n",
       "<table border=\"1\" class=\"dataframe\">\n",
       "  <thead>\n",
       "    <tr style=\"text-align: right;\">\n",
       "      <th>residence</th>\n",
       "      <th>Rural</th>\n",
       "      <th>Urban</th>\n",
       "    </tr>\n",
       "  </thead>\n",
       "  <tbody>\n",
       "    <tr>\n",
       "      <th>retention_rate</th>\n",
       "      <td>94.339023</td>\n",
       "      <td>93.514307</td>\n",
       "    </tr>\n",
       "  </tbody>\n",
       "</table>\n",
       "</div>"
      ],
      "text/plain": [
       "residence           Rural      Urban\n",
       "retention_rate  94.339023  93.514307"
      ]
     },
     "execution_count": 55,
     "metadata": {},
     "output_type": "execute_result"
    }
   ],
   "source": [
    "calculate_retention_rate(filtered_df, 'residence', 'penta1_sampled', 'penta3_sampled')"
   ]
  },
  {
   "cell_type": "code",
   "execution_count": 56,
   "metadata": {},
   "outputs": [
    {
     "data": {
      "text/html": [
       "<div>\n",
       "<style scoped>\n",
       "    .dataframe tbody tr th:only-of-type {\n",
       "        vertical-align: middle;\n",
       "    }\n",
       "\n",
       "    .dataframe tbody tr th {\n",
       "        vertical-align: top;\n",
       "    }\n",
       "\n",
       "    .dataframe thead th {\n",
       "        text-align: right;\n",
       "    }\n",
       "</style>\n",
       "<table border=\"1\" class=\"dataframe\">\n",
       "  <thead>\n",
       "    <tr style=\"text-align: right;\">\n",
       "      <th>residence</th>\n",
       "      <th>Rural</th>\n",
       "      <th>Urban</th>\n",
       "    </tr>\n",
       "  </thead>\n",
       "  <tbody>\n",
       "    <tr>\n",
       "      <th>retention_rate</th>\n",
       "      <td>94.128841</td>\n",
       "      <td>91.795953</td>\n",
       "    </tr>\n",
       "  </tbody>\n",
       "</table>\n",
       "</div>"
      ],
      "text/plain": [
       "residence           Rural      Urban\n",
       "retention_rate  94.128841  91.795953"
      ]
     },
     "execution_count": 56,
     "metadata": {},
     "output_type": "execute_result"
    }
   ],
   "source": [
    "# Call the calculate_retention_rate function\n",
    "calculate_retention_rate(filtered_df, 'residence', 'polio1_sampled', 'polio3_sampled')"
   ]
  },
  {
   "cell_type": "code",
   "execution_count": 57,
   "metadata": {},
   "outputs": [
    {
     "data": {
      "text/html": [
       "<div>\n",
       "<style scoped>\n",
       "    .dataframe tbody tr th:only-of-type {\n",
       "        vertical-align: middle;\n",
       "    }\n",
       "\n",
       "    .dataframe tbody tr th {\n",
       "        vertical-align: top;\n",
       "    }\n",
       "\n",
       "    .dataframe thead th {\n",
       "        text-align: right;\n",
       "    }\n",
       "</style>\n",
       "<table border=\"1\" class=\"dataframe\">\n",
       "  <thead>\n",
       "    <tr style=\"text-align: right;\">\n",
       "      <th>gender</th>\n",
       "      <th>Female</th>\n",
       "      <th>Male</th>\n",
       "    </tr>\n",
       "  </thead>\n",
       "  <tbody>\n",
       "    <tr>\n",
       "      <th>retention_rate</th>\n",
       "      <td>93.306997</td>\n",
       "      <td>94.750469</td>\n",
       "    </tr>\n",
       "  </tbody>\n",
       "</table>\n",
       "</div>"
      ],
      "text/plain": [
       "gender             Female       Male\n",
       "retention_rate  93.306997  94.750469"
      ]
     },
     "execution_count": 57,
     "metadata": {},
     "output_type": "execute_result"
    }
   ],
   "source": [
    "calculate_retention_rate(filtered_df, 'gender', 'penta1_sampled', 'penta3_sampled')"
   ]
  },
  {
   "cell_type": "code",
   "execution_count": 58,
   "metadata": {},
   "outputs": [
    {
     "data": {
      "text/html": [
       "<div>\n",
       "<style scoped>\n",
       "    .dataframe tbody tr th:only-of-type {\n",
       "        vertical-align: middle;\n",
       "    }\n",
       "\n",
       "    .dataframe tbody tr th {\n",
       "        vertical-align: top;\n",
       "    }\n",
       "\n",
       "    .dataframe thead th {\n",
       "        text-align: right;\n",
       "    }\n",
       "</style>\n",
       "<table border=\"1\" class=\"dataframe\">\n",
       "  <thead>\n",
       "    <tr style=\"text-align: right;\">\n",
       "      <th>gender</th>\n",
       "      <th>Female</th>\n",
       "      <th>Male</th>\n",
       "    </tr>\n",
       "  </thead>\n",
       "  <tbody>\n",
       "    <tr>\n",
       "      <th>retention_rate</th>\n",
       "      <td>92.776384</td>\n",
       "      <td>93.82568</td>\n",
       "    </tr>\n",
       "  </tbody>\n",
       "</table>\n",
       "</div>"
      ],
      "text/plain": [
       "gender             Female      Male\n",
       "retention_rate  92.776384  93.82568"
      ]
     },
     "execution_count": 58,
     "metadata": {},
     "output_type": "execute_result"
    }
   ],
   "source": [
    "calculate_retention_rate(filtered_df, 'gender', 'polio1_sampled', 'polio3_sampled')"
   ]
  },
  {
   "cell_type": "markdown",
   "metadata": {},
   "source": [
    "## National retention rate"
   ]
  },
  {
   "cell_type": "code",
   "execution_count": 59,
   "metadata": {},
   "outputs": [
    {
     "data": {
      "text/plain": [
       "94.32910686916539"
      ]
     },
     "execution_count": 59,
     "metadata": {},
     "output_type": "execute_result"
    }
   ],
   "source": [
    "penta_retention_rate = ((1 - ((filtered_df['penta1'].sum() - filtered_df['penta3'].sum()) / filtered_df['penta1'].sum())) * 100)\n",
    "penta_retention_rate"
   ]
  },
  {
   "cell_type": "code",
   "execution_count": 60,
   "metadata": {},
   "outputs": [
    {
     "data": {
      "text/plain": [
       "93.77654122126226"
      ]
     },
     "execution_count": 60,
     "metadata": {},
     "output_type": "execute_result"
    }
   ],
   "source": [
    "polio_retention_rate = ((1 - ((filtered_df['polio1'].sum() - filtered_df['polio3'].sum()) / filtered_df['polio1'].sum())) * 100)\n",
    "polio_retention_rate"
   ]
  },
  {
   "cell_type": "markdown",
   "metadata": {},
   "source": [
    "## Fully vaccinated"
   ]
  },
  {
   "cell_type": "code",
   "execution_count": 61,
   "metadata": {},
   "outputs": [],
   "source": [
    "# Filter out rows with null values in relevant columns\n",
    "filtered_df = filtered_df.dropna(subset=['bcg', 'polio3', 'mcv', 'penta3','polio1','penta1'])"
   ]
  },
  {
   "cell_type": "code",
   "execution_count": 62,
   "metadata": {},
   "outputs": [
    {
     "data": {
      "text/plain": [
       "74.849223662261"
      ]
     },
     "execution_count": 62,
     "metadata": {},
     "output_type": "execute_result"
    }
   ],
   "source": [
    "# Calculate the number of fully vaccinated kids\n",
    "fully_vaccinated = filtered_df[(filtered_df['bcg']==1) & (filtered_df['polio3']==1) & (filtered_df['mcv']==1) & (filtered_df['penta3']==1)]\n",
    "num_fully_vaccinated = len(fully_vaccinated)\n",
    "\n",
    "# Calculate the total number of kids\n",
    "total_kids = len(filtered_df)\n",
    "\n",
    "# Calculate the percentage of fully vaccinated kids\n",
    "percentage_fully_vaccinated = (num_fully_vaccinated / total_kids) * 100\n",
    "percentage_fully_vaccinated"
   ]
  },
  {
   "cell_type": "code",
   "execution_count": null,
   "metadata": {},
   "outputs": [],
   "source": [
    "## Zero Dose Childern Non-vaccinated at all"
   ]
  },
  {
   "cell_type": "code",
   "execution_count": 63,
   "metadata": {},
   "outputs": [
    {
     "data": {
      "text/plain": [
       "4.889002951366611"
      ]
     },
     "execution_count": 63,
     "metadata": {},
     "output_type": "execute_result"
    }
   ],
   "source": [
    "# Calculate the number of no vaccinated kids\n",
    "no_vaccinated = filtered_df[(filtered_df['bcg']==0) & (filtered_df['polio1']==0) & (filtered_df['mcv']==0) & (filtered_df['penta1']==0)]\n",
    "num_no_vaccinated = len(no_vaccinated)\n",
    "\n",
    "# Calculate the total number of kids\n",
    "total_kids =len(filtered_df)\n",
    "\n",
    "\n",
    "# Calculate the percentage of no vaccinated kids\n",
    "percentage_no_vaccinated = (num_no_vaccinated / total_kids) * 100\n",
    "percentage_no_vaccinated"
   ]
  },
  {
   "cell_type": "code",
   "execution_count": null,
   "metadata": {},
   "outputs": [],
   "source": []
  }
 ],
 "metadata": {
  "kernelspec": {
   "display_name": "Python 3",
   "language": "python",
   "name": "python3"
  },
  "language_info": {
   "codemirror_mode": {
    "name": "ipython",
    "version": 3
   },
   "file_extension": ".py",
   "mimetype": "text/x-python",
   "name": "python",
   "nbconvert_exporter": "python",
   "pygments_lexer": "ipython3",
   "version": "3.8.5"
  }
 },
 "nbformat": 4,
 "nbformat_minor": 4
}
